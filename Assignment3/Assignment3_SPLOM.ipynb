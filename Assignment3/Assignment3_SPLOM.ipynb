{
 "cells": [
  {
   "cell_type": "markdown",
   "metadata": {},
   "source": [
    "# Data Visualization (2017/18)\n",
    "\n",
    "## Solutions for Assignment 3 - Visualizing multivariate data \n",
    "\n",
    "Presented by Group 52: \n",
    "- Lucia Eve Berger\n",
    "- Name2\n",
    "\n",
    "Date: DD.MM.YYYY"
   ]
  },
  {
   "cell_type": "markdown",
   "metadata": {},
   "source": [
    "## Setup"
   ]
  },
  {
   "cell_type": "code",
   "execution_count": 1,
   "metadata": {},
   "outputs": [
    {
     "data": {
      "text/html": [
       "\n",
       "    <div class=\"bk-root\">\n",
       "        <a href=\"https://bokeh.pydata.org\" target=\"_blank\" class=\"bk-logo bk-logo-small bk-logo-notebook\"></a>\n",
       "        <span id=\"1001\">Loading BokehJS ...</span>\n",
       "    </div>"
      ]
     },
     "metadata": {},
     "output_type": "display_data"
    },
    {
     "data": {
      "application/javascript": [
       "\n",
       "(function(root) {\n",
       "  function now() {\n",
       "    return new Date();\n",
       "  }\n",
       "\n",
       "  var force = true;\n",
       "\n",
       "  if (typeof (root._bokeh_onload_callbacks) === \"undefined\" || force === true) {\n",
       "    root._bokeh_onload_callbacks = [];\n",
       "    root._bokeh_is_loading = undefined;\n",
       "  }\n",
       "\n",
       "  var JS_MIME_TYPE = 'application/javascript';\n",
       "  var HTML_MIME_TYPE = 'text/html';\n",
       "  var EXEC_MIME_TYPE = 'application/vnd.bokehjs_exec.v0+json';\n",
       "  var CLASS_NAME = 'output_bokeh rendered_html';\n",
       "\n",
       "  /**\n",
       "   * Render data to the DOM node\n",
       "   */\n",
       "  function render(props, node) {\n",
       "    var script = document.createElement(\"script\");\n",
       "    node.appendChild(script);\n",
       "  }\n",
       "\n",
       "  /**\n",
       "   * Handle when an output is cleared or removed\n",
       "   */\n",
       "  function handleClearOutput(event, handle) {\n",
       "    var cell = handle.cell;\n",
       "\n",
       "    var id = cell.output_area._bokeh_element_id;\n",
       "    var server_id = cell.output_area._bokeh_server_id;\n",
       "    // Clean up Bokeh references\n",
       "    if (id != null && id in Bokeh.index) {\n",
       "      Bokeh.index[id].model.document.clear();\n",
       "      delete Bokeh.index[id];\n",
       "    }\n",
       "\n",
       "    if (server_id !== undefined) {\n",
       "      // Clean up Bokeh references\n",
       "      var cmd = \"from bokeh.io.state import curstate; print(curstate().uuid_to_server['\" + server_id + \"'].get_sessions()[0].document.roots[0]._id)\";\n",
       "      cell.notebook.kernel.execute(cmd, {\n",
       "        iopub: {\n",
       "          output: function(msg) {\n",
       "            var id = msg.content.text.trim();\n",
       "            if (id in Bokeh.index) {\n",
       "              Bokeh.index[id].model.document.clear();\n",
       "              delete Bokeh.index[id];\n",
       "            }\n",
       "          }\n",
       "        }\n",
       "      });\n",
       "      // Destroy server and session\n",
       "      var cmd = \"import bokeh.io.notebook as ion; ion.destroy_server('\" + server_id + \"')\";\n",
       "      cell.notebook.kernel.execute(cmd);\n",
       "    }\n",
       "  }\n",
       "\n",
       "  /**\n",
       "   * Handle when a new output is added\n",
       "   */\n",
       "  function handleAddOutput(event, handle) {\n",
       "    var output_area = handle.output_area;\n",
       "    var output = handle.output;\n",
       "\n",
       "    // limit handleAddOutput to display_data with EXEC_MIME_TYPE content only\n",
       "    if ((output.output_type != \"display_data\") || (!output.data.hasOwnProperty(EXEC_MIME_TYPE))) {\n",
       "      return\n",
       "    }\n",
       "\n",
       "    var toinsert = output_area.element.find(\".\" + CLASS_NAME.split(' ')[0]);\n",
       "\n",
       "    if (output.metadata[EXEC_MIME_TYPE][\"id\"] !== undefined) {\n",
       "      toinsert[toinsert.length - 1].firstChild.textContent = output.data[JS_MIME_TYPE];\n",
       "      // store reference to embed id on output_area\n",
       "      output_area._bokeh_element_id = output.metadata[EXEC_MIME_TYPE][\"id\"];\n",
       "    }\n",
       "    if (output.metadata[EXEC_MIME_TYPE][\"server_id\"] !== undefined) {\n",
       "      var bk_div = document.createElement(\"div\");\n",
       "      bk_div.innerHTML = output.data[HTML_MIME_TYPE];\n",
       "      var script_attrs = bk_div.children[0].attributes;\n",
       "      for (var i = 0; i < script_attrs.length; i++) {\n",
       "        toinsert[toinsert.length - 1].firstChild.setAttribute(script_attrs[i].name, script_attrs[i].value);\n",
       "      }\n",
       "      // store reference to server id on output_area\n",
       "      output_area._bokeh_server_id = output.metadata[EXEC_MIME_TYPE][\"server_id\"];\n",
       "    }\n",
       "  }\n",
       "\n",
       "  function register_renderer(events, OutputArea) {\n",
       "\n",
       "    function append_mime(data, metadata, element) {\n",
       "      // create a DOM node to render to\n",
       "      var toinsert = this.create_output_subarea(\n",
       "        metadata,\n",
       "        CLASS_NAME,\n",
       "        EXEC_MIME_TYPE\n",
       "      );\n",
       "      this.keyboard_manager.register_events(toinsert);\n",
       "      // Render to node\n",
       "      var props = {data: data, metadata: metadata[EXEC_MIME_TYPE]};\n",
       "      render(props, toinsert[toinsert.length - 1]);\n",
       "      element.append(toinsert);\n",
       "      return toinsert\n",
       "    }\n",
       "\n",
       "    /* Handle when an output is cleared or removed */\n",
       "    events.on('clear_output.CodeCell', handleClearOutput);\n",
       "    events.on('delete.Cell', handleClearOutput);\n",
       "\n",
       "    /* Handle when a new output is added */\n",
       "    events.on('output_added.OutputArea', handleAddOutput);\n",
       "\n",
       "    /**\n",
       "     * Register the mime type and append_mime function with output_area\n",
       "     */\n",
       "    OutputArea.prototype.register_mime_type(EXEC_MIME_TYPE, append_mime, {\n",
       "      /* Is output safe? */\n",
       "      safe: true,\n",
       "      /* Index of renderer in `output_area.display_order` */\n",
       "      index: 0\n",
       "    });\n",
       "  }\n",
       "\n",
       "  // register the mime type if in Jupyter Notebook environment and previously unregistered\n",
       "  if (root.Jupyter !== undefined) {\n",
       "    var events = require('base/js/events');\n",
       "    var OutputArea = require('notebook/js/outputarea').OutputArea;\n",
       "\n",
       "    if (OutputArea.prototype.mime_types().indexOf(EXEC_MIME_TYPE) == -1) {\n",
       "      register_renderer(events, OutputArea);\n",
       "    }\n",
       "  }\n",
       "\n",
       "  \n",
       "  if (typeof (root._bokeh_timeout) === \"undefined\" || force === true) {\n",
       "    root._bokeh_timeout = Date.now() + 5000;\n",
       "    root._bokeh_failed_load = false;\n",
       "  }\n",
       "\n",
       "  var NB_LOAD_WARNING = {'data': {'text/html':\n",
       "     \"<div style='background-color: #fdd'>\\n\"+\n",
       "     \"<p>\\n\"+\n",
       "     \"BokehJS does not appear to have successfully loaded. If loading BokehJS from CDN, this \\n\"+\n",
       "     \"may be due to a slow or bad network connection. Possible fixes:\\n\"+\n",
       "     \"</p>\\n\"+\n",
       "     \"<ul>\\n\"+\n",
       "     \"<li>re-rerun `output_notebook()` to attempt to load from CDN again, or</li>\\n\"+\n",
       "     \"<li>use INLINE resources instead, as so:</li>\\n\"+\n",
       "     \"</ul>\\n\"+\n",
       "     \"<code>\\n\"+\n",
       "     \"from bokeh.resources import INLINE\\n\"+\n",
       "     \"output_notebook(resources=INLINE)\\n\"+\n",
       "     \"</code>\\n\"+\n",
       "     \"</div>\"}};\n",
       "\n",
       "  function display_loaded() {\n",
       "    var el = document.getElementById(\"1001\");\n",
       "    if (el != null) {\n",
       "      el.textContent = \"BokehJS is loading...\";\n",
       "    }\n",
       "    if (root.Bokeh !== undefined) {\n",
       "      if (el != null) {\n",
       "        el.textContent = \"BokehJS \" + root.Bokeh.version + \" successfully loaded.\";\n",
       "      }\n",
       "    } else if (Date.now() < root._bokeh_timeout) {\n",
       "      setTimeout(display_loaded, 100)\n",
       "    }\n",
       "  }\n",
       "\n",
       "\n",
       "  function run_callbacks() {\n",
       "    try {\n",
       "      root._bokeh_onload_callbacks.forEach(function(callback) { callback() });\n",
       "    }\n",
       "    finally {\n",
       "      delete root._bokeh_onload_callbacks\n",
       "    }\n",
       "    console.info(\"Bokeh: all callbacks have finished\");\n",
       "  }\n",
       "\n",
       "  function load_libs(js_urls, callback) {\n",
       "    root._bokeh_onload_callbacks.push(callback);\n",
       "    if (root._bokeh_is_loading > 0) {\n",
       "      console.log(\"Bokeh: BokehJS is being loaded, scheduling callback at\", now());\n",
       "      return null;\n",
       "    }\n",
       "    if (js_urls == null || js_urls.length === 0) {\n",
       "      run_callbacks();\n",
       "      return null;\n",
       "    }\n",
       "    console.log(\"Bokeh: BokehJS not loaded, scheduling load and callback at\", now());\n",
       "    root._bokeh_is_loading = js_urls.length;\n",
       "    for (var i = 0; i < js_urls.length; i++) {\n",
       "      var url = js_urls[i];\n",
       "      var s = document.createElement('script');\n",
       "      s.src = url;\n",
       "      s.async = false;\n",
       "      s.onreadystatechange = s.onload = function() {\n",
       "        root._bokeh_is_loading--;\n",
       "        if (root._bokeh_is_loading === 0) {\n",
       "          console.log(\"Bokeh: all BokehJS libraries loaded\");\n",
       "          run_callbacks()\n",
       "        }\n",
       "      };\n",
       "      s.onerror = function() {\n",
       "        console.warn(\"failed to load library \" + url);\n",
       "      };\n",
       "      console.log(\"Bokeh: injecting script tag for BokehJS library: \", url);\n",
       "      document.getElementsByTagName(\"head\")[0].appendChild(s);\n",
       "    }\n",
       "  };var element = document.getElementById(\"1001\");\n",
       "  if (element == null) {\n",
       "    console.log(\"Bokeh: ERROR: autoload.js configured with elementid '1001' but no matching script tag was found. \")\n",
       "    return false;\n",
       "  }\n",
       "\n",
       "  var js_urls = [\"https://cdn.pydata.org/bokeh/release/bokeh-1.0.0.min.js\", \"https://cdn.pydata.org/bokeh/release/bokeh-widgets-1.0.0.min.js\", \"https://cdn.pydata.org/bokeh/release/bokeh-tables-1.0.0.min.js\", \"https://cdn.pydata.org/bokeh/release/bokeh-gl-1.0.0.min.js\"];\n",
       "\n",
       "  var inline_js = [\n",
       "    function(Bokeh) {\n",
       "      Bokeh.set_log_level(\"info\");\n",
       "    },\n",
       "    \n",
       "    function(Bokeh) {\n",
       "      \n",
       "    },\n",
       "    function(Bokeh) {\n",
       "      console.log(\"Bokeh: injecting CSS: https://cdn.pydata.org/bokeh/release/bokeh-1.0.0.min.css\");\n",
       "      Bokeh.embed.inject_css(\"https://cdn.pydata.org/bokeh/release/bokeh-1.0.0.min.css\");\n",
       "      console.log(\"Bokeh: injecting CSS: https://cdn.pydata.org/bokeh/release/bokeh-widgets-1.0.0.min.css\");\n",
       "      Bokeh.embed.inject_css(\"https://cdn.pydata.org/bokeh/release/bokeh-widgets-1.0.0.min.css\");\n",
       "      console.log(\"Bokeh: injecting CSS: https://cdn.pydata.org/bokeh/release/bokeh-tables-1.0.0.min.css\");\n",
       "      Bokeh.embed.inject_css(\"https://cdn.pydata.org/bokeh/release/bokeh-tables-1.0.0.min.css\");\n",
       "    }\n",
       "  ];\n",
       "\n",
       "  function run_inline_js() {\n",
       "    \n",
       "    if ((root.Bokeh !== undefined) || (force === true)) {\n",
       "      for (var i = 0; i < inline_js.length; i++) {\n",
       "        inline_js[i].call(root, root.Bokeh);\n",
       "      }if (force === true) {\n",
       "        display_loaded();\n",
       "      }} else if (Date.now() < root._bokeh_timeout) {\n",
       "      setTimeout(run_inline_js, 100);\n",
       "    } else if (!root._bokeh_failed_load) {\n",
       "      console.log(\"Bokeh: BokehJS failed to load within specified timeout.\");\n",
       "      root._bokeh_failed_load = true;\n",
       "    } else if (force !== true) {\n",
       "      var cell = $(document.getElementById(\"1001\")).parents('.cell').data().cell;\n",
       "      cell.output_area.append_execute_result(NB_LOAD_WARNING)\n",
       "    }\n",
       "\n",
       "  }\n",
       "\n",
       "  if (root._bokeh_is_loading === 0) {\n",
       "    console.log(\"Bokeh: BokehJS loaded, going straight to plotting\");\n",
       "    run_inline_js();\n",
       "  } else {\n",
       "    load_libs(js_urls, function() {\n",
       "      console.log(\"Bokeh: BokehJS plotting callback run at\", now());\n",
       "      run_inline_js();\n",
       "    });\n",
       "  }\n",
       "}(window));"
      ],
      "application/vnd.bokehjs_load.v0+json": "\n(function(root) {\n  function now() {\n    return new Date();\n  }\n\n  var force = true;\n\n  if (typeof (root._bokeh_onload_callbacks) === \"undefined\" || force === true) {\n    root._bokeh_onload_callbacks = [];\n    root._bokeh_is_loading = undefined;\n  }\n\n  \n\n  \n  if (typeof (root._bokeh_timeout) === \"undefined\" || force === true) {\n    root._bokeh_timeout = Date.now() + 5000;\n    root._bokeh_failed_load = false;\n  }\n\n  var NB_LOAD_WARNING = {'data': {'text/html':\n     \"<div style='background-color: #fdd'>\\n\"+\n     \"<p>\\n\"+\n     \"BokehJS does not appear to have successfully loaded. If loading BokehJS from CDN, this \\n\"+\n     \"may be due to a slow or bad network connection. Possible fixes:\\n\"+\n     \"</p>\\n\"+\n     \"<ul>\\n\"+\n     \"<li>re-rerun `output_notebook()` to attempt to load from CDN again, or</li>\\n\"+\n     \"<li>use INLINE resources instead, as so:</li>\\n\"+\n     \"</ul>\\n\"+\n     \"<code>\\n\"+\n     \"from bokeh.resources import INLINE\\n\"+\n     \"output_notebook(resources=INLINE)\\n\"+\n     \"</code>\\n\"+\n     \"</div>\"}};\n\n  function display_loaded() {\n    var el = document.getElementById(\"1001\");\n    if (el != null) {\n      el.textContent = \"BokehJS is loading...\";\n    }\n    if (root.Bokeh !== undefined) {\n      if (el != null) {\n        el.textContent = \"BokehJS \" + root.Bokeh.version + \" successfully loaded.\";\n      }\n    } else if (Date.now() < root._bokeh_timeout) {\n      setTimeout(display_loaded, 100)\n    }\n  }\n\n\n  function run_callbacks() {\n    try {\n      root._bokeh_onload_callbacks.forEach(function(callback) { callback() });\n    }\n    finally {\n      delete root._bokeh_onload_callbacks\n    }\n    console.info(\"Bokeh: all callbacks have finished\");\n  }\n\n  function load_libs(js_urls, callback) {\n    root._bokeh_onload_callbacks.push(callback);\n    if (root._bokeh_is_loading > 0) {\n      console.log(\"Bokeh: BokehJS is being loaded, scheduling callback at\", now());\n      return null;\n    }\n    if (js_urls == null || js_urls.length === 0) {\n      run_callbacks();\n      return null;\n    }\n    console.log(\"Bokeh: BokehJS not loaded, scheduling load and callback at\", now());\n    root._bokeh_is_loading = js_urls.length;\n    for (var i = 0; i < js_urls.length; i++) {\n      var url = js_urls[i];\n      var s = document.createElement('script');\n      s.src = url;\n      s.async = false;\n      s.onreadystatechange = s.onload = function() {\n        root._bokeh_is_loading--;\n        if (root._bokeh_is_loading === 0) {\n          console.log(\"Bokeh: all BokehJS libraries loaded\");\n          run_callbacks()\n        }\n      };\n      s.onerror = function() {\n        console.warn(\"failed to load library \" + url);\n      };\n      console.log(\"Bokeh: injecting script tag for BokehJS library: \", url);\n      document.getElementsByTagName(\"head\")[0].appendChild(s);\n    }\n  };var element = document.getElementById(\"1001\");\n  if (element == null) {\n    console.log(\"Bokeh: ERROR: autoload.js configured with elementid '1001' but no matching script tag was found. \")\n    return false;\n  }\n\n  var js_urls = [\"https://cdn.pydata.org/bokeh/release/bokeh-1.0.0.min.js\", \"https://cdn.pydata.org/bokeh/release/bokeh-widgets-1.0.0.min.js\", \"https://cdn.pydata.org/bokeh/release/bokeh-tables-1.0.0.min.js\", \"https://cdn.pydata.org/bokeh/release/bokeh-gl-1.0.0.min.js\"];\n\n  var inline_js = [\n    function(Bokeh) {\n      Bokeh.set_log_level(\"info\");\n    },\n    \n    function(Bokeh) {\n      \n    },\n    function(Bokeh) {\n      console.log(\"Bokeh: injecting CSS: https://cdn.pydata.org/bokeh/release/bokeh-1.0.0.min.css\");\n      Bokeh.embed.inject_css(\"https://cdn.pydata.org/bokeh/release/bokeh-1.0.0.min.css\");\n      console.log(\"Bokeh: injecting CSS: https://cdn.pydata.org/bokeh/release/bokeh-widgets-1.0.0.min.css\");\n      Bokeh.embed.inject_css(\"https://cdn.pydata.org/bokeh/release/bokeh-widgets-1.0.0.min.css\");\n      console.log(\"Bokeh: injecting CSS: https://cdn.pydata.org/bokeh/release/bokeh-tables-1.0.0.min.css\");\n      Bokeh.embed.inject_css(\"https://cdn.pydata.org/bokeh/release/bokeh-tables-1.0.0.min.css\");\n    }\n  ];\n\n  function run_inline_js() {\n    \n    if ((root.Bokeh !== undefined) || (force === true)) {\n      for (var i = 0; i < inline_js.length; i++) {\n        inline_js[i].call(root, root.Bokeh);\n      }if (force === true) {\n        display_loaded();\n      }} else if (Date.now() < root._bokeh_timeout) {\n      setTimeout(run_inline_js, 100);\n    } else if (!root._bokeh_failed_load) {\n      console.log(\"Bokeh: BokehJS failed to load within specified timeout.\");\n      root._bokeh_failed_load = true;\n    } else if (force !== true) {\n      var cell = $(document.getElementById(\"1001\")).parents('.cell').data().cell;\n      cell.output_area.append_execute_result(NB_LOAD_WARNING)\n    }\n\n  }\n\n  if (root._bokeh_is_loading === 0) {\n    console.log(\"Bokeh: BokehJS loaded, going straight to plotting\");\n    run_inline_js();\n  } else {\n    load_libs(js_urls, function() {\n      console.log(\"Bokeh: BokehJS plotting callback run at\", now());\n      run_inline_js();\n    });\n  }\n}(window));"
     },
     "metadata": {},
     "output_type": "display_data"
    }
   ],
   "source": [
    "import pandas as pd\n",
    "import numpy as np\n",
    "\n",
    "# import bokeh \n",
    "from bokeh.plotting import figure, show, Figure\n",
    "from bokeh.models import ColumnDataSource, Label\n",
    "from bokeh.models.glyphs import Text\n",
    "from bokeh.palettes import Spectral3, d3\n",
    "from bokeh.layouts import row, column, gridplot\n",
    "\n",
    "# tell bokeh to show the figures in the notebook\n",
    "from bokeh.io import output_notebook\n",
    "output_notebook()"
   ]
  },
  {
   "cell_type": "markdown",
   "metadata": {},
   "source": [
    "Load data stored in bokeh:"
   ]
  },
  {
   "cell_type": "code",
   "execution_count": 2,
   "metadata": {},
   "outputs": [
    {
     "data": {
      "text/html": [
       "<div>\n",
       "<table border=\"1\" class=\"dataframe\">\n",
       "  <thead>\n",
       "    <tr style=\"text-align: right;\">\n",
       "      <th></th>\n",
       "      <th>sepal_length</th>\n",
       "      <th>sepal_width</th>\n",
       "      <th>petal_length</th>\n",
       "      <th>petal_width</th>\n",
       "      <th>species</th>\n",
       "    </tr>\n",
       "  </thead>\n",
       "  <tbody>\n",
       "    <tr>\n",
       "      <th>0</th>\n",
       "      <td>5.1</td>\n",
       "      <td>3.5</td>\n",
       "      <td>1.4</td>\n",
       "      <td>0.2</td>\n",
       "      <td>setosa</td>\n",
       "    </tr>\n",
       "    <tr>\n",
       "      <th>1</th>\n",
       "      <td>4.9</td>\n",
       "      <td>3.0</td>\n",
       "      <td>1.4</td>\n",
       "      <td>0.2</td>\n",
       "      <td>setosa</td>\n",
       "    </tr>\n",
       "    <tr>\n",
       "      <th>2</th>\n",
       "      <td>4.7</td>\n",
       "      <td>3.2</td>\n",
       "      <td>1.3</td>\n",
       "      <td>0.2</td>\n",
       "      <td>setosa</td>\n",
       "    </tr>\n",
       "    <tr>\n",
       "      <th>3</th>\n",
       "      <td>4.6</td>\n",
       "      <td>3.1</td>\n",
       "      <td>1.5</td>\n",
       "      <td>0.2</td>\n",
       "      <td>setosa</td>\n",
       "    </tr>\n",
       "    <tr>\n",
       "      <th>4</th>\n",
       "      <td>5.0</td>\n",
       "      <td>3.6</td>\n",
       "      <td>1.4</td>\n",
       "      <td>0.2</td>\n",
       "      <td>setosa</td>\n",
       "    </tr>\n",
       "  </tbody>\n",
       "</table>\n",
       "</div>"
      ],
      "text/plain": [
       "   sepal_length  sepal_width  petal_length  petal_width species\n",
       "0           5.1          3.5           1.4          0.2  setosa\n",
       "1           4.9          3.0           1.4          0.2  setosa\n",
       "2           4.7          3.2           1.3          0.2  setosa\n",
       "3           4.6          3.1           1.5          0.2  setosa\n",
       "4           5.0          3.6           1.4          0.2  setosa"
      ]
     },
     "execution_count": 2,
     "metadata": {},
     "output_type": "execute_result"
    }
   ],
   "source": [
    "from bokeh.sampledata.autompg import autompg\n",
    "from bokeh.sampledata.iris import flowers\n",
    "flowers.head()"
   ]
  },
  {
   "cell_type": "markdown",
   "metadata": {},
   "source": [
    "## Helpful functions"
   ]
  },
  {
   "cell_type": "markdown",
   "metadata": {},
   "source": [
    "Group a dataframe according to a variable (species) and compute some statistics for a second variable (petal_width)."
   ]
  },
  {
   "cell_type": "code",
   "execution_count": 3,
   "metadata": {},
   "outputs": [
    {
     "data": {
      "text/plain": [
       "species          \n",
       "setosa      count    50.000000\n",
       "            mean      0.246000\n",
       "            std       0.105386\n",
       "            min       0.100000\n",
       "            25%       0.200000\n",
       "            50%       0.200000\n",
       "            75%       0.300000\n",
       "            max       0.600000\n",
       "versicolor  count    50.000000\n",
       "            mean      1.326000\n",
       "            std       0.197753\n",
       "            min       1.000000\n",
       "            25%       1.200000\n",
       "            50%       1.300000\n",
       "            75%       1.500000\n",
       "            max       1.800000\n",
       "virginica   count    50.000000\n",
       "            mean      2.026000\n",
       "            std       0.274650\n",
       "            min       1.400000\n",
       "            25%       1.800000\n",
       "            50%       2.000000\n",
       "            75%       2.300000\n",
       "            max       2.500000\n",
       "Name: petal_width, dtype: float64"
      ]
     },
     "execution_count": 3,
     "metadata": {},
     "output_type": "execute_result"
    }
   ],
   "source": [
    "flowers.groupby(['species']).petal_width.describe()"
   ]
  },
  {
   "cell_type": "markdown",
   "metadata": {},
   "source": [
    "Find unique values and count them in categorical variable."
   ]
  },
  {
   "cell_type": "code",
   "execution_count": 4,
   "metadata": {},
   "outputs": [
    {
     "data": {
      "text/plain": [
       "array(['setosa', 'versicolor', 'virginica'], dtype=object)"
      ]
     },
     "execution_count": 4,
     "metadata": {},
     "output_type": "execute_result"
    }
   ],
   "source": [
    "flowers.species.unique()"
   ]
  },
  {
   "cell_type": "code",
   "execution_count": 5,
   "metadata": {},
   "outputs": [
    {
     "data": {
      "text/plain": [
       "virginica     50\n",
       "versicolor    50\n",
       "setosa        50\n",
       "Name: species, dtype: int64"
      ]
     },
     "execution_count": 5,
     "metadata": {},
     "output_type": "execute_result"
    }
   ],
   "source": [
    "flowers.species.value_counts()"
   ]
  },
  {
   "cell_type": "markdown",
   "metadata": {},
   "source": [
    "Use numpy to compute a histogram for quantitative data. See the docu for further information and how to work with the output."
   ]
  },
  {
   "cell_type": "code",
   "execution_count": 6,
   "metadata": {},
   "outputs": [
    {
     "data": {
      "text/plain": [
       "(array([41,  8,  1,  7,  8, 33,  6, 23,  9, 14]),\n",
       " array([0.1 , 0.34, 0.58, 0.82, 1.06, 1.3 , 1.54, 1.78, 2.02, 2.26, 2.5 ]))"
      ]
     },
     "execution_count": 6,
     "metadata": {},
     "output_type": "execute_result"
    }
   ],
   "source": [
    "np.histogram(flowers.petal_width)"
   ]
  },
  {
   "cell_type": "markdown",
   "metadata": {},
   "source": [
    "## Exercise 1 a): Customize a scatterplot chart\n",
    "\n",
    "The following code skeleton renders a scatterplot. Customize the chart to your liking. Think for example of many data points. \n",
    "\n",
    "This is meant to be a very quick exercise to demonstrate the concept for the following two charts.\n",
    "\n",
    "Requirements:\n",
    "- **Parameters**: The function accepts (at least) the following parameters:\n",
    "    - **source**: a pandas DataFrameObject or bokeh ColumnDataSource that holds the data\n",
    "    - **x**: variable (name as string) to be represented on the x-axis\n",
    "    - **y**: variable (name as string) to be represented on the y-axis\n",
    "- **Calling the scatterplot**: The function is a class method of Figure and can be called as follows\n",
    "```python\n",
    "p = figure()\n",
    "p.scatter( data, x, y )\n",
    "```\n",
    "This is already setup in the code skeleton below.\n",
    "\n",
    "**<font color=\"deeppink\">Update code</font>**"
   ]
  },
  {
   "cell_type": "code",
   "execution_count": 7,
   "metadata": {},
   "outputs": [],
   "source": [
    "def scatter( self, source, x, y, **kwargs ):\n",
    "    # access the figure using the self variable\n",
    "    self.circle( source=source, x=x, y=y, color='colors', size=7, fill_alpha=0.4)\n",
    "    \n",
    "    # add these to the appropriate average\n",
    "    label = Label(x=50, y=50, x_units='screen', y_units='screen',\n",
    "                 text='Setosa', render_mode='css')\n",
    "    label2 = Label(x=200, y=200, x_units='screen', y_units='screen',\n",
    "                 text='Versicolor', render_mode='css' )\n",
    "    label3 = Label(x=300, y=300, x_units='screen', y_units='screen',\n",
    "                 text='Virginica', render_mode='css' )\n",
    "        \n",
    "    self.add_layout(label)\n",
    "    self.add_layout(label2)\n",
    "    self.add_layout(label3)\n",
    "    self.xaxis.axis_label = \"petal width\"\n",
    "    self.yaxis.axis_label = \"petal length\"\n",
    "    self.title.align = \"center\"\n",
    "\n",
    "# add the function as class method to Figure    \n",
    "Figure.scatter = scatter"
   ]
  },
  {
   "cell_type": "markdown",
   "metadata": {},
   "source": [
    "**<font color=\"deeppink\">Check</font>** that your code is working:"
   ]
  },
  {
   "cell_type": "code",
   "execution_count": 8,
   "metadata": {},
   "outputs": [
    {
     "data": {
      "text/html": [
       "\n",
       "\n",
       "\n",
       "\n",
       "\n",
       "\n",
       "  <div class=\"bk-root\" id=\"1bbc5474-6757-4528-8135-3bfe1d622fba\"></div>\n"
      ]
     },
     "metadata": {},
     "output_type": "display_data"
    },
    {
     "data": {
      "application/javascript": [
       "(function(root) {\n",
       "  function embed_document(root) {\n",
       "    \n",
       "  var docs_json = {\"d86d59c3-fcb2-464c-b019-69e643cef641\":{\"roots\":{\"references\":[{\"attributes\":{\"below\":[{\"id\":\"1013\",\"type\":\"LinearAxis\"}],\"left\":[{\"id\":\"1018\",\"type\":\"LinearAxis\"}],\"plot_height\":500,\"plot_width\":500,\"renderers\":[{\"id\":\"1013\",\"type\":\"LinearAxis\"},{\"id\":\"1017\",\"type\":\"Grid\"},{\"id\":\"1018\",\"type\":\"LinearAxis\"},{\"id\":\"1022\",\"type\":\"Grid\"},{\"id\":\"1031\",\"type\":\"BoxAnnotation\"},{\"id\":\"1042\",\"type\":\"GlyphRenderer\"},{\"id\":\"1044\",\"type\":\"Label\"},{\"id\":\"1045\",\"type\":\"Label\"},{\"id\":\"1046\",\"type\":\"Label\"}],\"title\":{\"id\":\"1002\",\"type\":\"Title\"},\"toolbar\":{\"id\":\"1029\",\"type\":\"Toolbar\"},\"x_range\":{\"id\":\"1005\",\"type\":\"DataRange1d\"},\"x_scale\":{\"id\":\"1009\",\"type\":\"LinearScale\"},\"y_range\":{\"id\":\"1007\",\"type\":\"DataRange1d\"},\"y_scale\":{\"id\":\"1011\",\"type\":\"LinearScale\"}},\"id\":\"1003\",\"subtype\":\"Figure\",\"type\":\"Plot\"},{\"attributes\":{\"plot\":{\"id\":\"1003\",\"subtype\":\"Figure\",\"type\":\"Plot\"},\"render_mode\":\"css\",\"text\":\"Virginica\",\"x\":300,\"x_units\":\"screen\",\"y\":300,\"y_units\":\"screen\"},\"id\":\"1046\",\"type\":\"Label\"},{\"attributes\":{\"plot\":{\"id\":\"1003\",\"subtype\":\"Figure\",\"type\":\"Plot\"},\"ticker\":{\"id\":\"1014\",\"type\":\"BasicTicker\"}},\"id\":\"1017\",\"type\":\"Grid\"},{\"attributes\":{\"fill_alpha\":{\"value\":0.1},\"fill_color\":{\"value\":\"#1f77b4\"},\"line_alpha\":{\"value\":0.1},\"line_color\":{\"value\":\"#1f77b4\"},\"size\":{\"units\":\"screen\",\"value\":7},\"x\":{\"field\":\"petal_width\"},\"y\":{\"field\":\"petal_length\"}},\"id\":\"1041\",\"type\":\"Circle\"},{\"attributes\":{\"axis_label\":\"petal length\",\"formatter\":{\"id\":\"1050\",\"type\":\"BasicTickFormatter\"},\"plot\":{\"id\":\"1003\",\"subtype\":\"Figure\",\"type\":\"Plot\"},\"ticker\":{\"id\":\"1019\",\"type\":\"BasicTicker\"}},\"id\":\"1018\",\"type\":\"LinearAxis\"},{\"attributes\":{},\"id\":\"1009\",\"type\":\"LinearScale\"},{\"attributes\":{},\"id\":\"1011\",\"type\":\"LinearScale\"},{\"attributes\":{},\"id\":\"1019\",\"type\":\"BasicTicker\"},{\"attributes\":{},\"id\":\"1048\",\"type\":\"BasicTickFormatter\"},{\"attributes\":{\"dimension\":1,\"plot\":{\"id\":\"1003\",\"subtype\":\"Figure\",\"type\":\"Plot\"},\"ticker\":{\"id\":\"1019\",\"type\":\"BasicTicker\"}},\"id\":\"1022\",\"type\":\"Grid\"},{\"attributes\":{\"callback\":null},\"id\":\"1007\",\"type\":\"DataRange1d\"},{\"attributes\":{},\"id\":\"1050\",\"type\":\"BasicTickFormatter\"},{\"attributes\":{\"active_drag\":\"auto\",\"active_inspect\":\"auto\",\"active_multi\":null,\"active_scroll\":\"auto\",\"active_tap\":\"auto\",\"tools\":[{\"id\":\"1023\",\"type\":\"PanTool\"},{\"id\":\"1024\",\"type\":\"WheelZoomTool\"},{\"id\":\"1025\",\"type\":\"BoxZoomTool\"},{\"id\":\"1026\",\"type\":\"SaveTool\"},{\"id\":\"1027\",\"type\":\"ResetTool\"},{\"id\":\"1028\",\"type\":\"HelpTool\"}]},\"id\":\"1029\",\"type\":\"Toolbar\"},{\"attributes\":{\"callback\":null},\"id\":\"1005\",\"type\":\"DataRange1d\"},{\"attributes\":{},\"id\":\"1053\",\"type\":\"UnionRenderers\"},{\"attributes\":{},\"id\":\"1023\",\"type\":\"PanTool\"},{\"attributes\":{},\"id\":\"1024\",\"type\":\"WheelZoomTool\"},{\"attributes\":{\"data_source\":{\"id\":\"1038\",\"type\":\"ColumnDataSource\"},\"glyph\":{\"id\":\"1040\",\"type\":\"Circle\"},\"hover_glyph\":null,\"muted_glyph\":null,\"nonselection_glyph\":{\"id\":\"1041\",\"type\":\"Circle\"},\"selection_glyph\":null,\"view\":{\"id\":\"1043\",\"type\":\"CDSView\"}},\"id\":\"1042\",\"type\":\"GlyphRenderer\"},{\"attributes\":{\"fill_alpha\":{\"value\":0.4},\"fill_color\":{\"field\":\"colors\"},\"line_color\":{\"field\":\"colors\"},\"size\":{\"units\":\"screen\",\"value\":7},\"x\":{\"field\":\"petal_width\"},\"y\":{\"field\":\"petal_length\"}},\"id\":\"1040\",\"type\":\"Circle\"},{\"attributes\":{\"overlay\":{\"id\":\"1031\",\"type\":\"BoxAnnotation\"}},\"id\":\"1025\",\"type\":\"BoxZoomTool\"},{\"attributes\":{},\"id\":\"1026\",\"type\":\"SaveTool\"},{\"attributes\":{},\"id\":\"1052\",\"type\":\"Selection\"},{\"attributes\":{},\"id\":\"1014\",\"type\":\"BasicTicker\"},{\"attributes\":{},\"id\":\"1027\",\"type\":\"ResetTool\"},{\"attributes\":{},\"id\":\"1028\",\"type\":\"HelpTool\"},{\"attributes\":{\"axis_label\":\"petal width\",\"formatter\":{\"id\":\"1048\",\"type\":\"BasicTickFormatter\"},\"plot\":{\"id\":\"1003\",\"subtype\":\"Figure\",\"type\":\"Plot\"},\"ticker\":{\"id\":\"1014\",\"type\":\"BasicTicker\"}},\"id\":\"1013\",\"type\":\"LinearAxis\"},{\"attributes\":{\"source\":{\"id\":\"1038\",\"type\":\"ColumnDataSource\"}},\"id\":\"1043\",\"type\":\"CDSView\"},{\"attributes\":{\"plot\":{\"id\":\"1003\",\"subtype\":\"Figure\",\"type\":\"Plot\"},\"render_mode\":\"css\",\"text\":\"Setosa\",\"x\":50,\"x_units\":\"screen\",\"y\":50,\"y_units\":\"screen\"},\"id\":\"1044\",\"type\":\"Label\"},{\"attributes\":{\"bottom_units\":\"screen\",\"fill_alpha\":{\"value\":0.5},\"fill_color\":{\"value\":\"lightgrey\"},\"left_units\":\"screen\",\"level\":\"overlay\",\"line_alpha\":{\"value\":1.0},\"line_color\":{\"value\":\"black\"},\"line_dash\":[4,4],\"line_width\":{\"value\":2},\"plot\":null,\"render_mode\":\"css\",\"right_units\":\"screen\",\"top_units\":\"screen\"},\"id\":\"1031\",\"type\":\"BoxAnnotation\"},{\"attributes\":{\"align\":\"center\",\"plot\":null,\"text\":\"Petal Length and Width by Species\"},\"id\":\"1002\",\"type\":\"Title\"},{\"attributes\":{\"callback\":null,\"data\":{\"colors\":[\"red\",\"red\",\"red\",\"red\",\"red\",\"red\",\"red\",\"red\",\"red\",\"red\",\"red\",\"red\",\"red\",\"red\",\"red\",\"red\",\"red\",\"red\",\"red\",\"red\",\"red\",\"red\",\"red\",\"red\",\"red\",\"red\",\"red\",\"red\",\"red\",\"red\",\"red\",\"red\",\"red\",\"red\",\"red\",\"red\",\"red\",\"red\",\"red\",\"red\",\"red\",\"red\",\"red\",\"red\",\"red\",\"red\",\"red\",\"red\",\"red\",\"red\",\"green\",\"green\",\"green\",\"green\",\"green\",\"green\",\"green\",\"green\",\"green\",\"green\",\"green\",\"green\",\"green\",\"green\",\"green\",\"green\",\"green\",\"green\",\"green\",\"green\",\"green\",\"green\",\"green\",\"green\",\"green\",\"green\",\"green\",\"green\",\"green\",\"green\",\"green\",\"green\",\"green\",\"green\",\"green\",\"green\",\"green\",\"green\",\"green\",\"green\",\"green\",\"green\",\"green\",\"green\",\"green\",\"green\",\"green\",\"green\",\"green\",\"green\",\"blue\",\"blue\",\"blue\",\"blue\",\"blue\",\"blue\",\"blue\",\"blue\",\"blue\",\"blue\",\"blue\",\"blue\",\"blue\",\"blue\",\"blue\",\"blue\",\"blue\",\"blue\",\"blue\",\"blue\",\"blue\",\"blue\",\"blue\",\"blue\",\"blue\",\"blue\",\"blue\",\"blue\",\"blue\",\"blue\",\"blue\",\"blue\",\"blue\",\"blue\",\"blue\",\"blue\",\"blue\",\"blue\",\"blue\",\"blue\",\"blue\",\"blue\",\"blue\",\"blue\",\"blue\",\"blue\",\"blue\",\"blue\",\"blue\",\"blue\"],\"index\":[0,1,2,3,4,5,6,7,8,9,10,11,12,13,14,15,16,17,18,19,20,21,22,23,24,25,26,27,28,29,30,31,32,33,34,35,36,37,38,39,40,41,42,43,44,45,46,47,48,49,50,51,52,53,54,55,56,57,58,59,60,61,62,63,64,65,66,67,68,69,70,71,72,73,74,75,76,77,78,79,80,81,82,83,84,85,86,87,88,89,90,91,92,93,94,95,96,97,98,99,100,101,102,103,104,105,106,107,108,109,110,111,112,113,114,115,116,117,118,119,120,121,122,123,124,125,126,127,128,129,130,131,132,133,134,135,136,137,138,139,140,141,142,143,144,145,146,147,148,149],\"petal_length\":{\"__ndarray__\":\"ZmZmZmZm9j9mZmZmZmb2P83MzMzMzPQ/AAAAAAAA+D9mZmZmZmb2PzMzMzMzM/s/ZmZmZmZm9j8AAAAAAAD4P2ZmZmZmZvY/AAAAAAAA+D8AAAAAAAD4P5qZmZmZmfk/ZmZmZmZm9j+amZmZmZnxPzMzMzMzM/M/AAAAAAAA+D/NzMzMzMz0P2ZmZmZmZvY/MzMzMzMz+z8AAAAAAAD4PzMzMzMzM/s/AAAAAAAA+D8AAAAAAADwPzMzMzMzM/s/ZmZmZmZm/j+amZmZmZn5P5qZmZmZmfk/AAAAAAAA+D9mZmZmZmb2P5qZmZmZmfk/mpmZmZmZ+T8AAAAAAAD4PwAAAAAAAPg/ZmZmZmZm9j8AAAAAAAD4PzMzMzMzM/M/zczMzMzM9D9mZmZmZmb2P83MzMzMzPQ/AAAAAAAA+D/NzMzMzMz0P83MzMzMzPQ/zczMzMzM9D+amZmZmZn5P2ZmZmZmZv4/ZmZmZmZm9j+amZmZmZn5P2ZmZmZmZvY/AAAAAAAA+D9mZmZmZmb2P83MzMzMzBJAAAAAAAAAEkCamZmZmZkTQAAAAAAAABBAZmZmZmZmEkAAAAAAAAASQM3MzMzMzBJAZmZmZmZmCkBmZmZmZmYSQDMzMzMzMw9AAAAAAAAADEDNzMzMzMwQQAAAAAAAABBAzczMzMzMEkDNzMzMzMwMQJqZmZmZmRFAAAAAAAAAEkBmZmZmZmYQQAAAAAAAABJAMzMzMzMzD0AzMzMzMzMTQAAAAAAAABBAmpmZmZmZE0DNzMzMzMwSQDMzMzMzMxFAmpmZmZmZEUAzMzMzMzMTQAAAAAAAABRAAAAAAAAAEkAAAAAAAAAMQGZmZmZmZg5AmpmZmZmZDUAzMzMzMzMPQGZmZmZmZhRAAAAAAAAAEkAAAAAAAAASQM3MzMzMzBJAmpmZmZmZEUBmZmZmZmYQQAAAAAAAABBAmpmZmZmZEUBmZmZmZmYSQAAAAAAAABBAZmZmZmZmCkDNzMzMzMwQQM3MzMzMzBBAzczMzMzMEEAzMzMzMzMRQAAAAAAAAAhAZmZmZmZmEEAAAAAAAAAYQGZmZmZmZhRAmpmZmZmZF0BmZmZmZmYWQDMzMzMzMxdAZmZmZmZmGkAAAAAAAAASQDMzMzMzMxlAMzMzMzMzF0BmZmZmZmYYQGZmZmZmZhRAMzMzMzMzFUAAAAAAAAAWQAAAAAAAABRAZmZmZmZmFEAzMzMzMzMVQAAAAAAAABZAzczMzMzMGkCamZmZmZkbQAAAAAAAABRAzczMzMzMFkCamZmZmZkTQM3MzMzMzBpAmpmZmZmZE0DNzMzMzMwWQAAAAAAAABhAMzMzMzMzE0CamZmZmZkTQGZmZmZmZhZAMzMzMzMzF0BmZmZmZmYYQJqZmZmZmRlAZmZmZmZmFkBmZmZmZmYUQGZmZmZmZhZAZmZmZmZmGEBmZmZmZmYWQAAAAAAAABZAMzMzMzMzE0CamZmZmZkVQGZmZmZmZhZAZmZmZmZmFEBmZmZmZmYUQJqZmZmZmRdAzczMzMzMFkDNzMzMzMwUQAAAAAAAABRAzczMzMzMFECamZmZmZkVQGZmZmZmZhRA\",\"dtype\":\"float64\",\"shape\":[150]},\"petal_width\":{\"__ndarray__\":\"mpmZmZmZyT+amZmZmZnJP5qZmZmZmck/mpmZmZmZyT+amZmZmZnJP5qZmZmZmdk/MzMzMzMz0z+amZmZmZnJP5qZmZmZmck/mpmZmZmZuT+amZmZmZnJP5qZmZmZmck/mpmZmZmZuT+amZmZmZm5P5qZmZmZmck/mpmZmZmZ2T+amZmZmZnZPzMzMzMzM9M/MzMzMzMz0z8zMzMzMzPTP5qZmZmZmck/mpmZmZmZ2T+amZmZmZnJPwAAAAAAAOA/mpmZmZmZyT+amZmZmZnJP5qZmZmZmdk/mpmZmZmZyT+amZmZmZnJP5qZmZmZmck/mpmZmZmZyT+amZmZmZnZP5qZmZmZmbk/mpmZmZmZyT+amZmZmZnJP5qZmZmZmck/mpmZmZmZyT+amZmZmZm5P5qZmZmZmck/mpmZmZmZyT8zMzMzMzPTPzMzMzMzM9M/mpmZmZmZyT8zMzMzMzPjP5qZmZmZmdk/MzMzMzMz0z+amZmZmZnJP5qZmZmZmck/mpmZmZmZyT+amZmZmZnJP2ZmZmZmZvY/AAAAAAAA+D8AAAAAAAD4P83MzMzMzPQ/AAAAAAAA+D/NzMzMzMz0P5qZmZmZmfk/AAAAAAAA8D/NzMzMzMz0P2ZmZmZmZvY/AAAAAAAA8D8AAAAAAAD4PwAAAAAAAPA/ZmZmZmZm9j/NzMzMzMz0P2ZmZmZmZvY/AAAAAAAA+D8AAAAAAADwPwAAAAAAAPg/mpmZmZmZ8T/NzMzMzMz8P83MzMzMzPQ/AAAAAAAA+D8zMzMzMzPzP83MzMzMzPQ/ZmZmZmZm9j9mZmZmZmb2PzMzMzMzM/s/AAAAAAAA+D8AAAAAAADwP5qZmZmZmfE/AAAAAAAA8D8zMzMzMzPzP5qZmZmZmfk/AAAAAAAA+D+amZmZmZn5PwAAAAAAAPg/zczMzMzM9D/NzMzMzMz0P83MzMzMzPQ/MzMzMzMz8z9mZmZmZmb2PzMzMzMzM/M/AAAAAAAA8D/NzMzMzMz0PzMzMzMzM/M/zczMzMzM9D/NzMzMzMz0P5qZmZmZmfE/zczMzMzM9D8AAAAAAAAEQGZmZmZmZv4/zczMzMzMAEDNzMzMzMz8P5qZmZmZmQFAzczMzMzMAEAzMzMzMzP7P83MzMzMzPw/zczMzMzM/D8AAAAAAAAEQAAAAAAAAABAZmZmZmZm/j/NzMzMzMwAQAAAAAAAAABAMzMzMzMzA0BmZmZmZmYCQM3MzMzMzPw/mpmZmZmZAUBmZmZmZmYCQAAAAAAAAPg/ZmZmZmZmAkAAAAAAAAAAQAAAAAAAAABAzczMzMzM/D/NzMzMzMwAQM3MzMzMzPw/zczMzMzM/D/NzMzMzMz8P83MzMzMzABAmpmZmZmZ+T9mZmZmZmb+PwAAAAAAAABAmpmZmZmZAUAAAAAAAAD4P2ZmZmZmZvY/ZmZmZmZmAkAzMzMzMzMDQM3MzMzMzPw/zczMzMzM/D/NzMzMzMwAQDMzMzMzMwNAZmZmZmZmAkBmZmZmZmb+P2ZmZmZmZgJAAAAAAAAABEBmZmZmZmYCQGZmZmZmZv4/AAAAAAAAAEBmZmZmZmYCQM3MzMzMzPw/\",\"dtype\":\"float64\",\"shape\":[150]},\"sepal_length\":{\"__ndarray__\":\"ZmZmZmZmFECamZmZmZkTQM3MzMzMzBJAZmZmZmZmEkAAAAAAAAAUQJqZmZmZmRVAZmZmZmZmEkAAAAAAAAAUQJqZmZmZmRFAmpmZmZmZE0CamZmZmZkVQDMzMzMzMxNAMzMzMzMzE0AzMzMzMzMRQDMzMzMzMxdAzczMzMzMFkCamZmZmZkVQGZmZmZmZhRAzczMzMzMFkBmZmZmZmYUQJqZmZmZmRVAZmZmZmZmFEBmZmZmZmYSQGZmZmZmZhRAMzMzMzMzE0AAAAAAAAAUQAAAAAAAABRAzczMzMzMFEDNzMzMzMwUQM3MzMzMzBJAMzMzMzMzE0CamZmZmZkVQM3MzMzMzBRAAAAAAAAAFkCamZmZmZkTQAAAAAAAABRAAAAAAAAAFkCamZmZmZkTQJqZmZmZmRFAZmZmZmZmFEAAAAAAAAAUQAAAAAAAABJAmpmZmZmZEUAAAAAAAAAUQGZmZmZmZhRAMzMzMzMzE0BmZmZmZmYUQGZmZmZmZhJAMzMzMzMzFUAAAAAAAAAUQAAAAAAAABxAmpmZmZmZGUCamZmZmZkbQAAAAAAAABZAAAAAAAAAGkDNzMzMzMwWQDMzMzMzMxlAmpmZmZmZE0BmZmZmZmYaQM3MzMzMzBRAAAAAAAAAFECamZmZmZkXQAAAAAAAABhAZmZmZmZmGEBmZmZmZmYWQM3MzMzMzBpAZmZmZmZmFkAzMzMzMzMXQM3MzMzMzBhAZmZmZmZmFkCamZmZmZkXQGZmZmZmZhhAMzMzMzMzGUBmZmZmZmYYQJqZmZmZmRlAZmZmZmZmGkAzMzMzMzMbQM3MzMzMzBpAAAAAAAAAGEDNzMzMzMwWQAAAAAAAABZAAAAAAAAAFkAzMzMzMzMXQAAAAAAAABhAmpmZmZmZFUAAAAAAAAAYQM3MzMzMzBpAMzMzMzMzGUBmZmZmZmYWQAAAAAAAABZAAAAAAAAAFkBmZmZmZmYYQDMzMzMzMxdAAAAAAAAAFEBmZmZmZmYWQM3MzMzMzBZAzczMzMzMFkDNzMzMzMwYQGZmZmZmZhRAzczMzMzMFkAzMzMzMzMZQDMzMzMzMxdAZmZmZmZmHEAzMzMzMzMZQAAAAAAAABpAZmZmZmZmHkCamZmZmZkTQDMzMzMzMx1AzczMzMzMGkDNzMzMzMwcQAAAAAAAABpAmpmZmZmZGUAzMzMzMzMbQM3MzMzMzBZAMzMzMzMzF0CamZmZmZkZQAAAAAAAABpAzczMzMzMHkDNzMzMzMweQAAAAAAAABhAmpmZmZmZG0BmZmZmZmYWQM3MzMzMzB5AMzMzMzMzGUDNzMzMzMwaQM3MzMzMzBxAzczMzMzMGEBmZmZmZmYYQJqZmZmZmRlAzczMzMzMHECamZmZmZkdQJqZmZmZmR9AmpmZmZmZGUAzMzMzMzMZQGZmZmZmZhhAzczMzMzMHkAzMzMzMzMZQJqZmZmZmRlAAAAAAAAAGECamZmZmZkbQM3MzMzMzBpAmpmZmZmZG0AzMzMzMzMXQDMzMzMzMxtAzczMzMzMGkDNzMzMzMwaQDMzMzMzMxlAAAAAAAAAGkDNzMzMzMwYQJqZmZmZmRdA\",\"dtype\":\"float64\",\"shape\":[150]},\"sepal_width\":{\"__ndarray__\":\"AAAAAAAADEAAAAAAAAAIQJqZmZmZmQlAzczMzMzMCEDNzMzMzMwMQDMzMzMzMw9AMzMzMzMzC0AzMzMzMzMLQDMzMzMzMwdAzczMzMzMCECamZmZmZkNQDMzMzMzMwtAAAAAAAAACEAAAAAAAAAIQAAAAAAAABBAmpmZmZmZEUAzMzMzMzMPQAAAAAAAAAxAZmZmZmZmDkBmZmZmZmYOQDMzMzMzMwtAmpmZmZmZDUDNzMzMzMwMQGZmZmZmZgpAMzMzMzMzC0AAAAAAAAAIQDMzMzMzMwtAAAAAAAAADEAzMzMzMzMLQJqZmZmZmQlAzczMzMzMCEAzMzMzMzMLQGZmZmZmZhBAzczMzMzMEEDNzMzMzMwIQJqZmZmZmQlAAAAAAAAADEDNzMzMzMwMQAAAAAAAAAhAMzMzMzMzC0AAAAAAAAAMQGZmZmZmZgJAmpmZmZmZCUAAAAAAAAAMQGZmZmZmZg5AAAAAAAAACEBmZmZmZmYOQJqZmZmZmQlAmpmZmZmZDUBmZmZmZmYKQJqZmZmZmQlAmpmZmZmZCUDNzMzMzMwIQGZmZmZmZgJAZmZmZmZmBkBmZmZmZmYGQGZmZmZmZgpAMzMzMzMzA0AzMzMzMzMHQJqZmZmZmQVAAAAAAAAAAEAAAAAAAAAIQJqZmZmZmQFAMzMzMzMzB0AzMzMzMzMHQM3MzMzMzAhAAAAAAAAACECamZmZmZkFQJqZmZmZmQFAAAAAAAAABECamZmZmZkJQGZmZmZmZgZAAAAAAAAABEBmZmZmZmYGQDMzMzMzMwdAAAAAAAAACEBmZmZmZmYGQAAAAAAAAAhAMzMzMzMzB0DNzMzMzMwEQDMzMzMzMwNAMzMzMzMzA0CamZmZmZkFQJqZmZmZmQVAAAAAAAAACEAzMzMzMzMLQM3MzMzMzAhAZmZmZmZmAkAAAAAAAAAIQAAAAAAAAARAzczMzMzMBEAAAAAAAAAIQM3MzMzMzARAZmZmZmZmAkCamZmZmZkFQAAAAAAAAAhAMzMzMzMzB0AzMzMzMzMHQAAAAAAAAARAZmZmZmZmBkBmZmZmZmYKQJqZmZmZmQVAAAAAAAAACEAzMzMzMzMHQAAAAAAAAAhAAAAAAAAACEAAAAAAAAAEQDMzMzMzMwdAAAAAAAAABEDNzMzMzMwMQJqZmZmZmQlAmpmZmZmZBUAAAAAAAAAIQAAAAAAAAARAZmZmZmZmBkCamZmZmZkJQAAAAAAAAAhAZmZmZmZmDkDNzMzMzMwEQJqZmZmZmQFAmpmZmZmZCUBmZmZmZmYGQGZmZmZmZgZAmpmZmZmZBUBmZmZmZmYKQJqZmZmZmQlAZmZmZmZmBkAAAAAAAAAIQGZmZmZmZgZAAAAAAAAACEBmZmZmZmYGQGZmZmZmZg5AZmZmZmZmBkBmZmZmZmYGQM3MzMzMzARAAAAAAAAACEAzMzMzMzMLQM3MzMzMzAhAAAAAAAAACEDNzMzMzMwIQM3MzMzMzAhAzczMzMzMCECamZmZmZkFQJqZmZmZmQlAZmZmZmZmCkAAAAAAAAAIQAAAAAAAAARAAAAAAAAACEAzMzMzMzMLQAAAAAAAAAhA\",\"dtype\":\"float64\",\"shape\":[150]},\"species\":[\"setosa\",\"setosa\",\"setosa\",\"setosa\",\"setosa\",\"setosa\",\"setosa\",\"setosa\",\"setosa\",\"setosa\",\"setosa\",\"setosa\",\"setosa\",\"setosa\",\"setosa\",\"setosa\",\"setosa\",\"setosa\",\"setosa\",\"setosa\",\"setosa\",\"setosa\",\"setosa\",\"setosa\",\"setosa\",\"setosa\",\"setosa\",\"setosa\",\"setosa\",\"setosa\",\"setosa\",\"setosa\",\"setosa\",\"setosa\",\"setosa\",\"setosa\",\"setosa\",\"setosa\",\"setosa\",\"setosa\",\"setosa\",\"setosa\",\"setosa\",\"setosa\",\"setosa\",\"setosa\",\"setosa\",\"setosa\",\"setosa\",\"setosa\",\"versicolor\",\"versicolor\",\"versicolor\",\"versicolor\",\"versicolor\",\"versicolor\",\"versicolor\",\"versicolor\",\"versicolor\",\"versicolor\",\"versicolor\",\"versicolor\",\"versicolor\",\"versicolor\",\"versicolor\",\"versicolor\",\"versicolor\",\"versicolor\",\"versicolor\",\"versicolor\",\"versicolor\",\"versicolor\",\"versicolor\",\"versicolor\",\"versicolor\",\"versicolor\",\"versicolor\",\"versicolor\",\"versicolor\",\"versicolor\",\"versicolor\",\"versicolor\",\"versicolor\",\"versicolor\",\"versicolor\",\"versicolor\",\"versicolor\",\"versicolor\",\"versicolor\",\"versicolor\",\"versicolor\",\"versicolor\",\"versicolor\",\"versicolor\",\"versicolor\",\"versicolor\",\"versicolor\",\"versicolor\",\"versicolor\",\"versicolor\",\"virginica\",\"virginica\",\"virginica\",\"virginica\",\"virginica\",\"virginica\",\"virginica\",\"virginica\",\"virginica\",\"virginica\",\"virginica\",\"virginica\",\"virginica\",\"virginica\",\"virginica\",\"virginica\",\"virginica\",\"virginica\",\"virginica\",\"virginica\",\"virginica\",\"virginica\",\"virginica\",\"virginica\",\"virginica\",\"virginica\",\"virginica\",\"virginica\",\"virginica\",\"virginica\",\"virginica\",\"virginica\",\"virginica\",\"virginica\",\"virginica\",\"virginica\",\"virginica\",\"virginica\",\"virginica\",\"virginica\",\"virginica\",\"virginica\",\"virginica\",\"virginica\",\"virginica\",\"virginica\",\"virginica\",\"virginica\",\"virginica\",\"virginica\"]},\"selected\":{\"id\":\"1052\",\"type\":\"Selection\"},\"selection_policy\":{\"id\":\"1053\",\"type\":\"UnionRenderers\"}},\"id\":\"1038\",\"type\":\"ColumnDataSource\"},{\"attributes\":{\"plot\":{\"id\":\"1003\",\"subtype\":\"Figure\",\"type\":\"Plot\"},\"render_mode\":\"css\",\"text\":\"Versicolor\",\"x\":200,\"x_units\":\"screen\",\"y\":200,\"y_units\":\"screen\"},\"id\":\"1045\",\"type\":\"Label\"}],\"root_ids\":[\"1003\"]},\"title\":\"Bokeh Application\",\"version\":\"1.0.0\"}};\n",
       "  var render_items = [{\"docid\":\"d86d59c3-fcb2-464c-b019-69e643cef641\",\"roots\":{\"1003\":\"1bbc5474-6757-4528-8135-3bfe1d622fba\"}}];\n",
       "  root.Bokeh.embed.embed_items_notebook(docs_json, render_items);\n",
       "\n",
       "  }\n",
       "  if (root.Bokeh !== undefined) {\n",
       "    embed_document(root);\n",
       "  } else {\n",
       "    var attempts = 0;\n",
       "    var timer = setInterval(function(root) {\n",
       "      if (root.Bokeh !== undefined) {\n",
       "        embed_document(root);\n",
       "        clearInterval(timer);\n",
       "      }\n",
       "      attempts++;\n",
       "      if (attempts > 100) {\n",
       "        console.log(\"Bokeh: ERROR: Unable to run BokehJS code because BokehJS library is missing\");\n",
       "        clearInterval(timer);\n",
       "      }\n",
       "    }, 10, root)\n",
       "  }\n",
       "})(window);"
      ],
      "application/vnd.bokehjs_exec.v0+json": ""
     },
     "metadata": {
      "application/vnd.bokehjs_exec.v0+json": {
       "id": "1003"
      }
     },
     "output_type": "display_data"
    }
   ],
   "source": [
    "p = figure( plot_width=500, plot_height=500, title = \"Petal Length and Width by Species\")\n",
    "colormap = {'setosa': 'red', 'versicolor': 'green', 'virginica': 'blue'}\n",
    "colors = [colormap[x] for x in flowers['species']]\n",
    "flowers['colors'] = colors\n",
    "\n",
    "p.scatter(source=flowers, x='petal_width', y='petal_length')\n",
    "show(p)"
   ]
  },
  {
   "cell_type": "markdown",
   "metadata": {},
   "source": [
    "**<font color=\"deeppink\">Test cases</font>**: Give three scenarios that need testing (bullet points, no implementation required). Think of scenarios where your code may fail.\n",
    "- Test Case 1: NAN: for NAN values, there is a possibility of it failing \n",
    "- Test case 2: Outlier values\n",
    "- Test case 3: Colour map only works for the three defined types, if the data supply were augmented, the code would not show a color for that map"
   ]
  },
  {
   "cell_type": "markdown",
   "metadata": {},
   "source": [
    "## Exercise 1 b): Implement a boxplot chart\n",
    "\n",
    "Requirements:\n",
    "- **Parameters**: The function accepts (at least) the following parameters:\n",
    "    - **source**: a pandas DataFrameObject that holds the data\n",
    "    - **x**: variable (name as string) to be represented on the x-axis\n",
    "    - **y**: variable (name as string) to be represented on the y-axis\n",
    "- **Orientation**: Provide boxplots with horizontal and vertical orientation (call them hboxplot and vboxplot).\n",
    "- **Calling the boxplot**: The function is a class method of Figure and can be called as follows\n",
    "```python\n",
    "p = figure()\n",
    "p.vboxplot( data, x, y )\n",
    "```\n",
    "This is already setup in the code skeleton below.\n",
    "\n",
    "Hints:\n",
    "- A Bokeh sample implementation can be found here: [Boxplot](https://bokeh.pydata.org/en/latest/docs/gallery/boxplot.html)\n",
    "- Adapt this implementation to work on the target variable only. See code below to get started.\n",
    "\n",
    "**<font color=\"deeppink\">Implement</font>**"
   ]
  },
  {
   "cell_type": "code",
   "execution_count": 149,
   "metadata": {},
   "outputs": [],
   "source": [
    "## checks the outliers\n",
    "\n",
    "    \n",
    "def vboxplot( self, source, x, y, **kwargs ):\n",
    "    if not isinstance(source, pd.DataFrame ):\n",
    "        raise TypeError(\"source has to be a pandas DataFrame.\")\n",
    "    groups = source.groupby([x])[y]\n",
    "    v_axis_type = ['versicolor', 'virginica', 'setosa']\n",
    "    df = pd.DataFrame(dict(score=source['petal_length'], group=source['species']))\n",
    "    groups = df.groupby('group')\n",
    "    q1 = groups.quantile(q=0.25)\n",
    "    q2 = groups.quantile(q=0.5)\n",
    "    q3 = groups.quantile(q=0.75)\n",
    "    iqr = q3 - q1\n",
    "    upper = q3 + 1.5*iqr\n",
    "    lower = q1 - 1.5*iqr\n",
    "    # find the outliers for each category\n",
    "    def outliers(group):\n",
    "        group_name = group.name\n",
    "        return group[(group.score > upper.loc[group_name]['score']) | (group.score < lower.loc[group_name]['score'])]['score']\n",
    "    \n",
    "    \n",
    "    out = groups.apply(outliers).dropna()\n",
    "\n",
    "    # prepare outlier data for plotting, we need coordinates for every outlier.\n",
    "    if not out.empty:\n",
    "        outx = []\n",
    "        outy = []\n",
    "        for keys in out.index:\n",
    "            outx.append(keys[0])\n",
    "            outy.append(out.loc[keys[0]].loc[keys[1]])\n",
    "    # if no outliers, shrink lengths of stems to be no longer than the minimums or maximums\n",
    "    qmin = groups.quantile(q=0.00)\n",
    "    qmax = groups.quantile(q=1.00)\n",
    "    upper.score = [min([x,y]) for (x,y) in zip(list(qmax.loc[:,'score']),upper.score)]\n",
    "    lower.score = [max([x,y]) for (x,y) in zip(list(qmin.loc[:,'score']),lower.score)]\n",
    "\n",
    "    # stems\n",
    "    self.segment(v_axis_type, upper.score, v_axis_type, q3.score, line_color=\"black\")\n",
    "    self.segment(v_axis_type, lower.score, v_axis_type, q1.score, line_color=\"black\")\n",
    "\n",
    "    # boxes\n",
    "    self.vbar(v_axis_type, 0.7, q2.score, q3.score, fill_color=\"#00FFFF\", line_color=\"black\")\n",
    "    self.vbar(v_axis_type, 0.7, q1.score, q2.score, fill_color=\"#000080\", line_color=\"black\")\n",
    "\n",
    "    # whiskers (almost-0 height rects simpler than segments)\n",
    "    self.rect(v_axis_type, lower.score, 0.2, 0.01, line_color=\"black\")\n",
    "    self.rect(v_axis_type, upper.score, 0.2, 0.01, line_color=\"black\")\n",
    "\n",
    "    # outliers\n",
    "    if not out.empty:\n",
    "        self.circle(outx, outy, size=6, color=\"#F38630\", fill_alpha=0.6)\n",
    "\n",
    "    self.xgrid.grid_line_color = None\n",
    "    self.ygrid.grid_line_color = \"white\"\n",
    "    self.grid.grid_line_width = 2\n",
    "    self.xaxis.major_label_text_font_size=\"10pt\"    \n",
    "\n",
    "Figure.vboxplot = vboxplot"
   ]
  },
  {
   "cell_type": "code",
   "execution_count": 157,
   "metadata": {},
   "outputs": [],
   "source": [
    "def hboxplot( self, source, x, y, **kwargs ):\n",
    "    if not isinstance(source, pd.DataFrame ):\n",
    "        raise TypeError(\"source has to be a pandas DataFrame.\")\n",
    "    groups = source.groupby([x])[y]\n",
    "    v_axis_type = ['versicolor', 'virginica', 'setosa']\n",
    "    df = pd.DataFrame(dict(score=source['petal_length'], group=source['species']))\n",
    "    groups = df.groupby('group')\n",
    "    q1 = groups.quantile(q=0.25)\n",
    "    q2 = groups.quantile(q=0.5)\n",
    "    q3 = groups.quantile(q=0.75)\n",
    "    iqr = q3 - q1\n",
    "    upper = q3 + 1.5*iqr\n",
    "    lower = q1 - 1.5*iqr\n",
    "    # find the outliers for each category\n",
    "    def outliers(group):\n",
    "        group_name = group.name\n",
    "        return group[(group.score > upper.loc[group_name]['score']) | (group.score < lower.loc[group_name]['score'])]['score']\n",
    "    \n",
    "    \n",
    "    out = groups.apply(outliers).dropna()\n",
    "\n",
    "    # prepare outlier data for plotting, we need coordinates for every outlier.\n",
    "    if not out.empty:\n",
    "        outx = []\n",
    "        outy = []\n",
    "        for keys in out.index:\n",
    "            outx.append(keys[0])\n",
    "            outy.append(out.loc[keys[0]].loc[keys[1]])\n",
    "    \n",
    "    # if no outliers, shrink lengths of stems to be no longer than the minimums or maximums\n",
    "    qmin = groups.quantile(q=0.00)\n",
    "    qmax = groups.quantile(q=1.00)\n",
    "    upper.score = [min([x,y]) for (x,y) in zip(list(qmax.loc[:,'score']),upper.score)]\n",
    "    lower.score = [max([x,y]) for (x,y) in zip(list(qmin.loc[:,'score']),lower.score)]\n",
    "\n",
    "    # stems\n",
    "    self.segment(v_axis_type, upper.score, v_axis_type, q3.score, line_color=\"black\")\n",
    "    self.segment(v_axis_type, lower.score, v_axis_type, q1.score, line_color=\"black\")\n",
    "\n",
    "    # boxes\n",
    "    self.hbar(v_axis_type, 0.7, q2.score, q3.score, fill_color=\"#00FFFF\", line_color=\"black\")\n",
    "    self.hbar(v_axis_type, 0.7, q1.score, q2.score, fill_color=\"#000080\", line_color=\"black\")\n",
    "\n",
    "    # whiskers (almost-0 height rects simpler than segments)\n",
    "    self.rect(v_axis_type, lower.score, 0.1, 0.01, line_color=\"black\")\n",
    "    self.rect(v_axis_type, upper.score, 0.1, 0.01, line_color=\"black\")\n",
    "\n",
    "    # outliers\n",
    "    if not out.empty:\n",
    "        self.circle(outx, outy, size=6, color=\"#F38630\", fill_alpha=0.6)\n",
    "\n",
    "    self.xgrid.grid_line_color = None\n",
    "    self.ygrid.grid_line_color = \"white\"\n",
    "    self.grid.grid_line_width = 2\n",
    "    self.xaxis.major_label_text_font_size=\"10pt\"\n",
    "\n",
    "Figure.hboxplot = hboxplot"
   ]
  },
  {
   "cell_type": "markdown",
   "metadata": {},
   "source": [
    "**<font color=\"deeppink\">Check</font>** your boxplot"
   ]
  },
  {
   "cell_type": "code",
   "execution_count": 159,
   "metadata": {},
   "outputs": [
    {
     "data": {
      "text/html": [
       "\n",
       "\n",
       "\n",
       "\n",
       "\n",
       "\n",
       "  <div class=\"bk-root\" id=\"a2ce635c-c76e-4e35-8c2b-cd255338ec0c\"></div>\n"
      ]
     },
     "metadata": {},
     "output_type": "display_data"
    },
    {
     "data": {
      "application/javascript": [
       "(function(root) {\n",
       "  function embed_document(root) {\n",
       "    \n",
       "  var docs_json = {\"3f96cc41-4801-4fdf-871e-0d304192c3da\":{\"roots\":{\"references\":[{\"attributes\":{\"children\":[{\"id\":\"31089\",\"subtype\":\"Figure\",\"type\":\"Plot\"},{\"id\":\"31021\",\"subtype\":\"Figure\",\"type\":\"Plot\"}]},\"id\":\"31157\",\"type\":\"Column\"},{\"attributes\":{\"axis_label\":\"petal_width\",\"formatter\":{\"id\":\"32097\",\"type\":\"BasicTickFormatter\"},\"major_label_text_font_size\":{\"value\":\"10pt\"},\"plot\":{\"id\":\"31021\",\"subtype\":\"Figure\",\"type\":\"Plot\"},\"ticker\":{\"id\":\"31031\",\"type\":\"BasicTicker\"}},\"id\":\"31030\",\"type\":\"LinearAxis\"},{\"attributes\":{\"fill_color\":{\"value\":\"#1f77b4\"},\"height\":{\"units\":\"data\",\"value\":0.01},\"width\":{\"units\":\"data\",\"value\":0.2},\"x\":{\"field\":\"x\"},\"y\":{\"field\":\"y\"}},\"id\":\"31143\",\"type\":\"Rect\"},{\"attributes\":{},\"id\":\"31031\",\"type\":\"BasicTicker\"},{\"attributes\":{\"bottom_units\":\"screen\",\"fill_alpha\":{\"value\":0.5},\"fill_color\":{\"value\":\"lightgrey\"},\"left_units\":\"screen\",\"level\":\"overlay\",\"line_alpha\":{\"value\":1.0},\"line_color\":{\"value\":\"black\"},\"line_dash\":[4,4],\"line_width\":{\"value\":2},\"plot\":null,\"render_mode\":\"css\",\"right_units\":\"screen\",\"top_units\":\"screen\"},\"id\":\"31047\",\"type\":\"BoxAnnotation\"},{\"attributes\":{\"source\":{\"id\":\"31059\",\"type\":\"ColumnDataSource\"}},\"id\":\"31063\",\"type\":\"CDSView\"},{\"attributes\":{\"axis_label\":\"species\",\"formatter\":{\"id\":\"32099\",\"type\":\"CategoricalTickFormatter\"},\"plot\":{\"id\":\"31021\",\"subtype\":\"Figure\",\"type\":\"Plot\"},\"ticker\":{\"id\":\"31036\",\"type\":\"CategoricalTicker\"}},\"id\":\"31035\",\"type\":\"CategoricalAxis\"},{\"attributes\":{},\"id\":\"32127\",\"type\":\"UnionRenderers\"},{\"attributes\":{\"dimension\":1,\"grid_line_color\":{\"value\":\"white\"},\"grid_line_width\":{\"value\":2},\"plot\":{\"id\":\"31021\",\"subtype\":\"Figure\",\"type\":\"Plot\"},\"ticker\":{\"id\":\"31036\",\"type\":\"CategoricalTicker\"}},\"id\":\"31038\",\"type\":\"Grid\"},{\"attributes\":{\"data_source\":{\"id\":\"31059\",\"type\":\"ColumnDataSource\"},\"glyph\":{\"id\":\"31060\",\"type\":\"Segment\"},\"hover_glyph\":null,\"muted_glyph\":null,\"nonselection_glyph\":{\"id\":\"31061\",\"type\":\"Segment\"},\"selection_glyph\":null,\"view\":{\"id\":\"31063\",\"type\":\"CDSView\"}},\"id\":\"31062\",\"type\":\"GlyphRenderer\"},{\"attributes\":{},\"id\":\"31026\",\"type\":\"LinearScale\"},{\"attributes\":{},\"id\":\"32093\",\"type\":\"CategoricalTickFormatter\"},{\"attributes\":{},\"id\":\"32126\",\"type\":\"Selection\"},{\"attributes\":{},\"id\":\"31044\",\"type\":\"HelpTool\"},{\"attributes\":{\"callback\":null},\"id\":\"31092\",\"type\":\"DataRange1d\"},{\"attributes\":{\"bottom_units\":\"screen\",\"fill_alpha\":{\"value\":0.5},\"fill_color\":{\"value\":\"lightgrey\"},\"left_units\":\"screen\",\"level\":\"overlay\",\"line_alpha\":{\"value\":1.0},\"line_color\":{\"value\":\"black\"},\"line_dash\":[4,4],\"line_width\":{\"value\":2},\"plot\":null,\"render_mode\":\"css\",\"right_units\":\"screen\",\"top_units\":\"screen\"},\"id\":\"31115\",\"type\":\"BoxAnnotation\"},{\"attributes\":{},\"id\":\"32128\",\"type\":\"Selection\"},{\"attributes\":{},\"id\":\"31107\",\"type\":\"PanTool\"},{\"attributes\":{\"x0\":{\"field\":\"x0\"},\"x1\":{\"field\":\"x1\"},\"y0\":{\"field\":\"y0\"},\"y1\":{\"field\":\"y1\"}},\"id\":\"31060\",\"type\":\"Segment\"},{\"attributes\":{},\"id\":\"32129\",\"type\":\"UnionRenderers\"},{\"attributes\":{},\"id\":\"31028\",\"type\":\"CategoricalScale\"},{\"attributes\":{},\"id\":\"31096\",\"type\":\"LinearScale\"},{\"attributes\":{},\"id\":\"31111\",\"type\":\"ResetTool\"},{\"attributes\":{},\"id\":\"31039\",\"type\":\"PanTool\"},{\"attributes\":{\"below\":[{\"id\":\"31030\",\"type\":\"LinearAxis\"}],\"left\":[{\"id\":\"31035\",\"type\":\"CategoricalAxis\"}],\"plot_height\":500,\"plot_width\":500,\"renderers\":[{\"id\":\"31030\",\"type\":\"LinearAxis\"},{\"id\":\"31034\",\"type\":\"Grid\"},{\"id\":\"31035\",\"type\":\"CategoricalAxis\"},{\"id\":\"31038\",\"type\":\"Grid\"},{\"id\":\"31047\",\"type\":\"BoxAnnotation\"},{\"id\":\"31057\",\"type\":\"GlyphRenderer\"},{\"id\":\"31062\",\"type\":\"GlyphRenderer\"},{\"id\":\"31067\",\"type\":\"GlyphRenderer\"},{\"id\":\"31072\",\"type\":\"GlyphRenderer\"},{\"id\":\"31077\",\"type\":\"GlyphRenderer\"},{\"id\":\"31082\",\"type\":\"GlyphRenderer\"},{\"id\":\"31087\",\"type\":\"GlyphRenderer\"}],\"title\":{\"id\":\"32092\",\"type\":\"Title\"},\"toolbar\":{\"id\":\"31045\",\"type\":\"Toolbar\"},\"x_range\":{\"id\":\"31022\",\"type\":\"DataRange1d\"},\"x_scale\":{\"id\":\"31026\",\"type\":\"LinearScale\"},\"y_range\":{\"id\":\"31024\",\"type\":\"FactorRange\"},\"y_scale\":{\"id\":\"31028\",\"type\":\"CategoricalScale\"}},\"id\":\"31021\",\"subtype\":\"Figure\",\"type\":\"Plot\"},{\"attributes\":{\"callback\":null,\"data\":{\"x\":[\"versicolor\",\"virginica\",\"setosa\"],\"y\":{\"__ndarray__\":\"aWZmZmZm/T9mZmZmZmYUQJqZmZmZmRtA\",\"dtype\":\"float64\",\"shape\":[3]}},\"selected\":{\"id\":\"32111\",\"type\":\"Selection\"},\"selection_policy\":{\"id\":\"32112\",\"type\":\"UnionRenderers\"}},\"id\":\"31147\",\"type\":\"ColumnDataSource\"},{\"attributes\":{\"active_drag\":\"auto\",\"active_inspect\":\"auto\",\"active_multi\":null,\"active_scroll\":\"auto\",\"active_tap\":\"auto\",\"tools\":[{\"id\":\"31039\",\"type\":\"PanTool\"},{\"id\":\"31040\",\"type\":\"WheelZoomTool\"},{\"id\":\"31041\",\"type\":\"BoxZoomTool\"},{\"id\":\"31042\",\"type\":\"SaveTool\"},{\"id\":\"31043\",\"type\":\"ResetTool\"},{\"id\":\"31044\",\"type\":\"HelpTool\"}]},\"id\":\"31045\",\"type\":\"Toolbar\"},{\"attributes\":{},\"id\":\"31042\",\"type\":\"SaveTool\"},{\"attributes\":{\"plot\":null,\"text\":\"\"},\"id\":\"32092\",\"type\":\"Title\"},{\"attributes\":{\"overlay\":{\"id\":\"31115\",\"type\":\"BoxAnnotation\"}},\"id\":\"31109\",\"type\":\"BoxZoomTool\"},{\"attributes\":{},\"id\":\"31036\",\"type\":\"CategoricalTicker\"},{\"attributes\":{\"callback\":null},\"id\":\"31022\",\"type\":\"DataRange1d\"},{\"attributes\":{\"fill_alpha\":{\"value\":0.1},\"fill_color\":{\"value\":\"#1f77b4\"},\"height\":{\"units\":\"data\",\"value\":0.01},\"line_alpha\":{\"value\":0.1},\"line_color\":{\"value\":\"#1f77b4\"},\"width\":{\"units\":\"data\",\"value\":0.2},\"x\":{\"field\":\"x\"},\"y\":{\"field\":\"y\"}},\"id\":\"31144\",\"type\":\"Rect\"},{\"attributes\":{},\"id\":\"31108\",\"type\":\"WheelZoomTool\"},{\"attributes\":{\"overlay\":{\"id\":\"31047\",\"type\":\"BoxAnnotation\"}},\"id\":\"31041\",\"type\":\"BoxZoomTool\"},{\"attributes\":{\"active_drag\":\"auto\",\"active_inspect\":\"auto\",\"active_multi\":null,\"active_scroll\":\"auto\",\"active_tap\":\"auto\",\"tools\":[{\"id\":\"31107\",\"type\":\"PanTool\"},{\"id\":\"31108\",\"type\":\"WheelZoomTool\"},{\"id\":\"31109\",\"type\":\"BoxZoomTool\"},{\"id\":\"31110\",\"type\":\"SaveTool\"},{\"id\":\"31111\",\"type\":\"ResetTool\"},{\"id\":\"31112\",\"type\":\"HelpTool\"}]},\"id\":\"31113\",\"type\":\"Toolbar\"},{\"attributes\":{\"below\":[{\"id\":\"31098\",\"type\":\"CategoricalAxis\"}],\"left\":[{\"id\":\"31102\",\"type\":\"LinearAxis\"}],\"plot_height\":500,\"plot_width\":500,\"renderers\":[{\"id\":\"31098\",\"type\":\"CategoricalAxis\"},{\"id\":\"31101\",\"type\":\"Grid\"},{\"id\":\"31102\",\"type\":\"LinearAxis\"},{\"id\":\"31106\",\"type\":\"Grid\"},{\"id\":\"31115\",\"type\":\"BoxAnnotation\"},{\"id\":\"31125\",\"type\":\"GlyphRenderer\"},{\"id\":\"31130\",\"type\":\"GlyphRenderer\"},{\"id\":\"31135\",\"type\":\"GlyphRenderer\"},{\"id\":\"31140\",\"type\":\"GlyphRenderer\"},{\"id\":\"31145\",\"type\":\"GlyphRenderer\"},{\"id\":\"31150\",\"type\":\"GlyphRenderer\"},{\"id\":\"31155\",\"type\":\"GlyphRenderer\"}],\"title\":{\"id\":\"32090\",\"type\":\"Title\"},\"toolbar\":{\"id\":\"31113\",\"type\":\"Toolbar\"},\"x_range\":{\"id\":\"31090\",\"type\":\"FactorRange\"},\"x_scale\":{\"id\":\"31094\",\"type\":\"CategoricalScale\"},\"y_range\":{\"id\":\"31092\",\"type\":\"DataRange1d\"},\"y_scale\":{\"id\":\"31096\",\"type\":\"LinearScale\"}},\"id\":\"31089\",\"subtype\":\"Figure\",\"type\":\"Plot\"},{\"attributes\":{},\"id\":\"31043\",\"type\":\"ResetTool\"},{\"attributes\":{},\"id\":\"31112\",\"type\":\"HelpTool\"},{\"attributes\":{\"callback\":null,\"factors\":[\"setosa\",\"versicolor\",\"virginica\"]},\"id\":\"31024\",\"type\":\"FactorRange\"},{\"attributes\":{\"source\":{\"id\":\"31142\",\"type\":\"ColumnDataSource\"}},\"id\":\"31146\",\"type\":\"CDSView\"},{\"attributes\":{},\"id\":\"31110\",\"type\":\"SaveTool\"},{\"attributes\":{\"data_source\":{\"id\":\"31142\",\"type\":\"ColumnDataSource\"},\"glyph\":{\"id\":\"31143\",\"type\":\"Rect\"},\"hover_glyph\":null,\"muted_glyph\":null,\"nonselection_glyph\":{\"id\":\"31144\",\"type\":\"Rect\"},\"selection_glyph\":null,\"view\":{\"id\":\"31146\",\"type\":\"CDSView\"}},\"id\":\"31145\",\"type\":\"GlyphRenderer\"},{\"attributes\":{},\"id\":\"31040\",\"type\":\"WheelZoomTool\"},{\"attributes\":{\"grid_line_color\":{\"value\":null},\"grid_line_width\":{\"value\":2},\"plot\":{\"id\":\"31021\",\"subtype\":\"Figure\",\"type\":\"Plot\"},\"ticker\":{\"id\":\"31031\",\"type\":\"BasicTicker\"}},\"id\":\"31034\",\"type\":\"Grid\"},{\"attributes\":{},\"id\":\"32095\",\"type\":\"BasicTickFormatter\"},{\"attributes\":{},\"id\":\"31094\",\"type\":\"CategoricalScale\"},{\"attributes\":{\"line_alpha\":{\"value\":0.1},\"line_color\":{\"value\":\"#1f77b4\"},\"x0\":{\"field\":\"x0\"},\"x1\":{\"field\":\"x1\"},\"y0\":{\"field\":\"y0\"},\"y1\":{\"field\":\"y1\"}},\"id\":\"31061\",\"type\":\"Segment\"},{\"attributes\":{},\"id\":\"32097\",\"type\":\"BasicTickFormatter\"},{\"attributes\":{\"callback\":null,\"data\":{\"left\":{\"__ndarray__\":\"NDMzMzMz+T9mZmZmZmYSQAEAAAAAgBdA\",\"dtype\":\"float64\",\"shape\":[3]},\"right\":{\"__ndarray__\":\"AAAAAAAA+D9mZmZmZmYRQDMzMzMzMxZA\",\"dtype\":\"float64\",\"shape\":[3]},\"y\":[\"versicolor\",\"virginica\",\"setosa\"]},\"selected\":{\"id\":\"32120\",\"type\":\"Selection\"},\"selection_policy\":{\"id\":\"32121\",\"type\":\"UnionRenderers\"}},\"id\":\"31064\",\"type\":\"ColumnDataSource\"},{\"attributes\":{},\"id\":\"32102\",\"type\":\"UnionRenderers\"},{\"attributes\":{\"source\":{\"id\":\"31069\",\"type\":\"ColumnDataSource\"}},\"id\":\"31073\",\"type\":\"CDSView\"},{\"attributes\":{},\"id\":\"32107\",\"type\":\"Selection\"},{\"attributes\":{\"callback\":null,\"data\":{\"x\":[\"versicolor\",\"virginica\",\"setosa\"],\"y\":{\"__ndarray__\":\"aWZmZmZm/T9mZmZmZmYUQJqZmZmZmRtA\",\"dtype\":\"float64\",\"shape\":[3]}},\"selected\":{\"id\":\"32126\",\"type\":\"Selection\"},\"selection_policy\":{\"id\":\"32127\",\"type\":\"UnionRenderers\"}},\"id\":\"31079\",\"type\":\"ColumnDataSource\"},{\"attributes\":{},\"id\":\"32108\",\"type\":\"UnionRenderers\"},{\"attributes\":{\"data_source\":{\"id\":\"31054\",\"type\":\"ColumnDataSource\"},\"glyph\":{\"id\":\"31055\",\"type\":\"Segment\"},\"hover_glyph\":null,\"muted_glyph\":null,\"nonselection_glyph\":{\"id\":\"31056\",\"type\":\"Segment\"},\"selection_glyph\":null,\"view\":{\"id\":\"31058\",\"type\":\"CDSView\"}},\"id\":\"31057\",\"type\":\"GlyphRenderer\"},{\"attributes\":{\"x0\":{\"field\":\"x0\"},\"x1\":{\"field\":\"x1\"},\"y0\":{\"field\":\"y0\"},\"y1\":{\"field\":\"y1\"}},\"id\":\"31128\",\"type\":\"Segment\"},{\"attributes\":{\"fill_color\":{\"value\":\"#1f77b4\"},\"height\":{\"units\":\"data\",\"value\":0.01},\"width\":{\"units\":\"data\",\"value\":0.1},\"x\":{\"field\":\"x\"},\"y\":{\"field\":\"y\"}},\"id\":\"31075\",\"type\":\"Rect\"},{\"attributes\":{\"callback\":null,\"data\":{\"x0\":[\"versicolor\",\"virginica\",\"setosa\"],\"x1\":[\"versicolor\",\"virginica\",\"setosa\"],\"y0\":{\"__ndarray__\":\"aWZmZmZm/T9mZmZmZmYUQJqZmZmZmRtA\",\"dtype\":\"float64\",\"shape\":[3]},\"y1\":{\"__ndarray__\":\"NDMzMzMz+T9mZmZmZmYSQAEAAAAAgBdA\",\"dtype\":\"float64\",\"shape\":[3]}},\"selected\":{\"id\":\"32101\",\"type\":\"Selection\"},\"selection_policy\":{\"id\":\"32102\",\"type\":\"UnionRenderers\"}},\"id\":\"31122\",\"type\":\"ColumnDataSource\"},{\"attributes\":{\"source\":{\"id\":\"31137\",\"type\":\"ColumnDataSource\"}},\"id\":\"31141\",\"type\":\"CDSView\"},{\"attributes\":{\"x0\":{\"field\":\"x0\"},\"x1\":{\"field\":\"x1\"},\"y0\":{\"field\":\"y0\"},\"y1\":{\"field\":\"y1\"}},\"id\":\"31123\",\"type\":\"Segment\"},{\"attributes\":{\"line_alpha\":{\"value\":0.1},\"line_color\":{\"value\":\"#1f77b4\"},\"x0\":{\"field\":\"x0\"},\"x1\":{\"field\":\"x1\"},\"y0\":{\"field\":\"y0\"},\"y1\":{\"field\":\"y1\"}},\"id\":\"31056\",\"type\":\"Segment\"},{\"attributes\":{\"fill_color\":{\"value\":\"#1f77b4\"},\"height\":{\"units\":\"data\",\"value\":0.01},\"width\":{\"units\":\"data\",\"value\":0.1},\"x\":{\"field\":\"x\"},\"y\":{\"field\":\"y\"}},\"id\":\"31080\",\"type\":\"Rect\"},{\"attributes\":{\"source\":{\"id\":\"31122\",\"type\":\"ColumnDataSource\"}},\"id\":\"31126\",\"type\":\"CDSView\"},{\"attributes\":{\"callback\":null,\"data\":{\"x\":[\"setosa\",\"setosa\",\"setosa\",\"setosa\",\"versicolor\"],\"y\":[1.1,1.0,1.9,1.9,3.0]},\"selected\":{\"id\":\"32113\",\"type\":\"Selection\"},\"selection_policy\":{\"id\":\"32114\",\"type\":\"UnionRenderers\"}},\"id\":\"31152\",\"type\":\"ColumnDataSource\"},{\"attributes\":{\"callback\":null,\"data\":{\"x0\":[\"versicolor\",\"virginica\",\"setosa\"],\"x1\":[\"versicolor\",\"virginica\",\"setosa\"],\"y0\":{\"__ndarray__\":\"aWZmZmZm/T9mZmZmZmYUQJqZmZmZmRtA\",\"dtype\":\"float64\",\"shape\":[3]},\"y1\":{\"__ndarray__\":\"NDMzMzMz+T9mZmZmZmYSQAEAAAAAgBdA\",\"dtype\":\"float64\",\"shape\":[3]}},\"selected\":{\"id\":\"32116\",\"type\":\"Selection\"},\"selection_policy\":{\"id\":\"32117\",\"type\":\"UnionRenderers\"}},\"id\":\"31054\",\"type\":\"ColumnDataSource\"},{\"attributes\":{\"fill_color\":{\"value\":\"#000080\"},\"height\":{\"value\":0.7},\"left\":{\"field\":\"left\"},\"right\":{\"field\":\"right\"},\"y\":{\"field\":\"y\"}},\"id\":\"31070\",\"type\":\"HBar\"},{\"attributes\":{\"source\":{\"id\":\"31132\",\"type\":\"ColumnDataSource\"}},\"id\":\"31136\",\"type\":\"CDSView\"},{\"attributes\":{},\"id\":\"32120\",\"type\":\"Selection\"},{\"attributes\":{\"bottom\":{\"field\":\"bottom\"},\"fill_color\":{\"value\":\"#000080\"},\"top\":{\"field\":\"top\"},\"width\":{\"value\":0.7},\"x\":{\"field\":\"x\"}},\"id\":\"31138\",\"type\":\"VBar\"},{\"attributes\":{\"axis_label\":\"petal_width\",\"formatter\":{\"id\":\"32095\",\"type\":\"BasicTickFormatter\"},\"plot\":{\"id\":\"31089\",\"subtype\":\"Figure\",\"type\":\"Plot\"},\"ticker\":{\"id\":\"31103\",\"type\":\"BasicTicker\"}},\"id\":\"31102\",\"type\":\"LinearAxis\"},{\"attributes\":{\"callback\":null,\"data\":{\"x0\":[\"versicolor\",\"virginica\",\"setosa\"],\"x1\":[\"versicolor\",\"virginica\",\"setosa\"],\"y0\":{\"__ndarray__\":\"MTMzMzMz8j/OzMzMzMwIQAAAAAAAABJA\",\"dtype\":\"float64\",\"shape\":[3]},\"y1\":{\"__ndarray__\":\"ZmZmZmZm9j8AAAAAAAAQQGZmZmZmZhRA\",\"dtype\":\"float64\",\"shape\":[3]}},\"selected\":{\"id\":\"32118\",\"type\":\"Selection\"},\"selection_policy\":{\"id\":\"32119\",\"type\":\"UnionRenderers\"}},\"id\":\"31059\",\"type\":\"ColumnDataSource\"},{\"attributes\":{\"bottom\":{\"field\":\"bottom\"},\"fill_alpha\":{\"value\":0.1},\"fill_color\":{\"value\":\"#1f77b4\"},\"line_alpha\":{\"value\":0.1},\"line_color\":{\"value\":\"#1f77b4\"},\"top\":{\"field\":\"top\"},\"width\":{\"value\":0.7},\"x\":{\"field\":\"x\"}},\"id\":\"31139\",\"type\":\"VBar\"},{\"attributes\":{\"plot\":null,\"text\":\"\"},\"id\":\"32090\",\"type\":\"Title\"},{\"attributes\":{},\"id\":\"32119\",\"type\":\"UnionRenderers\"},{\"attributes\":{\"source\":{\"id\":\"31074\",\"type\":\"ColumnDataSource\"}},\"id\":\"31078\",\"type\":\"CDSView\"},{\"attributes\":{\"data_source\":{\"id\":\"31069\",\"type\":\"ColumnDataSource\"},\"glyph\":{\"id\":\"31070\",\"type\":\"HBar\"},\"hover_glyph\":null,\"muted_glyph\":null,\"nonselection_glyph\":{\"id\":\"31071\",\"type\":\"HBar\"},\"selection_glyph\":null,\"view\":{\"id\":\"31073\",\"type\":\"CDSView\"}},\"id\":\"31072\",\"type\":\"GlyphRenderer\"},{\"attributes\":{\"source\":{\"id\":\"31127\",\"type\":\"ColumnDataSource\"}},\"id\":\"31131\",\"type\":\"CDSView\"},{\"attributes\":{\"data_source\":{\"id\":\"31064\",\"type\":\"ColumnDataSource\"},\"glyph\":{\"id\":\"31065\",\"type\":\"HBar\"},\"hover_glyph\":null,\"muted_glyph\":null,\"nonselection_glyph\":{\"id\":\"31066\",\"type\":\"HBar\"},\"selection_glyph\":null,\"view\":{\"id\":\"31068\",\"type\":\"CDSView\"}},\"id\":\"31067\",\"type\":\"GlyphRenderer\"},{\"attributes\":{\"bottom\":{\"field\":\"bottom\"},\"fill_alpha\":{\"value\":0.1},\"fill_color\":{\"value\":\"#1f77b4\"},\"line_alpha\":{\"value\":0.1},\"line_color\":{\"value\":\"#1f77b4\"},\"top\":{\"field\":\"top\"},\"width\":{\"value\":0.7},\"x\":{\"field\":\"x\"}},\"id\":\"31134\",\"type\":\"VBar\"},{\"attributes\":{\"data_source\":{\"id\":\"31152\",\"type\":\"ColumnDataSource\"},\"glyph\":{\"id\":\"31153\",\"type\":\"Circle\"},\"hover_glyph\":null,\"muted_glyph\":null,\"nonselection_glyph\":{\"id\":\"31154\",\"type\":\"Circle\"},\"selection_glyph\":null,\"view\":{\"id\":\"31156\",\"type\":\"CDSView\"}},\"id\":\"31155\",\"type\":\"GlyphRenderer\"},{\"attributes\":{\"callback\":null,\"data\":{\"bottom\":{\"__ndarray__\":\"AAAAAAAA+D9mZmZmZmYRQDMzMzMzMxZA\",\"dtype\":\"float64\",\"shape\":[3]},\"top\":{\"__ndarray__\":\"ZmZmZmZm9j8AAAAAAAAQQGZmZmZmZhRA\",\"dtype\":\"float64\",\"shape\":[3]},\"x\":[\"versicolor\",\"virginica\",\"setosa\"]},\"selected\":{\"id\":\"32107\",\"type\":\"Selection\"},\"selection_policy\":{\"id\":\"32108\",\"type\":\"UnionRenderers\"}},\"id\":\"31137\",\"type\":\"ColumnDataSource\"},{\"attributes\":{},\"id\":\"32111\",\"type\":\"Selection\"},{\"attributes\":{\"source\":{\"id\":\"31084\",\"type\":\"ColumnDataSource\"}},\"id\":\"31088\",\"type\":\"CDSView\"},{\"attributes\":{\"data_source\":{\"id\":\"31084\",\"type\":\"ColumnDataSource\"},\"glyph\":{\"id\":\"31085\",\"type\":\"Circle\"},\"hover_glyph\":null,\"muted_glyph\":null,\"nonselection_glyph\":{\"id\":\"31086\",\"type\":\"Circle\"},\"selection_glyph\":null,\"view\":{\"id\":\"31088\",\"type\":\"CDSView\"}},\"id\":\"31087\",\"type\":\"GlyphRenderer\"},{\"attributes\":{\"fill_alpha\":{\"value\":0.1},\"fill_color\":{\"value\":\"#1f77b4\"},\"line_alpha\":{\"value\":0.1},\"line_color\":{\"value\":\"#1f77b4\"},\"size\":{\"units\":\"screen\",\"value\":6},\"x\":{\"field\":\"x\"},\"y\":{\"field\":\"y\"}},\"id\":\"31154\",\"type\":\"Circle\"},{\"attributes\":{\"dimension\":1,\"grid_line_color\":{\"value\":\"white\"},\"grid_line_width\":{\"value\":2},\"plot\":{\"id\":\"31089\",\"subtype\":\"Figure\",\"type\":\"Plot\"},\"ticker\":{\"id\":\"31103\",\"type\":\"BasicTicker\"}},\"id\":\"31106\",\"type\":\"Grid\"},{\"attributes\":{\"data_source\":{\"id\":\"31122\",\"type\":\"ColumnDataSource\"},\"glyph\":{\"id\":\"31123\",\"type\":\"Segment\"},\"hover_glyph\":null,\"muted_glyph\":null,\"nonselection_glyph\":{\"id\":\"31124\",\"type\":\"Segment\"},\"selection_glyph\":null,\"view\":{\"id\":\"31126\",\"type\":\"CDSView\"}},\"id\":\"31125\",\"type\":\"GlyphRenderer\"},{\"attributes\":{\"source\":{\"id\":\"31152\",\"type\":\"ColumnDataSource\"}},\"id\":\"31156\",\"type\":\"CDSView\"},{\"attributes\":{},\"id\":\"32103\",\"type\":\"Selection\"},{\"attributes\":{\"source\":{\"id\":\"31064\",\"type\":\"ColumnDataSource\"}},\"id\":\"31068\",\"type\":\"CDSView\"},{\"attributes\":{\"data_source\":{\"id\":\"31074\",\"type\":\"ColumnDataSource\"},\"glyph\":{\"id\":\"31075\",\"type\":\"Rect\"},\"hover_glyph\":null,\"muted_glyph\":null,\"nonselection_glyph\":{\"id\":\"31076\",\"type\":\"Rect\"},\"selection_glyph\":null,\"view\":{\"id\":\"31078\",\"type\":\"CDSView\"}},\"id\":\"31077\",\"type\":\"GlyphRenderer\"},{\"attributes\":{},\"id\":\"32109\",\"type\":\"Selection\"},{\"attributes\":{},\"id\":\"32122\",\"type\":\"Selection\"},{\"attributes\":{},\"id\":\"31103\",\"type\":\"BasicTicker\"},{\"attributes\":{\"fill_color\":{\"value\":\"#00FFFF\"},\"height\":{\"value\":0.7},\"left\":{\"field\":\"left\"},\"right\":{\"field\":\"right\"},\"y\":{\"field\":\"y\"}},\"id\":\"31065\",\"type\":\"HBar\"},{\"attributes\":{\"callback\":null,\"data\":{\"bottom\":{\"__ndarray__\":\"NDMzMzMz+T9mZmZmZmYSQAEAAAAAgBdA\",\"dtype\":\"float64\",\"shape\":[3]},\"top\":{\"__ndarray__\":\"AAAAAAAA+D9mZmZmZmYRQDMzMzMzMxZA\",\"dtype\":\"float64\",\"shape\":[3]},\"x\":[\"versicolor\",\"virginica\",\"setosa\"]},\"selected\":{\"id\":\"32105\",\"type\":\"Selection\"},\"selection_policy\":{\"id\":\"32106\",\"type\":\"UnionRenderers\"}},\"id\":\"31132\",\"type\":\"ColumnDataSource\"},{\"attributes\":{\"source\":{\"id\":\"31079\",\"type\":\"ColumnDataSource\"}},\"id\":\"31083\",\"type\":\"CDSView\"},{\"attributes\":{\"fill_alpha\":{\"value\":0.6},\"fill_color\":{\"value\":\"#F38630\"},\"line_color\":{\"value\":\"#F38630\"},\"size\":{\"units\":\"screen\",\"value\":6},\"x\":{\"field\":\"x\"},\"y\":{\"field\":\"y\"}},\"id\":\"31153\",\"type\":\"Circle\"},{\"attributes\":{},\"id\":\"32099\",\"type\":\"CategoricalTickFormatter\"},{\"attributes\":{\"fill_alpha\":{\"value\":0.1},\"fill_color\":{\"value\":\"#1f77b4\"},\"height\":{\"units\":\"data\",\"value\":0.01},\"line_alpha\":{\"value\":0.1},\"line_color\":{\"value\":\"#1f77b4\"},\"width\":{\"units\":\"data\",\"value\":0.1},\"x\":{\"field\":\"x\"},\"y\":{\"field\":\"y\"}},\"id\":\"31076\",\"type\":\"Rect\"},{\"attributes\":{\"data_source\":{\"id\":\"31147\",\"type\":\"ColumnDataSource\"},\"glyph\":{\"id\":\"31148\",\"type\":\"Rect\"},\"hover_glyph\":null,\"muted_glyph\":null,\"nonselection_glyph\":{\"id\":\"31149\",\"type\":\"Rect\"},\"selection_glyph\":null,\"view\":{\"id\":\"31151\",\"type\":\"CDSView\"}},\"id\":\"31150\",\"type\":\"GlyphRenderer\"},{\"attributes\":{},\"id\":\"32123\",\"type\":\"UnionRenderers\"},{\"attributes\":{\"data_source\":{\"id\":\"31127\",\"type\":\"ColumnDataSource\"},\"glyph\":{\"id\":\"31128\",\"type\":\"Segment\"},\"hover_glyph\":null,\"muted_glyph\":null,\"nonselection_glyph\":{\"id\":\"31129\",\"type\":\"Segment\"},\"selection_glyph\":null,\"view\":{\"id\":\"31131\",\"type\":\"CDSView\"}},\"id\":\"31130\",\"type\":\"GlyphRenderer\"},{\"attributes\":{},\"id\":\"32121\",\"type\":\"UnionRenderers\"},{\"attributes\":{\"data_source\":{\"id\":\"31132\",\"type\":\"ColumnDataSource\"},\"glyph\":{\"id\":\"31133\",\"type\":\"VBar\"},\"hover_glyph\":null,\"muted_glyph\":null,\"nonselection_glyph\":{\"id\":\"31134\",\"type\":\"VBar\"},\"selection_glyph\":null,\"view\":{\"id\":\"31136\",\"type\":\"CDSView\"}},\"id\":\"31135\",\"type\":\"GlyphRenderer\"},{\"attributes\":{\"source\":{\"id\":\"31147\",\"type\":\"ColumnDataSource\"}},\"id\":\"31151\",\"type\":\"CDSView\"},{\"attributes\":{\"callback\":null,\"data\":{\"x\":[\"versicolor\",\"virginica\",\"setosa\"],\"y\":{\"__ndarray__\":\"MTMzMzMz8j/OzMzMzMwIQAAAAAAAABJA\",\"dtype\":\"float64\",\"shape\":[3]}},\"selected\":{\"id\":\"32124\",\"type\":\"Selection\"},\"selection_policy\":{\"id\":\"32125\",\"type\":\"UnionRenderers\"}},\"id\":\"31074\",\"type\":\"ColumnDataSource\"},{\"attributes\":{},\"id\":\"32105\",\"type\":\"Selection\"},{\"attributes\":{\"bottom\":{\"field\":\"bottom\"},\"fill_color\":{\"value\":\"#00FFFF\"},\"top\":{\"field\":\"top\"},\"width\":{\"value\":0.7},\"x\":{\"field\":\"x\"}},\"id\":\"31133\",\"type\":\"VBar\"},{\"attributes\":{\"x0\":{\"field\":\"x0\"},\"x1\":{\"field\":\"x1\"},\"y0\":{\"field\":\"y0\"},\"y1\":{\"field\":\"y1\"}},\"id\":\"31055\",\"type\":\"Segment\"},{\"attributes\":{\"fill_alpha\":{\"value\":0.1},\"fill_color\":{\"value\":\"#1f77b4\"},\"height\":{\"value\":0.7},\"left\":{\"field\":\"left\"},\"line_alpha\":{\"value\":0.1},\"line_color\":{\"value\":\"#1f77b4\"},\"right\":{\"field\":\"right\"},\"y\":{\"field\":\"y\"}},\"id\":\"31071\",\"type\":\"HBar\"},{\"attributes\":{},\"id\":\"32124\",\"type\":\"Selection\"},{\"attributes\":{\"fill_alpha\":{\"value\":0.1},\"fill_color\":{\"value\":\"#1f77b4\"},\"height\":{\"units\":\"data\",\"value\":0.01},\"line_alpha\":{\"value\":0.1},\"line_color\":{\"value\":\"#1f77b4\"},\"width\":{\"units\":\"data\",\"value\":0.1},\"x\":{\"field\":\"x\"},\"y\":{\"field\":\"y\"}},\"id\":\"31081\",\"type\":\"Rect\"},{\"attributes\":{},\"id\":\"32118\",\"type\":\"Selection\"},{\"attributes\":{\"callback\":null,\"data\":{\"x0\":[\"versicolor\",\"virginica\",\"setosa\"],\"x1\":[\"versicolor\",\"virginica\",\"setosa\"],\"y0\":{\"__ndarray__\":\"MTMzMzMz8j/OzMzMzMwIQAAAAAAAABJA\",\"dtype\":\"float64\",\"shape\":[3]},\"y1\":{\"__ndarray__\":\"ZmZmZmZm9j8AAAAAAAAQQGZmZmZmZhRA\",\"dtype\":\"float64\",\"shape\":[3]}},\"selected\":{\"id\":\"32103\",\"type\":\"Selection\"},\"selection_policy\":{\"id\":\"32104\",\"type\":\"UnionRenderers\"}},\"id\":\"31127\",\"type\":\"ColumnDataSource\"},{\"attributes\":{\"fill_alpha\":{\"value\":0.1},\"fill_color\":{\"value\":\"#1f77b4\"},\"height\":{\"units\":\"data\",\"value\":0.01},\"line_alpha\":{\"value\":0.1},\"line_color\":{\"value\":\"#1f77b4\"},\"width\":{\"units\":\"data\",\"value\":0.2},\"x\":{\"field\":\"x\"},\"y\":{\"field\":\"y\"}},\"id\":\"31149\",\"type\":\"Rect\"},{\"attributes\":{},\"id\":\"32125\",\"type\":\"UnionRenderers\"},{\"attributes\":{\"grid_line_color\":{\"value\":null},\"grid_line_width\":{\"value\":2},\"plot\":{\"id\":\"31089\",\"subtype\":\"Figure\",\"type\":\"Plot\"},\"ticker\":{\"id\":\"31099\",\"type\":\"CategoricalTicker\"}},\"id\":\"31101\",\"type\":\"Grid\"},{\"attributes\":{\"callback\":null,\"data\":{\"left\":{\"__ndarray__\":\"AAAAAAAA+D9mZmZmZmYRQDMzMzMzMxZA\",\"dtype\":\"float64\",\"shape\":[3]},\"right\":{\"__ndarray__\":\"ZmZmZmZm9j8AAAAAAAAQQGZmZmZmZhRA\",\"dtype\":\"float64\",\"shape\":[3]},\"y\":[\"versicolor\",\"virginica\",\"setosa\"]},\"selected\":{\"id\":\"32122\",\"type\":\"Selection\"},\"selection_policy\":{\"id\":\"32123\",\"type\":\"UnionRenderers\"}},\"id\":\"31069\",\"type\":\"ColumnDataSource\"},{\"attributes\":{},\"id\":\"32113\",\"type\":\"Selection\"},{\"attributes\":{},\"id\":\"32104\",\"type\":\"UnionRenderers\"},{\"attributes\":{\"callback\":null,\"factors\":[\"setosa\",\"versicolor\",\"virginica\"]},\"id\":\"31090\",\"type\":\"FactorRange\"},{\"attributes\":{\"data_source\":{\"id\":\"31079\",\"type\":\"ColumnDataSource\"},\"glyph\":{\"id\":\"31080\",\"type\":\"Rect\"},\"hover_glyph\":null,\"muted_glyph\":null,\"nonselection_glyph\":{\"id\":\"31081\",\"type\":\"Rect\"},\"selection_glyph\":null,\"view\":{\"id\":\"31083\",\"type\":\"CDSView\"}},\"id\":\"31082\",\"type\":\"GlyphRenderer\"},{\"attributes\":{\"callback\":null,\"data\":{\"x\":[\"versicolor\",\"virginica\",\"setosa\"],\"y\":{\"__ndarray__\":\"MTMzMzMz8j/OzMzMzMwIQAAAAAAAABJA\",\"dtype\":\"float64\",\"shape\":[3]}},\"selected\":{\"id\":\"32109\",\"type\":\"Selection\"},\"selection_policy\":{\"id\":\"32110\",\"type\":\"UnionRenderers\"}},\"id\":\"31142\",\"type\":\"ColumnDataSource\"},{\"attributes\":{\"line_alpha\":{\"value\":0.1},\"line_color\":{\"value\":\"#1f77b4\"},\"x0\":{\"field\":\"x0\"},\"x1\":{\"field\":\"x1\"},\"y0\":{\"field\":\"y0\"},\"y1\":{\"field\":\"y1\"}},\"id\":\"31124\",\"type\":\"Segment\"},{\"attributes\":{},\"id\":\"32106\",\"type\":\"UnionRenderers\"},{\"attributes\":{\"fill_alpha\":{\"value\":0.1},\"fill_color\":{\"value\":\"#1f77b4\"},\"height\":{\"value\":0.7},\"left\":{\"field\":\"left\"},\"line_alpha\":{\"value\":0.1},\"line_color\":{\"value\":\"#1f77b4\"},\"right\":{\"field\":\"right\"},\"y\":{\"field\":\"y\"}},\"id\":\"31066\",\"type\":\"HBar\"},{\"attributes\":{\"callback\":null,\"data\":{\"x\":[\"setosa\",\"setosa\",\"setosa\",\"setosa\",\"versicolor\"],\"y\":[1.1,1.0,1.9,1.9,3.0]},\"selected\":{\"id\":\"32128\",\"type\":\"Selection\"},\"selection_policy\":{\"id\":\"32129\",\"type\":\"UnionRenderers\"}},\"id\":\"31084\",\"type\":\"ColumnDataSource\"},{\"attributes\":{},\"id\":\"32101\",\"type\":\"Selection\"},{\"attributes\":{\"line_alpha\":{\"value\":0.1},\"line_color\":{\"value\":\"#1f77b4\"},\"x0\":{\"field\":\"x0\"},\"x1\":{\"field\":\"x1\"},\"y0\":{\"field\":\"y0\"},\"y1\":{\"field\":\"y1\"}},\"id\":\"31129\",\"type\":\"Segment\"},{\"attributes\":{},\"id\":\"32112\",\"type\":\"UnionRenderers\"},{\"attributes\":{\"data_source\":{\"id\":\"31137\",\"type\":\"ColumnDataSource\"},\"glyph\":{\"id\":\"31138\",\"type\":\"VBar\"},\"hover_glyph\":null,\"muted_glyph\":null,\"nonselection_glyph\":{\"id\":\"31139\",\"type\":\"VBar\"},\"selection_glyph\":null,\"view\":{\"id\":\"31141\",\"type\":\"CDSView\"}},\"id\":\"31140\",\"type\":\"GlyphRenderer\"},{\"attributes\":{},\"id\":\"32114\",\"type\":\"UnionRenderers\"},{\"attributes\":{},\"id\":\"31099\",\"type\":\"CategoricalTicker\"},{\"attributes\":{\"source\":{\"id\":\"31054\",\"type\":\"ColumnDataSource\"}},\"id\":\"31058\",\"type\":\"CDSView\"},{\"attributes\":{},\"id\":\"32117\",\"type\":\"UnionRenderers\"},{\"attributes\":{\"fill_alpha\":{\"value\":0.1},\"fill_color\":{\"value\":\"#1f77b4\"},\"line_alpha\":{\"value\":0.1},\"line_color\":{\"value\":\"#1f77b4\"},\"size\":{\"units\":\"screen\",\"value\":6},\"x\":{\"field\":\"x\"},\"y\":{\"field\":\"y\"}},\"id\":\"31086\",\"type\":\"Circle\"},{\"attributes\":{},\"id\":\"32116\",\"type\":\"Selection\"},{\"attributes\":{\"fill_color\":{\"value\":\"#1f77b4\"},\"height\":{\"units\":\"data\",\"value\":0.01},\"width\":{\"units\":\"data\",\"value\":0.2},\"x\":{\"field\":\"x\"},\"y\":{\"field\":\"y\"}},\"id\":\"31148\",\"type\":\"Rect\"},{\"attributes\":{\"fill_alpha\":{\"value\":0.6},\"fill_color\":{\"value\":\"#F38630\"},\"line_color\":{\"value\":\"#F38630\"},\"size\":{\"units\":\"screen\",\"value\":6},\"x\":{\"field\":\"x\"},\"y\":{\"field\":\"y\"}},\"id\":\"31085\",\"type\":\"Circle\"},{\"attributes\":{\"axis_label\":\"species\",\"formatter\":{\"id\":\"32093\",\"type\":\"CategoricalTickFormatter\"},\"major_label_text_font_size\":{\"value\":\"10pt\"},\"plot\":{\"id\":\"31089\",\"subtype\":\"Figure\",\"type\":\"Plot\"},\"ticker\":{\"id\":\"31099\",\"type\":\"CategoricalTicker\"}},\"id\":\"31098\",\"type\":\"CategoricalAxis\"},{\"attributes\":{},\"id\":\"32110\",\"type\":\"UnionRenderers\"}],\"root_ids\":[\"31157\"]},\"title\":\"Bokeh Application\",\"version\":\"1.0.0\"}};\n",
       "  var render_items = [{\"docid\":\"3f96cc41-4801-4fdf-871e-0d304192c3da\",\"roots\":{\"31157\":\"a2ce635c-c76e-4e35-8c2b-cd255338ec0c\"}}];\n",
       "  root.Bokeh.embed.embed_items_notebook(docs_json, render_items);\n",
       "\n",
       "  }\n",
       "  if (root.Bokeh !== undefined) {\n",
       "    embed_document(root);\n",
       "  } else {\n",
       "    var attempts = 0;\n",
       "    var timer = setInterval(function(root) {\n",
       "      if (root.Bokeh !== undefined) {\n",
       "        embed_document(root);\n",
       "        clearInterval(timer);\n",
       "      }\n",
       "      attempts++;\n",
       "      if (attempts > 100) {\n",
       "        console.log(\"Bokeh: ERROR: Unable to run BokehJS code because BokehJS library is missing\");\n",
       "        clearInterval(timer);\n",
       "      }\n",
       "    }, 10, root)\n",
       "  }\n",
       "})(window);"
      ],
      "application/vnd.bokehjs_exec.v0+json": ""
     },
     "metadata": {
      "application/vnd.bokehjs_exec.v0+json": {
       "id": "31157"
      }
     },
     "output_type": "display_data"
    }
   ],
   "source": [
    "p1 = figure( plot_width=500, plot_height=500, y_range=['setosa', 'versicolor', 'virginica'] )\n",
    "p1.hboxplot( flowers, 'petal_width', 'species' )\n",
    "p1.xaxis.axis_label = 'petal_width'\n",
    "p1.yaxis.axis_label = 'species'\n",
    "\n",
    "p2 = figure( plot_width=500, plot_height=500, x_range=['setosa', 'versicolor', 'virginica'] )\n",
    "p2.vboxplot( flowers, 'species', 'petal_width' )\n",
    "p2.yaxis.axis_label = 'petal_width'\n",
    "p2.xaxis.axis_label = 'species'\n",
    "\n",
    "show(column(p2,p1))\n",
    "\n",
    "\n",
    "\n",
    "#show( row(p1,p2))"
   ]
  },
  {
   "cell_type": "markdown",
   "metadata": {},
   "source": [
    "**<font color=\"deeppink\">Test cases</font>**: Give three scenarios that need testing (bullet points, no implementation required).\n",
    "- Test case 1:\n",
    "- Test case 2:\n",
    "- Test case 3:"
   ]
  },
  {
   "cell_type": "markdown",
   "metadata": {},
   "source": [
    "## Exercise 1 c): Implement a histogram chart\n",
    "\n",
    "Requirements:\n",
    "- **Parameters**: The function accepts (at least) the following parameters:\n",
    "    - **source**: a pandas DataFrameObject that holds the data\n",
    "    - **x**: variable (name as string) to be represented on the x-axis\n",
    "    - **nbins**: number of bins (optional argument). If not provided set a meaningful default.\n",
    "- **Data type**: Provide histograms for categorical and quantitative data.\n",
    "- **Scaling**: The y-axis shall give probabilities (0,1). Scale the axis to show the full range, e.g., (-0.05,1.05).\n",
    "- **Calling the histogram**: The function is a class method of Figure and can be called as follows\n",
    "```python\n",
    "p = figure()\n",
    "p.histogram( data, x )\n",
    "```\n",
    "\n",
    "Hints:\n",
    "- Assume that all categorical data has type string. Respective columns in the data can be converted using:\n",
    "```\n",
    "df.var = df.var.astype('str')\n",
    "```\n",
    "\n",
    "**<font color=\"deeppink\">Implement</font>**"
   ]
  },
  {
   "cell_type": "code",
   "execution_count": 147,
   "metadata": {},
   "outputs": [],
   "source": [
    "from bokeh.models import Range1d, FactorRange\n",
    "\n",
    "def histogram( self, source, x, nbins=0, *args, **kwargs ):  \n",
    "    if not isinstance(source, pd.DataFrame ):\n",
    "        raise TypeError(\"source has to be a pandas.DataFrame. Received \", type(df))\n",
    "    \n",
    "    data = source[x]\n",
    "    if isinstance(data[1], float):\n",
    "        hist, edges = np.histogram(data, density=True, bins=50)\n",
    "        self.quad(top=hist, bottom=0, left=edges[:-1], right=edges[1:])\n",
    "        label = Label( x=50, y=50, x_units='screen', y_units='screen',\n",
    "                       text='ToDo', render_mode='css')\n",
    "        self.add_layout(label)\n",
    "    else:\n",
    "        categorical_data = data.value_counts().to_frame('count')/len(data)\n",
    "        hist, edges = np.histogram(categorical_data, density=True)\n",
    "        self.vbar( source=categorical_data, x='index', width=1, bottom=0, top='count',fill_color='cornflowerblue')\n",
    "        \n",
    "Figure.histogram = histogram"
   ]
  },
  {
   "cell_type": "markdown",
   "metadata": {},
   "source": [
    "**<font color=\"deeppink\">Check</font>** your histogram"
   ]
  },
  {
   "cell_type": "code",
   "execution_count": 148,
   "metadata": {},
   "outputs": [
    {
     "data": {
      "text/html": [
       "\n",
       "\n",
       "\n",
       "\n",
       "\n",
       "\n",
       "  <div class=\"bk-root\" id=\"9ddbc104-58b1-475f-8368-f0fec94c05d6\"></div>\n"
      ]
     },
     "metadata": {},
     "output_type": "display_data"
    },
    {
     "data": {
      "application/javascript": [
       "(function(root) {\n",
       "  function embed_document(root) {\n",
       "    \n",
       "  var docs_json = {\"d2694043-c21a-470a-a209-4b62fdb74e8e\":{\"roots\":{\"references\":[{\"attributes\":{\"children\":[{\"id\":\"25053\",\"subtype\":\"Figure\",\"type\":\"Plot\"},{\"id\":\"25093\",\"subtype\":\"Figure\",\"type\":\"Plot\"},{\"id\":\"25132\",\"subtype\":\"Figure\",\"type\":\"Plot\"}]},\"id\":\"25171\",\"type\":\"Column\"},{\"attributes\":{},\"id\":\"25100\",\"type\":\"LinearScale\"},{\"attributes\":{\"axis_label\":\"probability\",\"formatter\":{\"id\":\"25930\",\"type\":\"BasicTickFormatter\"},\"plot\":{\"id\":\"25053\",\"subtype\":\"Figure\",\"type\":\"Plot\"},\"ticker\":{\"id\":\"25068\",\"type\":\"BasicTicker\"}},\"id\":\"25067\",\"type\":\"LinearAxis\"},{\"attributes\":{\"below\":[{\"id\":\"25062\",\"type\":\"LinearAxis\"}],\"left\":[{\"id\":\"25067\",\"type\":\"LinearAxis\"}],\"renderers\":[{\"id\":\"25062\",\"type\":\"LinearAxis\"},{\"id\":\"25066\",\"type\":\"Grid\"},{\"id\":\"25067\",\"type\":\"LinearAxis\"},{\"id\":\"25071\",\"type\":\"Grid\"},{\"id\":\"25080\",\"type\":\"BoxAnnotation\"},{\"id\":\"25090\",\"type\":\"GlyphRenderer\"},{\"id\":\"25092\",\"type\":\"Label\"}],\"title\":{\"id\":\"25923\",\"type\":\"Title\"},\"toolbar\":{\"id\":\"25078\",\"type\":\"Toolbar\"},\"x_range\":{\"id\":\"25054\",\"type\":\"DataRange1d\"},\"x_scale\":{\"id\":\"25058\",\"type\":\"LinearScale\"},\"y_range\":{\"id\":\"25056\",\"type\":\"DataRange1d\"},\"y_scale\":{\"id\":\"25060\",\"type\":\"LinearScale\"}},\"id\":\"25053\",\"subtype\":\"Figure\",\"type\":\"Plot\"},{\"attributes\":{},\"id\":\"25098\",\"type\":\"CategoricalScale\"},{\"attributes\":{\"callback\":null},\"id\":\"25054\",\"type\":\"DataRange1d\"},{\"attributes\":{},\"id\":\"25114\",\"type\":\"SaveTool\"},{\"attributes\":{\"active_drag\":\"auto\",\"active_inspect\":\"auto\",\"active_multi\":null,\"active_scroll\":\"auto\",\"active_tap\":\"auto\",\"tools\":[{\"id\":\"25111\",\"type\":\"PanTool\"},{\"id\":\"25112\",\"type\":\"WheelZoomTool\"},{\"id\":\"25113\",\"type\":\"BoxZoomTool\"},{\"id\":\"25114\",\"type\":\"SaveTool\"},{\"id\":\"25115\",\"type\":\"ResetTool\"},{\"id\":\"25116\",\"type\":\"HelpTool\"}]},\"id\":\"25117\",\"type\":\"Toolbar\"},{\"attributes\":{},\"id\":\"25058\",\"type\":\"LinearScale\"},{\"attributes\":{\"overlay\":{\"id\":\"25080\",\"type\":\"BoxAnnotation\"}},\"id\":\"25074\",\"type\":\"BoxZoomTool\"},{\"attributes\":{\"callback\":null,\"factors\":[\"setosa\",\"versicolor\",\"virginica\"]},\"id\":\"25094\",\"type\":\"FactorRange\"},{\"attributes\":{\"callback\":null},\"id\":\"25096\",\"type\":\"DataRange1d\"},{\"attributes\":{},\"id\":\"25068\",\"type\":\"BasicTicker\"},{\"attributes\":{},\"id\":\"25063\",\"type\":\"BasicTicker\"},{\"attributes\":{},\"id\":\"25112\",\"type\":\"WheelZoomTool\"},{\"attributes\":{\"bottom_units\":\"screen\",\"fill_alpha\":{\"value\":0.5},\"fill_color\":{\"value\":\"lightgrey\"},\"left_units\":\"screen\",\"level\":\"overlay\",\"line_alpha\":{\"value\":1.0},\"line_color\":{\"value\":\"black\"},\"line_dash\":[4,4],\"line_width\":{\"value\":2},\"plot\":null,\"render_mode\":\"css\",\"right_units\":\"screen\",\"top_units\":\"screen\"},\"id\":\"25119\",\"type\":\"BoxAnnotation\"},{\"attributes\":{},\"id\":\"25060\",\"type\":\"LinearScale\"},{\"attributes\":{\"callback\":null},\"id\":\"25056\",\"type\":\"DataRange1d\"},{\"attributes\":{\"overlay\":{\"id\":\"25119\",\"type\":\"BoxAnnotation\"}},\"id\":\"25113\",\"type\":\"BoxZoomTool\"},{\"attributes\":{\"source\":{\"id\":\"25087\",\"type\":\"ColumnDataSource\"}},\"id\":\"25091\",\"type\":\"CDSView\"},{\"attributes\":{\"below\":[{\"id\":\"25141\",\"type\":\"CategoricalAxis\"}],\"left\":[{\"id\":\"25145\",\"type\":\"LinearAxis\"}],\"plot_width\":1000,\"renderers\":[{\"id\":\"25141\",\"type\":\"CategoricalAxis\"},{\"id\":\"25144\",\"type\":\"Grid\"},{\"id\":\"25145\",\"type\":\"LinearAxis\"},{\"id\":\"25149\",\"type\":\"Grid\"},{\"id\":\"25158\",\"type\":\"BoxAnnotation\"},{\"id\":\"25169\",\"type\":\"GlyphRenderer\"}],\"title\":{\"id\":\"25927\",\"type\":\"Title\"},\"toolbar\":{\"id\":\"25156\",\"type\":\"Toolbar\"},\"x_range\":{\"id\":\"25133\",\"type\":\"FactorRange\"},\"x_scale\":{\"id\":\"25137\",\"type\":\"CategoricalScale\"},\"y_range\":{\"id\":\"25135\",\"type\":\"DataRange1d\"},\"y_scale\":{\"id\":\"25139\",\"type\":\"LinearScale\"}},\"id\":\"25132\",\"subtype\":\"Figure\",\"type\":\"Plot\"},{\"attributes\":{},\"id\":\"25076\",\"type\":\"ResetTool\"},{\"attributes\":{\"plot\":{\"id\":\"25053\",\"subtype\":\"Figure\",\"type\":\"Plot\"},\"render_mode\":\"css\",\"text\":\"ToDo\",\"x\":50,\"x_units\":\"screen\",\"y\":50,\"y_units\":\"screen\"},\"id\":\"25092\",\"type\":\"Label\"},{\"attributes\":{\"callback\":null,\"data\":{\"count\":{\"__ndarray__\":\"VVVVVVVV1T9VVVVVVVXVP1VVVVVVVdU/\",\"dtype\":\"float64\",\"shape\":[3]},\"index\":[\"virginica\",\"versicolor\",\"setosa\"]},\"selected\":{\"id\":\"25943\",\"type\":\"Selection\"},\"selection_policy\":{\"id\":\"25944\",\"type\":\"UnionRenderers\"}},\"id\":\"25126\",\"type\":\"ColumnDataSource\"},{\"attributes\":{\"below\":[{\"id\":\"25102\",\"type\":\"CategoricalAxis\"}],\"left\":[{\"id\":\"25106\",\"type\":\"LinearAxis\"}],\"renderers\":[{\"id\":\"25102\",\"type\":\"CategoricalAxis\"},{\"id\":\"25105\",\"type\":\"Grid\"},{\"id\":\"25106\",\"type\":\"LinearAxis\"},{\"id\":\"25110\",\"type\":\"Grid\"},{\"id\":\"25119\",\"type\":\"BoxAnnotation\"},{\"id\":\"25130\",\"type\":\"GlyphRenderer\"}],\"title\":{\"id\":\"25925\",\"type\":\"Title\"},\"toolbar\":{\"id\":\"25117\",\"type\":\"Toolbar\"},\"x_range\":{\"id\":\"25094\",\"type\":\"FactorRange\"},\"x_scale\":{\"id\":\"25098\",\"type\":\"CategoricalScale\"},\"y_range\":{\"id\":\"25096\",\"type\":\"DataRange1d\"},\"y_scale\":{\"id\":\"25100\",\"type\":\"LinearScale\"}},\"id\":\"25093\",\"subtype\":\"Figure\",\"type\":\"Plot\"},{\"attributes\":{\"bottom\":{\"value\":0},\"fill_color\":{\"value\":\"#1f77b4\"},\"left\":{\"field\":\"left\"},\"line_color\":{\"value\":\"#1f77b4\"},\"right\":{\"field\":\"right\"},\"top\":{\"field\":\"top\"}},\"id\":\"25088\",\"type\":\"Quad\"},{\"attributes\":{\"bottom\":{\"value\":0},\"fill_alpha\":{\"value\":0.1},\"fill_color\":{\"value\":\"#1f77b4\"},\"left\":{\"field\":\"left\"},\"line_alpha\":{\"value\":0.1},\"line_color\":{\"value\":\"#1f77b4\"},\"right\":{\"field\":\"right\"},\"top\":{\"field\":\"top\"}},\"id\":\"25089\",\"type\":\"Quad\"},{\"attributes\":{},\"id\":\"25111\",\"type\":\"PanTool\"},{\"attributes\":{\"callback\":null,\"data\":{\"count\":{\"__ndarray__\":\"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\",\"dtype\":\"float64\",\"shape\":[301]},\"index\":[\"amc matador\",\"ford pinto\",\"toyota corolla\",\"chevrolet impala\",\"amc hornet\",\"ford maverick\",\"peugeot 504\",\"chevrolet chevette\",\"amc gremlin\",\"toyota corona\",\"dodge colt\",\"pontiac catalina\",\"chevrolet nova\",\"chevrolet vega\",\"chevrolet citation\",\"volkswagen dasher\",\"plymouth fury iii\",\"ford galaxie 500\",\"ford gran torino\",\"plymouth duster\",\"chevrolet caprice classic\",\"honda civic\",\"chevrolet malibu\",\"toyota mark ii\",\"ford gran torino (sw)\",\"plymouth reliant\",\"audi 100ls\",\"opel 1900\",\"plymouth valiant\",\"buick century\",\"pontiac phoenix\",\"subaru dl\",\"amc concord\",\"ford country squire (sw)\",\"opel manta\",\"datsun 710\",\"saab 99le\",\"subaru\",\"buick skylark\",\"ford ltd\",\"oldsmobile cutlass salon brougham\",\"honda civic cvcc\",\"toyota corolla 1200\",\"mazda 626\",\"chevrolet chevelle malibu classic\",\"fiat 128\",\"volkswagen rabbit\",\"chevrolet monte carlo landau\",\"vw rabbit\",\"honda accord\",\"buick estate wagon (sw)\",\"dodge aspen\",\"datsun 210\",\"amc matador (sw)\",\"chevrolet chevelle malibu\",\"datsun pl510\",\"datsun 610\",\"vw pickup\",\"pontiac lemans v6\",\"dodge rampage\",\"ford country\",\"buick century special\",\"plymouth horizon tc3\",\"ford mustang\",\"ford ltd landau\",\"honda prelude\",\"oldsmobile omega brougham\",\"peugeot 505s turbo diesel\",\"chevrolet cavalier wagon\",\"oldsmobile delta 88 royale\",\"plymouth 'cuda 340\",\"buick electra 225 custom\",\"oldsmobile cutlass ciera (diesel)\",\"datsun 280-zx\",\"triumph tr7 coupe\",\"fiat 131\",\"chevy s-10\",\"fiat 124 tc\",\"datsun f-10 hatchback\",\"peugeot 604sl\",\"chevrolet chevelle concours (sw)\",\"chevrolet monte carlo\",\"mercury monarch ghia\",\"ford granada l\",\"amc spirit dl\",\"dodge magnum xe\",\"plymouth volare custom\",\"amc concord dl 6\",\"ford f250\",\"chevy c10\",\"chevrolet camaro\",\"oldsmobile vista cruiser\",\"amc rebel sst\",\"chrysler lebaron salon\",\"ford ranger\",\"audi 5000s (diesel)\",\"datsun b-210\",\"dodge monaco (sw)\",\"chevroelt chevelle malibu\",\"ford fairmont (man)\",\"dodge dart custom\",\"audi 4000\",\"plymouth horizon 4\",\"ford escort 2h\",\"vokswagen rabbit\",\"capri ii\",\"dodge challenger se\",\"plymouth custom suburb\",\"audi fox\",\"dodge aries se\",\"pontiac safari (sw)\",\"amc concord d/l\",\"dodge aspen 6\",\"mercury cougar brougham\",\"chrysler cordoba\",\"bmw 320i\",\"nissan stanza xe\",\"chevrolet woody\",\"toyota corolla liftback\",\"buick skylark 320\",\"plymouth volare premier v8\",\"volvo 245\",\"chevrolet cavalier\",\"pontiac phoenix lj\",\"fiat 124b\",\"volvo 244dl\",\"fiat strada custom\",\"chevrolet monte carlo s\",\"oldsmobile omega\",\"volkswagen model 111\",\"toyota corolla tercel\",\"vw rabbit custom\",\"vw rabbit c (diesel)\",\"buick century luxus (sw)\",\"ford fairmont futura\",\"toyouta corona mark ii (sw)\",\"honda civic 1500 gl\",\"ford fairmont (auto)\",\"datsun 200-sx\",\"dodge monaco brougham\",\"mercury capri v6\",\"bmw 2002\",\"volkswagen rabbit custom diesel\",\"ford fiesta\",\"ford fairmont\",\"datsun b210 gx\",\"maxda rx3\",\"mazda rx2 coupe\",\"amc pacer d/l\",\"datsun 310\",\"volvo diesel\",\"pontiac j2000 se hatchback\",\"buick skylark limited\",\"ford mustang ii\",\"ford thunderbird\",\"plymouth fury\",\"peugeot 304\",\"volkswagen type 3\",\"ford torino 500\",\"plymouth horizon\",\"fiat 124 sport coupe\",\"toyota corona mark ii\",\"mazda rx-4\",\"toyota corona liftback\",\"volkswagen jetta\",\"audi 100 ls\",\"plymouth satellite sebring\",\"dodge coronet custom (sw)\",\"toyota corolla 1600 (sw)\",\"datsun 810 maxima\",\"cadillac eldorado\",\"ford pinto runabout\",\"amc ambassador dpl\",\"mercury capri 2000\",\"pontiac grand prix lj\",\"oldsmobile starfire sx\",\"plymouth volare\",\"cadillac seville\",\"mercury zephyr\",\"toyota carina\",\"chevrolet vega 2300\",\"volvo 145e (sw)\",\"amc pacer\",\"dodge aspen se\",\"chrysler new yorker brougham\",\"mazda rx-7 gs\",\"dodge colt (sw)\",\"datsun 210 mpg\",\"plymouth champ\",\"datsun 200sx\",\"plymouth fury gran sedan\",\"mazda glc custom\",\"ford torino\",\"saab 99e\",\"dodge aries wagon (sw)\",\"renault 5 gtl\",\"hi 1200d\",\"mazda glc deluxe\",\"volkswagen super beetle\",\"oldsmobile cutlass ls\",\"plymouth grand fury\",\"renault 12 (sw)\",\"datsun 510 (sw)\",\"datsun b210\",\"dodge coronet brougham\",\"chevrolet concours\",\"pontiac astro\",\"dodge diplomat\",\"ford granada\",\"datsun 510\",\"toyota tercel\",\"fiat x1.9\",\"chevrolet cavalier 2-door\",\"plymouth arrow gs\",\"mercury grand marquis\",\"ford granada gl\",\"pontiac grand prix\",\"volkswagen rabbit custom\",\"toyota corona hardtop\",\"dodge st. regis\",\"pontiac firebird\",\"chevrolet monza 2+2\",\"mercury monarch\",\"mercury marquis\",\"dodge charger 2.2\",\"dodge d100\",\"plymouth satellite custom\",\"chrysler lebaron medallion\",\"chevrolet bel air\",\"volvo 264gl\",\"audi 5000\",\"ford fairmont 4\",\"oldsmobile cutlass supreme\",\"ford futura\",\"amc ambassador sst\",\"honda civic 1300\",\"chrysler newport royal\",\"plymouth valiant custom\",\"toyota cressida\",\"mercedes-benz 240d\",\"honda accord lx\",\"ford f108\",\"dodge d200\",\"plymouth satellite\",\"buick century limited\",\"mercury lynx l\",\"dodge omni\",\"peugeot 504 (sw)\",\"buick regal sport coupe (turbo)\",\"dodge colt hatchback custom\",\"mazda glc 4\",\"volkswagen 411 (sw)\",\"ford mustang gl\",\"datsun 810\",\"buick skyhawk\",\"chevy c20\",\"ford escort 4w\",\"amc ambassador brougham\",\"mercury marquis brougham\",\"dodge colt m/m\",\"buick lesabre custom\",\"toyota starlet\",\"mazda glc\",\"chevrolet malibu classic (sw)\",\"ford granada ghia\",\"mazda glc custom l\",\"chrysler lebaron town @ country (sw)\",\"honda accord cvcc\",\"chevrolet nova custom\",\"mercury zephyr 6\",\"dodge coronet custom\",\"datsun 310 gx\",\"volkswagen rabbit l\",\"volvo 144ea\",\"plymouth cricket\",\"pontiac catalina brougham\",\"renault 12tl\",\"plymouth satellite custom (sw)\",\"dodge colt hardtop\",\"plymouth horizon miser\",\"buick opel isuzu deluxe\",\"chevrolet vega (sw)\",\"pontiac sunbird coupe\",\"ford mustang ii 2+2\",\"ford pinto (sw)\",\"datsun 510 hatchback\",\"volkswagen scirocco\",\"maxda glc deluxe\",\"toyota celica gt\",\"amc hornet sportabout (sw)\",\"honda civic (auto)\",\"mercedes benz 300d\",\"vw dasher (diesel)\",\"plymouth sapporo\",\"datsun 1200\",\"toyota celica gt liftback\",\"buick century 350\",\"mercedes-benz 280s\",\"pontiac ventura sj\",\"volkswagen 1131 deluxe sedan\",\"saab 99gle\"]},\"selected\":{\"id\":\"25946\",\"type\":\"Selection\"},\"selection_policy\":{\"id\":\"25947\",\"type\":\"UnionRenderers\"}},\"id\":\"25165\",\"type\":\"ColumnDataSource\"},{\"attributes\":{\"bottom_units\":\"screen\",\"fill_alpha\":{\"value\":0.5},\"fill_color\":{\"value\":\"lightgrey\"},\"left_units\":\"screen\",\"level\":\"overlay\",\"line_alpha\":{\"value\":1.0},\"line_color\":{\"value\":\"black\"},\"line_dash\":[4,4],\"line_width\":{\"value\":2},\"plot\":null,\"render_mode\":\"css\",\"right_units\":\"screen\",\"top_units\":\"screen\"},\"id\":\"25080\",\"type\":\"BoxAnnotation\"},{\"attributes\":{\"axis_label\":\"sepal_length\",\"formatter\":{\"id\":\"25928\",\"type\":\"BasicTickFormatter\"},\"plot\":{\"id\":\"25053\",\"subtype\":\"Figure\",\"type\":\"Plot\"},\"ticker\":{\"id\":\"25063\",\"type\":\"BasicTicker\"}},\"id\":\"25062\",\"type\":\"LinearAxis\"},{\"attributes\":{\"plot\":{\"id\":\"25053\",\"subtype\":\"Figure\",\"type\":\"Plot\"},\"ticker\":{\"id\":\"25063\",\"type\":\"BasicTicker\"}},\"id\":\"25066\",\"type\":\"Grid\"},{\"attributes\":{},\"id\":\"25073\",\"type\":\"WheelZoomTool\"},{\"attributes\":{},\"id\":\"25072\",\"type\":\"PanTool\"},{\"attributes\":{},\"id\":\"25946\",\"type\":\"Selection\"},{\"attributes\":{\"callback\":null,\"data\":{\"left\":{\"__ndarray__\":\"MzMzMzMzEUCwcmiR7XwRQC2yne+nxhFAqvHSTWIQEkAnMQisHFoSQKRwPQrXoxJAIbByaJHtEkCe76fGSzcTQBov3SQGgRNAmG4Sg8DKE0AUrkfhehQUQJHtfD81XhRADi2yne+nFECLbOf7qfEUQAisHFpkOxVAhetRuB6FFUACK4cW2c4VQH9qvHSTGBZA/Knx0k1iFkB56SYxCKwWQPYoXI/C9RZAc2iR7Xw/F0Dwp8ZLN4kXQGzn+6nx0hdA6iYxCKwcGEBmZmZmZmYYQOSlm8QgsBhAYOXQItv5GEDdJAaBlUMZQFpkO99PjRlA16NwPQrXGUBU46WbxCAaQNEi2/l+ahpATmIQWDm0GkDLoUW28/0aQEjhehSuRxtAxSCwcmiRG0BCYOXQItsbQL6fGi/dJBxAPN9PjZduHEC4HoXrUbgcQDZeukkMAh1Asp3vp8ZLHUAw3SQGgZUdQKwcWmQ73x1AKVyPwvUoHkCmm8QgsHIeQCPb+X5qvB5AoBov3SQGH0AdWmQ7308fQA==\",\"dtype\":\"float64\",\"shape\":[50]},\"right\":{\"__ndarray__\":\"sHJoke18EUAtsp3vp8YRQKrx0k1iEBJAJzEIrBxaEkCkcD0K16MSQCGwcmiR7RJAnu+nxks3E0AaL90kBoETQJhuEoPAyhNAFK5H4XoUFECR7Xw/NV4UQA4tsp3vpxRAi2zn+6nxFEAIrBxaZDsVQIXrUbgehRVAAiuHFtnOFUB/arx0kxgWQPyp8dJNYhZAeekmMQisFkD2KFyPwvUWQHNoke18PxdA8KfGSzeJF0Bs5/up8dIXQOomMQisHBhAZmZmZmZmGEDkpZvEILAYQGDl0CLb+RhA3SQGgZVDGUBaZDvfT40ZQNejcD0K1xlAVOOlm8QgGkDRItv5fmoaQE5iEFg5tBpAy6FFtvP9GkBI4XoUrkcbQMUgsHJokRtAQmDl0CLbG0C+nxov3SQcQDzfT42XbhxAuB6F61G4HEA2XrpJDAIdQLKd76fGSx1AMN0kBoGVHUCsHFpkO98dQClcj8L1KB5AppvEILByHkAj2/l+arweQKAaL90kBh9AHVpkO99PH0CamZmZmZkfQA==\",\"dtype\":\"float64\",\"shape\":[50]},\"top\":{\"__ndarray__\":\"PXsJ7SW0tz9tHMdxHMfRPz17Ce0ltLc/AAAAAAAAAAA9ewntJbTXPz17Ce0ltMc/DNpLaC+h3T8AAAAAAAAAADAcx3Ecx+E/ctpLaC+h7T8AAAAAAAAAAKSqqqqqquo/PXsJ7SW01z89ewntJbS3PwAAAAAAAAAAbRzHcRzH4T/US2gvob3kPwAAAAAAAAAAbRzHcRzH4T89ewntJbTnP9RLaC+hveQ/AAAAAAAAAACrHMdxHMfRPzAcx3Ecx+E/AAAAAAAAAAAwHMdxHMfhP497Ce0ltNc/pKqqqqqq6j8AAAAAAAAAANRLaC+hveQ/DNpLaC+h3T89ewntJbTHPwAAAAAAAAAAPXsJ7SW05z9tHMdxHMfRPwAAAAAAAAAAPXsJ7SW01z+PewntJbS3P+p6Ce0ltLc/AAAAAAAAAAAwHMdxHMfRP497Ce0ltLc/AAAAAAAAAACPewntJbS3PwAAAAAAAAAAPXsJ7SW0tz8AAAAAAAAAAD17Ce0ltNc/AAAAAAAAAAA9ewntJbS3Pw==\",\"dtype\":\"float64\",\"shape\":[50]}},\"selected\":{\"id\":\"25940\",\"type\":\"Selection\"},\"selection_policy\":{\"id\":\"25941\",\"type\":\"UnionRenderers\"}},\"id\":\"25087\",\"type\":\"ColumnDataSource\"},{\"attributes\":{\"active_drag\":\"auto\",\"active_inspect\":\"auto\",\"active_multi\":null,\"active_scroll\":\"auto\",\"active_tap\":\"auto\",\"tools\":[{\"id\":\"25072\",\"type\":\"PanTool\"},{\"id\":\"25073\",\"type\":\"WheelZoomTool\"},{\"id\":\"25074\",\"type\":\"BoxZoomTool\"},{\"id\":\"25075\",\"type\":\"SaveTool\"},{\"id\":\"25076\",\"type\":\"ResetTool\"},{\"id\":\"25077\",\"type\":\"HelpTool\"}]},\"id\":\"25078\",\"type\":\"Toolbar\"},{\"attributes\":{},\"id\":\"25116\",\"type\":\"HelpTool\"},{\"attributes\":{},\"id\":\"25115\",\"type\":\"ResetTool\"},{\"attributes\":{\"dimension\":1,\"plot\":{\"id\":\"25053\",\"subtype\":\"Figure\",\"type\":\"Plot\"},\"ticker\":{\"id\":\"25068\",\"type\":\"BasicTicker\"}},\"id\":\"25071\",\"type\":\"Grid\"},{\"attributes\":{},\"id\":\"25077\",\"type\":\"HelpTool\"},{\"attributes\":{},\"id\":\"25947\",\"type\":\"UnionRenderers\"},{\"attributes\":{\"axis_label\":\"species\",\"formatter\":{\"id\":\"25932\",\"type\":\"CategoricalTickFormatter\"},\"plot\":{\"id\":\"25093\",\"subtype\":\"Figure\",\"type\":\"Plot\"},\"ticker\":{\"id\":\"25103\",\"type\":\"CategoricalTicker\"}},\"id\":\"25102\",\"type\":\"CategoricalAxis\"},{\"attributes\":{\"data_source\":{\"id\":\"25087\",\"type\":\"ColumnDataSource\"},\"glyph\":{\"id\":\"25088\",\"type\":\"Quad\"},\"hover_glyph\":null,\"muted_glyph\":null,\"nonselection_glyph\":{\"id\":\"25089\",\"type\":\"Quad\"},\"selection_glyph\":null,\"view\":{\"id\":\"25091\",\"type\":\"CDSView\"}},\"id\":\"25090\",\"type\":\"GlyphRenderer\"},{\"attributes\":{},\"id\":\"25075\",\"type\":\"SaveTool\"},{\"attributes\":{},\"id\":\"25936\",\"type\":\"CategoricalTickFormatter\"},{\"attributes\":{\"callback\":null,\"factors\":[\"amc ambassador brougham\",\"amc ambassador dpl\",\"amc ambassador sst\",\"amc concord\",\"amc concord d/l\",\"amc concord dl 6\",\"amc gremlin\",\"amc hornet\",\"amc hornet sportabout (sw)\",\"amc matador\",\"amc matador (sw)\",\"amc pacer\",\"amc pacer d/l\",\"amc rebel sst\",\"amc spirit dl\",\"audi 100 ls\",\"audi 100ls\",\"audi 4000\",\"audi 5000\",\"audi 5000s (diesel)\",\"audi fox\",\"bmw 2002\",\"bmw 320i\",\"buick century\",\"buick century 350\",\"buick century limited\",\"buick century luxus (sw)\",\"buick century special\",\"buick electra 225 custom\",\"buick estate wagon (sw)\",\"buick lesabre custom\",\"buick opel isuzu deluxe\",\"buick regal sport coupe (turbo)\",\"buick skyhawk\",\"buick skylark\",\"buick skylark 320\",\"buick skylark limited\",\"cadillac eldorado\",\"cadillac seville\",\"capri ii\",\"chevroelt chevelle malibu\",\"chevrolet bel air\",\"chevrolet camaro\",\"chevrolet caprice classic\",\"chevrolet cavalier\",\"chevrolet cavalier 2-door\",\"chevrolet cavalier wagon\",\"chevrolet chevelle concours (sw)\",\"chevrolet chevelle malibu\",\"chevrolet chevelle malibu classic\",\"chevrolet chevette\",\"chevrolet citation\",\"chevrolet concours\",\"chevrolet impala\",\"chevrolet malibu\",\"chevrolet malibu classic (sw)\",\"chevrolet monte carlo\",\"chevrolet monte carlo landau\",\"chevrolet monte carlo s\",\"chevrolet monza 2+2\",\"chevrolet nova\",\"chevrolet nova custom\",\"chevrolet vega\",\"chevrolet vega (sw)\",\"chevrolet vega 2300\",\"chevrolet woody\",\"chevy c10\",\"chevy c20\",\"chevy s-10\",\"chrysler cordoba\",\"chrysler lebaron medallion\",\"chrysler lebaron salon\",\"chrysler lebaron town @ country (sw)\",\"chrysler new yorker brougham\",\"chrysler newport royal\",\"datsun 1200\",\"datsun 200-sx\",\"datsun 200sx\",\"datsun 210\",\"datsun 210 mpg\",\"datsun 280-zx\",\"datsun 310\",\"datsun 310 gx\",\"datsun 510\",\"datsun 510 (sw)\",\"datsun 510 hatchback\",\"datsun 610\",\"datsun 710\",\"datsun 810\",\"datsun 810 maxima\",\"datsun b-210\",\"datsun b210\",\"datsun b210 gx\",\"datsun f-10 hatchback\",\"datsun pl510\",\"dodge aries se\",\"dodge aries wagon (sw)\",\"dodge aspen\",\"dodge aspen 6\",\"dodge aspen se\",\"dodge challenger se\",\"dodge charger 2.2\",\"dodge colt\",\"dodge colt (sw)\",\"dodge colt hardtop\",\"dodge colt hatchback custom\",\"dodge colt m/m\",\"dodge coronet brougham\",\"dodge coronet custom\",\"dodge coronet custom (sw)\",\"dodge d100\",\"dodge d200\",\"dodge dart custom\",\"dodge diplomat\",\"dodge magnum xe\",\"dodge monaco (sw)\",\"dodge monaco brougham\",\"dodge omni\",\"dodge rampage\",\"dodge st. regis\",\"fiat 124 sport coupe\",\"fiat 124 tc\",\"fiat 124b\",\"fiat 128\",\"fiat 131\",\"fiat strada custom\",\"fiat x1.9\",\"ford country\",\"ford country squire (sw)\",\"ford escort 2h\",\"ford escort 4w\",\"ford f108\",\"ford f250\",\"ford fairmont\",\"ford fairmont (auto)\",\"ford fairmont (man)\",\"ford fairmont 4\",\"ford fairmont futura\",\"ford fiesta\",\"ford futura\",\"ford galaxie 500\",\"ford gran torino\",\"ford gran torino (sw)\",\"ford granada\",\"ford granada ghia\",\"ford granada gl\",\"ford granada l\",\"ford ltd\",\"ford ltd landau\",\"ford maverick\",\"ford mustang\",\"ford mustang gl\",\"ford mustang ii\",\"ford mustang ii 2+2\",\"ford pinto\",\"ford pinto (sw)\",\"ford pinto runabout\",\"ford ranger\",\"ford thunderbird\",\"ford torino\",\"ford torino 500\",\"hi 1200d\",\"honda accord\",\"honda accord cvcc\",\"honda accord lx\",\"honda civic\",\"honda civic (auto)\",\"honda civic 1300\",\"honda civic 1500 gl\",\"honda civic cvcc\",\"honda prelude\",\"maxda glc deluxe\",\"maxda rx3\",\"mazda 626\",\"mazda glc\",\"mazda glc 4\",\"mazda glc custom\",\"mazda glc custom l\",\"mazda glc deluxe\",\"mazda rx-4\",\"mazda rx-7 gs\",\"mazda rx2 coupe\",\"mercedes benz 300d\",\"mercedes-benz 240d\",\"mercedes-benz 280s\",\"mercury capri 2000\",\"mercury capri v6\",\"mercury cougar brougham\",\"mercury grand marquis\",\"mercury lynx l\",\"mercury marquis\",\"mercury marquis brougham\",\"mercury monarch\",\"mercury monarch ghia\",\"mercury zephyr\",\"mercury zephyr 6\",\"nissan stanza xe\",\"oldsmobile cutlass ciera (diesel)\",\"oldsmobile cutlass ls\",\"oldsmobile cutlass salon brougham\",\"oldsmobile cutlass supreme\",\"oldsmobile delta 88 royale\",\"oldsmobile omega\",\"oldsmobile omega brougham\",\"oldsmobile starfire sx\",\"oldsmobile vista cruiser\",\"opel 1900\",\"opel manta\",\"peugeot 304\",\"peugeot 504\",\"peugeot 504 (sw)\",\"peugeot 505s turbo diesel\",\"peugeot 604sl\",\"plymouth 'cuda 340\",\"plymouth arrow gs\",\"plymouth champ\",\"plymouth cricket\",\"plymouth custom suburb\",\"plymouth duster\",\"plymouth fury\",\"plymouth fury gran sedan\",\"plymouth fury iii\",\"plymouth grand fury\",\"plymouth horizon\",\"plymouth horizon 4\",\"plymouth horizon miser\",\"plymouth horizon tc3\",\"plymouth reliant\",\"plymouth sapporo\",\"plymouth satellite\",\"plymouth satellite custom\",\"plymouth satellite custom (sw)\",\"plymouth satellite sebring\",\"plymouth valiant\",\"plymouth valiant custom\",\"plymouth volare\",\"plymouth volare custom\",\"plymouth volare premier v8\",\"pontiac astro\",\"pontiac catalina\",\"pontiac catalina brougham\",\"pontiac firebird\",\"pontiac grand prix\",\"pontiac grand prix lj\",\"pontiac j2000 se hatchback\",\"pontiac lemans v6\",\"pontiac phoenix\",\"pontiac phoenix lj\",\"pontiac safari (sw)\",\"pontiac sunbird coupe\",\"pontiac ventura sj\",\"renault 12 (sw)\",\"renault 12tl\",\"renault 5 gtl\",\"saab 99e\",\"saab 99gle\",\"saab 99le\",\"subaru\",\"subaru dl\",\"toyota carina\",\"toyota celica gt\",\"toyota celica gt liftback\",\"toyota corolla\",\"toyota corolla 1200\",\"toyota corolla 1600 (sw)\",\"toyota corolla liftback\",\"toyota corolla tercel\",\"toyota corona\",\"toyota corona hardtop\",\"toyota corona liftback\",\"toyota corona mark ii\",\"toyota cressida\",\"toyota mark ii\",\"toyota starlet\",\"toyota tercel\",\"toyouta corona mark ii (sw)\",\"triumph tr7 coupe\",\"vokswagen rabbit\",\"volkswagen 1131 deluxe sedan\",\"volkswagen 411 (sw)\",\"volkswagen dasher\",\"volkswagen jetta\",\"volkswagen model 111\",\"volkswagen rabbit\",\"volkswagen rabbit custom\",\"volkswagen rabbit custom diesel\",\"volkswagen rabbit l\",\"volkswagen scirocco\",\"volkswagen super beetle\",\"volkswagen type 3\",\"volvo 144ea\",\"volvo 145e (sw)\",\"volvo 244dl\",\"volvo 245\",\"volvo 264gl\",\"volvo diesel\",\"vw dasher (diesel)\",\"vw pickup\",\"vw rabbit\",\"vw rabbit c (diesel)\",\"vw rabbit custom\"]},\"id\":\"25133\",\"type\":\"FactorRange\"},{\"attributes\":{\"plot\":null,\"text\":\"\"},\"id\":\"25927\",\"type\":\"Title\"},{\"attributes\":{\"source\":{\"id\":\"25126\",\"type\":\"ColumnDataSource\"}},\"id\":\"25131\",\"type\":\"CDSView\"},{\"attributes\":{},\"id\":\"25928\",\"type\":\"BasicTickFormatter\"},{\"attributes\":{\"plot\":{\"id\":\"25093\",\"subtype\":\"Figure\",\"type\":\"Plot\"},\"ticker\":{\"id\":\"25103\",\"type\":\"CategoricalTicker\"}},\"id\":\"25105\",\"type\":\"Grid\"},{\"attributes\":{\"dimension\":1,\"plot\":{\"id\":\"25093\",\"subtype\":\"Figure\",\"type\":\"Plot\"},\"ticker\":{\"id\":\"25107\",\"type\":\"BasicTicker\"}},\"id\":\"25110\",\"type\":\"Grid\"},{\"attributes\":{\"formatter\":{\"id\":\"25938\",\"type\":\"BasicTickFormatter\"},\"plot\":{\"id\":\"25132\",\"subtype\":\"Figure\",\"type\":\"Plot\"},\"ticker\":{\"id\":\"25146\",\"type\":\"BasicTicker\"}},\"id\":\"25145\",\"type\":\"LinearAxis\"},{\"attributes\":{},\"id\":\"25107\",\"type\":\"BasicTicker\"},{\"attributes\":{\"fill_color\":{\"value\":\"cornflowerblue\"},\"line_color\":{\"value\":\"#1f77b4\"},\"top\":{\"field\":\"count\"},\"width\":{\"value\":1},\"x\":{\"field\":\"index\"}},\"id\":\"25128\",\"type\":\"VBar\"},{\"attributes\":{\"fill_alpha\":{\"value\":0.1},\"fill_color\":{\"value\":\"#1f77b4\"},\"line_alpha\":{\"value\":0.1},\"line_color\":{\"value\":\"#1f77b4\"},\"top\":{\"field\":\"count\"},\"width\":{\"value\":1},\"x\":{\"field\":\"index\"}},\"id\":\"25129\",\"type\":\"VBar\"},{\"attributes\":{},\"id\":\"25934\",\"type\":\"BasicTickFormatter\"},{\"attributes\":{\"data_source\":{\"id\":\"25126\",\"type\":\"ColumnDataSource\"},\"glyph\":{\"id\":\"25128\",\"type\":\"VBar\"},\"hover_glyph\":null,\"muted_glyph\":null,\"nonselection_glyph\":{\"id\":\"25129\",\"type\":\"VBar\"},\"selection_glyph\":null,\"view\":{\"id\":\"25131\",\"type\":\"CDSView\"}},\"id\":\"25130\",\"type\":\"GlyphRenderer\"},{\"attributes\":{\"plot\":{\"id\":\"25132\",\"subtype\":\"Figure\",\"type\":\"Plot\"},\"ticker\":{\"id\":\"25142\",\"type\":\"CategoricalTicker\"}},\"id\":\"25144\",\"type\":\"Grid\"},{\"attributes\":{},\"id\":\"25930\",\"type\":\"BasicTickFormatter\"},{\"attributes\":{},\"id\":\"25943\",\"type\":\"Selection\"},{\"attributes\":{\"data_source\":{\"id\":\"25165\",\"type\":\"ColumnDataSource\"},\"glyph\":{\"id\":\"25167\",\"type\":\"VBar\"},\"hover_glyph\":null,\"muted_glyph\":null,\"nonselection_glyph\":{\"id\":\"25168\",\"type\":\"VBar\"},\"selection_glyph\":null,\"view\":{\"id\":\"25170\",\"type\":\"CDSView\"}},\"id\":\"25169\",\"type\":\"GlyphRenderer\"},{\"attributes\":{\"plot\":null,\"text\":\"\"},\"id\":\"25925\",\"type\":\"Title\"},{\"attributes\":{},\"id\":\"25944\",\"type\":\"UnionRenderers\"},{\"attributes\":{},\"id\":\"25137\",\"type\":\"CategoricalScale\"},{\"attributes\":{},\"id\":\"25941\",\"type\":\"UnionRenderers\"},{\"attributes\":{\"callback\":null},\"id\":\"25135\",\"type\":\"DataRange1d\"},{\"attributes\":{\"axis_label\":\"name\",\"formatter\":{\"id\":\"25936\",\"type\":\"CategoricalTickFormatter\"},\"major_label_orientation\":\"vertical\",\"plot\":{\"id\":\"25132\",\"subtype\":\"Figure\",\"type\":\"Plot\"},\"ticker\":{\"id\":\"25142\",\"type\":\"CategoricalTicker\"}},\"id\":\"25141\",\"type\":\"CategoricalAxis\"},{\"attributes\":{},\"id\":\"25142\",\"type\":\"CategoricalTicker\"},{\"attributes\":{},\"id\":\"25938\",\"type\":\"BasicTickFormatter\"},{\"attributes\":{},\"id\":\"25932\",\"type\":\"CategoricalTickFormatter\"},{\"attributes\":{},\"id\":\"25139\",\"type\":\"LinearScale\"},{\"attributes\":{},\"id\":\"25150\",\"type\":\"PanTool\"},{\"attributes\":{\"source\":{\"id\":\"25165\",\"type\":\"ColumnDataSource\"}},\"id\":\"25170\",\"type\":\"CDSView\"},{\"attributes\":{\"active_drag\":\"auto\",\"active_inspect\":\"auto\",\"active_multi\":null,\"active_scroll\":\"auto\",\"active_tap\":\"auto\",\"tools\":[{\"id\":\"25150\",\"type\":\"PanTool\"},{\"id\":\"25151\",\"type\":\"WheelZoomTool\"},{\"id\":\"25152\",\"type\":\"BoxZoomTool\"},{\"id\":\"25153\",\"type\":\"SaveTool\"},{\"id\":\"25154\",\"type\":\"ResetTool\"},{\"id\":\"25155\",\"type\":\"HelpTool\"}]},\"id\":\"25156\",\"type\":\"Toolbar\"},{\"attributes\":{},\"id\":\"25103\",\"type\":\"CategoricalTicker\"},{\"attributes\":{},\"id\":\"25940\",\"type\":\"Selection\"},{\"attributes\":{},\"id\":\"25151\",\"type\":\"WheelZoomTool\"},{\"attributes\":{\"fill_color\":{\"value\":\"cornflowerblue\"},\"line_color\":{\"value\":\"#1f77b4\"},\"top\":{\"field\":\"count\"},\"width\":{\"value\":1},\"x\":{\"field\":\"index\"}},\"id\":\"25167\",\"type\":\"VBar\"},{\"attributes\":{\"plot\":null,\"text\":\"\"},\"id\":\"25923\",\"type\":\"Title\"},{\"attributes\":{\"bottom_units\":\"screen\",\"fill_alpha\":{\"value\":0.5},\"fill_color\":{\"value\":\"lightgrey\"},\"left_units\":\"screen\",\"level\":\"overlay\",\"line_alpha\":{\"value\":1.0},\"line_color\":{\"value\":\"black\"},\"line_dash\":[4,4],\"line_width\":{\"value\":2},\"plot\":null,\"render_mode\":\"css\",\"right_units\":\"screen\",\"top_units\":\"screen\"},\"id\":\"25158\",\"type\":\"BoxAnnotation\"},{\"attributes\":{\"dimension\":1,\"plot\":{\"id\":\"25132\",\"subtype\":\"Figure\",\"type\":\"Plot\"},\"ticker\":{\"id\":\"25146\",\"type\":\"BasicTicker\"}},\"id\":\"25149\",\"type\":\"Grid\"},{\"attributes\":{\"overlay\":{\"id\":\"25158\",\"type\":\"BoxAnnotation\"}},\"id\":\"25152\",\"type\":\"BoxZoomTool\"},{\"attributes\":{\"fill_alpha\":{\"value\":0.1},\"fill_color\":{\"value\":\"#1f77b4\"},\"line_alpha\":{\"value\":0.1},\"line_color\":{\"value\":\"#1f77b4\"},\"top\":{\"field\":\"count\"},\"width\":{\"value\":1},\"x\":{\"field\":\"index\"}},\"id\":\"25168\",\"type\":\"VBar\"},{\"attributes\":{},\"id\":\"25153\",\"type\":\"SaveTool\"},{\"attributes\":{},\"id\":\"25154\",\"type\":\"ResetTool\"},{\"attributes\":{\"formatter\":{\"id\":\"25934\",\"type\":\"BasicTickFormatter\"},\"plot\":{\"id\":\"25093\",\"subtype\":\"Figure\",\"type\":\"Plot\"},\"ticker\":{\"id\":\"25107\",\"type\":\"BasicTicker\"}},\"id\":\"25106\",\"type\":\"LinearAxis\"},{\"attributes\":{},\"id\":\"25146\",\"type\":\"BasicTicker\"},{\"attributes\":{},\"id\":\"25155\",\"type\":\"HelpTool\"}],\"root_ids\":[\"25171\"]},\"title\":\"Bokeh Application\",\"version\":\"1.0.0\"}};\n",
       "  var render_items = [{\"docid\":\"d2694043-c21a-470a-a209-4b62fdb74e8e\",\"roots\":{\"25171\":\"9ddbc104-58b1-475f-8368-f0fec94c05d6\"}}];\n",
       "  root.Bokeh.embed.embed_items_notebook(docs_json, render_items);\n",
       "\n",
       "  }\n",
       "  if (root.Bokeh !== undefined) {\n",
       "    embed_document(root);\n",
       "  } else {\n",
       "    var attempts = 0;\n",
       "    var timer = setInterval(function(root) {\n",
       "      if (root.Bokeh !== undefined) {\n",
       "        embed_document(root);\n",
       "        clearInterval(timer);\n",
       "      }\n",
       "      attempts++;\n",
       "      if (attempts > 100) {\n",
       "        console.log(\"Bokeh: ERROR: Unable to run BokehJS code because BokehJS library is missing\");\n",
       "        clearInterval(timer);\n",
       "      }\n",
       "    }, 10, root)\n",
       "  }\n",
       "})(window);"
      ],
      "application/vnd.bokehjs_exec.v0+json": ""
     },
     "metadata": {
      "application/vnd.bokehjs_exec.v0+json": {
       "id": "25171"
      }
     },
     "output_type": "display_data"
    }
   ],
   "source": [
    "var1 = 'sepal_length'\n",
    "var2 = 'species'\n",
    "var3 = 'name'\n",
    "\n",
    "p1 = figure( plot_width=600, plot_height=600 )\n",
    "p1.histogram( flowers, var1 )\n",
    "p1.yaxis.axis_label = 'probability'\n",
    "p1.xaxis.axis_label = var1\n",
    "\n",
    "\n",
    "labels = np.sort(flowers[var2].unique())\n",
    "p2 = figure( plot_width=600, plot_height=600, x_range=labels )\n",
    "p2.histogram( flowers, var2)\n",
    "p2.xaxis.axis_label = var2\n",
    "\n",
    "labels = np.sort(autompg[var3].unique())\n",
    "p3 = figure( plot_width=1000, plot_height=600, x_range=labels )\n",
    "p3.histogram( autompg, var3 )\n",
    "p3.xaxis.axis_label = var3\n",
    "p3.xaxis.major_label_orientation = \"vertical\"\n",
    "\n",
    "show( column( p1, p2, p3 ) )"
   ]
  },
  {
   "cell_type": "markdown",
   "metadata": {},
   "source": [
    "**<font color=\"deeppink\">Test cases</font>**: Give three scenarios that need testing (bullet points, no implementation required)."
   ]
  },
  {
   "cell_type": "markdown",
   "metadata": {},
   "source": [
    "## Exercise 2: Working with SPLOMs"
   ]
  },
  {
   "cell_type": "markdown",
   "metadata": {},
   "source": [
    "The source code for the generalized scatterplot matrix (SPLOM) is stored in file splom.py. \n",
    "\n",
    "Usage:\n",
    "```\n",
    "p = splom( df, cols=['var1', 'var2', 'var3'], splom_width=1000 )\n",
    "show(p)\n",
    "```\n",
    "\n",
    "Accepted parameters:\n",
    "- **source** (req): pandas DataFrame\n",
    "- **splom_width** (opt): total width/height of the plot.\n",
    "- **cols** (opt): Array of column names to be used in the plot.\n",
    "- **x_padding** (opt): additional space for the x-axis labels.\n",
    "- **y_padding** (opt): additional space for the y-axis labels.\n",
    "\n",
    "Hint:\n",
    "- The SPLOM supports some interaction. Select points in the scatterplots and look at the results in the other scatterplots."
   ]
  },
  {
   "cell_type": "code",
   "execution_count": 14,
   "metadata": {},
   "outputs": [],
   "source": [
    "%run SPLOM.py"
   ]
  },
  {
   "cell_type": "markdown",
   "metadata": {},
   "source": [
    "### Exercise 2a): Baseball data"
   ]
  },
  {
   "cell_type": "code",
   "execution_count": 15,
   "metadata": {},
   "outputs": [],
   "source": [
    "baseball = pd.read_csv( '../Ex2_explAna/baseball_data.csv')"
   ]
  },
  {
   "cell_type": "code",
   "execution_count": 16,
   "metadata": {},
   "outputs": [
    {
     "name": "stdout",
     "output_type": "stream",
     "text": [
      "categorical attributes ['handedness']\n"
     ]
    },
    {
     "data": {
      "text/html": [
       "\n",
       "\n",
       "\n",
       "\n",
       "\n",
       "\n",
       "  <div class=\"bk-root\" id=\"04d14d97-a287-42fa-b6b4-14a2dcbe7108\"></div>\n"
      ]
     },
     "metadata": {},
     "output_type": "execute_result"
    },
    {
     "data": {},
     "metadata": {
      "application/vnd.bokehjs_exec.v0+json": {
       "id": "2752"
      }
     },
     "output_type": "display_data"
    }
   ],
   "source": [
    "show( splom( df=baseball, cols=['handedness', 'height', 'weight', 'avg', 'HR'],\n",
    "             splom_width=1000, x_padding=40, y_padding=80 ) )"
   ]
  },
  {
   "cell_type": "markdown",
   "metadata": {},
   "source": [
    "### Exercise 2b): Passengers on the Titanic\n",
    "\n",
    "Remarks:\n",
    "- For some passengers age information is missing the `fillna` command replaces those entries with -1. Feal free to make changes to this treating of missing values.\n",
    "- All data is given as quantitative values. To make distinction of categorical data easier, we turn them into strings."
   ]
  },
  {
   "cell_type": "code",
   "execution_count": 17,
   "metadata": {},
   "outputs": [
    {
     "name": "stdout",
     "output_type": "stream",
     "text": [
      "categorical attributes ['pclass', 'survived', 'sex']\n"
     ]
    },
    {
     "data": {
      "text/html": [
       "\n",
       "\n",
       "\n",
       "\n",
       "\n",
       "\n",
       "  <div class=\"bk-root\" id=\"069a04d7-052d-4a5e-aaa4-8120af879004\"></div>\n"
      ]
     },
     "metadata": {},
     "output_type": "execute_result"
    },
    {
     "data": {},
     "metadata": {
      "application/vnd.bokehjs_exec.v0+json": {
       "id": "5721"
      }
     },
     "output_type": "display_data"
    }
   ],
   "source": [
    "titanic = pd.read_csv( '../Ex2_explAna/titanic3.csv')\n",
    "\n",
    "titanic.pclass = titanic.pclass.astype('str')\n",
    "titanic.survived = titanic.survived.astype('str')\n",
    "\n",
    "titanic = titanic.fillna(-1)\n",
    "\n",
    "p = splom( df=titanic, cols=['pclass', 'survived', 'sex', 'age', 'fare'], splom_width=1000, \n",
    "           x_padding=40, y_padding=80 )\n",
    "show( p )"
   ]
  },
  {
   "cell_type": "markdown",
   "metadata": {},
   "source": [
    "## Exercise 3: \n",
    "\n",
    "### Option 1: Auto MPG"
   ]
  },
  {
   "cell_type": "code",
   "execution_count": 18,
   "metadata": {},
   "outputs": [
    {
     "name": "stdout",
     "output_type": "stream",
     "text": [
      "categorical attributes ['cyl', 'origin']\n"
     ]
    },
    {
     "data": {
      "text/html": [
       "\n",
       "\n",
       "\n",
       "\n",
       "\n",
       "\n",
       "  <div class=\"bk-root\" id=\"f8a0b883-5ef9-49d9-916a-622e1c105f9d\"></div>\n"
      ]
     },
     "metadata": {},
     "output_type": "execute_result"
    },
    {
     "data": {},
     "metadata": {
      "application/vnd.bokehjs_exec.v0+json": {
       "id": "10626"
      }
     },
     "output_type": "display_data"
    }
   ],
   "source": [
    "from bokeh.sampledata.autompg import autompg\n",
    "\n",
    "autompg.cyl = autompg.cyl.astype('str')\n",
    "autompg.origin = autompg.origin.astype('str')\n",
    "\n",
    "show( splom( df=autompg, cols=['mpg', 'cyl', 'displ', 'hp', 'weight', 'accel', 'yr', 'origin'],\n",
    "             splom_width=1000, x_padding=40, y_padding=80 ) )"
   ]
  },
  {
   "cell_type": "markdown",
   "metadata": {},
   "source": [
    "### Option 2: Iris flowers"
   ]
  },
  {
   "cell_type": "code",
   "execution_count": 19,
   "metadata": {},
   "outputs": [
    {
     "name": "stdout",
     "output_type": "stream",
     "text": [
      "categorical attributes ['species']\n"
     ]
    },
    {
     "data": {
      "text/html": [
       "\n",
       "\n",
       "\n",
       "\n",
       "\n",
       "\n",
       "  <div class=\"bk-root\" id=\"6b5b1bb8-81c8-4bfa-b331-fa8055fecc93\"></div>\n"
      ]
     },
     "metadata": {},
     "output_type": "execute_result"
    },
    {
     "data": {},
     "metadata": {
      "application/vnd.bokehjs_exec.v0+json": {
       "id": "16339"
      }
     },
     "output_type": "display_data"
    }
   ],
   "source": [
    "from bokeh.sampledata.iris import flowers\n",
    "p = splom( df=flowers, splom_width=1000, x_padding=40, y_padding=80 )\n",
    "show( p )"
   ]
  },
  {
   "cell_type": "code",
   "execution_count": null,
   "metadata": {},
   "outputs": [],
   "source": []
  },
  {
   "cell_type": "code",
   "execution_count": null,
   "metadata": {},
   "outputs": [],
   "source": []
  },
  {
   "cell_type": "code",
   "execution_count": null,
   "metadata": {},
   "outputs": [],
   "source": []
  },
  {
   "cell_type": "code",
   "execution_count": null,
   "metadata": {},
   "outputs": [],
   "source": []
  }
 ],
 "metadata": {
  "kernelspec": {
   "display_name": "Python 3",
   "language": "python",
   "name": "python3"
  },
  "language_info": {
   "codemirror_mode": {
    "name": "ipython",
    "version": 3
   },
   "file_extension": ".py",
   "mimetype": "text/x-python",
   "name": "python",
   "nbconvert_exporter": "python",
   "pygments_lexer": "ipython3",
   "version": "3.6.5"
  }
 },
 "nbformat": 4,
 "nbformat_minor": 2
}
