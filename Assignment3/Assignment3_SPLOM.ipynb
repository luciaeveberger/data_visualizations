{
 "cells": [
  {
   "cell_type": "markdown",
   "metadata": {},
   "source": [
    "# Data Visualization (2017/18)\n",
    "\n",
    "## Solutions for Assignment 3 - Visualizing multivariate data \n",
    "\n",
    "Presented by Group 52: \n",
    "- Lucia Eve Berger\n",
    "- Syed Muhammad Kumail Raza\n",
    "\n",
    "Date: 03.12.2018"
   ]
  },
  {
   "cell_type": "markdown",
   "metadata": {},
   "source": [
    "## Setup"
   ]
  },
  {
   "cell_type": "code",
   "execution_count": 1,
   "metadata": {},
   "outputs": [
    {
     "data": {
      "text/html": [
       "\n",
       "    <div class=\"bk-root\">\n",
       "        <a href=\"https://bokeh.pydata.org\" target=\"_blank\" class=\"bk-logo bk-logo-small bk-logo-notebook\"></a>\n",
       "        <span id=\"1001\">Loading BokehJS ...</span>\n",
       "    </div>"
      ]
     },
     "metadata": {},
     "output_type": "display_data"
    },
    {
     "data": {
      "application/javascript": [
       "\n",
       "(function(root) {\n",
       "  function now() {\n",
       "    return new Date();\n",
       "  }\n",
       "\n",
       "  var force = true;\n",
       "\n",
       "  if (typeof (root._bokeh_onload_callbacks) === \"undefined\" || force === true) {\n",
       "    root._bokeh_onload_callbacks = [];\n",
       "    root._bokeh_is_loading = undefined;\n",
       "  }\n",
       "\n",
       "  var JS_MIME_TYPE = 'application/javascript';\n",
       "  var HTML_MIME_TYPE = 'text/html';\n",
       "  var EXEC_MIME_TYPE = 'application/vnd.bokehjs_exec.v0+json';\n",
       "  var CLASS_NAME = 'output_bokeh rendered_html';\n",
       "\n",
       "  /**\n",
       "   * Render data to the DOM node\n",
       "   */\n",
       "  function render(props, node) {\n",
       "    var script = document.createElement(\"script\");\n",
       "    node.appendChild(script);\n",
       "  }\n",
       "\n",
       "  /**\n",
       "   * Handle when an output is cleared or removed\n",
       "   */\n",
       "  function handleClearOutput(event, handle) {\n",
       "    var cell = handle.cell;\n",
       "\n",
       "    var id = cell.output_area._bokeh_element_id;\n",
       "    var server_id = cell.output_area._bokeh_server_id;\n",
       "    // Clean up Bokeh references\n",
       "    if (id != null && id in Bokeh.index) {\n",
       "      Bokeh.index[id].model.document.clear();\n",
       "      delete Bokeh.index[id];\n",
       "    }\n",
       "\n",
       "    if (server_id !== undefined) {\n",
       "      // Clean up Bokeh references\n",
       "      var cmd = \"from bokeh.io.state import curstate; print(curstate().uuid_to_server['\" + server_id + \"'].get_sessions()[0].document.roots[0]._id)\";\n",
       "      cell.notebook.kernel.execute(cmd, {\n",
       "        iopub: {\n",
       "          output: function(msg) {\n",
       "            var id = msg.content.text.trim();\n",
       "            if (id in Bokeh.index) {\n",
       "              Bokeh.index[id].model.document.clear();\n",
       "              delete Bokeh.index[id];\n",
       "            }\n",
       "          }\n",
       "        }\n",
       "      });\n",
       "      // Destroy server and session\n",
       "      var cmd = \"import bokeh.io.notebook as ion; ion.destroy_server('\" + server_id + \"')\";\n",
       "      cell.notebook.kernel.execute(cmd);\n",
       "    }\n",
       "  }\n",
       "\n",
       "  /**\n",
       "   * Handle when a new output is added\n",
       "   */\n",
       "  function handleAddOutput(event, handle) {\n",
       "    var output_area = handle.output_area;\n",
       "    var output = handle.output;\n",
       "\n",
       "    // limit handleAddOutput to display_data with EXEC_MIME_TYPE content only\n",
       "    if ((output.output_type != \"display_data\") || (!output.data.hasOwnProperty(EXEC_MIME_TYPE))) {\n",
       "      return\n",
       "    }\n",
       "\n",
       "    var toinsert = output_area.element.find(\".\" + CLASS_NAME.split(' ')[0]);\n",
       "\n",
       "    if (output.metadata[EXEC_MIME_TYPE][\"id\"] !== undefined) {\n",
       "      toinsert[toinsert.length - 1].firstChild.textContent = output.data[JS_MIME_TYPE];\n",
       "      // store reference to embed id on output_area\n",
       "      output_area._bokeh_element_id = output.metadata[EXEC_MIME_TYPE][\"id\"];\n",
       "    }\n",
       "    if (output.metadata[EXEC_MIME_TYPE][\"server_id\"] !== undefined) {\n",
       "      var bk_div = document.createElement(\"div\");\n",
       "      bk_div.innerHTML = output.data[HTML_MIME_TYPE];\n",
       "      var script_attrs = bk_div.children[0].attributes;\n",
       "      for (var i = 0; i < script_attrs.length; i++) {\n",
       "        toinsert[toinsert.length - 1].firstChild.setAttribute(script_attrs[i].name, script_attrs[i].value);\n",
       "      }\n",
       "      // store reference to server id on output_area\n",
       "      output_area._bokeh_server_id = output.metadata[EXEC_MIME_TYPE][\"server_id\"];\n",
       "    }\n",
       "  }\n",
       "\n",
       "  function register_renderer(events, OutputArea) {\n",
       "\n",
       "    function append_mime(data, metadata, element) {\n",
       "      // create a DOM node to render to\n",
       "      var toinsert = this.create_output_subarea(\n",
       "        metadata,\n",
       "        CLASS_NAME,\n",
       "        EXEC_MIME_TYPE\n",
       "      );\n",
       "      this.keyboard_manager.register_events(toinsert);\n",
       "      // Render to node\n",
       "      var props = {data: data, metadata: metadata[EXEC_MIME_TYPE]};\n",
       "      render(props, toinsert[toinsert.length - 1]);\n",
       "      element.append(toinsert);\n",
       "      return toinsert\n",
       "    }\n",
       "\n",
       "    /* Handle when an output is cleared or removed */\n",
       "    events.on('clear_output.CodeCell', handleClearOutput);\n",
       "    events.on('delete.Cell', handleClearOutput);\n",
       "\n",
       "    /* Handle when a new output is added */\n",
       "    events.on('output_added.OutputArea', handleAddOutput);\n",
       "\n",
       "    /**\n",
       "     * Register the mime type and append_mime function with output_area\n",
       "     */\n",
       "    OutputArea.prototype.register_mime_type(EXEC_MIME_TYPE, append_mime, {\n",
       "      /* Is output safe? */\n",
       "      safe: true,\n",
       "      /* Index of renderer in `output_area.display_order` */\n",
       "      index: 0\n",
       "    });\n",
       "  }\n",
       "\n",
       "  // register the mime type if in Jupyter Notebook environment and previously unregistered\n",
       "  if (root.Jupyter !== undefined) {\n",
       "    var events = require('base/js/events');\n",
       "    var OutputArea = require('notebook/js/outputarea').OutputArea;\n",
       "\n",
       "    if (OutputArea.prototype.mime_types().indexOf(EXEC_MIME_TYPE) == -1) {\n",
       "      register_renderer(events, OutputArea);\n",
       "    }\n",
       "  }\n",
       "\n",
       "  \n",
       "  if (typeof (root._bokeh_timeout) === \"undefined\" || force === true) {\n",
       "    root._bokeh_timeout = Date.now() + 5000;\n",
       "    root._bokeh_failed_load = false;\n",
       "  }\n",
       "\n",
       "  var NB_LOAD_WARNING = {'data': {'text/html':\n",
       "     \"<div style='background-color: #fdd'>\\n\"+\n",
       "     \"<p>\\n\"+\n",
       "     \"BokehJS does not appear to have successfully loaded. If loading BokehJS from CDN, this \\n\"+\n",
       "     \"may be due to a slow or bad network connection. Possible fixes:\\n\"+\n",
       "     \"</p>\\n\"+\n",
       "     \"<ul>\\n\"+\n",
       "     \"<li>re-rerun `output_notebook()` to attempt to load from CDN again, or</li>\\n\"+\n",
       "     \"<li>use INLINE resources instead, as so:</li>\\n\"+\n",
       "     \"</ul>\\n\"+\n",
       "     \"<code>\\n\"+\n",
       "     \"from bokeh.resources import INLINE\\n\"+\n",
       "     \"output_notebook(resources=INLINE)\\n\"+\n",
       "     \"</code>\\n\"+\n",
       "     \"</div>\"}};\n",
       "\n",
       "  function display_loaded() {\n",
       "    var el = document.getElementById(\"1001\");\n",
       "    if (el != null) {\n",
       "      el.textContent = \"BokehJS is loading...\";\n",
       "    }\n",
       "    if (root.Bokeh !== undefined) {\n",
       "      if (el != null) {\n",
       "        el.textContent = \"BokehJS \" + root.Bokeh.version + \" successfully loaded.\";\n",
       "      }\n",
       "    } else if (Date.now() < root._bokeh_timeout) {\n",
       "      setTimeout(display_loaded, 100)\n",
       "    }\n",
       "  }\n",
       "\n",
       "\n",
       "  function run_callbacks() {\n",
       "    try {\n",
       "      root._bokeh_onload_callbacks.forEach(function(callback) { callback() });\n",
       "    }\n",
       "    finally {\n",
       "      delete root._bokeh_onload_callbacks\n",
       "    }\n",
       "    console.info(\"Bokeh: all callbacks have finished\");\n",
       "  }\n",
       "\n",
       "  function load_libs(js_urls, callback) {\n",
       "    root._bokeh_onload_callbacks.push(callback);\n",
       "    if (root._bokeh_is_loading > 0) {\n",
       "      console.log(\"Bokeh: BokehJS is being loaded, scheduling callback at\", now());\n",
       "      return null;\n",
       "    }\n",
       "    if (js_urls == null || js_urls.length === 0) {\n",
       "      run_callbacks();\n",
       "      return null;\n",
       "    }\n",
       "    console.log(\"Bokeh: BokehJS not loaded, scheduling load and callback at\", now());\n",
       "    root._bokeh_is_loading = js_urls.length;\n",
       "    for (var i = 0; i < js_urls.length; i++) {\n",
       "      var url = js_urls[i];\n",
       "      var s = document.createElement('script');\n",
       "      s.src = url;\n",
       "      s.async = false;\n",
       "      s.onreadystatechange = s.onload = function() {\n",
       "        root._bokeh_is_loading--;\n",
       "        if (root._bokeh_is_loading === 0) {\n",
       "          console.log(\"Bokeh: all BokehJS libraries loaded\");\n",
       "          run_callbacks()\n",
       "        }\n",
       "      };\n",
       "      s.onerror = function() {\n",
       "        console.warn(\"failed to load library \" + url);\n",
       "      };\n",
       "      console.log(\"Bokeh: injecting script tag for BokehJS library: \", url);\n",
       "      document.getElementsByTagName(\"head\")[0].appendChild(s);\n",
       "    }\n",
       "  };var element = document.getElementById(\"1001\");\n",
       "  if (element == null) {\n",
       "    console.log(\"Bokeh: ERROR: autoload.js configured with elementid '1001' but no matching script tag was found. \")\n",
       "    return false;\n",
       "  }\n",
       "\n",
       "  var js_urls = [\"https://cdn.pydata.org/bokeh/release/bokeh-1.0.0.min.js\", \"https://cdn.pydata.org/bokeh/release/bokeh-widgets-1.0.0.min.js\", \"https://cdn.pydata.org/bokeh/release/bokeh-tables-1.0.0.min.js\", \"https://cdn.pydata.org/bokeh/release/bokeh-gl-1.0.0.min.js\"];\n",
       "\n",
       "  var inline_js = [\n",
       "    function(Bokeh) {\n",
       "      Bokeh.set_log_level(\"info\");\n",
       "    },\n",
       "    \n",
       "    function(Bokeh) {\n",
       "      \n",
       "    },\n",
       "    function(Bokeh) {\n",
       "      console.log(\"Bokeh: injecting CSS: https://cdn.pydata.org/bokeh/release/bokeh-1.0.0.min.css\");\n",
       "      Bokeh.embed.inject_css(\"https://cdn.pydata.org/bokeh/release/bokeh-1.0.0.min.css\");\n",
       "      console.log(\"Bokeh: injecting CSS: https://cdn.pydata.org/bokeh/release/bokeh-widgets-1.0.0.min.css\");\n",
       "      Bokeh.embed.inject_css(\"https://cdn.pydata.org/bokeh/release/bokeh-widgets-1.0.0.min.css\");\n",
       "      console.log(\"Bokeh: injecting CSS: https://cdn.pydata.org/bokeh/release/bokeh-tables-1.0.0.min.css\");\n",
       "      Bokeh.embed.inject_css(\"https://cdn.pydata.org/bokeh/release/bokeh-tables-1.0.0.min.css\");\n",
       "    }\n",
       "  ];\n",
       "\n",
       "  function run_inline_js() {\n",
       "    \n",
       "    if ((root.Bokeh !== undefined) || (force === true)) {\n",
       "      for (var i = 0; i < inline_js.length; i++) {\n",
       "        inline_js[i].call(root, root.Bokeh);\n",
       "      }if (force === true) {\n",
       "        display_loaded();\n",
       "      }} else if (Date.now() < root._bokeh_timeout) {\n",
       "      setTimeout(run_inline_js, 100);\n",
       "    } else if (!root._bokeh_failed_load) {\n",
       "      console.log(\"Bokeh: BokehJS failed to load within specified timeout.\");\n",
       "      root._bokeh_failed_load = true;\n",
       "    } else if (force !== true) {\n",
       "      var cell = $(document.getElementById(\"1001\")).parents('.cell').data().cell;\n",
       "      cell.output_area.append_execute_result(NB_LOAD_WARNING)\n",
       "    }\n",
       "\n",
       "  }\n",
       "\n",
       "  if (root._bokeh_is_loading === 0) {\n",
       "    console.log(\"Bokeh: BokehJS loaded, going straight to plotting\");\n",
       "    run_inline_js();\n",
       "  } else {\n",
       "    load_libs(js_urls, function() {\n",
       "      console.log(\"Bokeh: BokehJS plotting callback run at\", now());\n",
       "      run_inline_js();\n",
       "    });\n",
       "  }\n",
       "}(window));"
      ],
      "application/vnd.bokehjs_load.v0+json": "\n(function(root) {\n  function now() {\n    return new Date();\n  }\n\n  var force = true;\n\n  if (typeof (root._bokeh_onload_callbacks) === \"undefined\" || force === true) {\n    root._bokeh_onload_callbacks = [];\n    root._bokeh_is_loading = undefined;\n  }\n\n  \n\n  \n  if (typeof (root._bokeh_timeout) === \"undefined\" || force === true) {\n    root._bokeh_timeout = Date.now() + 5000;\n    root._bokeh_failed_load = false;\n  }\n\n  var NB_LOAD_WARNING = {'data': {'text/html':\n     \"<div style='background-color: #fdd'>\\n\"+\n     \"<p>\\n\"+\n     \"BokehJS does not appear to have successfully loaded. If loading BokehJS from CDN, this \\n\"+\n     \"may be due to a slow or bad network connection. Possible fixes:\\n\"+\n     \"</p>\\n\"+\n     \"<ul>\\n\"+\n     \"<li>re-rerun `output_notebook()` to attempt to load from CDN again, or</li>\\n\"+\n     \"<li>use INLINE resources instead, as so:</li>\\n\"+\n     \"</ul>\\n\"+\n     \"<code>\\n\"+\n     \"from bokeh.resources import INLINE\\n\"+\n     \"output_notebook(resources=INLINE)\\n\"+\n     \"</code>\\n\"+\n     \"</div>\"}};\n\n  function display_loaded() {\n    var el = document.getElementById(\"1001\");\n    if (el != null) {\n      el.textContent = \"BokehJS is loading...\";\n    }\n    if (root.Bokeh !== undefined) {\n      if (el != null) {\n        el.textContent = \"BokehJS \" + root.Bokeh.version + \" successfully loaded.\";\n      }\n    } else if (Date.now() < root._bokeh_timeout) {\n      setTimeout(display_loaded, 100)\n    }\n  }\n\n\n  function run_callbacks() {\n    try {\n      root._bokeh_onload_callbacks.forEach(function(callback) { callback() });\n    }\n    finally {\n      delete root._bokeh_onload_callbacks\n    }\n    console.info(\"Bokeh: all callbacks have finished\");\n  }\n\n  function load_libs(js_urls, callback) {\n    root._bokeh_onload_callbacks.push(callback);\n    if (root._bokeh_is_loading > 0) {\n      console.log(\"Bokeh: BokehJS is being loaded, scheduling callback at\", now());\n      return null;\n    }\n    if (js_urls == null || js_urls.length === 0) {\n      run_callbacks();\n      return null;\n    }\n    console.log(\"Bokeh: BokehJS not loaded, scheduling load and callback at\", now());\n    root._bokeh_is_loading = js_urls.length;\n    for (var i = 0; i < js_urls.length; i++) {\n      var url = js_urls[i];\n      var s = document.createElement('script');\n      s.src = url;\n      s.async = false;\n      s.onreadystatechange = s.onload = function() {\n        root._bokeh_is_loading--;\n        if (root._bokeh_is_loading === 0) {\n          console.log(\"Bokeh: all BokehJS libraries loaded\");\n          run_callbacks()\n        }\n      };\n      s.onerror = function() {\n        console.warn(\"failed to load library \" + url);\n      };\n      console.log(\"Bokeh: injecting script tag for BokehJS library: \", url);\n      document.getElementsByTagName(\"head\")[0].appendChild(s);\n    }\n  };var element = document.getElementById(\"1001\");\n  if (element == null) {\n    console.log(\"Bokeh: ERROR: autoload.js configured with elementid '1001' but no matching script tag was found. \")\n    return false;\n  }\n\n  var js_urls = [\"https://cdn.pydata.org/bokeh/release/bokeh-1.0.0.min.js\", \"https://cdn.pydata.org/bokeh/release/bokeh-widgets-1.0.0.min.js\", \"https://cdn.pydata.org/bokeh/release/bokeh-tables-1.0.0.min.js\", \"https://cdn.pydata.org/bokeh/release/bokeh-gl-1.0.0.min.js\"];\n\n  var inline_js = [\n    function(Bokeh) {\n      Bokeh.set_log_level(\"info\");\n    },\n    \n    function(Bokeh) {\n      \n    },\n    function(Bokeh) {\n      console.log(\"Bokeh: injecting CSS: https://cdn.pydata.org/bokeh/release/bokeh-1.0.0.min.css\");\n      Bokeh.embed.inject_css(\"https://cdn.pydata.org/bokeh/release/bokeh-1.0.0.min.css\");\n      console.log(\"Bokeh: injecting CSS: https://cdn.pydata.org/bokeh/release/bokeh-widgets-1.0.0.min.css\");\n      Bokeh.embed.inject_css(\"https://cdn.pydata.org/bokeh/release/bokeh-widgets-1.0.0.min.css\");\n      console.log(\"Bokeh: injecting CSS: https://cdn.pydata.org/bokeh/release/bokeh-tables-1.0.0.min.css\");\n      Bokeh.embed.inject_css(\"https://cdn.pydata.org/bokeh/release/bokeh-tables-1.0.0.min.css\");\n    }\n  ];\n\n  function run_inline_js() {\n    \n    if ((root.Bokeh !== undefined) || (force === true)) {\n      for (var i = 0; i < inline_js.length; i++) {\n        inline_js[i].call(root, root.Bokeh);\n      }if (force === true) {\n        display_loaded();\n      }} else if (Date.now() < root._bokeh_timeout) {\n      setTimeout(run_inline_js, 100);\n    } else if (!root._bokeh_failed_load) {\n      console.log(\"Bokeh: BokehJS failed to load within specified timeout.\");\n      root._bokeh_failed_load = true;\n    } else if (force !== true) {\n      var cell = $(document.getElementById(\"1001\")).parents('.cell').data().cell;\n      cell.output_area.append_execute_result(NB_LOAD_WARNING)\n    }\n\n  }\n\n  if (root._bokeh_is_loading === 0) {\n    console.log(\"Bokeh: BokehJS loaded, going straight to plotting\");\n    run_inline_js();\n  } else {\n    load_libs(js_urls, function() {\n      console.log(\"Bokeh: BokehJS plotting callback run at\", now());\n      run_inline_js();\n    });\n  }\n}(window));"
     },
     "metadata": {},
     "output_type": "display_data"
    }
   ],
   "source": [
    "import pandas as pd\n",
    "import numpy as np\n",
    "\n",
    "# import bokeh \n",
    "from bokeh.plotting import figure, show, Figure\n",
    "from bokeh.models import ColumnDataSource, Label\n",
    "from bokeh.models.glyphs import Text\n",
    "from bokeh.palettes import Spectral3, d3\n",
    "from bokeh.layouts import row, column, gridplot\n",
    "\n",
    "# tell bokeh to show the figures in the notebook\n",
    "from bokeh.io import output_notebook\n",
    "output_notebook()"
   ]
  },
  {
   "cell_type": "markdown",
   "metadata": {},
   "source": [
    "Load data stored in bokeh:"
   ]
  },
  {
   "cell_type": "code",
   "execution_count": 2,
   "metadata": {},
   "outputs": [
    {
     "data": {
      "text/html": [
       "<div>\n",
       "<table border=\"1\" class=\"dataframe\">\n",
       "  <thead>\n",
       "    <tr style=\"text-align: right;\">\n",
       "      <th></th>\n",
       "      <th>sepal_length</th>\n",
       "      <th>sepal_width</th>\n",
       "      <th>petal_length</th>\n",
       "      <th>petal_width</th>\n",
       "      <th>species</th>\n",
       "    </tr>\n",
       "  </thead>\n",
       "  <tbody>\n",
       "    <tr>\n",
       "      <th>0</th>\n",
       "      <td>5.1</td>\n",
       "      <td>3.5</td>\n",
       "      <td>1.4</td>\n",
       "      <td>0.2</td>\n",
       "      <td>setosa</td>\n",
       "    </tr>\n",
       "    <tr>\n",
       "      <th>1</th>\n",
       "      <td>4.9</td>\n",
       "      <td>3.0</td>\n",
       "      <td>1.4</td>\n",
       "      <td>0.2</td>\n",
       "      <td>setosa</td>\n",
       "    </tr>\n",
       "    <tr>\n",
       "      <th>2</th>\n",
       "      <td>4.7</td>\n",
       "      <td>3.2</td>\n",
       "      <td>1.3</td>\n",
       "      <td>0.2</td>\n",
       "      <td>setosa</td>\n",
       "    </tr>\n",
       "    <tr>\n",
       "      <th>3</th>\n",
       "      <td>4.6</td>\n",
       "      <td>3.1</td>\n",
       "      <td>1.5</td>\n",
       "      <td>0.2</td>\n",
       "      <td>setosa</td>\n",
       "    </tr>\n",
       "    <tr>\n",
       "      <th>4</th>\n",
       "      <td>5.0</td>\n",
       "      <td>3.6</td>\n",
       "      <td>1.4</td>\n",
       "      <td>0.2</td>\n",
       "      <td>setosa</td>\n",
       "    </tr>\n",
       "  </tbody>\n",
       "</table>\n",
       "</div>"
      ],
      "text/plain": [
       "   sepal_length  sepal_width  petal_length  petal_width species\n",
       "0           5.1          3.5           1.4          0.2  setosa\n",
       "1           4.9          3.0           1.4          0.2  setosa\n",
       "2           4.7          3.2           1.3          0.2  setosa\n",
       "3           4.6          3.1           1.5          0.2  setosa\n",
       "4           5.0          3.6           1.4          0.2  setosa"
      ]
     },
     "execution_count": 2,
     "metadata": {},
     "output_type": "execute_result"
    }
   ],
   "source": [
    "from bokeh.sampledata.autompg import autompg\n",
    "from bokeh.sampledata.iris import flowers\n",
    "flowers.head()"
   ]
  },
  {
   "cell_type": "markdown",
   "metadata": {},
   "source": [
    "## Helpful functions"
   ]
  },
  {
   "cell_type": "markdown",
   "metadata": {},
   "source": [
    "Group a dataframe according to a variable (species) and compute some statistics for a second variable (petal_width)."
   ]
  },
  {
   "cell_type": "code",
   "execution_count": 3,
   "metadata": {},
   "outputs": [
    {
     "data": {
      "text/plain": [
       "species          \n",
       "setosa      count    50.000000\n",
       "            mean      0.246000\n",
       "            std       0.105386\n",
       "            min       0.100000\n",
       "            25%       0.200000\n",
       "            50%       0.200000\n",
       "            75%       0.300000\n",
       "            max       0.600000\n",
       "versicolor  count    50.000000\n",
       "            mean      1.326000\n",
       "            std       0.197753\n",
       "            min       1.000000\n",
       "            25%       1.200000\n",
       "            50%       1.300000\n",
       "            75%       1.500000\n",
       "            max       1.800000\n",
       "virginica   count    50.000000\n",
       "            mean      2.026000\n",
       "            std       0.274650\n",
       "            min       1.400000\n",
       "            25%       1.800000\n",
       "            50%       2.000000\n",
       "            75%       2.300000\n",
       "            max       2.500000\n",
       "Name: petal_width, dtype: float64"
      ]
     },
     "execution_count": 3,
     "metadata": {},
     "output_type": "execute_result"
    }
   ],
   "source": [
    "flowers.groupby(['species']).petal_width.describe()"
   ]
  },
  {
   "cell_type": "markdown",
   "metadata": {},
   "source": [
    "Find unique values and count them in categorical variable."
   ]
  },
  {
   "cell_type": "code",
   "execution_count": 4,
   "metadata": {},
   "outputs": [
    {
     "data": {
      "text/plain": [
       "array(['setosa', 'versicolor', 'virginica'], dtype=object)"
      ]
     },
     "execution_count": 4,
     "metadata": {},
     "output_type": "execute_result"
    }
   ],
   "source": [
    "flowers.species.unique()"
   ]
  },
  {
   "cell_type": "code",
   "execution_count": 5,
   "metadata": {},
   "outputs": [
    {
     "data": {
      "text/plain": [
       "versicolor    50\n",
       "setosa        50\n",
       "virginica     50\n",
       "Name: species, dtype: int64"
      ]
     },
     "execution_count": 5,
     "metadata": {},
     "output_type": "execute_result"
    }
   ],
   "source": [
    "flowers.species.value_counts()"
   ]
  },
  {
   "cell_type": "markdown",
   "metadata": {},
   "source": [
    "Use numpy to compute a histogram for quantitative data. See the docu for further information and how to work with the output."
   ]
  },
  {
   "cell_type": "code",
   "execution_count": 6,
   "metadata": {},
   "outputs": [
    {
     "data": {
      "text/plain": [
       "(array([41,  8,  1,  7,  8, 33,  6, 23,  9, 14]),\n",
       " array([0.1 , 0.34, 0.58, 0.82, 1.06, 1.3 , 1.54, 1.78, 2.02, 2.26, 2.5 ]))"
      ]
     },
     "execution_count": 6,
     "metadata": {},
     "output_type": "execute_result"
    }
   ],
   "source": [
    "np.histogram(flowers.petal_width)"
   ]
  },
  {
   "cell_type": "markdown",
   "metadata": {},
   "source": [
    "## Exercise 1 a): Customize a scatterplot chart\n",
    "\n",
    "The following code skeleton renders a scatterplot. Customize the chart to your liking. Think for example of many data points. \n",
    "\n",
    "This is meant to be a very quick exercise to demonstrate the concept for the following two charts.\n",
    "\n",
    "Requirements:\n",
    "- **Parameters**: The function accepts (at least) the following parameters:\n",
    "    - **source**: a pandas DataFrameObject or bokeh ColumnDataSource that holds the data\n",
    "    - **x**: variable (name as string) to be represented on the x-axis\n",
    "    - **y**: variable (name as string) to be represented on the y-axis\n",
    "- **Calling the scatterplot**: The function is a class method of Figure and can be called as follows\n",
    "```python\n",
    "p = figure()\n",
    "p.scatter( data, x, y )\n",
    "```\n",
    "This is already setup in the code skeleton below.\n",
    "\n",
    "**<font color=\"deeppink\">Update code</font>**"
   ]
  },
  {
   "cell_type": "code",
   "execution_count": 7,
   "metadata": {},
   "outputs": [],
   "source": [
    "def scatter( self, source, x, y, **kwargs ):\n",
    "    # access the figure using the self variable\n",
    "    \n",
    "    palette = [\"#053061\", \"#2166ac\", \"#4393c3\", \"#92c5de\", \"#000080\",\n",
    "           \"#00FFFF\", \"#fddbc7\", \"#f4a582\", \"#d6604d\", \"#b2182b\",\n",
    "           \"#67001f\"]\n",
    "    \n",
    "    color_range = source.get(y)\n",
    "    low = min(source.get(y))\n",
    "    high = max(source.get(y))\n",
    "    colors_inds = [int(10 * (x - low) / (high - low)) for x in color_range]\n",
    "\n",
    "    source['colors'] = [palette[i] for i in colors_inds]    \n",
    "    self.circle( source=source, x=x, y=y, size=3, fill_alpha=1, color='colors')\n",
    "    \n",
    "    \n",
    "    label = Label(x=50, y=50, x_units='screen', y_units='screen',\n",
    "                  render_mode='css')\n",
    "    label2 = Label(x=200, y=200, x_units='screen', y_units='screen',\n",
    "                  render_mode='css' )\n",
    "    label3 = Label(x=300, y=300, x_units='screen', y_units='screen',\n",
    "                  render_mode='css' )\n",
    "        \n",
    "    self.add_layout(label)\n",
    "    self.add_layout(label2)\n",
    "    self.add_layout(label3)\n",
    "    self.xaxis.axis_label = x\n",
    "    self.yaxis.axis_label = y\n",
    "    self.title.align = \"center\"\n",
    "\n",
    "# add the function as class method to Figure    \n",
    "Figure.scatter = scatter"
   ]
  },
  {
   "cell_type": "markdown",
   "metadata": {},
   "source": [
    "**<font color=\"deeppink\">Check</font>** that your code is working:"
   ]
  },
  {
   "cell_type": "code",
   "execution_count": 8,
   "metadata": {},
   "outputs": [
    {
     "data": {
      "text/html": [
       "\n",
       "\n",
       "\n",
       "\n",
       "\n",
       "\n",
       "  <div class=\"bk-root\" id=\"881175aa-fa23-443a-ba23-d7cab6029ee1\"></div>\n"
      ]
     },
     "metadata": {},
     "output_type": "display_data"
    },
    {
     "data": {
      "application/javascript": [
       "(function(root) {\n",
       "  function embed_document(root) {\n",
       "    \n",
       "  var docs_json = {\"db252fa9-e6c7-4f54-8c66-4b0244335060\":{\"roots\":{\"references\":[{\"attributes\":{\"below\":[{\"id\":\"1013\",\"type\":\"LinearAxis\"}],\"left\":[{\"id\":\"1018\",\"type\":\"LinearAxis\"}],\"plot_height\":500,\"plot_width\":500,\"renderers\":[{\"id\":\"1013\",\"type\":\"LinearAxis\"},{\"id\":\"1017\",\"type\":\"Grid\"},{\"id\":\"1018\",\"type\":\"LinearAxis\"},{\"id\":\"1022\",\"type\":\"Grid\"},{\"id\":\"1031\",\"type\":\"BoxAnnotation\"},{\"id\":\"1042\",\"type\":\"GlyphRenderer\"},{\"id\":\"1044\",\"type\":\"Label\"},{\"id\":\"1045\",\"type\":\"Label\"},{\"id\":\"1046\",\"type\":\"Label\"}],\"title\":{\"id\":\"1002\",\"type\":\"Title\"},\"toolbar\":{\"id\":\"1029\",\"type\":\"Toolbar\"},\"x_range\":{\"id\":\"1005\",\"type\":\"DataRange1d\"},\"x_scale\":{\"id\":\"1009\",\"type\":\"LinearScale\"},\"y_range\":{\"id\":\"1007\",\"type\":\"DataRange1d\"},\"y_scale\":{\"id\":\"1011\",\"type\":\"LinearScale\"}},\"id\":\"1003\",\"subtype\":\"Figure\",\"type\":\"Plot\"},{\"attributes\":{\"callback\":null},\"id\":\"1007\",\"type\":\"DataRange1d\"},{\"attributes\":{},\"id\":\"1011\",\"type\":\"LinearScale\"},{\"attributes\":{},\"id\":\"1019\",\"type\":\"BasicTicker\"},{\"attributes\":{\"plot\":{\"id\":\"1003\",\"subtype\":\"Figure\",\"type\":\"Plot\"},\"render_mode\":\"css\",\"x\":50,\"x_units\":\"screen\",\"y\":50,\"y_units\":\"screen\"},\"id\":\"1044\",\"type\":\"Label\"},{\"attributes\":{\"axis_label\":\"petal_width\",\"formatter\":{\"id\":\"1048\",\"type\":\"BasicTickFormatter\"},\"plot\":{\"id\":\"1003\",\"subtype\":\"Figure\",\"type\":\"Plot\"},\"ticker\":{\"id\":\"1014\",\"type\":\"BasicTicker\"}},\"id\":\"1013\",\"type\":\"LinearAxis\"},{\"attributes\":{},\"id\":\"1014\",\"type\":\"BasicTicker\"},{\"attributes\":{\"axis_label\":\"petal_length\",\"formatter\":{\"id\":\"1050\",\"type\":\"BasicTickFormatter\"},\"plot\":{\"id\":\"1003\",\"subtype\":\"Figure\",\"type\":\"Plot\"},\"ticker\":{\"id\":\"1019\",\"type\":\"BasicTicker\"}},\"id\":\"1018\",\"type\":\"LinearAxis\"},{\"attributes\":{\"plot\":{\"id\":\"1003\",\"subtype\":\"Figure\",\"type\":\"Plot\"},\"render_mode\":\"css\",\"x\":300,\"x_units\":\"screen\",\"y\":300,\"y_units\":\"screen\"},\"id\":\"1046\",\"type\":\"Label\"},{\"attributes\":{\"plot\":{\"id\":\"1003\",\"subtype\":\"Figure\",\"type\":\"Plot\"},\"render_mode\":\"css\",\"x\":200,\"x_units\":\"screen\",\"y\":200,\"y_units\":\"screen\"},\"id\":\"1045\",\"type\":\"Label\"},{\"attributes\":{},\"id\":\"1053\",\"type\":\"UnionRenderers\"},{\"attributes\":{\"fill_alpha\":{\"value\":0.1},\"fill_color\":{\"value\":\"#1f77b4\"},\"line_alpha\":{\"value\":0.1},\"line_color\":{\"value\":\"#1f77b4\"},\"size\":{\"units\":\"screen\",\"value\":3},\"x\":{\"field\":\"petal_width\"},\"y\":{\"field\":\"petal_length\"}},\"id\":\"1041\",\"type\":\"Circle\"},{\"attributes\":{\"plot\":{\"id\":\"1003\",\"subtype\":\"Figure\",\"type\":\"Plot\"},\"ticker\":{\"id\":\"1014\",\"type\":\"BasicTicker\"}},\"id\":\"1017\",\"type\":\"Grid\"},{\"attributes\":{\"data_source\":{\"id\":\"1038\",\"type\":\"ColumnDataSource\"},\"glyph\":{\"id\":\"1040\",\"type\":\"Circle\"},\"hover_glyph\":null,\"muted_glyph\":null,\"nonselection_glyph\":{\"id\":\"1041\",\"type\":\"Circle\"},\"selection_glyph\":null,\"view\":{\"id\":\"1043\",\"type\":\"CDSView\"}},\"id\":\"1042\",\"type\":\"GlyphRenderer\"},{\"attributes\":{\"active_drag\":\"auto\",\"active_inspect\":\"auto\",\"active_multi\":null,\"active_scroll\":\"auto\",\"active_tap\":\"auto\",\"tools\":[{\"id\":\"1023\",\"type\":\"PanTool\"},{\"id\":\"1024\",\"type\":\"WheelZoomTool\"},{\"id\":\"1025\",\"type\":\"BoxZoomTool\"},{\"id\":\"1026\",\"type\":\"SaveTool\"},{\"id\":\"1027\",\"type\":\"ResetTool\"},{\"id\":\"1028\",\"type\":\"HelpTool\"}]},\"id\":\"1029\",\"type\":\"Toolbar\"},{\"attributes\":{\"dimension\":1,\"plot\":{\"id\":\"1003\",\"subtype\":\"Figure\",\"type\":\"Plot\"},\"ticker\":{\"id\":\"1019\",\"type\":\"BasicTicker\"}},\"id\":\"1022\",\"type\":\"Grid\"},{\"attributes\":{\"fill_color\":{\"field\":\"colors\"},\"line_color\":{\"field\":\"colors\"},\"size\":{\"units\":\"screen\",\"value\":3},\"x\":{\"field\":\"petal_width\"},\"y\":{\"field\":\"petal_length\"}},\"id\":\"1040\",\"type\":\"Circle\"},{\"attributes\":{\"overlay\":{\"id\":\"1031\",\"type\":\"BoxAnnotation\"}},\"id\":\"1025\",\"type\":\"BoxZoomTool\"},{\"attributes\":{\"callback\":null,\"data\":{\"colors\":[\"#053061\",\"#053061\",\"#053061\",\"#053061\",\"#053061\",\"#2166ac\",\"#053061\",\"#053061\",\"#053061\",\"#053061\",\"#053061\",\"#2166ac\",\"#053061\",\"#053061\",\"#053061\",\"#053061\",\"#053061\",\"#053061\",\"#2166ac\",\"#053061\",\"#2166ac\",\"#053061\",\"#053061\",\"#2166ac\",\"#2166ac\",\"#2166ac\",\"#2166ac\",\"#053061\",\"#053061\",\"#2166ac\",\"#2166ac\",\"#053061\",\"#053061\",\"#053061\",\"#053061\",\"#053061\",\"#053061\",\"#053061\",\"#053061\",\"#053061\",\"#053061\",\"#053061\",\"#053061\",\"#2166ac\",\"#2166ac\",\"#053061\",\"#2166ac\",\"#053061\",\"#053061\",\"#053061\",\"#fddbc7\",\"#00FFFF\",\"#fddbc7\",\"#00FFFF\",\"#fddbc7\",\"#00FFFF\",\"#fddbc7\",\"#92c5de\",\"#fddbc7\",\"#000080\",\"#000080\",\"#00FFFF\",\"#00FFFF\",\"#fddbc7\",\"#000080\",\"#00FFFF\",\"#00FFFF\",\"#00FFFF\",\"#00FFFF\",\"#000080\",\"#fddbc7\",\"#00FFFF\",\"#fddbc7\",\"#fddbc7\",\"#00FFFF\",\"#00FFFF\",\"#fddbc7\",\"#fddbc7\",\"#00FFFF\",\"#000080\",\"#000080\",\"#000080\",\"#000080\",\"#fddbc7\",\"#00FFFF\",\"#00FFFF\",\"#fddbc7\",\"#00FFFF\",\"#00FFFF\",\"#00FFFF\",\"#00FFFF\",\"#fddbc7\",\"#00FFFF\",\"#92c5de\",\"#00FFFF\",\"#00FFFF\",\"#00FFFF\",\"#00FFFF\",\"#92c5de\",\"#00FFFF\",\"#d6604d\",\"#fddbc7\",\"#d6604d\",\"#f4a582\",\"#d6604d\",\"#b2182b\",\"#00FFFF\",\"#d6604d\",\"#d6604d\",\"#d6604d\",\"#fddbc7\",\"#f4a582\",\"#f4a582\",\"#fddbc7\",\"#fddbc7\",\"#f4a582\",\"#f4a582\",\"#b2182b\",\"#67001f\",\"#fddbc7\",\"#f4a582\",\"#fddbc7\",\"#b2182b\",\"#fddbc7\",\"#f4a582\",\"#d6604d\",\"#fddbc7\",\"#fddbc7\",\"#f4a582\",\"#d6604d\",\"#d6604d\",\"#b2182b\",\"#f4a582\",\"#fddbc7\",\"#f4a582\",\"#d6604d\",\"#f4a582\",\"#f4a582\",\"#fddbc7\",\"#f4a582\",\"#f4a582\",\"#fddbc7\",\"#fddbc7\",\"#d6604d\",\"#f4a582\",\"#f4a582\",\"#fddbc7\",\"#f4a582\",\"#f4a582\",\"#fddbc7\"],\"index\":[0,1,2,3,4,5,6,7,8,9,10,11,12,13,14,15,16,17,18,19,20,21,22,23,24,25,26,27,28,29,30,31,32,33,34,35,36,37,38,39,40,41,42,43,44,45,46,47,48,49,50,51,52,53,54,55,56,57,58,59,60,61,62,63,64,65,66,67,68,69,70,71,72,73,74,75,76,77,78,79,80,81,82,83,84,85,86,87,88,89,90,91,92,93,94,95,96,97,98,99,100,101,102,103,104,105,106,107,108,109,110,111,112,113,114,115,116,117,118,119,120,121,122,123,124,125,126,127,128,129,130,131,132,133,134,135,136,137,138,139,140,141,142,143,144,145,146,147,148,149],\"petal_length\":{\"__ndarray__\":\"ZmZmZmZm9j9mZmZmZmb2P83MzMzMzPQ/AAAAAAAA+D9mZmZmZmb2PzMzMzMzM/s/ZmZmZmZm9j8AAAAAAAD4P2ZmZmZmZvY/AAAAAAAA+D8AAAAAAAD4P5qZmZmZmfk/ZmZmZmZm9j+amZmZmZnxPzMzMzMzM/M/AAAAAAAA+D/NzMzMzMz0P2ZmZmZmZvY/MzMzMzMz+z8AAAAAAAD4PzMzMzMzM/s/AAAAAAAA+D8AAAAAAADwPzMzMzMzM/s/ZmZmZmZm/j+amZmZmZn5P5qZmZmZmfk/AAAAAAAA+D9mZmZmZmb2P5qZmZmZmfk/mpmZmZmZ+T8AAAAAAAD4PwAAAAAAAPg/ZmZmZmZm9j8AAAAAAAD4PzMzMzMzM/M/zczMzMzM9D9mZmZmZmb2P83MzMzMzPQ/AAAAAAAA+D/NzMzMzMz0P83MzMzMzPQ/zczMzMzM9D+amZmZmZn5P2ZmZmZmZv4/ZmZmZmZm9j+amZmZmZn5P2ZmZmZmZvY/AAAAAAAA+D9mZmZmZmb2P83MzMzMzBJAAAAAAAAAEkCamZmZmZkTQAAAAAAAABBAZmZmZmZmEkAAAAAAAAASQM3MzMzMzBJAZmZmZmZmCkBmZmZmZmYSQDMzMzMzMw9AAAAAAAAADEDNzMzMzMwQQAAAAAAAABBAzczMzMzMEkDNzMzMzMwMQJqZmZmZmRFAAAAAAAAAEkBmZmZmZmYQQAAAAAAAABJAMzMzMzMzD0AzMzMzMzMTQAAAAAAAABBAmpmZmZmZE0DNzMzMzMwSQDMzMzMzMxFAmpmZmZmZEUAzMzMzMzMTQAAAAAAAABRAAAAAAAAAEkAAAAAAAAAMQGZmZmZmZg5AmpmZmZmZDUAzMzMzMzMPQGZmZmZmZhRAAAAAAAAAEkAAAAAAAAASQM3MzMzMzBJAmpmZmZmZEUBmZmZmZmYQQAAAAAAAABBAmpmZmZmZEUBmZmZmZmYSQAAAAAAAABBAZmZmZmZmCkDNzMzMzMwQQM3MzMzMzBBAzczMzMzMEEAzMzMzMzMRQAAAAAAAAAhAZmZmZmZmEEAAAAAAAAAYQGZmZmZmZhRAmpmZmZmZF0BmZmZmZmYWQDMzMzMzMxdAZmZmZmZmGkAAAAAAAAASQDMzMzMzMxlAMzMzMzMzF0BmZmZmZmYYQGZmZmZmZhRAMzMzMzMzFUAAAAAAAAAWQAAAAAAAABRAZmZmZmZmFEAzMzMzMzMVQAAAAAAAABZAzczMzMzMGkCamZmZmZkbQAAAAAAAABRAzczMzMzMFkCamZmZmZkTQM3MzMzMzBpAmpmZmZmZE0DNzMzMzMwWQAAAAAAAABhAMzMzMzMzE0CamZmZmZkTQGZmZmZmZhZAMzMzMzMzF0BmZmZmZmYYQJqZmZmZmRlAZmZmZmZmFkBmZmZmZmYUQGZmZmZmZhZAZmZmZmZmGEBmZmZmZmYWQAAAAAAAABZAMzMzMzMzE0CamZmZmZkVQGZmZmZmZhZAZmZmZmZmFEBmZmZmZmYUQJqZmZmZmRdAzczMzMzMFkDNzMzMzMwUQAAAAAAAABRAzczMzMzMFECamZmZmZkVQGZmZmZmZhRA\",\"dtype\":\"float64\",\"shape\":[150]},\"petal_width\":{\"__ndarray__\":\"mpmZmZmZyT+amZmZmZnJP5qZmZmZmck/mpmZmZmZyT+amZmZmZnJP5qZmZmZmdk/MzMzMzMz0z+amZmZmZnJP5qZmZmZmck/mpmZmZmZuT+amZmZmZnJP5qZmZmZmck/mpmZmZmZuT+amZmZmZm5P5qZmZmZmck/mpmZmZmZ2T+amZmZmZnZPzMzMzMzM9M/MzMzMzMz0z8zMzMzMzPTP5qZmZmZmck/mpmZmZmZ2T+amZmZmZnJPwAAAAAAAOA/mpmZmZmZyT+amZmZmZnJP5qZmZmZmdk/mpmZmZmZyT+amZmZmZnJP5qZmZmZmck/mpmZmZmZyT+amZmZmZnZP5qZmZmZmbk/mpmZmZmZyT+amZmZmZnJP5qZmZmZmck/mpmZmZmZyT+amZmZmZm5P5qZmZmZmck/mpmZmZmZyT8zMzMzMzPTPzMzMzMzM9M/mpmZmZmZyT8zMzMzMzPjP5qZmZmZmdk/MzMzMzMz0z+amZmZmZnJP5qZmZmZmck/mpmZmZmZyT+amZmZmZnJP2ZmZmZmZvY/AAAAAAAA+D8AAAAAAAD4P83MzMzMzPQ/AAAAAAAA+D/NzMzMzMz0P5qZmZmZmfk/AAAAAAAA8D/NzMzMzMz0P2ZmZmZmZvY/AAAAAAAA8D8AAAAAAAD4PwAAAAAAAPA/ZmZmZmZm9j/NzMzMzMz0P2ZmZmZmZvY/AAAAAAAA+D8AAAAAAADwPwAAAAAAAPg/mpmZmZmZ8T/NzMzMzMz8P83MzMzMzPQ/AAAAAAAA+D8zMzMzMzPzP83MzMzMzPQ/ZmZmZmZm9j9mZmZmZmb2PzMzMzMzM/s/AAAAAAAA+D8AAAAAAADwP5qZmZmZmfE/AAAAAAAA8D8zMzMzMzPzP5qZmZmZmfk/AAAAAAAA+D+amZmZmZn5PwAAAAAAAPg/zczMzMzM9D/NzMzMzMz0P83MzMzMzPQ/MzMzMzMz8z9mZmZmZmb2PzMzMzMzM/M/AAAAAAAA8D/NzMzMzMz0PzMzMzMzM/M/zczMzMzM9D/NzMzMzMz0P5qZmZmZmfE/zczMzMzM9D8AAAAAAAAEQGZmZmZmZv4/zczMzMzMAEDNzMzMzMz8P5qZmZmZmQFAzczMzMzMAEAzMzMzMzP7P83MzMzMzPw/zczMzMzM/D8AAAAAAAAEQAAAAAAAAABAZmZmZmZm/j/NzMzMzMwAQAAAAAAAAABAMzMzMzMzA0BmZmZmZmYCQM3MzMzMzPw/mpmZmZmZAUBmZmZmZmYCQAAAAAAAAPg/ZmZmZmZmAkAAAAAAAAAAQAAAAAAAAABAzczMzMzM/D/NzMzMzMwAQM3MzMzMzPw/zczMzMzM/D/NzMzMzMz8P83MzMzMzABAmpmZmZmZ+T9mZmZmZmb+PwAAAAAAAABAmpmZmZmZAUAAAAAAAAD4P2ZmZmZmZvY/ZmZmZmZmAkAzMzMzMzMDQM3MzMzMzPw/zczMzMzM/D/NzMzMzMwAQDMzMzMzMwNAZmZmZmZmAkBmZmZmZmb+P2ZmZmZmZgJAAAAAAAAABEBmZmZmZmYCQGZmZmZmZv4/AAAAAAAAAEBmZmZmZmYCQM3MzMzMzPw/\",\"dtype\":\"float64\",\"shape\":[150]},\"sepal_length\":{\"__ndarray__\":\"ZmZmZmZmFECamZmZmZkTQM3MzMzMzBJAZmZmZmZmEkAAAAAAAAAUQJqZmZmZmRVAZmZmZmZmEkAAAAAAAAAUQJqZmZmZmRFAmpmZmZmZE0CamZmZmZkVQDMzMzMzMxNAMzMzMzMzE0AzMzMzMzMRQDMzMzMzMxdAzczMzMzMFkCamZmZmZkVQGZmZmZmZhRAzczMzMzMFkBmZmZmZmYUQJqZmZmZmRVAZmZmZmZmFEBmZmZmZmYSQGZmZmZmZhRAMzMzMzMzE0AAAAAAAAAUQAAAAAAAABRAzczMzMzMFEDNzMzMzMwUQM3MzMzMzBJAMzMzMzMzE0CamZmZmZkVQM3MzMzMzBRAAAAAAAAAFkCamZmZmZkTQAAAAAAAABRAAAAAAAAAFkCamZmZmZkTQJqZmZmZmRFAZmZmZmZmFEAAAAAAAAAUQAAAAAAAABJAmpmZmZmZEUAAAAAAAAAUQGZmZmZmZhRAMzMzMzMzE0BmZmZmZmYUQGZmZmZmZhJAMzMzMzMzFUAAAAAAAAAUQAAAAAAAABxAmpmZmZmZGUCamZmZmZkbQAAAAAAAABZAAAAAAAAAGkDNzMzMzMwWQDMzMzMzMxlAmpmZmZmZE0BmZmZmZmYaQM3MzMzMzBRAAAAAAAAAFECamZmZmZkXQAAAAAAAABhAZmZmZmZmGEBmZmZmZmYWQM3MzMzMzBpAZmZmZmZmFkAzMzMzMzMXQM3MzMzMzBhAZmZmZmZmFkCamZmZmZkXQGZmZmZmZhhAMzMzMzMzGUBmZmZmZmYYQJqZmZmZmRlAZmZmZmZmGkAzMzMzMzMbQM3MzMzMzBpAAAAAAAAAGEDNzMzMzMwWQAAAAAAAABZAAAAAAAAAFkAzMzMzMzMXQAAAAAAAABhAmpmZmZmZFUAAAAAAAAAYQM3MzMzMzBpAMzMzMzMzGUBmZmZmZmYWQAAAAAAAABZAAAAAAAAAFkBmZmZmZmYYQDMzMzMzMxdAAAAAAAAAFEBmZmZmZmYWQM3MzMzMzBZAzczMzMzMFkDNzMzMzMwYQGZmZmZmZhRAzczMzMzMFkAzMzMzMzMZQDMzMzMzMxdAZmZmZmZmHEAzMzMzMzMZQAAAAAAAABpAZmZmZmZmHkCamZmZmZkTQDMzMzMzMx1AzczMzMzMGkDNzMzMzMwcQAAAAAAAABpAmpmZmZmZGUAzMzMzMzMbQM3MzMzMzBZAMzMzMzMzF0CamZmZmZkZQAAAAAAAABpAzczMzMzMHkDNzMzMzMweQAAAAAAAABhAmpmZmZmZG0BmZmZmZmYWQM3MzMzMzB5AMzMzMzMzGUDNzMzMzMwaQM3MzMzMzBxAzczMzMzMGEBmZmZmZmYYQJqZmZmZmRlAzczMzMzMHECamZmZmZkdQJqZmZmZmR9AmpmZmZmZGUAzMzMzMzMZQGZmZmZmZhhAzczMzMzMHkAzMzMzMzMZQJqZmZmZmRlAAAAAAAAAGECamZmZmZkbQM3MzMzMzBpAmpmZmZmZG0AzMzMzMzMXQDMzMzMzMxtAzczMzMzMGkDNzMzMzMwaQDMzMzMzMxlAAAAAAAAAGkDNzMzMzMwYQJqZmZmZmRdA\",\"dtype\":\"float64\",\"shape\":[150]},\"sepal_width\":{\"__ndarray__\":\"AAAAAAAADEAAAAAAAAAIQJqZmZmZmQlAzczMzMzMCEDNzMzMzMwMQDMzMzMzMw9AMzMzMzMzC0AzMzMzMzMLQDMzMzMzMwdAzczMzMzMCECamZmZmZkNQDMzMzMzMwtAAAAAAAAACEAAAAAAAAAIQAAAAAAAABBAmpmZmZmZEUAzMzMzMzMPQAAAAAAAAAxAZmZmZmZmDkBmZmZmZmYOQDMzMzMzMwtAmpmZmZmZDUDNzMzMzMwMQGZmZmZmZgpAMzMzMzMzC0AAAAAAAAAIQDMzMzMzMwtAAAAAAAAADEAzMzMzMzMLQJqZmZmZmQlAzczMzMzMCEAzMzMzMzMLQGZmZmZmZhBAzczMzMzMEEDNzMzMzMwIQJqZmZmZmQlAAAAAAAAADEDNzMzMzMwMQAAAAAAAAAhAMzMzMzMzC0AAAAAAAAAMQGZmZmZmZgJAmpmZmZmZCUAAAAAAAAAMQGZmZmZmZg5AAAAAAAAACEBmZmZmZmYOQJqZmZmZmQlAmpmZmZmZDUBmZmZmZmYKQJqZmZmZmQlAmpmZmZmZCUDNzMzMzMwIQGZmZmZmZgJAZmZmZmZmBkBmZmZmZmYGQGZmZmZmZgpAMzMzMzMzA0AzMzMzMzMHQJqZmZmZmQVAAAAAAAAAAEAAAAAAAAAIQJqZmZmZmQFAMzMzMzMzB0AzMzMzMzMHQM3MzMzMzAhAAAAAAAAACECamZmZmZkFQJqZmZmZmQFAAAAAAAAABECamZmZmZkJQGZmZmZmZgZAAAAAAAAABEBmZmZmZmYGQDMzMzMzMwdAAAAAAAAACEBmZmZmZmYGQAAAAAAAAAhAMzMzMzMzB0DNzMzMzMwEQDMzMzMzMwNAMzMzMzMzA0CamZmZmZkFQJqZmZmZmQVAAAAAAAAACEAzMzMzMzMLQM3MzMzMzAhAZmZmZmZmAkAAAAAAAAAIQAAAAAAAAARAzczMzMzMBEAAAAAAAAAIQM3MzMzMzARAZmZmZmZmAkCamZmZmZkFQAAAAAAAAAhAMzMzMzMzB0AzMzMzMzMHQAAAAAAAAARAZmZmZmZmBkBmZmZmZmYKQJqZmZmZmQVAAAAAAAAACEAzMzMzMzMHQAAAAAAAAAhAAAAAAAAACEAAAAAAAAAEQDMzMzMzMwdAAAAAAAAABEDNzMzMzMwMQJqZmZmZmQlAmpmZmZmZBUAAAAAAAAAIQAAAAAAAAARAZmZmZmZmBkCamZmZmZkJQAAAAAAAAAhAZmZmZmZmDkDNzMzMzMwEQJqZmZmZmQFAmpmZmZmZCUBmZmZmZmYGQGZmZmZmZgZAmpmZmZmZBUBmZmZmZmYKQJqZmZmZmQlAZmZmZmZmBkAAAAAAAAAIQGZmZmZmZgZAAAAAAAAACEBmZmZmZmYGQGZmZmZmZg5AZmZmZmZmBkBmZmZmZmYGQM3MzMzMzARAAAAAAAAACEAzMzMzMzMLQM3MzMzMzAhAAAAAAAAACEDNzMzMzMwIQM3MzMzMzAhAzczMzMzMCECamZmZmZkFQJqZmZmZmQlAZmZmZmZmCkAAAAAAAAAIQAAAAAAAAARAAAAAAAAACEAzMzMzMzMLQAAAAAAAAAhA\",\"dtype\":\"float64\",\"shape\":[150]},\"species\":[\"setosa\",\"setosa\",\"setosa\",\"setosa\",\"setosa\",\"setosa\",\"setosa\",\"setosa\",\"setosa\",\"setosa\",\"setosa\",\"setosa\",\"setosa\",\"setosa\",\"setosa\",\"setosa\",\"setosa\",\"setosa\",\"setosa\",\"setosa\",\"setosa\",\"setosa\",\"setosa\",\"setosa\",\"setosa\",\"setosa\",\"setosa\",\"setosa\",\"setosa\",\"setosa\",\"setosa\",\"setosa\",\"setosa\",\"setosa\",\"setosa\",\"setosa\",\"setosa\",\"setosa\",\"setosa\",\"setosa\",\"setosa\",\"setosa\",\"setosa\",\"setosa\",\"setosa\",\"setosa\",\"setosa\",\"setosa\",\"setosa\",\"setosa\",\"versicolor\",\"versicolor\",\"versicolor\",\"versicolor\",\"versicolor\",\"versicolor\",\"versicolor\",\"versicolor\",\"versicolor\",\"versicolor\",\"versicolor\",\"versicolor\",\"versicolor\",\"versicolor\",\"versicolor\",\"versicolor\",\"versicolor\",\"versicolor\",\"versicolor\",\"versicolor\",\"versicolor\",\"versicolor\",\"versicolor\",\"versicolor\",\"versicolor\",\"versicolor\",\"versicolor\",\"versicolor\",\"versicolor\",\"versicolor\",\"versicolor\",\"versicolor\",\"versicolor\",\"versicolor\",\"versicolor\",\"versicolor\",\"versicolor\",\"versicolor\",\"versicolor\",\"versicolor\",\"versicolor\",\"versicolor\",\"versicolor\",\"versicolor\",\"versicolor\",\"versicolor\",\"versicolor\",\"versicolor\",\"versicolor\",\"versicolor\",\"virginica\",\"virginica\",\"virginica\",\"virginica\",\"virginica\",\"virginica\",\"virginica\",\"virginica\",\"virginica\",\"virginica\",\"virginica\",\"virginica\",\"virginica\",\"virginica\",\"virginica\",\"virginica\",\"virginica\",\"virginica\",\"virginica\",\"virginica\",\"virginica\",\"virginica\",\"virginica\",\"virginica\",\"virginica\",\"virginica\",\"virginica\",\"virginica\",\"virginica\",\"virginica\",\"virginica\",\"virginica\",\"virginica\",\"virginica\",\"virginica\",\"virginica\",\"virginica\",\"virginica\",\"virginica\",\"virginica\",\"virginica\",\"virginica\",\"virginica\",\"virginica\",\"virginica\",\"virginica\",\"virginica\",\"virginica\",\"virginica\",\"virginica\"]},\"selected\":{\"id\":\"1052\",\"type\":\"Selection\"},\"selection_policy\":{\"id\":\"1053\",\"type\":\"UnionRenderers\"}},\"id\":\"1038\",\"type\":\"ColumnDataSource\"},{\"attributes\":{},\"id\":\"1048\",\"type\":\"BasicTickFormatter\"},{\"attributes\":{},\"id\":\"1052\",\"type\":\"Selection\"},{\"attributes\":{},\"id\":\"1009\",\"type\":\"LinearScale\"},{\"attributes\":{},\"id\":\"1023\",\"type\":\"PanTool\"},{\"attributes\":{\"bottom_units\":\"screen\",\"fill_alpha\":{\"value\":0.5},\"fill_color\":{\"value\":\"lightgrey\"},\"left_units\":\"screen\",\"level\":\"overlay\",\"line_alpha\":{\"value\":1.0},\"line_color\":{\"value\":\"black\"},\"line_dash\":[4,4],\"line_width\":{\"value\":2},\"plot\":null,\"render_mode\":\"css\",\"right_units\":\"screen\",\"top_units\":\"screen\"},\"id\":\"1031\",\"type\":\"BoxAnnotation\"},{\"attributes\":{},\"id\":\"1024\",\"type\":\"WheelZoomTool\"},{\"attributes\":{},\"id\":\"1050\",\"type\":\"BasicTickFormatter\"},{\"attributes\":{},\"id\":\"1026\",\"type\":\"SaveTool\"},{\"attributes\":{\"align\":\"center\",\"plot\":null,\"text\":\"Petal Length and Width by Species\"},\"id\":\"1002\",\"type\":\"Title\"},{\"attributes\":{\"source\":{\"id\":\"1038\",\"type\":\"ColumnDataSource\"}},\"id\":\"1043\",\"type\":\"CDSView\"},{\"attributes\":{},\"id\":\"1028\",\"type\":\"HelpTool\"},{\"attributes\":{},\"id\":\"1027\",\"type\":\"ResetTool\"},{\"attributes\":{\"callback\":null},\"id\":\"1005\",\"type\":\"DataRange1d\"}],\"root_ids\":[\"1003\"]},\"title\":\"Bokeh Application\",\"version\":\"1.0.0\"}};\n",
       "  var render_items = [{\"docid\":\"db252fa9-e6c7-4f54-8c66-4b0244335060\",\"roots\":{\"1003\":\"881175aa-fa23-443a-ba23-d7cab6029ee1\"}}];\n",
       "  root.Bokeh.embed.embed_items_notebook(docs_json, render_items);\n",
       "\n",
       "  }\n",
       "  if (root.Bokeh !== undefined) {\n",
       "    embed_document(root);\n",
       "  } else {\n",
       "    var attempts = 0;\n",
       "    var timer = setInterval(function(root) {\n",
       "      if (root.Bokeh !== undefined) {\n",
       "        embed_document(root);\n",
       "        clearInterval(timer);\n",
       "      }\n",
       "      attempts++;\n",
       "      if (attempts > 100) {\n",
       "        console.log(\"Bokeh: ERROR: Unable to run BokehJS code because BokehJS library is missing\");\n",
       "        clearInterval(timer);\n",
       "      }\n",
       "    }, 10, root)\n",
       "  }\n",
       "})(window);"
      ],
      "application/vnd.bokehjs_exec.v0+json": ""
     },
     "metadata": {
      "application/vnd.bokehjs_exec.v0+json": {
       "id": "1003"
      }
     },
     "output_type": "display_data"
    }
   ],
   "source": [
    "p = figure( plot_width=500, plot_height=500, title = \"Petal Length and Width by Species\")\n",
    "p.scatter(source=flowers, x='petal_width', y='petal_length')\n",
    "show(p)"
   ]
  },
  {
   "cell_type": "markdown",
   "metadata": {},
   "source": [
    "**<font color=\"deeppink\">Test cases</font>**: Give three scenarios that need testing (bullet points, no implementation required). Think of scenarios where your code may fail.\n",
    "- Test Case 1: NAN: for NAN values, there is a possibility of it failing \n",
    "- Test case 2: Outlier values are not well indicated, not easily detected from sample\n",
    "- Test case 3: Colour map only works for defined size, if the data supply were augmented, the code would not show a color for that map"
   ]
  },
  {
   "cell_type": "markdown",
   "metadata": {},
   "source": [
    "## Exercise 1 b): Implement a boxplot chart\n",
    "\n",
    "Requirements:\n",
    "- **Parameters**: The function accepts (at least) the following parameters:\n",
    "    - **source**: a pandas DataFrameObject that holds the data\n",
    "    - **x**: variable (name as string) to be represented on the x-axis\n",
    "    - **y**: variable (name as string) to be represented on the y-axis\n",
    "- **Orientation**: Provide boxplots with horizontal and vertical orientation (call them hboxplot and vboxplot).\n",
    "- **Calling the boxplot**: The function is a class method of Figure and can be called as follows\n",
    "```python\n",
    "p = figure()\n",
    "p.vboxplot( data, x, y )\n",
    "```\n",
    "This is already setup in the code skeleton below.\n",
    "\n",
    "Hints:\n",
    "- A Bokeh sample implementation can be found here: [Boxplot](https://bokeh.pydata.org/en/latest/docs/gallery/boxplot.html)\n",
    "- Adapt this implementation to work on the target variable only. See code below to get started.\n",
    "\n",
    "**<font color=\"deeppink\">Implement</font>**"
   ]
  },
  {
   "cell_type": "code",
   "execution_count": 9,
   "metadata": {},
   "outputs": [],
   "source": [
    "## checks the outliers\n",
    "\n",
    "def vboxplot( self, source, x, y, **kwargs ):\n",
    "    if not isinstance(source, pd.DataFrame ):\n",
    "        raise TypeError(\"source has to be a pandas DataFrame.\")\n",
    "    v_axis_type = source.get(x).unique()\n",
    "    df = pd.DataFrame(dict(score=source.get(y), group=source.get(x)))\n",
    "    groups = df.groupby('group')\n",
    "    q1 = groups.quantile(q=0.25)\n",
    "    q2 = groups.quantile(q=0.5)\n",
    "    q3 = groups.quantile(q=0.75)\n",
    "    iqr = q3 - q1\n",
    "    upper = q3 + 1.5*iqr\n",
    "    lower = q1 - 1.5*iqr\n",
    "    # find the outliers for each category\n",
    "    def outliers(group):\n",
    "        group_name = group.name\n",
    "        return group[(group.score > upper.loc[group_name]['score']) | (group.score < lower.loc[group_name]['score'])]['score']\n",
    "    \n",
    "    \n",
    "    out = groups.apply(outliers).dropna()\n",
    "\n",
    "    # prepare outlier data for plotting, we need coordinates for every outlier.\n",
    "    if not out.empty:\n",
    "        outx = []\n",
    "        outy = []\n",
    "        for keys in out.index:\n",
    "            outx.append(keys[0])\n",
    "            outy.append(out.loc[keys[0]].loc[keys[1]])\n",
    "    # if no outliers, shrink lengths of stems to be no longer than the minimums or maximums\n",
    "    qmin = groups.quantile(q=0.00)\n",
    "    qmax = groups.quantile(q=1.00)\n",
    "    upper.score = [min([x,y]) for (x,y) in zip(list(qmax.loc[:,'score']),upper.score)]\n",
    "    lower.score = [max([x,y]) for (x,y) in zip(list(qmin.loc[:,'score']),lower.score)]\n",
    "\n",
    "    # stems\n",
    "    self.segment(v_axis_type, upper.score, v_axis_type, q3.score, line_color=\"black\")\n",
    "    self.segment(v_axis_type, lower.score, v_axis_type, q1.score, line_color=\"black\")\n",
    "\n",
    "    # boxes\n",
    "    self.vbar(v_axis_type, 0.7, q2.score, q3.score, fill_color=\"#00FFFF\", line_color=\"black\")\n",
    "    self.vbar(v_axis_type, 0.7, q1.score, q2.score, fill_color=\"#000080\", line_color=\"black\")\n",
    "\n",
    "    # whiskers (almost-0 height rects simpler than segments)\n",
    "    self.rect(v_axis_type, lower.score, 0.2, 0.01, line_color=\"black\")\n",
    "    self.rect(v_axis_type, upper.score, 0.2, 0.01, line_color=\"black\")\n",
    "\n",
    "    # outliers\n",
    "    if not out.empty:\n",
    "        self.circle(outx, outy, size=6, color=\"#F38630\", fill_alpha=0.6)\n",
    "\n",
    "    self.xgrid.grid_line_color = \"grey\"\n",
    "    self.ygrid.grid_line_color = \"grey\"\n",
    "    self.grid.grid_line_width = 0.1\n",
    "    self.xaxis.major_label_text_font_size=\"10pt\"   \n",
    "\n",
    "Figure.vboxplot = vboxplot"
   ]
  },
  {
   "cell_type": "code",
   "execution_count": 10,
   "metadata": {},
   "outputs": [],
   "source": [
    "def hboxplot( self, source, x, y, **kwargs ):\n",
    "    if not isinstance(source, pd.DataFrame ):\n",
    "        raise TypeError(\"source has to be a pandas DataFrame.\")\n",
    "    v_axis_type = source.get(y).unique()\n",
    "    df = pd.DataFrame(dict(score=source.get(x), group=source.get(y)))\n",
    "    groups = df.groupby('group')\n",
    "    q1 = groups.quantile(q=0.25)\n",
    "    q2 = groups.quantile(q=0.5)\n",
    "    q3 = groups.quantile(q=0.75)\n",
    "    iqr = q3 - q1\n",
    "    upper = q3 + 1.5*iqr\n",
    "    lower = q1 - 1.5*iqr\n",
    "    # find the outliers for each category\n",
    "    def outliers(group):\n",
    "        group_name = group.name\n",
    "        return group[(group.score > upper.loc[group_name]['score']) | (group.score < lower.loc[group_name]['score'])]['score']\n",
    "    \n",
    "    \n",
    "    out = groups.apply(outliers).dropna()\n",
    "\n",
    "    # prepare outlier data for plotting, we need coordinates for every outlier.\n",
    "    if not out.empty:\n",
    "        outx = []\n",
    "        outy = []\n",
    "        for keys in out.index:\n",
    "            outx.append(keys[0])\n",
    "            outy.append(out.loc[keys[0]].loc[keys[1]])\n",
    "    \n",
    "    # if no outliers, shrink lengths of stems to be no longer than the minimums or maximums\n",
    "    qmin = groups.quantile(q=0.00)\n",
    "    qmax = groups.quantile(q=1.00)\n",
    "    upper.score = [min([x,y]) for (x,y) in zip(list(qmax.loc[:,'score']),upper.score)]\n",
    "    lower.score = [max([x,y]) for (x,y) in zip(list(qmin.loc[:,'score']),lower.score)]    \n",
    "    # boxes\n",
    "    self.hbar(v_axis_type, 0.7, q2.score, q3.score, fill_color=\"#00FFFF\", line_color=\"black\")\n",
    "    self.hbar(v_axis_type, 0.7, q1.score, q2.score, fill_color=\"#000080\", line_color=\"black\")\n",
    "    \n",
    "    # whiskers (almost-0 height rects simpler than segments)\n",
    "    self.rect(lower.score,v_axis_type, 0.01, 0.2, line_color=\"black\")\n",
    "    self.rect(upper.score,v_axis_type, 0.01, 0.2, line_color=\"black\")\n",
    "\n",
    "    self.segment( upper.score, v_axis_type, v_axis_type, q3.score, line_color=\"black\")\n",
    "    self.segment(v_axis_type, lower.score, v_axis_type, q1.score, line_color=\"black\")\n",
    "\n",
    "    \n",
    "    # outliers\n",
    "    if not out.empty:\n",
    "        self.circle(outy, outx, size=6, color=\"#F38630\", fill_alpha=0.6)\n",
    "\n",
    "    self.xgrid.grid_line_color = \"grey\"\n",
    "    self.ygrid.grid_line_color = \"grey\"\n",
    "    self.grid.grid_line_width = 0.1\n",
    "    self.xaxis.major_label_text_font_size=\"10pt\"\n",
    "\n",
    "Figure.hboxplot = hboxplot"
   ]
  },
  {
   "cell_type": "markdown",
   "metadata": {},
   "source": [
    "**<font color=\"deeppink\">Check</font>** your boxplot"
   ]
  },
  {
   "cell_type": "code",
   "execution_count": 11,
   "metadata": {
    "scrolled": true
   },
   "outputs": [
    {
     "data": {
      "text/html": [
       "\n",
       "\n",
       "\n",
       "\n",
       "\n",
       "\n",
       "  <div class=\"bk-root\" id=\"25ac92ff-7830-42c4-b2fe-23e210905035\"></div>\n"
      ]
     },
     "metadata": {},
     "output_type": "display_data"
    },
    {
     "data": {
      "application/javascript": [
       "(function(root) {\n",
       "  function embed_document(root) {\n",
       "    \n",
       "  var docs_json = {\"95822ece-89dd-40f2-8bd1-6e19da068537\":{\"roots\":{\"references\":[{\"attributes\":{\"children\":[{\"id\":\"1103\",\"subtype\":\"Figure\",\"type\":\"Plot\"},{\"id\":\"1171\",\"subtype\":\"Figure\",\"type\":\"Plot\"}]},\"id\":\"1239\",\"type\":\"Row\"},{\"attributes\":{\"callback\":null,\"data\":{\"left\":{\"__ndarray__\":\"MzMzMzMz0z8AAAAAAAD4P2ZmZmZmZgJA\",\"dtype\":\"float64\",\"shape\":[3]},\"right\":{\"__ndarray__\":\"mpmZmZmZyT/NzMzMzMz0PwAAAAAAAABA\",\"dtype\":\"float64\",\"shape\":[3]},\"y\":[\"setosa\",\"versicolor\",\"virginica\"]},\"selected\":{\"id\":\"1260\",\"type\":\"Selection\"},\"selection_policy\":{\"id\":\"1261\",\"type\":\"UnionRenderers\"}},\"id\":\"1136\",\"type\":\"ColumnDataSource\"},{\"attributes\":{\"fill_color\":{\"value\":\"#00FFFF\"},\"height\":{\"value\":0.7},\"left\":{\"field\":\"left\"},\"right\":{\"field\":\"right\"},\"y\":{\"field\":\"y\"}},\"id\":\"1137\",\"type\":\"HBar\"},{\"attributes\":{},\"id\":\"1285\",\"type\":\"Selection\"},{\"attributes\":{},\"id\":\"1192\",\"type\":\"SaveTool\"},{\"attributes\":{\"fill_alpha\":{\"value\":0.1},\"fill_color\":{\"value\":\"#1f77b4\"},\"height\":{\"value\":0.7},\"left\":{\"field\":\"left\"},\"line_alpha\":{\"value\":0.1},\"line_color\":{\"value\":\"#1f77b4\"},\"right\":{\"field\":\"right\"},\"y\":{\"field\":\"y\"}},\"id\":\"1138\",\"type\":\"HBar\"},{\"attributes\":{\"data_source\":{\"id\":\"1136\",\"type\":\"ColumnDataSource\"},\"glyph\":{\"id\":\"1137\",\"type\":\"HBar\"},\"hover_glyph\":null,\"muted_glyph\":null,\"nonselection_glyph\":{\"id\":\"1138\",\"type\":\"HBar\"},\"selection_glyph\":null,\"view\":{\"id\":\"1140\",\"type\":\"CDSView\"}},\"id\":\"1139\",\"type\":\"GlyphRenderer\"},{\"attributes\":{\"source\":{\"id\":\"1136\",\"type\":\"ColumnDataSource\"}},\"id\":\"1140\",\"type\":\"CDSView\"},{\"attributes\":{},\"id\":\"1194\",\"type\":\"HelpTool\"},{\"attributes\":{},\"id\":\"1264\",\"type\":\"Selection\"},{\"attributes\":{},\"id\":\"1252\",\"type\":\"BasicTickFormatter\"},{\"attributes\":{\"callback\":null,\"data\":{\"left\":{\"__ndarray__\":\"mpmZmZmZyT/NzMzMzMz0PwAAAAAAAABA\",\"dtype\":\"float64\",\"shape\":[3]},\"right\":{\"__ndarray__\":\"mpmZmZmZyT8zMzMzMzPzP83MzMzMzPw/\",\"dtype\":\"float64\",\"shape\":[3]},\"y\":[\"setosa\",\"versicolor\",\"virginica\"]},\"selected\":{\"id\":\"1262\",\"type\":\"Selection\"},\"selection_policy\":{\"id\":\"1263\",\"type\":\"UnionRenderers\"}},\"id\":\"1141\",\"type\":\"ColumnDataSource\"},{\"attributes\":{\"fill_color\":{\"value\":\"#000080\"},\"height\":{\"value\":0.7},\"left\":{\"field\":\"left\"},\"right\":{\"field\":\"right\"},\"y\":{\"field\":\"y\"}},\"id\":\"1142\",\"type\":\"HBar\"},{\"attributes\":{\"fill_alpha\":{\"value\":0.1},\"fill_color\":{\"value\":\"#1f77b4\"},\"height\":{\"value\":0.7},\"left\":{\"field\":\"left\"},\"line_alpha\":{\"value\":0.1},\"line_color\":{\"value\":\"#1f77b4\"},\"right\":{\"field\":\"right\"},\"y\":{\"field\":\"y\"}},\"id\":\"1143\",\"type\":\"HBar\"},{\"attributes\":{\"data_source\":{\"id\":\"1141\",\"type\":\"ColumnDataSource\"},\"glyph\":{\"id\":\"1142\",\"type\":\"HBar\"},\"hover_glyph\":null,\"muted_glyph\":null,\"nonselection_glyph\":{\"id\":\"1143\",\"type\":\"HBar\"},\"selection_glyph\":null,\"view\":{\"id\":\"1145\",\"type\":\"CDSView\"}},\"id\":\"1144\",\"type\":\"GlyphRenderer\"},{\"attributes\":{},\"id\":\"1189\",\"type\":\"PanTool\"},{\"attributes\":{\"source\":{\"id\":\"1141\",\"type\":\"ColumnDataSource\"}},\"id\":\"1145\",\"type\":\"CDSView\"},{\"attributes\":{\"overlay\":{\"id\":\"1129\",\"type\":\"BoxAnnotation\"}},\"id\":\"1123\",\"type\":\"BoxZoomTool\"},{\"attributes\":{\"overlay\":{\"id\":\"1197\",\"type\":\"BoxAnnotation\"}},\"id\":\"1191\",\"type\":\"BoxZoomTool\"},{\"attributes\":{\"callback\":null,\"data\":{\"x\":{\"__ndarray__\":\"mpmZmZmZuT8AAAAAAADwP2ZmZmZmZvY/\",\"dtype\":\"float64\",\"shape\":[3]},\"y\":[\"setosa\",\"versicolor\",\"virginica\"]},\"selected\":{\"id\":\"1264\",\"type\":\"Selection\"},\"selection_policy\":{\"id\":\"1265\",\"type\":\"UnionRenderers\"}},\"id\":\"1146\",\"type\":\"ColumnDataSource\"},{\"attributes\":{},\"id\":\"1282\",\"type\":\"UnionRenderers\"},{\"attributes\":{\"fill_color\":{\"value\":\"#1f77b4\"},\"height\":{\"units\":\"data\",\"value\":0.2},\"width\":{\"units\":\"data\",\"value\":0.01},\"x\":{\"field\":\"x\"},\"y\":{\"field\":\"y\"}},\"id\":\"1147\",\"type\":\"Rect\"},{\"attributes\":{},\"id\":\"1265\",\"type\":\"UnionRenderers\"},{\"attributes\":{\"fill_alpha\":{\"value\":0.1},\"fill_color\":{\"value\":\"#1f77b4\"},\"height\":{\"units\":\"data\",\"value\":0.2},\"line_alpha\":{\"value\":0.1},\"line_color\":{\"value\":\"#1f77b4\"},\"width\":{\"units\":\"data\",\"value\":0.01},\"x\":{\"field\":\"x\"},\"y\":{\"field\":\"y\"}},\"id\":\"1148\",\"type\":\"Rect\"},{\"attributes\":{},\"id\":\"1284\",\"type\":\"UnionRenderers\"},{\"attributes\":{\"data_source\":{\"id\":\"1146\",\"type\":\"ColumnDataSource\"},\"glyph\":{\"id\":\"1147\",\"type\":\"Rect\"},\"hover_glyph\":null,\"muted_glyph\":null,\"nonselection_glyph\":{\"id\":\"1148\",\"type\":\"Rect\"},\"selection_glyph\":null,\"view\":{\"id\":\"1150\",\"type\":\"CDSView\"}},\"id\":\"1149\",\"type\":\"GlyphRenderer\"},{\"attributes\":{\"source\":{\"id\":\"1146\",\"type\":\"ColumnDataSource\"}},\"id\":\"1150\",\"type\":\"CDSView\"},{\"attributes\":{\"callback\":null,\"data\":{\"x\":{\"__ndarray__\":\"zMzMzMzM3D/NzMzMzMz8PwAAAAAAAARA\",\"dtype\":\"float64\",\"shape\":[3]},\"y\":[\"setosa\",\"versicolor\",\"virginica\"]},\"selected\":{\"id\":\"1266\",\"type\":\"Selection\"},\"selection_policy\":{\"id\":\"1267\",\"type\":\"UnionRenderers\"}},\"id\":\"1151\",\"type\":\"ColumnDataSource\"},{\"attributes\":{},\"id\":\"1193\",\"type\":\"ResetTool\"},{\"attributes\":{\"fill_color\":{\"value\":\"#1f77b4\"},\"height\":{\"units\":\"data\",\"value\":0.2},\"width\":{\"units\":\"data\",\"value\":0.01},\"x\":{\"field\":\"x\"},\"y\":{\"field\":\"y\"}},\"id\":\"1152\",\"type\":\"Rect\"},{\"attributes\":{},\"id\":\"1288\",\"type\":\"UnionRenderers\"},{\"attributes\":{\"fill_alpha\":{\"value\":0.1},\"fill_color\":{\"value\":\"#1f77b4\"},\"height\":{\"units\":\"data\",\"value\":0.2},\"line_alpha\":{\"value\":0.1},\"line_color\":{\"value\":\"#1f77b4\"},\"width\":{\"units\":\"data\",\"value\":0.01},\"x\":{\"field\":\"x\"},\"y\":{\"field\":\"y\"}},\"id\":\"1153\",\"type\":\"Rect\"},{\"attributes\":{\"data_source\":{\"id\":\"1151\",\"type\":\"ColumnDataSource\"},\"glyph\":{\"id\":\"1152\",\"type\":\"Rect\"},\"hover_glyph\":null,\"muted_glyph\":null,\"nonselection_glyph\":{\"id\":\"1153\",\"type\":\"Rect\"},\"selection_glyph\":null,\"view\":{\"id\":\"1155\",\"type\":\"CDSView\"}},\"id\":\"1154\",\"type\":\"GlyphRenderer\"},{\"attributes\":{\"active_drag\":\"auto\",\"active_inspect\":\"auto\",\"active_multi\":null,\"active_scroll\":\"auto\",\"active_tap\":\"auto\",\"tools\":[{\"id\":\"1189\",\"type\":\"PanTool\"},{\"id\":\"1190\",\"type\":\"WheelZoomTool\"},{\"id\":\"1191\",\"type\":\"BoxZoomTool\"},{\"id\":\"1192\",\"type\":\"SaveTool\"},{\"id\":\"1193\",\"type\":\"ResetTool\"},{\"id\":\"1194\",\"type\":\"HelpTool\"}]},\"id\":\"1195\",\"type\":\"Toolbar\"},{\"attributes\":{},\"id\":\"1283\",\"type\":\"Selection\"},{\"attributes\":{\"source\":{\"id\":\"1151\",\"type\":\"ColumnDataSource\"}},\"id\":\"1155\",\"type\":\"CDSView\"},{\"attributes\":{\"callback\":null,\"data\":{\"x0\":{\"__ndarray__\":\"zMzMzMzM3D/NzMzMzMz8PwAAAAAAAARA\",\"dtype\":\"float64\",\"shape\":[3]},\"x1\":[\"setosa\",\"versicolor\",\"virginica\"],\"y0\":[\"setosa\",\"versicolor\",\"virginica\"],\"y1\":{\"__ndarray__\":\"MzMzMzMz0z8AAAAAAAD4P2ZmZmZmZgJA\",\"dtype\":\"float64\",\"shape\":[3]}},\"selected\":{\"id\":\"1268\",\"type\":\"Selection\"},\"selection_policy\":{\"id\":\"1269\",\"type\":\"UnionRenderers\"}},\"id\":\"1156\",\"type\":\"ColumnDataSource\"},{\"attributes\":{\"x0\":{\"field\":\"x0\"},\"x1\":{\"field\":\"x1\"},\"y0\":{\"field\":\"y0\"},\"y1\":{\"field\":\"y1\"}},\"id\":\"1157\",\"type\":\"Segment\"},{\"attributes\":{},\"id\":\"1190\",\"type\":\"WheelZoomTool\"},{\"attributes\":{\"line_alpha\":{\"value\":0.1},\"line_color\":{\"value\":\"#1f77b4\"},\"x0\":{\"field\":\"x0\"},\"x1\":{\"field\":\"x1\"},\"y0\":{\"field\":\"y0\"},\"y1\":{\"field\":\"y1\"}},\"id\":\"1158\",\"type\":\"Segment\"},{\"attributes\":{\"data_source\":{\"id\":\"1156\",\"type\":\"ColumnDataSource\"},\"glyph\":{\"id\":\"1157\",\"type\":\"Segment\"},\"hover_glyph\":null,\"muted_glyph\":null,\"nonselection_glyph\":{\"id\":\"1158\",\"type\":\"Segment\"},\"selection_glyph\":null,\"view\":{\"id\":\"1160\",\"type\":\"CDSView\"}},\"id\":\"1159\",\"type\":\"GlyphRenderer\"},{\"attributes\":{\"callback\":null,\"factors\":[\"setosa\",\"versicolor\",\"virginica\"]},\"id\":\"1172\",\"type\":\"FactorRange\"},{\"attributes\":{\"source\":{\"id\":\"1156\",\"type\":\"ColumnDataSource\"}},\"id\":\"1160\",\"type\":\"CDSView\"},{\"attributes\":{\"callback\":null,\"data\":{\"x0\":[\"setosa\",\"versicolor\",\"virginica\"],\"x1\":[\"setosa\",\"versicolor\",\"virginica\"],\"y0\":{\"__ndarray__\":\"mpmZmZmZuT8AAAAAAADwP2ZmZmZmZvY/\",\"dtype\":\"float64\",\"shape\":[3]},\"y1\":{\"__ndarray__\":\"mpmZmZmZyT8zMzMzMzPzP83MzMzMzPw/\",\"dtype\":\"float64\",\"shape\":[3]}},\"selected\":{\"id\":\"1270\",\"type\":\"Selection\"},\"selection_policy\":{\"id\":\"1271\",\"type\":\"UnionRenderers\"}},\"id\":\"1161\",\"type\":\"ColumnDataSource\"},{\"attributes\":{},\"id\":\"1287\",\"type\":\"Selection\"},{\"attributes\":{\"x0\":{\"field\":\"x0\"},\"x1\":{\"field\":\"x1\"},\"y0\":{\"field\":\"y0\"},\"y1\":{\"field\":\"y1\"}},\"id\":\"1162\",\"type\":\"Segment\"},{\"attributes\":{},\"id\":\"1286\",\"type\":\"UnionRenderers\"},{\"attributes\":{\"plot\":null,\"text\":\"\"},\"id\":\"1250\",\"type\":\"Title\"},{\"attributes\":{\"line_alpha\":{\"value\":0.1},\"line_color\":{\"value\":\"#1f77b4\"},\"x0\":{\"field\":\"x0\"},\"x1\":{\"field\":\"x1\"},\"y0\":{\"field\":\"y0\"},\"y1\":{\"field\":\"y1\"}},\"id\":\"1163\",\"type\":\"Segment\"},{\"attributes\":{\"data_source\":{\"id\":\"1161\",\"type\":\"ColumnDataSource\"},\"glyph\":{\"id\":\"1162\",\"type\":\"Segment\"},\"hover_glyph\":null,\"muted_glyph\":null,\"nonselection_glyph\":{\"id\":\"1163\",\"type\":\"Segment\"},\"selection_glyph\":null,\"view\":{\"id\":\"1165\",\"type\":\"CDSView\"}},\"id\":\"1164\",\"type\":\"GlyphRenderer\"},{\"attributes\":{\"source\":{\"id\":\"1161\",\"type\":\"ColumnDataSource\"}},\"id\":\"1165\",\"type\":\"CDSView\"},{\"attributes\":{},\"id\":\"1254\",\"type\":\"CategoricalTickFormatter\"},{\"attributes\":{\"bottom_units\":\"screen\",\"fill_alpha\":{\"value\":0.5},\"fill_color\":{\"value\":\"lightgrey\"},\"left_units\":\"screen\",\"level\":\"overlay\",\"line_alpha\":{\"value\":1.0},\"line_color\":{\"value\":\"black\"},\"line_dash\":[4,4],\"line_width\":{\"value\":2},\"plot\":null,\"render_mode\":\"css\",\"right_units\":\"screen\",\"top_units\":\"screen\"},\"id\":\"1197\",\"type\":\"BoxAnnotation\"},{\"attributes\":{\"bottom_units\":\"screen\",\"fill_alpha\":{\"value\":0.5},\"fill_color\":{\"value\":\"lightgrey\"},\"left_units\":\"screen\",\"level\":\"overlay\",\"line_alpha\":{\"value\":1.0},\"line_color\":{\"value\":\"black\"},\"line_dash\":[4,4],\"line_width\":{\"value\":2},\"plot\":null,\"render_mode\":\"css\",\"right_units\":\"screen\",\"top_units\":\"screen\"},\"id\":\"1129\",\"type\":\"BoxAnnotation\"},{\"attributes\":{\"callback\":null,\"data\":{\"x\":[0.5,0.6],\"y\":[\"setosa\",\"setosa\"]},\"selected\":{\"id\":\"1272\",\"type\":\"Selection\"},\"selection_policy\":{\"id\":\"1273\",\"type\":\"UnionRenderers\"}},\"id\":\"1166\",\"type\":\"ColumnDataSource\"},{\"attributes\":{\"source\":{\"id\":\"1219\",\"type\":\"ColumnDataSource\"}},\"id\":\"1223\",\"type\":\"CDSView\"},{\"attributes\":{},\"id\":\"1124\",\"type\":\"SaveTool\"},{\"attributes\":{\"active_drag\":\"auto\",\"active_inspect\":\"auto\",\"active_multi\":null,\"active_scroll\":\"auto\",\"active_tap\":\"auto\",\"tools\":[{\"id\":\"1121\",\"type\":\"PanTool\"},{\"id\":\"1122\",\"type\":\"WheelZoomTool\"},{\"id\":\"1123\",\"type\":\"BoxZoomTool\"},{\"id\":\"1124\",\"type\":\"SaveTool\"},{\"id\":\"1125\",\"type\":\"ResetTool\"},{\"id\":\"1126\",\"type\":\"HelpTool\"}]},\"id\":\"1127\",\"type\":\"Toolbar\"},{\"attributes\":{\"fill_alpha\":{\"value\":0.6},\"fill_color\":{\"value\":\"#F38630\"},\"line_color\":{\"value\":\"#F38630\"},\"size\":{\"units\":\"screen\",\"value\":6},\"x\":{\"field\":\"x\"},\"y\":{\"field\":\"y\"}},\"id\":\"1167\",\"type\":\"Circle\"},{\"attributes\":{\"callback\":null,\"data\":{\"x\":[\"setosa\",\"versicolor\",\"virginica\"],\"y\":{\"__ndarray__\":\"mpmZmZmZuT8AAAAAAADwP2ZmZmZmZvY/\",\"dtype\":\"float64\",\"shape\":[3]}},\"selected\":{\"id\":\"1283\",\"type\":\"Selection\"},\"selection_policy\":{\"id\":\"1284\",\"type\":\"UnionRenderers\"}},\"id\":\"1224\",\"type\":\"ColumnDataSource\"},{\"attributes\":{\"fill_alpha\":{\"value\":0.1},\"fill_color\":{\"value\":\"#1f77b4\"},\"line_alpha\":{\"value\":0.1},\"line_color\":{\"value\":\"#1f77b4\"},\"size\":{\"units\":\"screen\",\"value\":6},\"x\":{\"field\":\"x\"},\"y\":{\"field\":\"y\"}},\"id\":\"1168\",\"type\":\"Circle\"},{\"attributes\":{\"fill_color\":{\"value\":\"#1f77b4\"},\"height\":{\"units\":\"data\",\"value\":0.01},\"width\":{\"units\":\"data\",\"value\":0.2},\"x\":{\"field\":\"x\"},\"y\":{\"field\":\"y\"}},\"id\":\"1225\",\"type\":\"Rect\"},{\"attributes\":{\"plot\":null,\"text\":\"\"},\"id\":\"1248\",\"type\":\"Title\"},{\"attributes\":{},\"id\":\"1125\",\"type\":\"ResetTool\"},{\"attributes\":{},\"id\":\"1277\",\"type\":\"Selection\"},{\"attributes\":{\"data_source\":{\"id\":\"1166\",\"type\":\"ColumnDataSource\"},\"glyph\":{\"id\":\"1167\",\"type\":\"Circle\"},\"hover_glyph\":null,\"muted_glyph\":null,\"nonselection_glyph\":{\"id\":\"1168\",\"type\":\"Circle\"},\"selection_glyph\":null,\"view\":{\"id\":\"1170\",\"type\":\"CDSView\"}},\"id\":\"1169\",\"type\":\"GlyphRenderer\"},{\"attributes\":{\"fill_alpha\":{\"value\":0.1},\"fill_color\":{\"value\":\"#1f77b4\"},\"height\":{\"units\":\"data\",\"value\":0.01},\"line_alpha\":{\"value\":0.1},\"line_color\":{\"value\":\"#1f77b4\"},\"width\":{\"units\":\"data\",\"value\":0.2},\"x\":{\"field\":\"x\"},\"y\":{\"field\":\"y\"}},\"id\":\"1226\",\"type\":\"Rect\"},{\"attributes\":{\"source\":{\"id\":\"1234\",\"type\":\"ColumnDataSource\"}},\"id\":\"1238\",\"type\":\"CDSView\"},{\"attributes\":{\"data_source\":{\"id\":\"1224\",\"type\":\"ColumnDataSource\"},\"glyph\":{\"id\":\"1225\",\"type\":\"Rect\"},\"hover_glyph\":null,\"muted_glyph\":null,\"nonselection_glyph\":{\"id\":\"1226\",\"type\":\"Rect\"},\"selection_glyph\":null,\"view\":{\"id\":\"1228\",\"type\":\"CDSView\"}},\"id\":\"1227\",\"type\":\"GlyphRenderer\"},{\"attributes\":{\"source\":{\"id\":\"1166\",\"type\":\"ColumnDataSource\"}},\"id\":\"1170\",\"type\":\"CDSView\"},{\"attributes\":{},\"id\":\"1121\",\"type\":\"PanTool\"},{\"attributes\":{},\"id\":\"1178\",\"type\":\"LinearScale\"},{\"attributes\":{},\"id\":\"1126\",\"type\":\"HelpTool\"},{\"attributes\":{\"source\":{\"id\":\"1224\",\"type\":\"ColumnDataSource\"}},\"id\":\"1228\",\"type\":\"CDSView\"},{\"attributes\":{\"axis_label\":\"species\",\"formatter\":{\"id\":\"1256\",\"type\":\"CategoricalTickFormatter\"},\"major_label_text_font_size\":{\"value\":\"10pt\"},\"plot\":{\"id\":\"1171\",\"subtype\":\"Figure\",\"type\":\"Plot\"},\"ticker\":{\"id\":\"1181\",\"type\":\"CategoricalTicker\"}},\"id\":\"1180\",\"type\":\"CategoricalAxis\"},{\"attributes\":{\"callback\":null,\"data\":{\"x\":[\"setosa\",\"versicolor\",\"virginica\"],\"y\":{\"__ndarray__\":\"zMzMzMzM3D/NzMzMzMz8PwAAAAAAAARA\",\"dtype\":\"float64\",\"shape\":[3]}},\"selected\":{\"id\":\"1285\",\"type\":\"Selection\"},\"selection_policy\":{\"id\":\"1286\",\"type\":\"UnionRenderers\"}},\"id\":\"1229\",\"type\":\"ColumnDataSource\"},{\"attributes\":{},\"id\":\"1181\",\"type\":\"CategoricalTicker\"},{\"attributes\":{\"fill_color\":{\"value\":\"#1f77b4\"},\"height\":{\"units\":\"data\",\"value\":0.01},\"width\":{\"units\":\"data\",\"value\":0.2},\"x\":{\"field\":\"x\"},\"y\":{\"field\":\"y\"}},\"id\":\"1230\",\"type\":\"Rect\"},{\"attributes\":{\"grid_line_color\":{\"value\":\"grey\"},\"grid_line_width\":{\"value\":0.1},\"plot\":{\"id\":\"1171\",\"subtype\":\"Figure\",\"type\":\"Plot\"},\"ticker\":{\"id\":\"1181\",\"type\":\"CategoricalTicker\"}},\"id\":\"1183\",\"type\":\"Grid\"},{\"attributes\":{\"fill_alpha\":{\"value\":0.1},\"fill_color\":{\"value\":\"#1f77b4\"},\"height\":{\"units\":\"data\",\"value\":0.01},\"line_alpha\":{\"value\":0.1},\"line_color\":{\"value\":\"#1f77b4\"},\"width\":{\"units\":\"data\",\"value\":0.2},\"x\":{\"field\":\"x\"},\"y\":{\"field\":\"y\"}},\"id\":\"1231\",\"type\":\"Rect\"},{\"attributes\":{\"x0\":{\"field\":\"x0\"},\"x1\":{\"field\":\"x1\"},\"y0\":{\"field\":\"y0\"},\"y1\":{\"field\":\"y1\"}},\"id\":\"1205\",\"type\":\"Segment\"},{\"attributes\":{\"axis_label\":\"petal_width\",\"formatter\":{\"id\":\"1258\",\"type\":\"BasicTickFormatter\"},\"plot\":{\"id\":\"1171\",\"subtype\":\"Figure\",\"type\":\"Plot\"},\"ticker\":{\"id\":\"1185\",\"type\":\"BasicTicker\"}},\"id\":\"1184\",\"type\":\"LinearAxis\"},{\"attributes\":{\"data_source\":{\"id\":\"1229\",\"type\":\"ColumnDataSource\"},\"glyph\":{\"id\":\"1230\",\"type\":\"Rect\"},\"hover_glyph\":null,\"muted_glyph\":null,\"nonselection_glyph\":{\"id\":\"1231\",\"type\":\"Rect\"},\"selection_glyph\":null,\"view\":{\"id\":\"1233\",\"type\":\"CDSView\"}},\"id\":\"1232\",\"type\":\"GlyphRenderer\"},{\"attributes\":{\"callback\":null},\"id\":\"1174\",\"type\":\"DataRange1d\"},{\"attributes\":{},\"id\":\"1185\",\"type\":\"BasicTicker\"},{\"attributes\":{\"source\":{\"id\":\"1229\",\"type\":\"ColumnDataSource\"}},\"id\":\"1233\",\"type\":\"CDSView\"},{\"attributes\":{\"below\":[{\"id\":\"1180\",\"type\":\"CategoricalAxis\"}],\"left\":[{\"id\":\"1184\",\"type\":\"LinearAxis\"}],\"plot_height\":400,\"plot_width\":400,\"renderers\":[{\"id\":\"1180\",\"type\":\"CategoricalAxis\"},{\"id\":\"1183\",\"type\":\"Grid\"},{\"id\":\"1184\",\"type\":\"LinearAxis\"},{\"id\":\"1188\",\"type\":\"Grid\"},{\"id\":\"1197\",\"type\":\"BoxAnnotation\"},{\"id\":\"1207\",\"type\":\"GlyphRenderer\"},{\"id\":\"1212\",\"type\":\"GlyphRenderer\"},{\"id\":\"1217\",\"type\":\"GlyphRenderer\"},{\"id\":\"1222\",\"type\":\"GlyphRenderer\"},{\"id\":\"1227\",\"type\":\"GlyphRenderer\"},{\"id\":\"1232\",\"type\":\"GlyphRenderer\"},{\"id\":\"1237\",\"type\":\"GlyphRenderer\"}],\"title\":{\"id\":\"1250\",\"type\":\"Title\"},\"toolbar\":{\"id\":\"1195\",\"type\":\"Toolbar\"},\"x_range\":{\"id\":\"1172\",\"type\":\"FactorRange\"},\"x_scale\":{\"id\":\"1176\",\"type\":\"CategoricalScale\"},\"y_range\":{\"id\":\"1174\",\"type\":\"DataRange1d\"},\"y_scale\":{\"id\":\"1178\",\"type\":\"LinearScale\"}},\"id\":\"1171\",\"subtype\":\"Figure\",\"type\":\"Plot\"},{\"attributes\":{\"dimension\":1,\"grid_line_color\":{\"value\":\"grey\"},\"grid_line_width\":{\"value\":0.1},\"plot\":{\"id\":\"1171\",\"subtype\":\"Figure\",\"type\":\"Plot\"},\"ticker\":{\"id\":\"1185\",\"type\":\"BasicTicker\"}},\"id\":\"1188\",\"type\":\"Grid\"},{\"attributes\":{\"callback\":null,\"data\":{\"x\":[\"setosa\",\"setosa\"],\"y\":[0.5,0.6]},\"selected\":{\"id\":\"1287\",\"type\":\"Selection\"},\"selection_policy\":{\"id\":\"1288\",\"type\":\"UnionRenderers\"}},\"id\":\"1234\",\"type\":\"ColumnDataSource\"},{\"attributes\":{},\"id\":\"1113\",\"type\":\"BasicTicker\"},{\"attributes\":{\"grid_line_color\":{\"value\":\"grey\"},\"grid_line_width\":{\"value\":0.1},\"plot\":{\"id\":\"1103\",\"subtype\":\"Figure\",\"type\":\"Plot\"},\"ticker\":{\"id\":\"1113\",\"type\":\"BasicTicker\"}},\"id\":\"1116\",\"type\":\"Grid\"},{\"attributes\":{\"fill_alpha\":{\"value\":0.6},\"fill_color\":{\"value\":\"#F38630\"},\"line_color\":{\"value\":\"#F38630\"},\"size\":{\"units\":\"screen\",\"value\":6},\"x\":{\"field\":\"x\"},\"y\":{\"field\":\"y\"}},\"id\":\"1235\",\"type\":\"Circle\"},{\"attributes\":{},\"id\":\"1122\",\"type\":\"WheelZoomTool\"},{\"attributes\":{},\"id\":\"1266\",\"type\":\"Selection\"},{\"attributes\":{},\"id\":\"1267\",\"type\":\"UnionRenderers\"},{\"attributes\":{},\"id\":\"1260\",\"type\":\"Selection\"},{\"attributes\":{},\"id\":\"1258\",\"type\":\"BasicTickFormatter\"},{\"attributes\":{},\"id\":\"1268\",\"type\":\"Selection\"},{\"attributes\":{},\"id\":\"1261\",\"type\":\"UnionRenderers\"},{\"attributes\":{},\"id\":\"1176\",\"type\":\"CategoricalScale\"},{\"attributes\":{},\"id\":\"1263\",\"type\":\"UnionRenderers\"},{\"attributes\":{},\"id\":\"1269\",\"type\":\"UnionRenderers\"},{\"attributes\":{\"callback\":null,\"data\":{\"x0\":[\"setosa\",\"versicolor\",\"virginica\"],\"x1\":[\"setosa\",\"versicolor\",\"virginica\"],\"y0\":{\"__ndarray__\":\"zMzMzMzM3D/NzMzMzMz8PwAAAAAAAARA\",\"dtype\":\"float64\",\"shape\":[3]},\"y1\":{\"__ndarray__\":\"MzMzMzMz0z8AAAAAAAD4P2ZmZmZmZgJA\",\"dtype\":\"float64\",\"shape\":[3]}},\"selected\":{\"id\":\"1275\",\"type\":\"Selection\"},\"selection_policy\":{\"id\":\"1276\",\"type\":\"UnionRenderers\"}},\"id\":\"1204\",\"type\":\"ColumnDataSource\"},{\"attributes\":{},\"id\":\"1278\",\"type\":\"UnionRenderers\"},{\"attributes\":{\"fill_alpha\":{\"value\":0.1},\"fill_color\":{\"value\":\"#1f77b4\"},\"line_alpha\":{\"value\":0.1},\"line_color\":{\"value\":\"#1f77b4\"},\"size\":{\"units\":\"screen\",\"value\":6},\"x\":{\"field\":\"x\"},\"y\":{\"field\":\"y\"}},\"id\":\"1236\",\"type\":\"Circle\"},{\"attributes\":{},\"id\":\"1270\",\"type\":\"Selection\"},{\"attributes\":{},\"id\":\"1256\",\"type\":\"CategoricalTickFormatter\"},{\"attributes\":{\"line_alpha\":{\"value\":0.1},\"line_color\":{\"value\":\"#1f77b4\"},\"x0\":{\"field\":\"x0\"},\"x1\":{\"field\":\"x1\"},\"y0\":{\"field\":\"y0\"},\"y1\":{\"field\":\"y1\"}},\"id\":\"1206\",\"type\":\"Segment\"},{\"attributes\":{},\"id\":\"1271\",\"type\":\"UnionRenderers\"},{\"attributes\":{\"data_source\":{\"id\":\"1204\",\"type\":\"ColumnDataSource\"},\"glyph\":{\"id\":\"1205\",\"type\":\"Segment\"},\"hover_glyph\":null,\"muted_glyph\":null,\"nonselection_glyph\":{\"id\":\"1206\",\"type\":\"Segment\"},\"selection_glyph\":null,\"view\":{\"id\":\"1208\",\"type\":\"CDSView\"}},\"id\":\"1207\",\"type\":\"GlyphRenderer\"},{\"attributes\":{},\"id\":\"1272\",\"type\":\"Selection\"},{\"attributes\":{\"source\":{\"id\":\"1204\",\"type\":\"ColumnDataSource\"}},\"id\":\"1208\",\"type\":\"CDSView\"},{\"attributes\":{},\"id\":\"1273\",\"type\":\"UnionRenderers\"},{\"attributes\":{},\"id\":\"1108\",\"type\":\"LinearScale\"},{\"attributes\":{},\"id\":\"1275\",\"type\":\"Selection\"},{\"attributes\":{\"callback\":null,\"data\":{\"x0\":[\"setosa\",\"versicolor\",\"virginica\"],\"x1\":[\"setosa\",\"versicolor\",\"virginica\"],\"y0\":{\"__ndarray__\":\"mpmZmZmZuT8AAAAAAADwP2ZmZmZmZvY/\",\"dtype\":\"float64\",\"shape\":[3]},\"y1\":{\"__ndarray__\":\"mpmZmZmZyT8zMzMzMzPzP83MzMzMzPw/\",\"dtype\":\"float64\",\"shape\":[3]}},\"selected\":{\"id\":\"1277\",\"type\":\"Selection\"},\"selection_policy\":{\"id\":\"1278\",\"type\":\"UnionRenderers\"}},\"id\":\"1209\",\"type\":\"ColumnDataSource\"},{\"attributes\":{},\"id\":\"1276\",\"type\":\"UnionRenderers\"},{\"attributes\":{\"x0\":{\"field\":\"x0\"},\"x1\":{\"field\":\"x1\"},\"y0\":{\"field\":\"y0\"},\"y1\":{\"field\":\"y1\"}},\"id\":\"1210\",\"type\":\"Segment\"},{\"attributes\":{\"line_alpha\":{\"value\":0.1},\"line_color\":{\"value\":\"#1f77b4\"},\"x0\":{\"field\":\"x0\"},\"x1\":{\"field\":\"x1\"},\"y0\":{\"field\":\"y0\"},\"y1\":{\"field\":\"y1\"}},\"id\":\"1211\",\"type\":\"Segment\"},{\"attributes\":{\"callback\":null,\"factors\":[\"setosa\",\"versicolor\",\"virginica\"]},\"id\":\"1106\",\"type\":\"FactorRange\"},{\"attributes\":{},\"id\":\"1279\",\"type\":\"Selection\"},{\"attributes\":{\"data_source\":{\"id\":\"1209\",\"type\":\"ColumnDataSource\"},\"glyph\":{\"id\":\"1210\",\"type\":\"Segment\"},\"hover_glyph\":null,\"muted_glyph\":null,\"nonselection_glyph\":{\"id\":\"1211\",\"type\":\"Segment\"},\"selection_glyph\":null,\"view\":{\"id\":\"1213\",\"type\":\"CDSView\"}},\"id\":\"1212\",\"type\":\"GlyphRenderer\"},{\"attributes\":{},\"id\":\"1262\",\"type\":\"Selection\"},{\"attributes\":{\"source\":{\"id\":\"1209\",\"type\":\"ColumnDataSource\"}},\"id\":\"1213\",\"type\":\"CDSView\"},{\"attributes\":{\"callback\":null},\"id\":\"1104\",\"type\":\"DataRange1d\"},{\"attributes\":{},\"id\":\"1110\",\"type\":\"CategoricalScale\"},{\"attributes\":{},\"id\":\"1118\",\"type\":\"CategoricalTicker\"},{\"attributes\":{\"callback\":null,\"data\":{\"bottom\":{\"__ndarray__\":\"MzMzMzMz0z8AAAAAAAD4P2ZmZmZmZgJA\",\"dtype\":\"float64\",\"shape\":[3]},\"top\":{\"__ndarray__\":\"mpmZmZmZyT/NzMzMzMz0PwAAAAAAAABA\",\"dtype\":\"float64\",\"shape\":[3]},\"x\":[\"setosa\",\"versicolor\",\"virginica\"]},\"selected\":{\"id\":\"1279\",\"type\":\"Selection\"},\"selection_policy\":{\"id\":\"1280\",\"type\":\"UnionRenderers\"}},\"id\":\"1214\",\"type\":\"ColumnDataSource\"},{\"attributes\":{\"bottom\":{\"field\":\"bottom\"},\"fill_color\":{\"value\":\"#00FFFF\"},\"top\":{\"field\":\"top\"},\"width\":{\"value\":0.7},\"x\":{\"field\":\"x\"}},\"id\":\"1215\",\"type\":\"VBar\"},{\"attributes\":{\"axis_label\":\"petal_width\",\"formatter\":{\"id\":\"1252\",\"type\":\"BasicTickFormatter\"},\"major_label_text_font_size\":{\"value\":\"10pt\"},\"plot\":{\"id\":\"1103\",\"subtype\":\"Figure\",\"type\":\"Plot\"},\"ticker\":{\"id\":\"1113\",\"type\":\"BasicTicker\"}},\"id\":\"1112\",\"type\":\"LinearAxis\"},{\"attributes\":{\"bottom\":{\"field\":\"bottom\"},\"fill_alpha\":{\"value\":0.1},\"fill_color\":{\"value\":\"#1f77b4\"},\"line_alpha\":{\"value\":0.1},\"line_color\":{\"value\":\"#1f77b4\"},\"top\":{\"field\":\"top\"},\"width\":{\"value\":0.7},\"x\":{\"field\":\"x\"}},\"id\":\"1216\",\"type\":\"VBar\"},{\"attributes\":{\"axis_label\":\"species\",\"formatter\":{\"id\":\"1254\",\"type\":\"CategoricalTickFormatter\"},\"plot\":{\"id\":\"1103\",\"subtype\":\"Figure\",\"type\":\"Plot\"},\"ticker\":{\"id\":\"1118\",\"type\":\"CategoricalTicker\"}},\"id\":\"1117\",\"type\":\"CategoricalAxis\"},{\"attributes\":{\"data_source\":{\"id\":\"1214\",\"type\":\"ColumnDataSource\"},\"glyph\":{\"id\":\"1215\",\"type\":\"VBar\"},\"hover_glyph\":null,\"muted_glyph\":null,\"nonselection_glyph\":{\"id\":\"1216\",\"type\":\"VBar\"},\"selection_glyph\":null,\"view\":{\"id\":\"1218\",\"type\":\"CDSView\"}},\"id\":\"1217\",\"type\":\"GlyphRenderer\"},{\"attributes\":{\"data_source\":{\"id\":\"1234\",\"type\":\"ColumnDataSource\"},\"glyph\":{\"id\":\"1235\",\"type\":\"Circle\"},\"hover_glyph\":null,\"muted_glyph\":null,\"nonselection_glyph\":{\"id\":\"1236\",\"type\":\"Circle\"},\"selection_glyph\":null,\"view\":{\"id\":\"1238\",\"type\":\"CDSView\"}},\"id\":\"1237\",\"type\":\"GlyphRenderer\"},{\"attributes\":{\"source\":{\"id\":\"1214\",\"type\":\"ColumnDataSource\"}},\"id\":\"1218\",\"type\":\"CDSView\"},{\"attributes\":{},\"id\":\"1280\",\"type\":\"UnionRenderers\"},{\"attributes\":{\"callback\":null,\"data\":{\"bottom\":{\"__ndarray__\":\"mpmZmZmZyT/NzMzMzMz0PwAAAAAAAABA\",\"dtype\":\"float64\",\"shape\":[3]},\"top\":{\"__ndarray__\":\"mpmZmZmZyT8zMzMzMzPzP83MzMzMzPw/\",\"dtype\":\"float64\",\"shape\":[3]},\"x\":[\"setosa\",\"versicolor\",\"virginica\"]},\"selected\":{\"id\":\"1281\",\"type\":\"Selection\"},\"selection_policy\":{\"id\":\"1282\",\"type\":\"UnionRenderers\"}},\"id\":\"1219\",\"type\":\"ColumnDataSource\"},{\"attributes\":{},\"id\":\"1281\",\"type\":\"Selection\"},{\"attributes\":{\"below\":[{\"id\":\"1112\",\"type\":\"LinearAxis\"}],\"left\":[{\"id\":\"1117\",\"type\":\"CategoricalAxis\"}],\"plot_height\":400,\"plot_width\":400,\"renderers\":[{\"id\":\"1112\",\"type\":\"LinearAxis\"},{\"id\":\"1116\",\"type\":\"Grid\"},{\"id\":\"1117\",\"type\":\"CategoricalAxis\"},{\"id\":\"1120\",\"type\":\"Grid\"},{\"id\":\"1129\",\"type\":\"BoxAnnotation\"},{\"id\":\"1139\",\"type\":\"GlyphRenderer\"},{\"id\":\"1144\",\"type\":\"GlyphRenderer\"},{\"id\":\"1149\",\"type\":\"GlyphRenderer\"},{\"id\":\"1154\",\"type\":\"GlyphRenderer\"},{\"id\":\"1159\",\"type\":\"GlyphRenderer\"},{\"id\":\"1164\",\"type\":\"GlyphRenderer\"},{\"id\":\"1169\",\"type\":\"GlyphRenderer\"}],\"title\":{\"id\":\"1248\",\"type\":\"Title\"},\"toolbar\":{\"id\":\"1127\",\"type\":\"Toolbar\"},\"x_range\":{\"id\":\"1104\",\"type\":\"DataRange1d\"},\"x_scale\":{\"id\":\"1108\",\"type\":\"LinearScale\"},\"y_range\":{\"id\":\"1106\",\"type\":\"FactorRange\"},\"y_scale\":{\"id\":\"1110\",\"type\":\"CategoricalScale\"}},\"id\":\"1103\",\"subtype\":\"Figure\",\"type\":\"Plot\"},{\"attributes\":{\"bottom\":{\"field\":\"bottom\"},\"fill_color\":{\"value\":\"#000080\"},\"top\":{\"field\":\"top\"},\"width\":{\"value\":0.7},\"x\":{\"field\":\"x\"}},\"id\":\"1220\",\"type\":\"VBar\"},{\"attributes\":{\"dimension\":1,\"grid_line_color\":{\"value\":\"grey\"},\"grid_line_width\":{\"value\":0.1},\"plot\":{\"id\":\"1103\",\"subtype\":\"Figure\",\"type\":\"Plot\"},\"ticker\":{\"id\":\"1118\",\"type\":\"CategoricalTicker\"}},\"id\":\"1120\",\"type\":\"Grid\"},{\"attributes\":{\"bottom\":{\"field\":\"bottom\"},\"fill_alpha\":{\"value\":0.1},\"fill_color\":{\"value\":\"#1f77b4\"},\"line_alpha\":{\"value\":0.1},\"line_color\":{\"value\":\"#1f77b4\"},\"top\":{\"field\":\"top\"},\"width\":{\"value\":0.7},\"x\":{\"field\":\"x\"}},\"id\":\"1221\",\"type\":\"VBar\"},{\"attributes\":{\"data_source\":{\"id\":\"1219\",\"type\":\"ColumnDataSource\"},\"glyph\":{\"id\":\"1220\",\"type\":\"VBar\"},\"hover_glyph\":null,\"muted_glyph\":null,\"nonselection_glyph\":{\"id\":\"1221\",\"type\":\"VBar\"},\"selection_glyph\":null,\"view\":{\"id\":\"1223\",\"type\":\"CDSView\"}},\"id\":\"1222\",\"type\":\"GlyphRenderer\"}],\"root_ids\":[\"1239\"]},\"title\":\"Bokeh Application\",\"version\":\"1.0.0\"}};\n",
       "  var render_items = [{\"docid\":\"95822ece-89dd-40f2-8bd1-6e19da068537\",\"roots\":{\"1239\":\"25ac92ff-7830-42c4-b2fe-23e210905035\"}}];\n",
       "  root.Bokeh.embed.embed_items_notebook(docs_json, render_items);\n",
       "\n",
       "  }\n",
       "  if (root.Bokeh !== undefined) {\n",
       "    embed_document(root);\n",
       "  } else {\n",
       "    var attempts = 0;\n",
       "    var timer = setInterval(function(root) {\n",
       "      if (root.Bokeh !== undefined) {\n",
       "        embed_document(root);\n",
       "        clearInterval(timer);\n",
       "      }\n",
       "      attempts++;\n",
       "      if (attempts > 100) {\n",
       "        console.log(\"Bokeh: ERROR: Unable to run BokehJS code because BokehJS library is missing\");\n",
       "        clearInterval(timer);\n",
       "      }\n",
       "    }, 10, root)\n",
       "  }\n",
       "})(window);"
      ],
      "application/vnd.bokehjs_exec.v0+json": ""
     },
     "metadata": {
      "application/vnd.bokehjs_exec.v0+json": {
       "id": "1239"
      }
     },
     "output_type": "display_data"
    }
   ],
   "source": [
    "p1 = figure( plot_width=400, plot_height=400, y_range=['setosa', 'versicolor', 'virginica'] )\n",
    "p1.hboxplot( flowers, 'petal_width', 'species' )\n",
    "p1.xaxis.axis_label = 'petal_width'\n",
    "p1.yaxis.axis_label = 'species'\n",
    "\n",
    "p2 = figure( plot_width=400, plot_height=400, x_range=['setosa', 'versicolor', 'virginica'] )\n",
    "p2.vboxplot( flowers, 'species', 'petal_width' )\n",
    "p2.yaxis.axis_label = 'petal_width'\n",
    "p2.xaxis.axis_label = 'species'\n",
    "\n",
    "show(row(p1,p2))\n"
   ]
  },
  {
   "cell_type": "markdown",
   "metadata": {},
   "source": [
    "**<font color=\"deeppink\">Test cases</font>**: Give three scenarios that need testing (bullet points, no implementation required).\n",
    "- Test case 1: Empty dataset\n",
    "- Test case 2: Undefined x_range set\n",
    "- Test case 3: Different quartile ranges (now hard coded at 0.25, 0.5, 0.75) would not function with other ranges"
   ]
  },
  {
   "cell_type": "markdown",
   "metadata": {},
   "source": [
    "## Exercise 1 c): Implement a histogram chart\n",
    "\n",
    "Requirements:\n",
    "- **Parameters**: The function accepts (at least) the following parameters:\n",
    "    - **source**: a pandas DataFrameObject that holds the data\n",
    "    - **x**: variable (name as string) to be represented on the x-axis\n",
    "    - **nbins**: number of bins (optional argument). If not provided set a meaningful default.\n",
    "- **Data type**: Provide histograms for categorical and quantitative data.\n",
    "- **Scaling**: The y-axis shall give probabilities (0,1). Scale the axis to show the full range, e.g., (-0.05,1.05).\n",
    "- **Calling the histogram**: The function is a class method of Figure and can be called as follows\n",
    "```python\n",
    "p = figure()\n",
    "p.histogram( data, x )\n",
    "```\n",
    "\n",
    "Hints:\n",
    "- Assume that all categorical data has type string. Respective columns in the data can be converted using:\n",
    "```\n",
    "df.var = df.var.astype('str')\n",
    "```\n",
    "\n",
    "**<font color=\"deeppink\">Implement</font>**"
   ]
  },
  {
   "cell_type": "code",
   "execution_count": 19,
   "metadata": {},
   "outputs": [],
   "source": [
    "from bokeh.models import Range1d, FactorRange\n",
    "\n",
    "def histogram( self, source, x, nbins=0, *args, **kwargs ):  \n",
    "    if not isinstance(source, pd.DataFrame ):\n",
    "        raise TypeError(\"source has to be a pandas.DataFrame. Received \", type(df))\n",
    "    \n",
    "    # in case of none\n",
    "    if nbins == 0:\n",
    "        nbins = 30\n",
    "    \n",
    "    data = source[x]\n",
    "    if isinstance(data[1], float):\n",
    "        hist, edges = np.histogram(data, density=True, bins=nbins)\n",
    "        self.quad(top=hist, bottom=0, left=edges[:-1], right=edges[1:])\n",
    "        label = Label( x=50, y=50, x_units='screen', y_units='screen',\n",
    "                     render_mode='css')\n",
    "        self.add_layout(label)\n",
    "    else:\n",
    "        \n",
    "        categorical_data = data.value_counts().to_frame('count')/len(data)\n",
    "        self.vbar(source=categorical_data, x='index'[:20], width=1, bottom=0, top='count',fill_color='cornflowerblue')\n",
    "        \n",
    "Figure.histogram = histogram"
   ]
  },
  {
   "cell_type": "markdown",
   "metadata": {},
   "source": [
    "**<font color=\"deeppink\">Check</font>** your histogram"
   ]
  },
  {
   "cell_type": "code",
   "execution_count": 21,
   "metadata": {},
   "outputs": [
    {
     "data": {
      "text/html": [
       "\n",
       "\n",
       "\n",
       "\n",
       "\n",
       "\n",
       "  <div class=\"bk-root\" id=\"80c35d2d-b8b4-4ac4-b5c1-9eca4b4017b5\"></div>\n"
      ]
     },
     "metadata": {},
     "output_type": "display_data"
    },
    {
     "data": {
      "application/javascript": [
       "(function(root) {\n",
       "  function embed_document(root) {\n",
       "    \n",
       "  var docs_json = {\"39318924-cf06-4581-898d-c0f87532bc95\":{\"roots\":{\"references\":[{\"attributes\":{\"children\":[{\"id\":\"3170\",\"subtype\":\"Figure\",\"type\":\"Plot\"},{\"id\":\"3210\",\"subtype\":\"Figure\",\"type\":\"Plot\"},{\"id\":\"3249\",\"subtype\":\"Figure\",\"type\":\"Plot\"}]},\"id\":\"3288\",\"type\":\"Column\"},{\"attributes\":{\"source\":{\"id\":\"3243\",\"type\":\"ColumnDataSource\"}},\"id\":\"3248\",\"type\":\"CDSView\"},{\"attributes\":{},\"id\":\"3463\",\"type\":\"BasicTickFormatter\"},{\"attributes\":{\"callback\":null,\"factors\":[\"amc ambassador brougham\",\"amc ambassador dpl\",\"amc ambassador sst\",\"amc concord\",\"amc concord d/l\",\"amc concord dl 6\",\"amc gremlin\",\"amc hornet\",\"amc hornet sportabout (sw)\",\"amc matador\",\"amc matador (sw)\",\"amc pacer\",\"amc pacer d/l\",\"amc rebel sst\",\"amc spirit dl\",\"audi 100 ls\",\"audi 100ls\",\"audi 4000\",\"audi 5000\",\"audi 5000s (diesel)\",\"audi fox\",\"bmw 2002\",\"bmw 320i\",\"buick century\",\"buick century 350\",\"buick century limited\",\"buick century luxus (sw)\",\"buick century special\",\"buick electra 225 custom\",\"buick estate wagon (sw)\",\"buick lesabre custom\",\"buick opel isuzu deluxe\",\"buick regal sport coupe (turbo)\",\"buick skyhawk\",\"buick skylark\",\"buick skylark 320\",\"buick skylark limited\",\"cadillac eldorado\",\"cadillac seville\",\"capri ii\",\"chevroelt chevelle malibu\",\"chevrolet bel air\",\"chevrolet camaro\",\"chevrolet caprice classic\",\"chevrolet cavalier\",\"chevrolet cavalier 2-door\",\"chevrolet cavalier wagon\",\"chevrolet chevelle concours (sw)\",\"chevrolet chevelle malibu\",\"chevrolet chevelle malibu classic\",\"chevrolet chevette\",\"chevrolet citation\",\"chevrolet concours\",\"chevrolet impala\",\"chevrolet malibu\",\"chevrolet malibu classic (sw)\",\"chevrolet monte carlo\",\"chevrolet monte carlo landau\",\"chevrolet monte carlo s\",\"chevrolet monza 2+2\",\"chevrolet nova\",\"chevrolet nova custom\",\"chevrolet vega\",\"chevrolet vega (sw)\",\"chevrolet vega 2300\",\"chevrolet woody\",\"chevy c10\",\"chevy c20\",\"chevy s-10\",\"chrysler cordoba\",\"chrysler lebaron medallion\",\"chrysler lebaron salon\",\"chrysler lebaron town @ country (sw)\",\"chrysler new yorker brougham\",\"chrysler newport royal\",\"datsun 1200\",\"datsun 200-sx\",\"datsun 200sx\",\"datsun 210\",\"datsun 210 mpg\",\"datsun 280-zx\",\"datsun 310\",\"datsun 310 gx\",\"datsun 510\",\"datsun 510 (sw)\",\"datsun 510 hatchback\",\"datsun 610\",\"datsun 710\",\"datsun 810\",\"datsun 810 maxima\",\"datsun b-210\",\"datsun b210\",\"datsun b210 gx\",\"datsun f-10 hatchback\",\"datsun pl510\",\"dodge aries se\",\"dodge aries wagon (sw)\",\"dodge aspen\",\"dodge aspen 6\",\"dodge aspen se\",\"dodge challenger se\",\"dodge charger 2.2\",\"dodge colt\",\"dodge colt (sw)\",\"dodge colt hardtop\",\"dodge colt hatchback custom\",\"dodge colt m/m\",\"dodge coronet brougham\",\"dodge coronet custom\",\"dodge coronet custom (sw)\",\"dodge d100\",\"dodge d200\",\"dodge dart custom\",\"dodge diplomat\",\"dodge magnum xe\",\"dodge monaco (sw)\",\"dodge monaco brougham\",\"dodge omni\",\"dodge rampage\",\"dodge st. regis\",\"fiat 124 sport coupe\",\"fiat 124 tc\",\"fiat 124b\",\"fiat 128\",\"fiat 131\",\"fiat strada custom\",\"fiat x1.9\",\"ford country\",\"ford country squire (sw)\",\"ford escort 2h\",\"ford escort 4w\",\"ford f108\",\"ford f250\",\"ford fairmont\",\"ford fairmont (auto)\",\"ford fairmont (man)\",\"ford fairmont 4\",\"ford fairmont futura\",\"ford fiesta\",\"ford futura\",\"ford galaxie 500\",\"ford gran torino\",\"ford gran torino (sw)\",\"ford granada\",\"ford granada ghia\",\"ford granada gl\",\"ford granada l\",\"ford ltd\",\"ford ltd landau\",\"ford maverick\",\"ford mustang\",\"ford mustang gl\",\"ford mustang ii\",\"ford mustang ii 2+2\",\"ford pinto\",\"ford pinto (sw)\",\"ford pinto runabout\",\"ford ranger\",\"ford thunderbird\",\"ford torino\",\"ford torino 500\",\"hi 1200d\",\"honda accord\",\"honda accord cvcc\",\"honda accord lx\",\"honda civic\",\"honda civic (auto)\",\"honda civic 1300\",\"honda civic 1500 gl\",\"honda civic cvcc\",\"honda prelude\",\"maxda glc deluxe\",\"maxda rx3\",\"mazda 626\",\"mazda glc\",\"mazda glc 4\",\"mazda glc custom\",\"mazda glc custom l\",\"mazda glc deluxe\",\"mazda rx-4\",\"mazda rx-7 gs\",\"mazda rx2 coupe\",\"mercedes benz 300d\",\"mercedes-benz 240d\",\"mercedes-benz 280s\",\"mercury capri 2000\",\"mercury capri v6\",\"mercury cougar brougham\",\"mercury grand marquis\",\"mercury lynx l\",\"mercury marquis\",\"mercury marquis brougham\",\"mercury monarch\",\"mercury monarch ghia\",\"mercury zephyr\",\"mercury zephyr 6\",\"nissan stanza xe\",\"oldsmobile cutlass ciera (diesel)\",\"oldsmobile cutlass ls\",\"oldsmobile cutlass salon brougham\",\"oldsmobile cutlass supreme\",\"oldsmobile delta 88 royale\",\"oldsmobile omega\",\"oldsmobile omega brougham\",\"oldsmobile starfire sx\",\"oldsmobile vista cruiser\",\"opel 1900\",\"opel manta\",\"peugeot 304\",\"peugeot 504\",\"peugeot 504 (sw)\",\"peugeot 505s turbo diesel\",\"peugeot 604sl\",\"plymouth 'cuda 340\",\"plymouth arrow gs\",\"plymouth champ\",\"plymouth cricket\",\"plymouth custom suburb\",\"plymouth duster\",\"plymouth fury\",\"plymouth fury gran sedan\",\"plymouth fury iii\",\"plymouth grand fury\",\"plymouth horizon\",\"plymouth horizon 4\",\"plymouth horizon miser\",\"plymouth horizon tc3\",\"plymouth reliant\",\"plymouth sapporo\",\"plymouth satellite\",\"plymouth satellite custom\",\"plymouth satellite custom (sw)\",\"plymouth satellite sebring\",\"plymouth valiant\",\"plymouth valiant custom\",\"plymouth volare\",\"plymouth volare custom\",\"plymouth volare premier v8\",\"pontiac astro\",\"pontiac catalina\",\"pontiac catalina brougham\",\"pontiac firebird\",\"pontiac grand prix\",\"pontiac grand prix lj\",\"pontiac j2000 se hatchback\",\"pontiac lemans v6\",\"pontiac phoenix\",\"pontiac phoenix lj\",\"pontiac safari (sw)\",\"pontiac sunbird coupe\",\"pontiac ventura sj\",\"renault 12 (sw)\",\"renault 12tl\",\"renault 5 gtl\",\"saab 99e\",\"saab 99gle\",\"saab 99le\",\"subaru\",\"subaru dl\",\"toyota carina\",\"toyota celica gt\",\"toyota celica gt liftback\",\"toyota corolla\",\"toyota corolla 1200\",\"toyota corolla 1600 (sw)\",\"toyota corolla liftback\",\"toyota corolla tercel\",\"toyota corona\",\"toyota corona hardtop\",\"toyota corona liftback\",\"toyota corona mark ii\",\"toyota cressida\",\"toyota mark ii\",\"toyota starlet\",\"toyota tercel\",\"toyouta corona mark ii (sw)\",\"triumph tr7 coupe\",\"vokswagen rabbit\",\"volkswagen 1131 deluxe sedan\",\"volkswagen 411 (sw)\",\"volkswagen dasher\",\"volkswagen jetta\",\"volkswagen model 111\",\"volkswagen rabbit\",\"volkswagen rabbit custom\",\"volkswagen rabbit custom diesel\",\"volkswagen rabbit l\",\"volkswagen scirocco\",\"volkswagen super beetle\",\"volkswagen type 3\",\"volvo 144ea\",\"volvo 145e (sw)\",\"volvo 244dl\",\"volvo 245\",\"volvo 264gl\",\"volvo diesel\",\"vw dasher (diesel)\",\"vw pickup\",\"vw rabbit\",\"vw rabbit c (diesel)\",\"vw rabbit custom\"]},\"id\":\"3250\",\"type\":\"FactorRange\"},{\"attributes\":{},\"id\":\"3465\",\"type\":\"Selection\"},{\"attributes\":{\"callback\":null},\"id\":\"3252\",\"type\":\"DataRange1d\"},{\"attributes\":{\"below\":[{\"id\":\"3258\",\"type\":\"CategoricalAxis\"}],\"left\":[{\"id\":\"3262\",\"type\":\"LinearAxis\"}],\"plot_width\":2500,\"renderers\":[{\"id\":\"3258\",\"type\":\"CategoricalAxis\"},{\"id\":\"3261\",\"type\":\"Grid\"},{\"id\":\"3262\",\"type\":\"LinearAxis\"},{\"id\":\"3266\",\"type\":\"Grid\"},{\"id\":\"3275\",\"type\":\"BoxAnnotation\"},{\"id\":\"3286\",\"type\":\"GlyphRenderer\"}],\"title\":{\"id\":\"3451\",\"type\":\"Title\"},\"toolbar\":{\"id\":\"3273\",\"type\":\"Toolbar\"},\"x_range\":{\"id\":\"3250\",\"type\":\"FactorRange\"},\"x_scale\":{\"id\":\"3254\",\"type\":\"CategoricalScale\"},\"y_range\":{\"id\":\"3252\",\"type\":\"DataRange1d\"},\"y_scale\":{\"id\":\"3256\",\"type\":\"LinearScale\"}},\"id\":\"3249\",\"subtype\":\"Figure\",\"type\":\"Plot\"},{\"attributes\":{},\"id\":\"3466\",\"type\":\"UnionRenderers\"},{\"attributes\":{},\"id\":\"3254\",\"type\":\"CategoricalScale\"},{\"attributes\":{},\"id\":\"3256\",\"type\":\"LinearScale\"},{\"attributes\":{\"axis_label\":\"name\",\"formatter\":{\"id\":\"3461\",\"type\":\"CategoricalTickFormatter\"},\"major_label_orientation\":\"vertical\",\"plot\":{\"id\":\"3249\",\"subtype\":\"Figure\",\"type\":\"Plot\"},\"ticker\":{\"id\":\"3259\",\"type\":\"CategoricalTicker\"}},\"id\":\"3258\",\"type\":\"CategoricalAxis\"},{\"attributes\":{},\"id\":\"3259\",\"type\":\"CategoricalTicker\"},{\"attributes\":{\"plot\":{\"id\":\"3249\",\"subtype\":\"Figure\",\"type\":\"Plot\"},\"ticker\":{\"id\":\"3259\",\"type\":\"CategoricalTicker\"}},\"id\":\"3261\",\"type\":\"Grid\"},{\"attributes\":{\"formatter\":{\"id\":\"3463\",\"type\":\"BasicTickFormatter\"},\"plot\":{\"id\":\"3249\",\"subtype\":\"Figure\",\"type\":\"Plot\"},\"ticker\":{\"id\":\"3263\",\"type\":\"BasicTicker\"}},\"id\":\"3262\",\"type\":\"LinearAxis\"},{\"attributes\":{},\"id\":\"3263\",\"type\":\"BasicTicker\"},{\"attributes\":{\"dimension\":1,\"plot\":{\"id\":\"3249\",\"subtype\":\"Figure\",\"type\":\"Plot\"},\"ticker\":{\"id\":\"3263\",\"type\":\"BasicTicker\"}},\"id\":\"3266\",\"type\":\"Grid\"},{\"attributes\":{},\"id\":\"3469\",\"type\":\"UnionRenderers\"},{\"attributes\":{\"active_drag\":\"auto\",\"active_inspect\":\"auto\",\"active_multi\":null,\"active_scroll\":\"auto\",\"active_tap\":\"auto\",\"tools\":[{\"id\":\"3267\",\"type\":\"PanTool\"},{\"id\":\"3268\",\"type\":\"WheelZoomTool\"},{\"id\":\"3269\",\"type\":\"BoxZoomTool\"},{\"id\":\"3270\",\"type\":\"SaveTool\"},{\"id\":\"3271\",\"type\":\"ResetTool\"},{\"id\":\"3272\",\"type\":\"HelpTool\"}]},\"id\":\"3273\",\"type\":\"Toolbar\"},{\"attributes\":{},\"id\":\"3267\",\"type\":\"PanTool\"},{\"attributes\":{},\"id\":\"3268\",\"type\":\"WheelZoomTool\"},{\"attributes\":{\"overlay\":{\"id\":\"3275\",\"type\":\"BoxAnnotation\"}},\"id\":\"3269\",\"type\":\"BoxZoomTool\"},{\"attributes\":{},\"id\":\"3270\",\"type\":\"SaveTool\"},{\"attributes\":{\"overlay\":{\"id\":\"3197\",\"type\":\"BoxAnnotation\"}},\"id\":\"3191\",\"type\":\"BoxZoomTool\"},{\"attributes\":{},\"id\":\"3271\",\"type\":\"ResetTool\"},{\"attributes\":{},\"id\":\"3272\",\"type\":\"HelpTool\"},{\"attributes\":{\"bottom_units\":\"screen\",\"fill_alpha\":{\"value\":0.5},\"fill_color\":{\"value\":\"lightgrey\"},\"left_units\":\"screen\",\"level\":\"overlay\",\"line_alpha\":{\"value\":1.0},\"line_color\":{\"value\":\"black\"},\"line_dash\":[4,4],\"line_width\":{\"value\":2},\"plot\":null,\"render_mode\":\"css\",\"right_units\":\"screen\",\"top_units\":\"screen\"},\"id\":\"3275\",\"type\":\"BoxAnnotation\"},{\"attributes\":{\"bottom\":{\"value\":0},\"fill_alpha\":{\"value\":0.1},\"fill_color\":{\"value\":\"#1f77b4\"},\"left\":{\"field\":\"left\"},\"line_alpha\":{\"value\":0.1},\"line_color\":{\"value\":\"#1f77b4\"},\"right\":{\"field\":\"right\"},\"top\":{\"field\":\"top\"}},\"id\":\"3206\",\"type\":\"Quad\"},{\"attributes\":{\"fill_color\":{\"value\":\"cornflowerblue\"},\"line_color\":{\"value\":\"#1f77b4\"},\"top\":{\"field\":\"count\"},\"width\":{\"value\":1},\"x\":{\"field\":\"index\"}},\"id\":\"3284\",\"type\":\"VBar\"},{\"attributes\":{\"bottom\":{\"value\":0},\"fill_color\":{\"value\":\"#1f77b4\"},\"left\":{\"field\":\"left\"},\"line_color\":{\"value\":\"#1f77b4\"},\"right\":{\"field\":\"right\"},\"top\":{\"field\":\"top\"}},\"id\":\"3205\",\"type\":\"Quad\"},{\"attributes\":{\"plot\":{\"id\":\"3170\",\"subtype\":\"Figure\",\"type\":\"Plot\"},\"ticker\":{\"id\":\"3180\",\"type\":\"BasicTicker\"}},\"id\":\"3183\",\"type\":\"Grid\"},{\"attributes\":{\"axis_label\":\"probability\",\"formatter\":{\"id\":\"3455\",\"type\":\"BasicTickFormatter\"},\"plot\":{\"id\":\"3170\",\"subtype\":\"Figure\",\"type\":\"Plot\"},\"ticker\":{\"id\":\"3185\",\"type\":\"BasicTicker\"}},\"id\":\"3184\",\"type\":\"LinearAxis\"},{\"attributes\":{},\"id\":\"3468\",\"type\":\"Selection\"},{\"attributes\":{\"fill_alpha\":{\"value\":0.1},\"fill_color\":{\"value\":\"#1f77b4\"},\"line_alpha\":{\"value\":0.1},\"line_color\":{\"value\":\"#1f77b4\"},\"top\":{\"field\":\"count\"},\"width\":{\"value\":1},\"x\":{\"field\":\"index\"}},\"id\":\"3285\",\"type\":\"VBar\"},{\"attributes\":{},\"id\":\"3177\",\"type\":\"LinearScale\"},{\"attributes\":{\"callback\":null},\"id\":\"3171\",\"type\":\"DataRange1d\"},{\"attributes\":{\"data_source\":{\"id\":\"3282\",\"type\":\"ColumnDataSource\"},\"glyph\":{\"id\":\"3284\",\"type\":\"VBar\"},\"hover_glyph\":null,\"muted_glyph\":null,\"nonselection_glyph\":{\"id\":\"3285\",\"type\":\"VBar\"},\"selection_glyph\":null,\"view\":{\"id\":\"3287\",\"type\":\"CDSView\"}},\"id\":\"3286\",\"type\":\"GlyphRenderer\"},{\"attributes\":{\"below\":[{\"id\":\"3179\",\"type\":\"LinearAxis\"}],\"left\":[{\"id\":\"3184\",\"type\":\"LinearAxis\"}],\"renderers\":[{\"id\":\"3179\",\"type\":\"LinearAxis\"},{\"id\":\"3183\",\"type\":\"Grid\"},{\"id\":\"3184\",\"type\":\"LinearAxis\"},{\"id\":\"3188\",\"type\":\"Grid\"},{\"id\":\"3197\",\"type\":\"BoxAnnotation\"},{\"id\":\"3207\",\"type\":\"GlyphRenderer\"},{\"id\":\"3209\",\"type\":\"Label\"}],\"title\":{\"id\":\"3447\",\"type\":\"Title\"},\"toolbar\":{\"id\":\"3195\",\"type\":\"Toolbar\"},\"x_range\":{\"id\":\"3171\",\"type\":\"DataRange1d\"},\"x_scale\":{\"id\":\"3175\",\"type\":\"LinearScale\"},\"y_range\":{\"id\":\"3173\",\"type\":\"DataRange1d\"},\"y_scale\":{\"id\":\"3177\",\"type\":\"LinearScale\"}},\"id\":\"3170\",\"subtype\":\"Figure\",\"type\":\"Plot\"},{\"attributes\":{\"source\":{\"id\":\"3282\",\"type\":\"ColumnDataSource\"}},\"id\":\"3287\",\"type\":\"CDSView\"},{\"attributes\":{\"callback\":null},\"id\":\"3173\",\"type\":\"DataRange1d\"},{\"attributes\":{\"plot\":null,\"text\":\"\"},\"id\":\"3449\",\"type\":\"Title\"},{\"attributes\":{\"plot\":null,\"text\":\"\"},\"id\":\"3451\",\"type\":\"Title\"},{\"attributes\":{},\"id\":\"3453\",\"type\":\"BasicTickFormatter\"},{\"attributes\":{},\"id\":\"3180\",\"type\":\"BasicTicker\"},{\"attributes\":{\"axis_label\":\"sepal_length\",\"formatter\":{\"id\":\"3453\",\"type\":\"BasicTickFormatter\"},\"plot\":{\"id\":\"3170\",\"subtype\":\"Figure\",\"type\":\"Plot\"},\"ticker\":{\"id\":\"3180\",\"type\":\"BasicTicker\"}},\"id\":\"3179\",\"type\":\"LinearAxis\"},{\"attributes\":{},\"id\":\"3455\",\"type\":\"BasicTickFormatter\"},{\"attributes\":{},\"id\":\"3185\",\"type\":\"BasicTicker\"},{\"attributes\":{},\"id\":\"3457\",\"type\":\"CategoricalTickFormatter\"},{\"attributes\":{},\"id\":\"3175\",\"type\":\"LinearScale\"},{\"attributes\":{\"dimension\":1,\"plot\":{\"id\":\"3170\",\"subtype\":\"Figure\",\"type\":\"Plot\"},\"ticker\":{\"id\":\"3185\",\"type\":\"BasicTicker\"}},\"id\":\"3188\",\"type\":\"Grid\"},{\"attributes\":{},\"id\":\"3459\",\"type\":\"BasicTickFormatter\"},{\"attributes\":{},\"id\":\"3461\",\"type\":\"CategoricalTickFormatter\"},{\"attributes\":{\"active_drag\":\"auto\",\"active_inspect\":\"auto\",\"active_multi\":null,\"active_scroll\":\"auto\",\"active_tap\":\"auto\",\"tools\":[{\"id\":\"3189\",\"type\":\"PanTool\"},{\"id\":\"3190\",\"type\":\"WheelZoomTool\"},{\"id\":\"3191\",\"type\":\"BoxZoomTool\"},{\"id\":\"3192\",\"type\":\"SaveTool\"},{\"id\":\"3193\",\"type\":\"ResetTool\"},{\"id\":\"3194\",\"type\":\"HelpTool\"}]},\"id\":\"3195\",\"type\":\"Toolbar\"},{\"attributes\":{},\"id\":\"3189\",\"type\":\"PanTool\"},{\"attributes\":{},\"id\":\"3190\",\"type\":\"WheelZoomTool\"},{\"attributes\":{},\"id\":\"3192\",\"type\":\"SaveTool\"},{\"attributes\":{},\"id\":\"3193\",\"type\":\"ResetTool\"},{\"attributes\":{},\"id\":\"3194\",\"type\":\"HelpTool\"},{\"attributes\":{},\"id\":\"3472\",\"type\":\"UnionRenderers\"},{\"attributes\":{\"bottom_units\":\"screen\",\"fill_alpha\":{\"value\":0.5},\"fill_color\":{\"value\":\"lightgrey\"},\"left_units\":\"screen\",\"level\":\"overlay\",\"line_alpha\":{\"value\":1.0},\"line_color\":{\"value\":\"black\"},\"line_dash\":[4,4],\"line_width\":{\"value\":2},\"plot\":null,\"render_mode\":\"css\",\"right_units\":\"screen\",\"top_units\":\"screen\"},\"id\":\"3197\",\"type\":\"BoxAnnotation\"},{\"attributes\":{\"fill_color\":{\"value\":\"cornflowerblue\"},\"line_color\":{\"value\":\"#1f77b4\"},\"top\":{\"field\":\"count\"},\"width\":{\"value\":1},\"x\":{\"field\":\"index\"}},\"id\":\"3245\",\"type\":\"VBar\"},{\"attributes\":{\"data_source\":{\"id\":\"3204\",\"type\":\"ColumnDataSource\"},\"glyph\":{\"id\":\"3205\",\"type\":\"Quad\"},\"hover_glyph\":null,\"muted_glyph\":null,\"nonselection_glyph\":{\"id\":\"3206\",\"type\":\"Quad\"},\"selection_glyph\":null,\"view\":{\"id\":\"3208\",\"type\":\"CDSView\"}},\"id\":\"3207\",\"type\":\"GlyphRenderer\"},{\"attributes\":{\"source\":{\"id\":\"3204\",\"type\":\"ColumnDataSource\"}},\"id\":\"3208\",\"type\":\"CDSView\"},{\"attributes\":{\"plot\":{\"id\":\"3170\",\"subtype\":\"Figure\",\"type\":\"Plot\"},\"render_mode\":\"css\",\"x\":50,\"x_units\":\"screen\",\"y\":50,\"y_units\":\"screen\"},\"id\":\"3209\",\"type\":\"Label\"},{\"attributes\":{\"plot\":null,\"text\":\"\"},\"id\":\"3447\",\"type\":\"Title\"},{\"attributes\":{\"callback\":null,\"factors\":[\"setosa\",\"versicolor\",\"virginica\"]},\"id\":\"3211\",\"type\":\"FactorRange\"},{\"attributes\":{\"callback\":null,\"data\":{\"count\":{\"__ndarray__\":\"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\",\"dtype\":\"float64\",\"shape\":[301]},\"index\":[\"ford pinto\",\"amc matador\",\"toyota corolla\",\"chevrolet chevette\",\"peugeot 504\",\"toyota corona\",\"amc hornet\",\"ford maverick\",\"amc gremlin\",\"chevrolet impala\",\"chevrolet vega\",\"volkswagen dasher\",\"chevrolet caprice classic\",\"dodge colt\",\"chevrolet citation\",\"plymouth fury iii\",\"ford galaxie 500\",\"chevrolet nova\",\"ford gran torino\",\"honda civic\",\"pontiac catalina\",\"plymouth duster\",\"toyota corolla 1200\",\"saab 99le\",\"chevrolet chevelle malibu\",\"buick estate wagon (sw)\",\"amc matador (sw)\",\"datsun 710\",\"audi 100ls\",\"datsun 210\",\"buick century\",\"buick skylark\",\"chevrolet malibu\",\"honda civic cvcc\",\"oldsmobile cutlass salon brougham\",\"plymouth valiant\",\"toyota mark ii\",\"ford gran torino (sw)\",\"honda accord\",\"subaru dl\",\"volkswagen rabbit\",\"mazda 626\",\"chevrolet chevelle malibu classic\",\"dodge aspen\",\"chevrolet monte carlo landau\",\"ford country squire (sw)\",\"opel 1900\",\"datsun pl510\",\"vw rabbit\",\"ford ltd\",\"fiat 128\",\"opel manta\",\"plymouth reliant\",\"amc concord\",\"pontiac phoenix\",\"subaru\",\"buick century limited\",\"fiat strada custom\",\"volkswagen 411 (sw)\",\"plymouth volare custom\",\"mazda glc 4\",\"toyouta corona mark ii (sw)\",\"ford torino 500\",\"honda civic 1300\",\"ford fairmont futura\",\"chrysler lebaron medallion\",\"chevrolet bel air\",\"chevrolet nova custom\",\"bmw 320i\",\"datsun 810\",\"oldsmobile omega\",\"chevrolet malibu classic (sw)\",\"ford fiesta\",\"fiat 124 tc\",\"chevrolet vega 2300\",\"oldsmobile cutlass supreme\",\"hi 1200d\",\"mercury marquis brougham\",\"toyota corolla liftback\",\"chevrolet monte carlo\",\"plymouth fury\",\"audi 5000s (diesel)\",\"buick century special\",\"mercury monarch ghia\",\"chevrolet cavalier wagon\",\"peugeot 505s turbo diesel\",\"ford mustang\",\"buick skylark 320\",\"saab 99e\",\"chevy c10\",\"dodge d100\",\"capri ii\",\"plymouth custom suburb\",\"datsun 510 (sw)\",\"toyota tercel\",\"mercury capri 2000\",\"pontiac grand prix lj\",\"peugeot 304\",\"buick skylark limited\",\"volvo 244dl\",\"plymouth horizon tc3\",\"pontiac grand prix\",\"plymouth arrow gs\",\"volvo 144ea\",\"chevrolet cavalier 2-door\",\"datsun b210 gx\",\"renault 5 gtl\",\"volkswagen super beetle\",\"vokswagen rabbit\",\"dodge aries se\",\"oldsmobile cutlass ls\",\"toyota corona hardtop\",\"toyota corolla tercel\",\"chrysler cordoba\",\"amc pacer d/l\",\"ford granada l\",\"volkswagen rabbit custom\",\"mazda rx-4\",\"honda accord cvcc\",\"datsun f-10 hatchback\",\"mercedes-benz 240d\",\"vw pickup\",\"amc concord d/l\",\"vw rabbit custom\",\"dodge colt hatchback custom\",\"pontiac firebird\",\"buick century luxus (sw)\",\"volvo 145e (sw)\",\"dodge st. regis\",\"buick regal sport coupe (turbo)\",\"mercury cougar brougham\",\"chevrolet camaro\",\"ford mustang ii 2+2\",\"dodge aspen 6\",\"plymouth sapporo\",\"amc pacer\",\"chrysler lebaron salon\",\"ford ltd landau\",\"fiat 131\",\"cadillac eldorado\",\"mercury capri v6\",\"plymouth horizon\",\"dodge colt (sw)\",\"plymouth valiant custom\",\"datsun 200sx\",\"dodge dart custom\",\"ford thunderbird\",\"mercury monarch\",\"renault 12 (sw)\",\"dodge diplomat\",\"buick electra 225 custom\",\"audi 4000\",\"datsun b210\",\"dodge magnum xe\",\"audi 100 ls\",\"honda accord lx\",\"ford fairmont (man)\",\"chevrolet chevelle concours (sw)\",\"dodge challenger se\",\"fiat 124b\",\"volvo 264gl\",\"plymouth satellite sebring\",\"plymouth volare premier v8\",\"ford country\",\"buick lesabre custom\",\"volvo 245\",\"maxda rx3\",\"dodge aries wagon (sw)\",\"dodge d200\",\"plymouth champ\",\"ford ranger\",\"vw dasher (diesel)\",\"amc ambassador brougham\",\"plymouth satellite custom (sw)\",\"mercury zephyr\",\"plymouth 'cuda 340\",\"oldsmobile omega brougham\",\"ford granada\",\"mercury lynx l\",\"chevrolet cavalier\",\"chevy c20\",\"chrysler newport royal\",\"toyota carina\",\"dodge omni\",\"pontiac safari (sw)\",\"dodge coronet custom\",\"dodge charger 2.2\",\"mazda glc deluxe\",\"oldsmobile starfire sx\",\"volkswagen scirocco\",\"plymouth satellite\",\"pontiac astro\",\"ford granada gl\",\"amc spirit dl\",\"datsun 610\",\"pontiac lemans v6\",\"amc concord dl 6\",\"audi 5000\",\"dodge colt hardtop\",\"mazda glc\",\"dodge monaco brougham\",\"fiat 124 sport coupe\",\"bmw 2002\",\"ford mustang gl\",\"chevroelt chevelle malibu\",\"chrysler lebaron town @ country (sw)\",\"dodge coronet brougham\",\"volkswagen jetta\",\"ford escort 2h\",\"plymouth horizon 4\",\"peugeot 504 (sw)\",\"plymouth volare\",\"datsun 810 maxima\",\"volkswagen rabbit l\",\"chevrolet monza 2+2\",\"plymouth grand fury\",\"vw rabbit c (diesel)\",\"volkswagen rabbit custom diesel\",\"toyota cressida\",\"dodge monaco (sw)\",\"mercury zephyr 6\",\"ford pinto runabout\",\"pontiac phoenix lj\",\"buick opel isuzu deluxe\",\"chevrolet monte carlo s\",\"volkswagen 1131 deluxe sedan\",\"datsun 310 gx\",\"toyota starlet\",\"mercedes benz 300d\",\"dodge aspen se\",\"audi fox\",\"amc rebel sst\",\"mazda glc custom\",\"mercury marquis\",\"dodge coronet custom (sw)\",\"ford torino\",\"honda civic (auto)\",\"ford fairmont 4\",\"dodge colt m/m\",\"datsun 510\",\"datsun 200-sx\",\"dodge rampage\",\"plymouth cricket\",\"toyota corona mark ii\",\"chevrolet woody\",\"pontiac j2000 se hatchback\",\"plymouth satellite custom\",\"mazda rx-7 gs\",\"pontiac catalina brougham\",\"datsun 310\",\"toyota corolla 1600 (sw)\",\"amc hornet sportabout (sw)\",\"fiat x1.9\",\"peugeot 604sl\",\"toyota corona liftback\",\"amc ambassador sst\",\"pontiac ventura sj\",\"mercury grand marquis\",\"toyota celica gt\",\"ford escort 4w\",\"mazda glc custom l\",\"ford f108\",\"saab 99gle\",\"mercedes-benz 280s\",\"toyota celica gt liftback\",\"ford mustang ii\",\"cadillac seville\",\"chevrolet vega (sw)\",\"datsun 1200\",\"datsun b-210\",\"mazda rx2 coupe\",\"datsun 280-zx\",\"plymouth fury gran sedan\",\"datsun 210 mpg\",\"ford f250\",\"volkswagen model 111\",\"maxda glc deluxe\",\"buick century 350\",\"volkswagen type 3\",\"plymouth horizon miser\",\"chrysler new yorker brougham\",\"oldsmobile cutlass ciera (diesel)\",\"honda prelude\",\"pontiac sunbird coupe\",\"triumph tr7 coupe\",\"ford fairmont\",\"amc ambassador dpl\",\"datsun 510 hatchback\",\"ford fairmont (auto)\",\"renault 12tl\",\"ford granada ghia\",\"buick skyhawk\",\"oldsmobile delta 88 royale\",\"ford pinto (sw)\",\"volvo diesel\",\"chevy s-10\",\"ford futura\",\"oldsmobile vista cruiser\",\"chevrolet concours\",\"nissan stanza xe\",\"honda civic 1500 gl\"]},\"selected\":{\"id\":\"3471\",\"type\":\"Selection\"},\"selection_policy\":{\"id\":\"3472\",\"type\":\"UnionRenderers\"}},\"id\":\"3282\",\"type\":\"ColumnDataSource\"},{\"attributes\":{\"callback\":null},\"id\":\"3213\",\"type\":\"DataRange1d\"},{\"attributes\":{\"below\":[{\"id\":\"3219\",\"type\":\"CategoricalAxis\"}],\"left\":[{\"id\":\"3223\",\"type\":\"LinearAxis\"}],\"renderers\":[{\"id\":\"3219\",\"type\":\"CategoricalAxis\"},{\"id\":\"3222\",\"type\":\"Grid\"},{\"id\":\"3223\",\"type\":\"LinearAxis\"},{\"id\":\"3227\",\"type\":\"Grid\"},{\"id\":\"3236\",\"type\":\"BoxAnnotation\"},{\"id\":\"3247\",\"type\":\"GlyphRenderer\"}],\"title\":{\"id\":\"3449\",\"type\":\"Title\"},\"toolbar\":{\"id\":\"3234\",\"type\":\"Toolbar\"},\"x_range\":{\"id\":\"3211\",\"type\":\"FactorRange\"},\"x_scale\":{\"id\":\"3215\",\"type\":\"CategoricalScale\"},\"y_range\":{\"id\":\"3213\",\"type\":\"DataRange1d\"},\"y_scale\":{\"id\":\"3217\",\"type\":\"LinearScale\"}},\"id\":\"3210\",\"subtype\":\"Figure\",\"type\":\"Plot\"},{\"attributes\":{},\"id\":\"3215\",\"type\":\"CategoricalScale\"},{\"attributes\":{},\"id\":\"3217\",\"type\":\"LinearScale\"},{\"attributes\":{\"axis_label\":\"species\",\"formatter\":{\"id\":\"3457\",\"type\":\"CategoricalTickFormatter\"},\"plot\":{\"id\":\"3210\",\"subtype\":\"Figure\",\"type\":\"Plot\"},\"ticker\":{\"id\":\"3220\",\"type\":\"CategoricalTicker\"}},\"id\":\"3219\",\"type\":\"CategoricalAxis\"},{\"attributes\":{},\"id\":\"3220\",\"type\":\"CategoricalTicker\"},{\"attributes\":{\"plot\":{\"id\":\"3210\",\"subtype\":\"Figure\",\"type\":\"Plot\"},\"ticker\":{\"id\":\"3220\",\"type\":\"CategoricalTicker\"}},\"id\":\"3222\",\"type\":\"Grid\"},{\"attributes\":{\"formatter\":{\"id\":\"3459\",\"type\":\"BasicTickFormatter\"},\"plot\":{\"id\":\"3210\",\"subtype\":\"Figure\",\"type\":\"Plot\"},\"ticker\":{\"id\":\"3224\",\"type\":\"BasicTicker\"}},\"id\":\"3223\",\"type\":\"LinearAxis\"},{\"attributes\":{},\"id\":\"3224\",\"type\":\"BasicTicker\"},{\"attributes\":{\"dimension\":1,\"plot\":{\"id\":\"3210\",\"subtype\":\"Figure\",\"type\":\"Plot\"},\"ticker\":{\"id\":\"3224\",\"type\":\"BasicTicker\"}},\"id\":\"3227\",\"type\":\"Grid\"},{\"attributes\":{\"active_drag\":\"auto\",\"active_inspect\":\"auto\",\"active_multi\":null,\"active_scroll\":\"auto\",\"active_tap\":\"auto\",\"tools\":[{\"id\":\"3228\",\"type\":\"PanTool\"},{\"id\":\"3229\",\"type\":\"WheelZoomTool\"},{\"id\":\"3230\",\"type\":\"BoxZoomTool\"},{\"id\":\"3231\",\"type\":\"SaveTool\"},{\"id\":\"3232\",\"type\":\"ResetTool\"},{\"id\":\"3233\",\"type\":\"HelpTool\"}]},\"id\":\"3234\",\"type\":\"Toolbar\"},{\"attributes\":{},\"id\":\"3228\",\"type\":\"PanTool\"},{\"attributes\":{},\"id\":\"3229\",\"type\":\"WheelZoomTool\"},{\"attributes\":{\"overlay\":{\"id\":\"3236\",\"type\":\"BoxAnnotation\"}},\"id\":\"3230\",\"type\":\"BoxZoomTool\"},{\"attributes\":{},\"id\":\"3231\",\"type\":\"SaveTool\"},{\"attributes\":{},\"id\":\"3232\",\"type\":\"ResetTool\"},{\"attributes\":{},\"id\":\"3233\",\"type\":\"HelpTool\"},{\"attributes\":{},\"id\":\"3471\",\"type\":\"Selection\"},{\"attributes\":{\"bottom_units\":\"screen\",\"fill_alpha\":{\"value\":0.5},\"fill_color\":{\"value\":\"lightgrey\"},\"left_units\":\"screen\",\"level\":\"overlay\",\"line_alpha\":{\"value\":1.0},\"line_color\":{\"value\":\"black\"},\"line_dash\":[4,4],\"line_width\":{\"value\":2},\"plot\":null,\"render_mode\":\"css\",\"right_units\":\"screen\",\"top_units\":\"screen\"},\"id\":\"3236\",\"type\":\"BoxAnnotation\"},{\"attributes\":{\"callback\":null,\"data\":{\"left\":{\"__ndarray__\":\"MzMzMzMzEUAvIDaVhpwRQCoNOffZBRJAJvo7WS1vEkAi5z67gNgSQB3UQR3UQRNAGcFEfyerE0AUrkfhehQUQBCbSkPOfRRADIhNpSHnFEAHdVAHdVAVQANiU2nIuRVA/k5WyxsjFkD6O1ktb4wWQPYoXI/C9RZA8hVf8RVfF0DtAmJTacgXQOjvZLW8MRhA5NxnFxCbGEDgyWp5YwQZQNy2bdu2bRlA16NwPQrXGUDTkHOfXUAaQM59dgGxqRpAymp5YwQTG0DGV3zFV3wbQMFEfyer5RtAvTGCif5OHEC4HoXrUbgcQLQLiE2lIR1AsPiKr/iKHUCs5Y0RTPQdQKfSkHOfXR5Aor+T1fLGHkCerJY3RjAfQA==\",\"dtype\":\"float64\",\"shape\":[35]},\"right\":{\"__ndarray__\":\"LyA2lYacEUAqDTn32QUSQCb6O1ktbxJAIuc+u4DYEkAd1EEd1EETQBnBRH8nqxNAFK5H4XoUFEAQm0pDzn0UQAyITaUh5xRAB3VQB3VQFUADYlNpyLkVQP5OVssbIxZA+jtZLW+MFkD2KFyPwvUWQPIVX/EVXxdA7QJiU2nIF0Do72S1vDEYQOTcZxcQmxhA4MlqeWMEGUDctm3btm0ZQNejcD0K1xlA05Bzn11AGkDOfXYBsakaQMpqeWMEExtAxld8xVd8G0DBRH8nq+UbQL0xgon+ThxAuB6F61G4HEC0C4hNpSEdQLD4iq/4ih1ArOWNEUz0HUCn0pBzn10eQKK/k9Xyxh5AnqyWN0YwH0CamZmZmZkfQA==\",\"dtype\":\"float64\",\"shape\":[35]},\"top\":{\"__ndarray__\":\"bAntJbSX0D+UCe0ltJewP2wJ7SW0l9A/bAntJbSXwD/5S2gvob3UPyGO4ziO49g/+UtoL6G95D+ZqqqqqqriP2wJ7SW0l9A/lAntJbSXsD8hjuM4juPYP8PQXkJ7Cd0/IY7jOI7j2D9sCe0ltJfgP33QXkJ7Cd0/Xo7jOI7jyD9ejuM4juPYPyGO4ziO49g/bAntJbSX0D+ZqqqqqqriP8PQXkJ7Cd0/x0toL6G91D+UCe0ltJfAP2wJ7SW0l+A/IY7jOI7jyD+UCe0ltJfQP2wJ7SW0l7A/lAntJbSXsD8hjuM4juPIP2wJ7SW0l7A/bAntJbSXsD8AAAAAAAAAAJQJ7SW0l7A/bAntJbSX0D9sCe0ltJewPw==\",\"dtype\":\"float64\",\"shape\":[35]}},\"selected\":{\"id\":\"3465\",\"type\":\"Selection\"},\"selection_policy\":{\"id\":\"3466\",\"type\":\"UnionRenderers\"}},\"id\":\"3204\",\"type\":\"ColumnDataSource\"},{\"attributes\":{\"fill_alpha\":{\"value\":0.1},\"fill_color\":{\"value\":\"#1f77b4\"},\"line_alpha\":{\"value\":0.1},\"line_color\":{\"value\":\"#1f77b4\"},\"top\":{\"field\":\"count\"},\"width\":{\"value\":1},\"x\":{\"field\":\"index\"}},\"id\":\"3246\",\"type\":\"VBar\"},{\"attributes\":{\"callback\":null,\"data\":{\"count\":{\"__ndarray__\":\"VVVVVVVV1T9VVVVVVVXVP1VVVVVVVdU/\",\"dtype\":\"float64\",\"shape\":[3]},\"index\":[\"versicolor\",\"setosa\",\"virginica\"]},\"selected\":{\"id\":\"3468\",\"type\":\"Selection\"},\"selection_policy\":{\"id\":\"3469\",\"type\":\"UnionRenderers\"}},\"id\":\"3243\",\"type\":\"ColumnDataSource\"},{\"attributes\":{\"data_source\":{\"id\":\"3243\",\"type\":\"ColumnDataSource\"},\"glyph\":{\"id\":\"3245\",\"type\":\"VBar\"},\"hover_glyph\":null,\"muted_glyph\":null,\"nonselection_glyph\":{\"id\":\"3246\",\"type\":\"VBar\"},\"selection_glyph\":null,\"view\":{\"id\":\"3248\",\"type\":\"CDSView\"}},\"id\":\"3247\",\"type\":\"GlyphRenderer\"}],\"root_ids\":[\"3288\"]},\"title\":\"Bokeh Application\",\"version\":\"1.0.0\"}};\n",
       "  var render_items = [{\"docid\":\"39318924-cf06-4581-898d-c0f87532bc95\",\"roots\":{\"3288\":\"80c35d2d-b8b4-4ac4-b5c1-9eca4b4017b5\"}}];\n",
       "  root.Bokeh.embed.embed_items_notebook(docs_json, render_items);\n",
       "\n",
       "  }\n",
       "  if (root.Bokeh !== undefined) {\n",
       "    embed_document(root);\n",
       "  } else {\n",
       "    var attempts = 0;\n",
       "    var timer = setInterval(function(root) {\n",
       "      if (root.Bokeh !== undefined) {\n",
       "        embed_document(root);\n",
       "        clearInterval(timer);\n",
       "      }\n",
       "      attempts++;\n",
       "      if (attempts > 100) {\n",
       "        console.log(\"Bokeh: ERROR: Unable to run BokehJS code because BokehJS library is missing\");\n",
       "        clearInterval(timer);\n",
       "      }\n",
       "    }, 10, root)\n",
       "  }\n",
       "})(window);"
      ],
      "application/vnd.bokehjs_exec.v0+json": ""
     },
     "metadata": {
      "application/vnd.bokehjs_exec.v0+json": {
       "id": "3288"
      }
     },
     "output_type": "display_data"
    }
   ],
   "source": [
    "var1 = 'sepal_length'\n",
    "var2 = 'species'\n",
    "var3 = 'name'\n",
    "\n",
    "p1 = figure( plot_width=600, plot_height=600 )\n",
    "p1.histogram( flowers, var1, nbins=35)\n",
    "p1.yaxis.axis_label = 'probability'\n",
    "p1.xaxis.axis_label = var1\n",
    "\n",
    "\n",
    "labels = np.sort(flowers[var2].unique())\n",
    "p2 = figure( plot_width=600, plot_height=600, x_range=labels )\n",
    "p2.histogram( flowers, var2)\n",
    "p2.xaxis.axis_label = var2\n",
    "\n",
    "labels = np.sort(autompg[var3].unique())\n",
    "p3 = figure( plot_width=2500, plot_height=600, x_range=labels )\n",
    "p3.histogram( autompg, var3 )\n",
    "p3.xaxis.axis_label = var3\n",
    "p3.xaxis.major_label_orientation = \"vertical\"\n",
    "\n",
    "show( column( p1, p2, p3 ) )"
   ]
  },
  {
   "cell_type": "markdown",
   "metadata": {},
   "source": [
    "**<font color=\"deeppink\">Test cases</font>**: Give three scenarios that need testing (bullet points, no implementation required).\n",
    "- Different data types: If data column instance is an integer, rather than a float (different datatypes may render errors) \n",
    "- Huge/Complex datasets: Data set needs to be truncated (when dataset has too many categories to show): issue with the third set (or decide to group (i.e. amc, or audi))\n",
    "- More than two variables: If there were more than two histograms plotted together: two comparitive histograms (would fail as not built for more complex dataset)\n",
    "- Correct number of bins (we estimated on 35, with a default of 30) but this could be a misclassification for some, which could hide patterns or miss them (depending on case)\n",
    "\n"
   ]
  },
  {
   "cell_type": "markdown",
   "metadata": {},
   "source": [
    "## Exercise 2: Working with SPLOMs"
   ]
  },
  {
   "cell_type": "markdown",
   "metadata": {},
   "source": [
    "The source code for the generalized scatterplot matrix (SPLOM) is stored in file splom.py. \n",
    "\n",
    "Usage:\n",
    "```\n",
    "p = splom( df, cols=['var1', 'var2', 'var3'], splom_width=1000 )\n",
    "show(p)\n",
    "```\n",
    "\n",
    "Accepted parameters:\n",
    "- **source** (req): pandas DataFrame\n",
    "- **splom_width** (opt): total width/height of the plot.\n",
    "- **cols** (opt): Array of column names to be used in the plot.\n",
    "- **x_padding** (opt): additional space for the x-axis labels.\n",
    "- **y_padding** (opt): additional space for the y-axis labels.\n",
    "\n",
    "Hint:\n",
    "- The SPLOM supports some interaction. Select points in the scatterplots and look at the results in the other scatterplots."
   ]
  },
  {
   "cell_type": "code",
   "execution_count": 136,
   "metadata": {},
   "outputs": [],
   "source": [
    "%run SPLOM.py"
   ]
  },
  {
   "cell_type": "markdown",
   "metadata": {},
   "source": [
    "### Exercise 2a): Baseball data"
   ]
  },
  {
   "cell_type": "code",
   "execution_count": 48,
   "metadata": {},
   "outputs": [],
   "source": [
    "baseball = pd.read_csv( 'baseball_data.csv')"
   ]
  },
  {
   "cell_type": "code",
   "execution_count": 49,
   "metadata": {},
   "outputs": [
    {
     "name": "stdout",
     "output_type": "stream",
     "text": [
      "categorical attributes ['handedness']\n",
      "group\n",
      "B    76.0\n",
      "L    78.5\n",
      "R    78.5\n",
      "Name: score, dtype: float64\n",
      "group\n",
      "B    210.875\n",
      "L    225.000\n",
      "R    225.000\n",
      "Name: score, dtype: float64\n",
      "group\n",
      "B    0.303\n",
      "L    0.328\n",
      "R    0.305\n",
      "Name: score, dtype: float64\n",
      "group\n",
      "B     76.5\n",
      "L    191.0\n",
      "R    115.0\n",
      "Name: score, dtype: float64\n"
     ]
    },
    {
     "data": {
      "text/html": [
       "\n",
       "\n",
       "\n",
       "\n",
       "\n",
       "\n",
       "  <div class=\"bk-root\" id=\"bf0ee3dc-eea5-4c42-97d3-1ff766867964\"></div>\n"
      ]
     },
     "metadata": {},
     "output_type": "execute_result"
    },
    {
     "data": {},
     "metadata": {
      "application/vnd.bokehjs_exec.v0+json": {
       "id": "5509"
      }
     },
     "output_type": "display_data"
    }
   ],
   "source": [
    "show( splom( df=baseball, cols=['handedness', 'height', 'weight', 'avg', 'HR'],\n",
    "             splom_width=1000, x_padding=40, y_padding=80 ) )"
   ]
  },
  {
   "cell_type": "markdown",
   "metadata": {},
   "source": [
    "### Exercise 2b): Passengers on the Titanic\n",
    "\n",
    "Remarks:\n",
    "- For some passengers age information is missing the `fillna` command replaces those entries with -1. Feal free to make changes to this treating of missing values.\n",
    "- All data is given as quantitative values. To make distinction of categorical data easier, we turn them into strings."
   ]
  },
  {
   "cell_type": "code",
   "execution_count": 96,
   "metadata": {},
   "outputs": [
    {
     "name": "stdout",
     "output_type": "stream",
     "text": [
      "categorical attributes ['pclass', 'survived', 'sex']\n"
     ]
    },
    {
     "name": "stderr",
     "output_type": "stream",
     "text": [
      "BokehUserWarning: ColumnDataSource's columns must be of the same length. Current lengths: ('age', 48), ('body', 48), ('fare', 48), ('index', 48), ('labels', 6), ('mycnt', 48), ('parch', 48), ('sibsp', 48)\n",
      "BokehUserWarning: ColumnDataSource's columns must be of the same length. Current lengths: ('age', 48), ('body', 48), ('fare', 48), ('index', 48), ('labels', 6), ('mycnt', 48), ('parch', 48), ('sibsp', 48)\n"
     ]
    },
    {
     "name": "stdout",
     "output_type": "stream",
     "text": [
      "group\n",
      "1    80.0\n",
      "2    60.0\n",
      "3    71.5\n",
      "Name: score, dtype: float64\n",
      "group\n",
      "1    223.11255\n",
      "2     45.50000\n",
      "3     26.48950\n",
      "Name: score, dtype: float64\n"
     ]
    },
    {
     "name": "stderr",
     "output_type": "stream",
     "text": [
      "BokehUserWarning: ColumnDataSource's columns must be of the same length. Current lengths: ('age', 48), ('body', 48), ('fare', 48), ('index', 48), ('labels', 6), ('mycnt', 48), ('parch', 48), ('sibsp', 48)\n",
      "BokehUserWarning: ColumnDataSource's columns must be of the same length. Current lengths: ('age', 32), ('body', 32), ('fare', 32), ('index', 32), ('labels', 4), ('mycnt', 32), ('parch', 32), ('sibsp', 32)\n"
     ]
    },
    {
     "name": "stdout",
     "output_type": "stream",
     "text": [
      "group\n",
      "0    74.0\n",
      "1    72.0\n",
      "Name: score, dtype: float64\n",
      "group\n",
      "0     53.2187\n",
      "1    127.5531\n",
      "Name: score, dtype: float64\n"
     ]
    },
    {
     "name": "stderr",
     "output_type": "stream",
     "text": [
      "BokehUserWarning: ColumnDataSource's columns must be of the same length. Current lengths: ('age', 48), ('body', 48), ('fare', 48), ('index', 48), ('labels', 6), ('mycnt', 48), ('parch', 48), ('sibsp', 48)\n",
      "BokehUserWarning: ColumnDataSource's columns must be of the same length. Current lengths: ('age', 32), ('body', 32), ('fare', 32), ('index', 32), ('labels', 4), ('mycnt', 32), ('parch', 32), ('sibsp', 32)\n"
     ]
    },
    {
     "name": "stdout",
     "output_type": "stream",
     "text": [
      "group\n",
      "female    73.625\n",
      "male      80.000\n",
      "Name: score, dtype: float64\n",
      "group\n",
      "female    122.571925\n",
      "male       54.578100\n",
      "Name: score, dtype: float64\n"
     ]
    },
    {
     "name": "stderr",
     "output_type": "stream",
     "text": [
      "ERROR:bokeh.core.validation.check:E-1001 (BAD_COLUMN_NAME): Glyph refers to nonexistent column name: mycnt_count, pclass_sex [renderer: GlyphRenderer(id='31923', ...)]\n",
      "ERROR:bokeh.core.validation.check:E-1001 (BAD_COLUMN_NAME): Glyph refers to nonexistent column name: mycnt_count, pclass_survived [renderer: GlyphRenderer(id='31600', ...)]\n",
      "ERROR:bokeh.core.validation.check:E-1001 (BAD_COLUMN_NAME): Glyph refers to nonexistent column name: mycnt_count, sex_pclass [renderer: GlyphRenderer(id='31390', ...)]\n",
      "ERROR:bokeh.core.validation.check:E-1001 (BAD_COLUMN_NAME): Glyph refers to nonexistent column name: mycnt_count, sex_survived [renderer: GlyphRenderer(id='31713', ...)]\n",
      "ERROR:bokeh.core.validation.check:E-1001 (BAD_COLUMN_NAME): Glyph refers to nonexistent column name: mycnt_count, survived_pclass [renderer: GlyphRenderer(id='31316', ...)]\n",
      "ERROR:bokeh.core.validation.check:E-1001 (BAD_COLUMN_NAME): Glyph refers to nonexistent column name: mycnt_count, survived_sex [renderer: GlyphRenderer(id='31997', ...)]\n"
     ]
    },
    {
     "data": {
      "text/html": [
       "\n",
       "\n",
       "\n",
       "\n",
       "\n",
       "\n",
       "  <div class=\"bk-root\" id=\"47860958-8cbd-4761-9c76-110679e7b140\"></div>\n"
      ]
     },
     "metadata": {},
     "output_type": "execute_result"
    },
    {
     "data": {},
     "metadata": {
      "application/vnd.bokehjs_exec.v0+json": {
       "id": "33179"
      }
     },
     "output_type": "display_data"
    }
   ],
   "source": [
    "titanic = pd.read_csv( 'titanic3.csv')\n",
    "\n",
    "titanic = titanic.fillna(-1)\n",
    "titanic.pclass = titanic.pclass.astype('str')\n",
    "titanic.survived = titanic.survived.astype('str')\n",
    "\n",
    "\n",
    "\n",
    "p = splom( df=titanic, cols=['pclass', 'survived', 'sex', 'age', 'fare'], splom_width=1000, \n",
    "           x_padding=40, y_padding=80 )\n",
    "show( p )"
   ]
  },
  {
   "cell_type": "markdown",
   "metadata": {},
   "source": [
    "* Passenegers in 1st class had the highest fares with one outlier of 500 USD. They also had the most survivors around 200. Average 1st Class passenegers had age b/w 22-45 years. The passenegers in 2nd Class had avg fares around 50 USD and even less survivors. It mostly had young adults and adults with some exceptions. The third class had the lowest fares and max number of passenger also the least survival rate. Their average age was 20 with a lot of teenagers, infants and young adults.\n",
    "* The male and female passengers were almost equally distributed w.r.t age however, the number of male passengers were much higher than the female passengers ( keeping in view that that some age info is missing). This is visible in the \n",
    "* The 3rd Class had significantly higher number of male passengers and more than 500 casualties (both male & female included). These are visible in the histograms plotted with passenger class and other variables. This is understandable as passengers from the higher classes (especially women) were given priority to the escape boats. If we look at the histogram b/w sex & survived, this is also evident from the data as the survival rate of females is much higher than the males.\n",
    "* The differences b/w classes are visible in {fare, age,(box plots)}, {sex, survived, (histograms)}."
   ]
  },
  {
   "cell_type": "markdown",
   "metadata": {},
   "source": [
    "## Exercise 3: \n",
    "\n",
    "### Option 1: Auto MPG"
   ]
  },
  {
   "cell_type": "code",
   "execution_count": 97,
   "metadata": {
    "scrolled": false
   },
   "outputs": [
    {
     "name": "stdout",
     "output_type": "stream",
     "text": [
      "categorical attributes ['cyl', 'origin']\n",
      "group\n",
      "3    23.700\n",
      "4    44.875\n",
      "5    36.400\n",
      "6    25.500\n",
      "8    20.500\n",
      "Name: score, dtype: float64\n",
      "group\n",
      "3     76.25\n",
      "4    156.00\n",
      "5    183.00\n",
      "6    262.00\n",
      "8    442.50\n",
      "Name: score, dtype: float64\n",
      "group\n",
      "3    110.00\n",
      "4    115.00\n",
      "5    103.00\n",
      "6    136.25\n",
      "8    227.50\n",
      "Name: score, dtype: float64\n",
      "group\n",
      "3    2720.0\n",
      "4    3270.0\n",
      "5    3530.0\n",
      "6    3907.0\n",
      "8    5140.0\n",
      "Name: score, dtype: float64\n",
      "group\n",
      "3    13.50\n",
      "4    22.80\n",
      "5    20.10\n",
      "6    21.00\n",
      "8    17.75\n",
      "Name: score, dtype: float64\n",
      "group\n",
      "3    80.0\n",
      "4    82.0\n",
      "5    80.0\n",
      "6    82.0\n",
      "8    81.0\n",
      "Name: score, dtype: float64\n"
     ]
    },
    {
     "name": "stderr",
     "output_type": "stream",
     "text": [
      "BokehUserWarning: ColumnDataSource's columns must be of the same length. Current lengths: ('accel', 72), ('displ', 72), ('hp', 72), ('index', 72), ('labels', 9), ('mpg', 72), ('mycnt', 72), ('weight', 72), ('yr', 72)\n"
     ]
    },
    {
     "name": "stdout",
     "output_type": "stream",
     "text": [
      "group\n",
      "1    37.5000\n",
      "2    39.6875\n",
      "3    46.5750\n",
      "Name: score, dtype: float64\n"
     ]
    },
    {
     "name": "stderr",
     "output_type": "stream",
     "text": [
      "BokehUserWarning: ColumnDataSource's columns must be of the same length. Current lengths: ('accel', 72), ('displ', 72), ('hp', 72), ('index', 72), ('labels', 9), ('mpg', 72), ('mycnt', 72), ('weight', 72), ('yr', 72)\n"
     ]
    },
    {
     "name": "stdout",
     "output_type": "stream",
     "text": [
      "group\n",
      "1    455.000\n",
      "2    160.375\n",
      "3    168.000\n",
      "Name: score, dtype: float64\n",
      "group\n",
      "1    230.000\n",
      "2    120.375\n",
      "3    132.000\n",
      "Name: score, dtype: float64\n",
      "group\n",
      "1    5140.0\n",
      "2    3820.0\n",
      "3    2930.0\n",
      "Name: score, dtype: float64\n",
      "group\n",
      "1    22.2\n",
      "2    24.8\n",
      "3    21.0\n",
      "Name: score, dtype: float64\n",
      "group\n",
      "1    82.0\n",
      "2    82.0\n",
      "3    82.0\n",
      "Name: score, dtype: float64\n"
     ]
    },
    {
     "name": "stderr",
     "output_type": "stream",
     "text": [
      "ERROR:bokeh.core.validation.check:E-1001 (BAD_COLUMN_NAME): Glyph refers to nonexistent column name: cyl_origin, mycnt_count [renderer: GlyphRenderer(id='39991', ...)]\n",
      "ERROR:bokeh.core.validation.check:E-1001 (BAD_COLUMN_NAME): Glyph refers to nonexistent column name: mycnt_count, origin_cyl [renderer: GlyphRenderer(id='37894', ...)]\n"
     ]
    },
    {
     "data": {
      "text/html": [
       "\n",
       "\n",
       "\n",
       "\n",
       "\n",
       "\n",
       "  <div class=\"bk-root\" id=\"d72d57fc-8b0b-4697-9f6e-1ee58758e289\"></div>\n"
      ]
     },
     "metadata": {},
     "output_type": "execute_result"
    },
    {
     "data": {},
     "metadata": {
      "application/vnd.bokehjs_exec.v0+json": {
       "id": "41342"
      }
     },
     "output_type": "display_data"
    }
   ],
   "source": [
    "from bokeh.sampledata.autompg import autompg\n",
    "\n",
    "autompg.cyl = autompg.cyl.astype('str')\n",
    "autompg.origin = autompg.origin.astype('str')\n",
    "\n",
    "show( splom( df=autompg, cols=['mpg', 'cyl', 'displ', 'hp', 'weight', 'accel', 'yr', 'origin'],\n",
    "             splom_width=1000, x_padding=40, y_padding=80 ) )"
   ]
  },
  {
   "cell_type": "markdown",
   "metadata": {},
   "source": [
    "## Data Description\n",
    "*  The data concerns city-cycle fuel consumption in miles per gallon, to be predicted in terms of 3 multivalued discrete and 5 continuous attributes.\n",
    "\n",
    "1. mpg: continuous \n",
    "2. cylinders: multi-valued discrete \n",
    "3. displacement: continuous \n",
    "4. horsepower: continuous \n",
    "5. weight: continuous \n",
    "6. acceleration: continuous \n",
    "7. model year: multi-valued discrete \n",
    "8. origin: multi-valued discrete \n",
    "9. car name: string (unique for each instance)\n",
    "\n",
    "\n",
    "## Analysis Protocol & Summary\n",
    "### 1. Affect on MPG of Engine Displacement, Horsepower, Weight, Acceleration, Year of manufacture.\n",
    "\n",
    "Looking at the scatter plots of different variables against mpg we have the following observations:\n",
    "* Engine Displacement has a negative(inverse) relationship with MPG as one would expect. Becuase more engine displacement correspondes to greater fuel consumption, hence lower MPG.\n",
    "* Horsepower also shows a non linear decreasing graph i.e inverse relationship. As the horsepower increases the MGP goes down as vehicles with higher horsepower are fuel hungry.\n",
    "* Weight has a significant effect on MPG as the power to weight ratio decides how much fuel the car will eventually use. This also has a negative relationship because the heavier the vehicle the more powerful engine it needs to move, hence lower MPG.\n",
    "* The acceleration doesn't show a clear relation ship with MPG, but looking at the scatter plot one can see a lot of outliers. Lower acceleration (i.e lower 0-60 mph time) means two things, either a light vehicle but powerful engine hence lower MPG. So all sports cars, supercars fall in this category. The other thing that corresponds to Lower Acceleration is a vehicle which is heavy but has a powerful engine, hence lower MPG. Hypercars fall into this category. The relationship of acceleration with wight and hp would tell us more about the MPG.\n",
    "* Year of manufacture doesn't show a clear relationship with MPG but a general trend that we can notice is that it's an increasing funtion, i.e over the years the MPG has improved.\n",
    "\n",
    "### 2.  Other relationships b/w variables:\n",
    "* The box plot with MGP and Cylinders shows some interesting aspects. Most of the 8 cylinder vehicles (V8 powerful models of cars) have very low MPG. Some outliers do exist though which at max give 25 MPG, which is impressive.\n",
    "* There are some 4 cylinder cars which give more MPG than average 3 cylinder cars. One of which gives more than 45 MPG! Most 8 cylinder cars have not surprisingly higher displacement, higher horsepower and lower 0-60 time. Poor acceleration is reported on 5 and 4 cylinder cars, unexpectedly.\n",
    "* Looking at the box plots, over the years the trend of cars has shifted from higher number of cylinders towards lower number of cylinders more fuel efficient cars.\n",
    "* The box plot of origin with weight, horsepower and displacement tell us something about the trend of vehicles in the 3 regions namely US, Europe, Japan. The plot for US is skewed toward heavier, large(heavy), powerful vehicles. Whereas the Europeans have the more 'European' attitude towards cars i.e normal acceleration times with average sized, moderately powerful vehicles with good fuel economy. The Japanese on the other hand have cars with sole focus on fuel efficiency and small size. Which inevitably means higher 0-60 times, lower power and engine displacements.\n",
    "* The histograms tell us the distribution of cars in different variables. It seems as the max cars are of 4 cylinders, average displacement and acceleration times (0-60 mph) in the range of 14-16 secs.\n",
    "\n",
    "### 3. Summary:\n",
    "* The data typically show the distribution and the properties of vehicles in 3 different regions of the world. The automotive industry can be divided into these 3 attitudes (if you will) of these 3 regions, namely American, European and Japanese. The Americans like large, powerful, heavy cars and they don't seem to care much about fuel economy. The Europeans prefer average sized, moderately powerful fuel efficient cars with good acceleration times. The Japanese car industry have cars with higher fuel economy and small size but less powerful and poor acceleration times."
   ]
  },
  {
   "cell_type": "code",
   "execution_count": null,
   "metadata": {},
   "outputs": [],
   "source": []
  },
  {
   "cell_type": "code",
   "execution_count": null,
   "metadata": {},
   "outputs": [],
   "source": []
  },
  {
   "cell_type": "code",
   "execution_count": null,
   "metadata": {},
   "outputs": [],
   "source": []
  }
 ],
 "metadata": {
  "kernelspec": {
   "display_name": "Python 3",
   "language": "python",
   "name": "python3"
  },
  "language_info": {
   "codemirror_mode": {
    "name": "ipython",
    "version": 3
   },
   "file_extension": ".py",
   "mimetype": "text/x-python",
   "name": "python",
   "nbconvert_exporter": "python",
   "pygments_lexer": "ipython3",
   "version": "3.6.5"
  }
 },
 "nbformat": 4,
 "nbformat_minor": 2
}
