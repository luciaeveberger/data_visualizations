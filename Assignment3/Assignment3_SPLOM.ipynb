{
 "cells": [
  {
   "cell_type": "markdown",
   "metadata": {},
   "source": [
    "# Data Visualization (2017/18)\n",
    "\n",
    "## Solutions for Assignment 3 - Visualizing multivariate data \n",
    "\n",
    "Presented by Group 52: \n",
    "- Lucia Eve Berger\n",
    "- Name2\n",
    "\n",
    "Date: DD.MM.YYYY"
   ]
  },
  {
   "cell_type": "markdown",
   "metadata": {},
   "source": [
    "## Setup"
   ]
  },
  {
   "cell_type": "code",
   "execution_count": 3,
   "metadata": {},
   "outputs": [
    {
     "data": {
      "text/html": [
       "\n",
       "    <div class=\"bk-root\">\n",
       "        <a href=\"https://bokeh.pydata.org\" target=\"_blank\" class=\"bk-logo bk-logo-small bk-logo-notebook\"></a>\n",
       "        <span id=\"1002\">Loading BokehJS ...</span>\n",
       "    </div>"
      ]
     },
     "metadata": {},
     "output_type": "display_data"
    },
    {
     "data": {
      "application/javascript": [
       "\n",
       "(function(root) {\n",
       "  function now() {\n",
       "    return new Date();\n",
       "  }\n",
       "\n",
       "  var force = true;\n",
       "\n",
       "  if (typeof (root._bokeh_onload_callbacks) === \"undefined\" || force === true) {\n",
       "    root._bokeh_onload_callbacks = [];\n",
       "    root._bokeh_is_loading = undefined;\n",
       "  }\n",
       "\n",
       "  var JS_MIME_TYPE = 'application/javascript';\n",
       "  var HTML_MIME_TYPE = 'text/html';\n",
       "  var EXEC_MIME_TYPE = 'application/vnd.bokehjs_exec.v0+json';\n",
       "  var CLASS_NAME = 'output_bokeh rendered_html';\n",
       "\n",
       "  /**\n",
       "   * Render data to the DOM node\n",
       "   */\n",
       "  function render(props, node) {\n",
       "    var script = document.createElement(\"script\");\n",
       "    node.appendChild(script);\n",
       "  }\n",
       "\n",
       "  /**\n",
       "   * Handle when an output is cleared or removed\n",
       "   */\n",
       "  function handleClearOutput(event, handle) {\n",
       "    var cell = handle.cell;\n",
       "\n",
       "    var id = cell.output_area._bokeh_element_id;\n",
       "    var server_id = cell.output_area._bokeh_server_id;\n",
       "    // Clean up Bokeh references\n",
       "    if (id != null && id in Bokeh.index) {\n",
       "      Bokeh.index[id].model.document.clear();\n",
       "      delete Bokeh.index[id];\n",
       "    }\n",
       "\n",
       "    if (server_id !== undefined) {\n",
       "      // Clean up Bokeh references\n",
       "      var cmd = \"from bokeh.io.state import curstate; print(curstate().uuid_to_server['\" + server_id + \"'].get_sessions()[0].document.roots[0]._id)\";\n",
       "      cell.notebook.kernel.execute(cmd, {\n",
       "        iopub: {\n",
       "          output: function(msg) {\n",
       "            var id = msg.content.text.trim();\n",
       "            if (id in Bokeh.index) {\n",
       "              Bokeh.index[id].model.document.clear();\n",
       "              delete Bokeh.index[id];\n",
       "            }\n",
       "          }\n",
       "        }\n",
       "      });\n",
       "      // Destroy server and session\n",
       "      var cmd = \"import bokeh.io.notebook as ion; ion.destroy_server('\" + server_id + \"')\";\n",
       "      cell.notebook.kernel.execute(cmd);\n",
       "    }\n",
       "  }\n",
       "\n",
       "  /**\n",
       "   * Handle when a new output is added\n",
       "   */\n",
       "  function handleAddOutput(event, handle) {\n",
       "    var output_area = handle.output_area;\n",
       "    var output = handle.output;\n",
       "\n",
       "    // limit handleAddOutput to display_data with EXEC_MIME_TYPE content only\n",
       "    if ((output.output_type != \"display_data\") || (!output.data.hasOwnProperty(EXEC_MIME_TYPE))) {\n",
       "      return\n",
       "    }\n",
       "\n",
       "    var toinsert = output_area.element.find(\".\" + CLASS_NAME.split(' ')[0]);\n",
       "\n",
       "    if (output.metadata[EXEC_MIME_TYPE][\"id\"] !== undefined) {\n",
       "      toinsert[toinsert.length - 1].firstChild.textContent = output.data[JS_MIME_TYPE];\n",
       "      // store reference to embed id on output_area\n",
       "      output_area._bokeh_element_id = output.metadata[EXEC_MIME_TYPE][\"id\"];\n",
       "    }\n",
       "    if (output.metadata[EXEC_MIME_TYPE][\"server_id\"] !== undefined) {\n",
       "      var bk_div = document.createElement(\"div\");\n",
       "      bk_div.innerHTML = output.data[HTML_MIME_TYPE];\n",
       "      var script_attrs = bk_div.children[0].attributes;\n",
       "      for (var i = 0; i < script_attrs.length; i++) {\n",
       "        toinsert[toinsert.length - 1].firstChild.setAttribute(script_attrs[i].name, script_attrs[i].value);\n",
       "      }\n",
       "      // store reference to server id on output_area\n",
       "      output_area._bokeh_server_id = output.metadata[EXEC_MIME_TYPE][\"server_id\"];\n",
       "    }\n",
       "  }\n",
       "\n",
       "  function register_renderer(events, OutputArea) {\n",
       "\n",
       "    function append_mime(data, metadata, element) {\n",
       "      // create a DOM node to render to\n",
       "      var toinsert = this.create_output_subarea(\n",
       "        metadata,\n",
       "        CLASS_NAME,\n",
       "        EXEC_MIME_TYPE\n",
       "      );\n",
       "      this.keyboard_manager.register_events(toinsert);\n",
       "      // Render to node\n",
       "      var props = {data: data, metadata: metadata[EXEC_MIME_TYPE]};\n",
       "      render(props, toinsert[toinsert.length - 1]);\n",
       "      element.append(toinsert);\n",
       "      return toinsert\n",
       "    }\n",
       "\n",
       "    /* Handle when an output is cleared or removed */\n",
       "    events.on('clear_output.CodeCell', handleClearOutput);\n",
       "    events.on('delete.Cell', handleClearOutput);\n",
       "\n",
       "    /* Handle when a new output is added */\n",
       "    events.on('output_added.OutputArea', handleAddOutput);\n",
       "\n",
       "    /**\n",
       "     * Register the mime type and append_mime function with output_area\n",
       "     */\n",
       "    OutputArea.prototype.register_mime_type(EXEC_MIME_TYPE, append_mime, {\n",
       "      /* Is output safe? */\n",
       "      safe: true,\n",
       "      /* Index of renderer in `output_area.display_order` */\n",
       "      index: 0\n",
       "    });\n",
       "  }\n",
       "\n",
       "  // register the mime type if in Jupyter Notebook environment and previously unregistered\n",
       "  if (root.Jupyter !== undefined) {\n",
       "    var events = require('base/js/events');\n",
       "    var OutputArea = require('notebook/js/outputarea').OutputArea;\n",
       "\n",
       "    if (OutputArea.prototype.mime_types().indexOf(EXEC_MIME_TYPE) == -1) {\n",
       "      register_renderer(events, OutputArea);\n",
       "    }\n",
       "  }\n",
       "\n",
       "  \n",
       "  if (typeof (root._bokeh_timeout) === \"undefined\" || force === true) {\n",
       "    root._bokeh_timeout = Date.now() + 5000;\n",
       "    root._bokeh_failed_load = false;\n",
       "  }\n",
       "\n",
       "  var NB_LOAD_WARNING = {'data': {'text/html':\n",
       "     \"<div style='background-color: #fdd'>\\n\"+\n",
       "     \"<p>\\n\"+\n",
       "     \"BokehJS does not appear to have successfully loaded. If loading BokehJS from CDN, this \\n\"+\n",
       "     \"may be due to a slow or bad network connection. Possible fixes:\\n\"+\n",
       "     \"</p>\\n\"+\n",
       "     \"<ul>\\n\"+\n",
       "     \"<li>re-rerun `output_notebook()` to attempt to load from CDN again, or</li>\\n\"+\n",
       "     \"<li>use INLINE resources instead, as so:</li>\\n\"+\n",
       "     \"</ul>\\n\"+\n",
       "     \"<code>\\n\"+\n",
       "     \"from bokeh.resources import INLINE\\n\"+\n",
       "     \"output_notebook(resources=INLINE)\\n\"+\n",
       "     \"</code>\\n\"+\n",
       "     \"</div>\"}};\n",
       "\n",
       "  function display_loaded() {\n",
       "    var el = document.getElementById(\"1002\");\n",
       "    if (el != null) {\n",
       "      el.textContent = \"BokehJS is loading...\";\n",
       "    }\n",
       "    if (root.Bokeh !== undefined) {\n",
       "      if (el != null) {\n",
       "        el.textContent = \"BokehJS \" + root.Bokeh.version + \" successfully loaded.\";\n",
       "      }\n",
       "    } else if (Date.now() < root._bokeh_timeout) {\n",
       "      setTimeout(display_loaded, 100)\n",
       "    }\n",
       "  }\n",
       "\n",
       "\n",
       "  function run_callbacks() {\n",
       "    try {\n",
       "      root._bokeh_onload_callbacks.forEach(function(callback) { callback() });\n",
       "    }\n",
       "    finally {\n",
       "      delete root._bokeh_onload_callbacks\n",
       "    }\n",
       "    console.info(\"Bokeh: all callbacks have finished\");\n",
       "  }\n",
       "\n",
       "  function load_libs(js_urls, callback) {\n",
       "    root._bokeh_onload_callbacks.push(callback);\n",
       "    if (root._bokeh_is_loading > 0) {\n",
       "      console.log(\"Bokeh: BokehJS is being loaded, scheduling callback at\", now());\n",
       "      return null;\n",
       "    }\n",
       "    if (js_urls == null || js_urls.length === 0) {\n",
       "      run_callbacks();\n",
       "      return null;\n",
       "    }\n",
       "    console.log(\"Bokeh: BokehJS not loaded, scheduling load and callback at\", now());\n",
       "    root._bokeh_is_loading = js_urls.length;\n",
       "    for (var i = 0; i < js_urls.length; i++) {\n",
       "      var url = js_urls[i];\n",
       "      var s = document.createElement('script');\n",
       "      s.src = url;\n",
       "      s.async = false;\n",
       "      s.onreadystatechange = s.onload = function() {\n",
       "        root._bokeh_is_loading--;\n",
       "        if (root._bokeh_is_loading === 0) {\n",
       "          console.log(\"Bokeh: all BokehJS libraries loaded\");\n",
       "          run_callbacks()\n",
       "        }\n",
       "      };\n",
       "      s.onerror = function() {\n",
       "        console.warn(\"failed to load library \" + url);\n",
       "      };\n",
       "      console.log(\"Bokeh: injecting script tag for BokehJS library: \", url);\n",
       "      document.getElementsByTagName(\"head\")[0].appendChild(s);\n",
       "    }\n",
       "  };var element = document.getElementById(\"1002\");\n",
       "  if (element == null) {\n",
       "    console.log(\"Bokeh: ERROR: autoload.js configured with elementid '1002' but no matching script tag was found. \")\n",
       "    return false;\n",
       "  }\n",
       "\n",
       "  var js_urls = [\"https://cdn.pydata.org/bokeh/release/bokeh-1.0.0.min.js\", \"https://cdn.pydata.org/bokeh/release/bokeh-widgets-1.0.0.min.js\", \"https://cdn.pydata.org/bokeh/release/bokeh-tables-1.0.0.min.js\", \"https://cdn.pydata.org/bokeh/release/bokeh-gl-1.0.0.min.js\"];\n",
       "\n",
       "  var inline_js = [\n",
       "    function(Bokeh) {\n",
       "      Bokeh.set_log_level(\"info\");\n",
       "    },\n",
       "    \n",
       "    function(Bokeh) {\n",
       "      \n",
       "    },\n",
       "    function(Bokeh) {\n",
       "      console.log(\"Bokeh: injecting CSS: https://cdn.pydata.org/bokeh/release/bokeh-1.0.0.min.css\");\n",
       "      Bokeh.embed.inject_css(\"https://cdn.pydata.org/bokeh/release/bokeh-1.0.0.min.css\");\n",
       "      console.log(\"Bokeh: injecting CSS: https://cdn.pydata.org/bokeh/release/bokeh-widgets-1.0.0.min.css\");\n",
       "      Bokeh.embed.inject_css(\"https://cdn.pydata.org/bokeh/release/bokeh-widgets-1.0.0.min.css\");\n",
       "      console.log(\"Bokeh: injecting CSS: https://cdn.pydata.org/bokeh/release/bokeh-tables-1.0.0.min.css\");\n",
       "      Bokeh.embed.inject_css(\"https://cdn.pydata.org/bokeh/release/bokeh-tables-1.0.0.min.css\");\n",
       "    }\n",
       "  ];\n",
       "\n",
       "  function run_inline_js() {\n",
       "    \n",
       "    if ((root.Bokeh !== undefined) || (force === true)) {\n",
       "      for (var i = 0; i < inline_js.length; i++) {\n",
       "        inline_js[i].call(root, root.Bokeh);\n",
       "      }if (force === true) {\n",
       "        display_loaded();\n",
       "      }} else if (Date.now() < root._bokeh_timeout) {\n",
       "      setTimeout(run_inline_js, 100);\n",
       "    } else if (!root._bokeh_failed_load) {\n",
       "      console.log(\"Bokeh: BokehJS failed to load within specified timeout.\");\n",
       "      root._bokeh_failed_load = true;\n",
       "    } else if (force !== true) {\n",
       "      var cell = $(document.getElementById(\"1002\")).parents('.cell').data().cell;\n",
       "      cell.output_area.append_execute_result(NB_LOAD_WARNING)\n",
       "    }\n",
       "\n",
       "  }\n",
       "\n",
       "  if (root._bokeh_is_loading === 0) {\n",
       "    console.log(\"Bokeh: BokehJS loaded, going straight to plotting\");\n",
       "    run_inline_js();\n",
       "  } else {\n",
       "    load_libs(js_urls, function() {\n",
       "      console.log(\"Bokeh: BokehJS plotting callback run at\", now());\n",
       "      run_inline_js();\n",
       "    });\n",
       "  }\n",
       "}(window));"
      ],
      "application/vnd.bokehjs_load.v0+json": "\n(function(root) {\n  function now() {\n    return new Date();\n  }\n\n  var force = true;\n\n  if (typeof (root._bokeh_onload_callbacks) === \"undefined\" || force === true) {\n    root._bokeh_onload_callbacks = [];\n    root._bokeh_is_loading = undefined;\n  }\n\n  \n\n  \n  if (typeof (root._bokeh_timeout) === \"undefined\" || force === true) {\n    root._bokeh_timeout = Date.now() + 5000;\n    root._bokeh_failed_load = false;\n  }\n\n  var NB_LOAD_WARNING = {'data': {'text/html':\n     \"<div style='background-color: #fdd'>\\n\"+\n     \"<p>\\n\"+\n     \"BokehJS does not appear to have successfully loaded. If loading BokehJS from CDN, this \\n\"+\n     \"may be due to a slow or bad network connection. Possible fixes:\\n\"+\n     \"</p>\\n\"+\n     \"<ul>\\n\"+\n     \"<li>re-rerun `output_notebook()` to attempt to load from CDN again, or</li>\\n\"+\n     \"<li>use INLINE resources instead, as so:</li>\\n\"+\n     \"</ul>\\n\"+\n     \"<code>\\n\"+\n     \"from bokeh.resources import INLINE\\n\"+\n     \"output_notebook(resources=INLINE)\\n\"+\n     \"</code>\\n\"+\n     \"</div>\"}};\n\n  function display_loaded() {\n    var el = document.getElementById(\"1002\");\n    if (el != null) {\n      el.textContent = \"BokehJS is loading...\";\n    }\n    if (root.Bokeh !== undefined) {\n      if (el != null) {\n        el.textContent = \"BokehJS \" + root.Bokeh.version + \" successfully loaded.\";\n      }\n    } else if (Date.now() < root._bokeh_timeout) {\n      setTimeout(display_loaded, 100)\n    }\n  }\n\n\n  function run_callbacks() {\n    try {\n      root._bokeh_onload_callbacks.forEach(function(callback) { callback() });\n    }\n    finally {\n      delete root._bokeh_onload_callbacks\n    }\n    console.info(\"Bokeh: all callbacks have finished\");\n  }\n\n  function load_libs(js_urls, callback) {\n    root._bokeh_onload_callbacks.push(callback);\n    if (root._bokeh_is_loading > 0) {\n      console.log(\"Bokeh: BokehJS is being loaded, scheduling callback at\", now());\n      return null;\n    }\n    if (js_urls == null || js_urls.length === 0) {\n      run_callbacks();\n      return null;\n    }\n    console.log(\"Bokeh: BokehJS not loaded, scheduling load and callback at\", now());\n    root._bokeh_is_loading = js_urls.length;\n    for (var i = 0; i < js_urls.length; i++) {\n      var url = js_urls[i];\n      var s = document.createElement('script');\n      s.src = url;\n      s.async = false;\n      s.onreadystatechange = s.onload = function() {\n        root._bokeh_is_loading--;\n        if (root._bokeh_is_loading === 0) {\n          console.log(\"Bokeh: all BokehJS libraries loaded\");\n          run_callbacks()\n        }\n      };\n      s.onerror = function() {\n        console.warn(\"failed to load library \" + url);\n      };\n      console.log(\"Bokeh: injecting script tag for BokehJS library: \", url);\n      document.getElementsByTagName(\"head\")[0].appendChild(s);\n    }\n  };var element = document.getElementById(\"1002\");\n  if (element == null) {\n    console.log(\"Bokeh: ERROR: autoload.js configured with elementid '1002' but no matching script tag was found. \")\n    return false;\n  }\n\n  var js_urls = [\"https://cdn.pydata.org/bokeh/release/bokeh-1.0.0.min.js\", \"https://cdn.pydata.org/bokeh/release/bokeh-widgets-1.0.0.min.js\", \"https://cdn.pydata.org/bokeh/release/bokeh-tables-1.0.0.min.js\", \"https://cdn.pydata.org/bokeh/release/bokeh-gl-1.0.0.min.js\"];\n\n  var inline_js = [\n    function(Bokeh) {\n      Bokeh.set_log_level(\"info\");\n    },\n    \n    function(Bokeh) {\n      \n    },\n    function(Bokeh) {\n      console.log(\"Bokeh: injecting CSS: https://cdn.pydata.org/bokeh/release/bokeh-1.0.0.min.css\");\n      Bokeh.embed.inject_css(\"https://cdn.pydata.org/bokeh/release/bokeh-1.0.0.min.css\");\n      console.log(\"Bokeh: injecting CSS: https://cdn.pydata.org/bokeh/release/bokeh-widgets-1.0.0.min.css\");\n      Bokeh.embed.inject_css(\"https://cdn.pydata.org/bokeh/release/bokeh-widgets-1.0.0.min.css\");\n      console.log(\"Bokeh: injecting CSS: https://cdn.pydata.org/bokeh/release/bokeh-tables-1.0.0.min.css\");\n      Bokeh.embed.inject_css(\"https://cdn.pydata.org/bokeh/release/bokeh-tables-1.0.0.min.css\");\n    }\n  ];\n\n  function run_inline_js() {\n    \n    if ((root.Bokeh !== undefined) || (force === true)) {\n      for (var i = 0; i < inline_js.length; i++) {\n        inline_js[i].call(root, root.Bokeh);\n      }if (force === true) {\n        display_loaded();\n      }} else if (Date.now() < root._bokeh_timeout) {\n      setTimeout(run_inline_js, 100);\n    } else if (!root._bokeh_failed_load) {\n      console.log(\"Bokeh: BokehJS failed to load within specified timeout.\");\n      root._bokeh_failed_load = true;\n    } else if (force !== true) {\n      var cell = $(document.getElementById(\"1002\")).parents('.cell').data().cell;\n      cell.output_area.append_execute_result(NB_LOAD_WARNING)\n    }\n\n  }\n\n  if (root._bokeh_is_loading === 0) {\n    console.log(\"Bokeh: BokehJS loaded, going straight to plotting\");\n    run_inline_js();\n  } else {\n    load_libs(js_urls, function() {\n      console.log(\"Bokeh: BokehJS plotting callback run at\", now());\n      run_inline_js();\n    });\n  }\n}(window));"
     },
     "metadata": {},
     "output_type": "display_data"
    }
   ],
   "source": [
    "import pandas as pd\n",
    "import numpy as np\n",
    "\n",
    "# import bokeh \n",
    "from bokeh.plotting import figure, show, Figure\n",
    "from bokeh.models import ColumnDataSource, Label\n",
    "from bokeh.models.glyphs import Text\n",
    "from bokeh.palettes import Spectral3, d3\n",
    "from bokeh.layouts import row, column, gridplot\n",
    "\n",
    "# tell bokeh to show the figures in the notebook\n",
    "from bokeh.io import output_notebook\n",
    "output_notebook()"
   ]
  },
  {
   "cell_type": "markdown",
   "metadata": {},
   "source": [
    "Load data stored in bokeh:"
   ]
  },
  {
   "cell_type": "code",
   "execution_count": 4,
   "metadata": {},
   "outputs": [
    {
     "data": {
      "text/html": [
       "<div>\n",
       "<table border=\"1\" class=\"dataframe\">\n",
       "  <thead>\n",
       "    <tr style=\"text-align: right;\">\n",
       "      <th></th>\n",
       "      <th>sepal_length</th>\n",
       "      <th>sepal_width</th>\n",
       "      <th>petal_length</th>\n",
       "      <th>petal_width</th>\n",
       "      <th>species</th>\n",
       "    </tr>\n",
       "  </thead>\n",
       "  <tbody>\n",
       "    <tr>\n",
       "      <th>0</th>\n",
       "      <td>5.1</td>\n",
       "      <td>3.5</td>\n",
       "      <td>1.4</td>\n",
       "      <td>0.2</td>\n",
       "      <td>setosa</td>\n",
       "    </tr>\n",
       "    <tr>\n",
       "      <th>1</th>\n",
       "      <td>4.9</td>\n",
       "      <td>3.0</td>\n",
       "      <td>1.4</td>\n",
       "      <td>0.2</td>\n",
       "      <td>setosa</td>\n",
       "    </tr>\n",
       "    <tr>\n",
       "      <th>2</th>\n",
       "      <td>4.7</td>\n",
       "      <td>3.2</td>\n",
       "      <td>1.3</td>\n",
       "      <td>0.2</td>\n",
       "      <td>setosa</td>\n",
       "    </tr>\n",
       "    <tr>\n",
       "      <th>3</th>\n",
       "      <td>4.6</td>\n",
       "      <td>3.1</td>\n",
       "      <td>1.5</td>\n",
       "      <td>0.2</td>\n",
       "      <td>setosa</td>\n",
       "    </tr>\n",
       "    <tr>\n",
       "      <th>4</th>\n",
       "      <td>5.0</td>\n",
       "      <td>3.6</td>\n",
       "      <td>1.4</td>\n",
       "      <td>0.2</td>\n",
       "      <td>setosa</td>\n",
       "    </tr>\n",
       "  </tbody>\n",
       "</table>\n",
       "</div>"
      ],
      "text/plain": [
       "   sepal_length  sepal_width  petal_length  petal_width species\n",
       "0           5.1          3.5           1.4          0.2  setosa\n",
       "1           4.9          3.0           1.4          0.2  setosa\n",
       "2           4.7          3.2           1.3          0.2  setosa\n",
       "3           4.6          3.1           1.5          0.2  setosa\n",
       "4           5.0          3.6           1.4          0.2  setosa"
      ]
     },
     "execution_count": 4,
     "metadata": {},
     "output_type": "execute_result"
    }
   ],
   "source": [
    "from bokeh.sampledata.autompg import autompg\n",
    "from bokeh.sampledata.iris import flowers\n",
    "flowers.head()"
   ]
  },
  {
   "cell_type": "markdown",
   "metadata": {},
   "source": [
    "## Helpful functions"
   ]
  },
  {
   "cell_type": "markdown",
   "metadata": {},
   "source": [
    "Group a dataframe according to a variable (species) and compute some statistics for a second variable (petal_width)."
   ]
  },
  {
   "cell_type": "code",
   "execution_count": 5,
   "metadata": {},
   "outputs": [
    {
     "data": {
      "text/plain": [
       "species          \n",
       "setosa      count    50.000000\n",
       "            mean      0.246000\n",
       "            std       0.105386\n",
       "            min       0.100000\n",
       "            25%       0.200000\n",
       "            50%       0.200000\n",
       "            75%       0.300000\n",
       "            max       0.600000\n",
       "versicolor  count    50.000000\n",
       "            mean      1.326000\n",
       "            std       0.197753\n",
       "            min       1.000000\n",
       "            25%       1.200000\n",
       "            50%       1.300000\n",
       "            75%       1.500000\n",
       "            max       1.800000\n",
       "virginica   count    50.000000\n",
       "            mean      2.026000\n",
       "            std       0.274650\n",
       "            min       1.400000\n",
       "            25%       1.800000\n",
       "            50%       2.000000\n",
       "            75%       2.300000\n",
       "            max       2.500000\n",
       "Name: petal_width, dtype: float64"
      ]
     },
     "execution_count": 5,
     "metadata": {},
     "output_type": "execute_result"
    }
   ],
   "source": [
    "flowers.groupby(['species']).petal_width.describe()"
   ]
  },
  {
   "cell_type": "markdown",
   "metadata": {},
   "source": [
    "Find unique values and count them in categorical variable."
   ]
  },
  {
   "cell_type": "code",
   "execution_count": 6,
   "metadata": {},
   "outputs": [
    {
     "data": {
      "text/plain": [
       "array(['setosa', 'versicolor', 'virginica'], dtype=object)"
      ]
     },
     "execution_count": 6,
     "metadata": {},
     "output_type": "execute_result"
    }
   ],
   "source": [
    "flowers.species.unique()"
   ]
  },
  {
   "cell_type": "code",
   "execution_count": 7,
   "metadata": {},
   "outputs": [
    {
     "data": {
      "text/plain": [
       "versicolor    50\n",
       "setosa        50\n",
       "virginica     50\n",
       "Name: species, dtype: int64"
      ]
     },
     "execution_count": 7,
     "metadata": {},
     "output_type": "execute_result"
    }
   ],
   "source": [
    "flowers.species.value_counts()"
   ]
  },
  {
   "cell_type": "markdown",
   "metadata": {},
   "source": [
    "Use numpy to compute a histogram for quantitative data. See the docu for further information and how to work with the output."
   ]
  },
  {
   "cell_type": "code",
   "execution_count": 8,
   "metadata": {},
   "outputs": [
    {
     "data": {
      "text/plain": [
       "(array([41,  8,  1,  7,  8, 33,  6, 23,  9, 14]),\n",
       " array([0.1 , 0.34, 0.58, 0.82, 1.06, 1.3 , 1.54, 1.78, 2.02, 2.26, 2.5 ]))"
      ]
     },
     "execution_count": 8,
     "metadata": {},
     "output_type": "execute_result"
    }
   ],
   "source": [
    "np.histogram(flowers.petal_width)"
   ]
  },
  {
   "cell_type": "markdown",
   "metadata": {},
   "source": [
    "## Exercise 1 a): Customize a scatterplot chart\n",
    "\n",
    "The following code skeleton renders a scatterplot. Customize the chart to your liking. Think for example of many data points. \n",
    "\n",
    "This is meant to be a very quick exercise to demonstrate the concept for the following two charts.\n",
    "\n",
    "Requirements:\n",
    "- **Parameters**: The function accepts (at least) the following parameters:\n",
    "    - **source**: a pandas DataFrameObject or bokeh ColumnDataSource that holds the data\n",
    "    - **x**: variable (name as string) to be represented on the x-axis\n",
    "    - **y**: variable (name as string) to be represented on the y-axis\n",
    "- **Calling the scatterplot**: The function is a class method of Figure and can be called as follows\n",
    "```python\n",
    "p = figure()\n",
    "p.scatter( data, x, y )\n",
    "```\n",
    "This is already setup in the code skeleton below.\n",
    "\n",
    "**<font color=\"deeppink\">Update code</font>**"
   ]
  },
  {
   "cell_type": "code",
   "execution_count": 9,
   "metadata": {},
   "outputs": [],
   "source": [
    "def scatter( self, source, x, y, **kwargs ):\n",
    "    # access the figure using the self variable\n",
    "    self.circle( source=source, x=x, y=y, color='colors', size=7, fill_alpha=0.4)\n",
    "    \n",
    "    # add these to the appropriate average\n",
    "    label = Label(x=50, y=50, x_units='screen', y_units='screen',\n",
    "                 text='Setosa', render_mode='css')\n",
    "    label2 = Label(x=200, y=200, x_units='screen', y_units='screen',\n",
    "                 text='Versicolor', render_mode='css' )\n",
    "    label3 = Label(x=300, y=300, x_units='screen', y_units='screen',\n",
    "                 text='Virginica', render_mode='css' )\n",
    "        \n",
    "    self.add_layout(label)\n",
    "    self.add_layout(label2)\n",
    "    self.add_layout(label3)\n",
    "    self.xaxis.axis_label = \"petal width\"\n",
    "    self.yaxis.axis_label = \"petal length\"\n",
    "    self.title.align = \"center\"\n",
    "\n",
    "# add the function as class method to Figure    \n",
    "Figure.scatter = scatter"
   ]
  },
  {
   "cell_type": "markdown",
   "metadata": {},
   "source": [
    "**<font color=\"deeppink\">Check</font>** that your code is working:"
   ]
  },
  {
   "cell_type": "code",
   "execution_count": 10,
   "metadata": {},
   "outputs": [
    {
     "data": {
      "text/html": [
       "\n",
       "\n",
       "\n",
       "\n",
       "\n",
       "\n",
       "  <div class=\"bk-root\" id=\"7142fed9-13cd-4690-a353-0d81cea0ba01\"></div>\n"
      ]
     },
     "metadata": {},
     "output_type": "display_data"
    },
    {
     "data": {
      "application/javascript": [
       "(function(root) {\n",
       "  function embed_document(root) {\n",
       "    \n",
       "  var docs_json = {\"12bd1da9-4729-4be1-ae30-2a65df31f0f9\":{\"roots\":{\"references\":[{\"attributes\":{\"below\":[{\"id\":\"1014\",\"type\":\"LinearAxis\"}],\"left\":[{\"id\":\"1019\",\"type\":\"LinearAxis\"}],\"plot_height\":500,\"plot_width\":500,\"renderers\":[{\"id\":\"1014\",\"type\":\"LinearAxis\"},{\"id\":\"1018\",\"type\":\"Grid\"},{\"id\":\"1019\",\"type\":\"LinearAxis\"},{\"id\":\"1023\",\"type\":\"Grid\"},{\"id\":\"1032\",\"type\":\"BoxAnnotation\"},{\"id\":\"1043\",\"type\":\"GlyphRenderer\"},{\"id\":\"1045\",\"type\":\"Label\"},{\"id\":\"1046\",\"type\":\"Label\"},{\"id\":\"1047\",\"type\":\"Label\"}],\"title\":{\"id\":\"1003\",\"type\":\"Title\"},\"toolbar\":{\"id\":\"1030\",\"type\":\"Toolbar\"},\"x_range\":{\"id\":\"1006\",\"type\":\"DataRange1d\"},\"x_scale\":{\"id\":\"1010\",\"type\":\"LinearScale\"},\"y_range\":{\"id\":\"1008\",\"type\":\"DataRange1d\"},\"y_scale\":{\"id\":\"1012\",\"type\":\"LinearScale\"}},\"id\":\"1004\",\"subtype\":\"Figure\",\"type\":\"Plot\"},{\"attributes\":{\"plot\":{\"id\":\"1004\",\"subtype\":\"Figure\",\"type\":\"Plot\"},\"render_mode\":\"css\",\"text\":\"Versicolor\",\"x\":200,\"x_units\":\"screen\",\"y\":200,\"y_units\":\"screen\"},\"id\":\"1046\",\"type\":\"Label\"},{\"attributes\":{},\"id\":\"1010\",\"type\":\"LinearScale\"},{\"attributes\":{},\"id\":\"1012\",\"type\":\"LinearScale\"},{\"attributes\":{\"axis_label\":\"petal width\",\"formatter\":{\"id\":\"1049\",\"type\":\"BasicTickFormatter\"},\"plot\":{\"id\":\"1004\",\"subtype\":\"Figure\",\"type\":\"Plot\"},\"ticker\":{\"id\":\"1015\",\"type\":\"BasicTicker\"}},\"id\":\"1014\",\"type\":\"LinearAxis\"},{\"attributes\":{},\"id\":\"1015\",\"type\":\"BasicTicker\"},{\"attributes\":{\"plot\":{\"id\":\"1004\",\"subtype\":\"Figure\",\"type\":\"Plot\"},\"ticker\":{\"id\":\"1015\",\"type\":\"BasicTicker\"}},\"id\":\"1018\",\"type\":\"Grid\"},{\"attributes\":{\"dimension\":1,\"plot\":{\"id\":\"1004\",\"subtype\":\"Figure\",\"type\":\"Plot\"},\"ticker\":{\"id\":\"1020\",\"type\":\"BasicTicker\"}},\"id\":\"1023\",\"type\":\"Grid\"},{\"attributes\":{\"plot\":{\"id\":\"1004\",\"subtype\":\"Figure\",\"type\":\"Plot\"},\"render_mode\":\"css\",\"text\":\"Virginica\",\"x\":300,\"x_units\":\"screen\",\"y\":300,\"y_units\":\"screen\"},\"id\":\"1047\",\"type\":\"Label\"},{\"attributes\":{\"align\":\"center\",\"plot\":null,\"text\":\"Petal Length and Width by Species\"},\"id\":\"1003\",\"type\":\"Title\"},{\"attributes\":{\"axis_label\":\"petal length\",\"formatter\":{\"id\":\"1051\",\"type\":\"BasicTickFormatter\"},\"plot\":{\"id\":\"1004\",\"subtype\":\"Figure\",\"type\":\"Plot\"},\"ticker\":{\"id\":\"1020\",\"type\":\"BasicTicker\"}},\"id\":\"1019\",\"type\":\"LinearAxis\"},{\"attributes\":{},\"id\":\"1020\",\"type\":\"BasicTicker\"},{\"attributes\":{},\"id\":\"1049\",\"type\":\"BasicTickFormatter\"},{\"attributes\":{},\"id\":\"1051\",\"type\":\"BasicTickFormatter\"},{\"attributes\":{\"active_drag\":\"auto\",\"active_inspect\":\"auto\",\"active_multi\":null,\"active_scroll\":\"auto\",\"active_tap\":\"auto\",\"tools\":[{\"id\":\"1024\",\"type\":\"PanTool\"},{\"id\":\"1025\",\"type\":\"WheelZoomTool\"},{\"id\":\"1026\",\"type\":\"BoxZoomTool\"},{\"id\":\"1027\",\"type\":\"SaveTool\"},{\"id\":\"1028\",\"type\":\"ResetTool\"},{\"id\":\"1029\",\"type\":\"HelpTool\"}]},\"id\":\"1030\",\"type\":\"Toolbar\"},{\"attributes\":{\"callback\":null,\"data\":{\"colors\":[\"red\",\"red\",\"red\",\"red\",\"red\",\"red\",\"red\",\"red\",\"red\",\"red\",\"red\",\"red\",\"red\",\"red\",\"red\",\"red\",\"red\",\"red\",\"red\",\"red\",\"red\",\"red\",\"red\",\"red\",\"red\",\"red\",\"red\",\"red\",\"red\",\"red\",\"red\",\"red\",\"red\",\"red\",\"red\",\"red\",\"red\",\"red\",\"red\",\"red\",\"red\",\"red\",\"red\",\"red\",\"red\",\"red\",\"red\",\"red\",\"red\",\"red\",\"green\",\"green\",\"green\",\"green\",\"green\",\"green\",\"green\",\"green\",\"green\",\"green\",\"green\",\"green\",\"green\",\"green\",\"green\",\"green\",\"green\",\"green\",\"green\",\"green\",\"green\",\"green\",\"green\",\"green\",\"green\",\"green\",\"green\",\"green\",\"green\",\"green\",\"green\",\"green\",\"green\",\"green\",\"green\",\"green\",\"green\",\"green\",\"green\",\"green\",\"green\",\"green\",\"green\",\"green\",\"green\",\"green\",\"green\",\"green\",\"green\",\"green\",\"blue\",\"blue\",\"blue\",\"blue\",\"blue\",\"blue\",\"blue\",\"blue\",\"blue\",\"blue\",\"blue\",\"blue\",\"blue\",\"blue\",\"blue\",\"blue\",\"blue\",\"blue\",\"blue\",\"blue\",\"blue\",\"blue\",\"blue\",\"blue\",\"blue\",\"blue\",\"blue\",\"blue\",\"blue\",\"blue\",\"blue\",\"blue\",\"blue\",\"blue\",\"blue\",\"blue\",\"blue\",\"blue\",\"blue\",\"blue\",\"blue\",\"blue\",\"blue\",\"blue\",\"blue\",\"blue\",\"blue\",\"blue\",\"blue\",\"blue\"],\"index\":[0,1,2,3,4,5,6,7,8,9,10,11,12,13,14,15,16,17,18,19,20,21,22,23,24,25,26,27,28,29,30,31,32,33,34,35,36,37,38,39,40,41,42,43,44,45,46,47,48,49,50,51,52,53,54,55,56,57,58,59,60,61,62,63,64,65,66,67,68,69,70,71,72,73,74,75,76,77,78,79,80,81,82,83,84,85,86,87,88,89,90,91,92,93,94,95,96,97,98,99,100,101,102,103,104,105,106,107,108,109,110,111,112,113,114,115,116,117,118,119,120,121,122,123,124,125,126,127,128,129,130,131,132,133,134,135,136,137,138,139,140,141,142,143,144,145,146,147,148,149],\"petal_length\":{\"__ndarray__\":\"ZmZmZmZm9j9mZmZmZmb2P83MzMzMzPQ/AAAAAAAA+D9mZmZmZmb2PzMzMzMzM/s/ZmZmZmZm9j8AAAAAAAD4P2ZmZmZmZvY/AAAAAAAA+D8AAAAAAAD4P5qZmZmZmfk/ZmZmZmZm9j+amZmZmZnxPzMzMzMzM/M/AAAAAAAA+D/NzMzMzMz0P2ZmZmZmZvY/MzMzMzMz+z8AAAAAAAD4PzMzMzMzM/s/AAAAAAAA+D8AAAAAAADwPzMzMzMzM/s/ZmZmZmZm/j+amZmZmZn5P5qZmZmZmfk/AAAAAAAA+D9mZmZmZmb2P5qZmZmZmfk/mpmZmZmZ+T8AAAAAAAD4PwAAAAAAAPg/ZmZmZmZm9j8AAAAAAAD4PzMzMzMzM/M/zczMzMzM9D9mZmZmZmb2P83MzMzMzPQ/AAAAAAAA+D/NzMzMzMz0P83MzMzMzPQ/zczMzMzM9D+amZmZmZn5P2ZmZmZmZv4/ZmZmZmZm9j+amZmZmZn5P2ZmZmZmZvY/AAAAAAAA+D9mZmZmZmb2P83MzMzMzBJAAAAAAAAAEkCamZmZmZkTQAAAAAAAABBAZmZmZmZmEkAAAAAAAAASQM3MzMzMzBJAZmZmZmZmCkBmZmZmZmYSQDMzMzMzMw9AAAAAAAAADEDNzMzMzMwQQAAAAAAAABBAzczMzMzMEkDNzMzMzMwMQJqZmZmZmRFAAAAAAAAAEkBmZmZmZmYQQAAAAAAAABJAMzMzMzMzD0AzMzMzMzMTQAAAAAAAABBAmpmZmZmZE0DNzMzMzMwSQDMzMzMzMxFAmpmZmZmZEUAzMzMzMzMTQAAAAAAAABRAAAAAAAAAEkAAAAAAAAAMQGZmZmZmZg5AmpmZmZmZDUAzMzMzMzMPQGZmZmZmZhRAAAAAAAAAEkAAAAAAAAASQM3MzMzMzBJAmpmZmZmZEUBmZmZmZmYQQAAAAAAAABBAmpmZmZmZEUBmZmZmZmYSQAAAAAAAABBAZmZmZmZmCkDNzMzMzMwQQM3MzMzMzBBAzczMzMzMEEAzMzMzMzMRQAAAAAAAAAhAZmZmZmZmEEAAAAAAAAAYQGZmZmZmZhRAmpmZmZmZF0BmZmZmZmYWQDMzMzMzMxdAZmZmZmZmGkAAAAAAAAASQDMzMzMzMxlAMzMzMzMzF0BmZmZmZmYYQGZmZmZmZhRAMzMzMzMzFUAAAAAAAAAWQAAAAAAAABRAZmZmZmZmFEAzMzMzMzMVQAAAAAAAABZAzczMzMzMGkCamZmZmZkbQAAAAAAAABRAzczMzMzMFkCamZmZmZkTQM3MzMzMzBpAmpmZmZmZE0DNzMzMzMwWQAAAAAAAABhAMzMzMzMzE0CamZmZmZkTQGZmZmZmZhZAMzMzMzMzF0BmZmZmZmYYQJqZmZmZmRlAZmZmZmZmFkBmZmZmZmYUQGZmZmZmZhZAZmZmZmZmGEBmZmZmZmYWQAAAAAAAABZAMzMzMzMzE0CamZmZmZkVQGZmZmZmZhZAZmZmZmZmFEBmZmZmZmYUQJqZmZmZmRdAzczMzMzMFkDNzMzMzMwUQAAAAAAAABRAzczMzMzMFECamZmZmZkVQGZmZmZmZhRA\",\"dtype\":\"float64\",\"shape\":[150]},\"petal_width\":{\"__ndarray__\":\"mpmZmZmZyT+amZmZmZnJP5qZmZmZmck/mpmZmZmZyT+amZmZmZnJP5qZmZmZmdk/MzMzMzMz0z+amZmZmZnJP5qZmZmZmck/mpmZmZmZuT+amZmZmZnJP5qZmZmZmck/mpmZmZmZuT+amZmZmZm5P5qZmZmZmck/mpmZmZmZ2T+amZmZmZnZPzMzMzMzM9M/MzMzMzMz0z8zMzMzMzPTP5qZmZmZmck/mpmZmZmZ2T+amZmZmZnJPwAAAAAAAOA/mpmZmZmZyT+amZmZmZnJP5qZmZmZmdk/mpmZmZmZyT+amZmZmZnJP5qZmZmZmck/mpmZmZmZyT+amZmZmZnZP5qZmZmZmbk/mpmZmZmZyT+amZmZmZnJP5qZmZmZmck/mpmZmZmZyT+amZmZmZm5P5qZmZmZmck/mpmZmZmZyT8zMzMzMzPTPzMzMzMzM9M/mpmZmZmZyT8zMzMzMzPjP5qZmZmZmdk/MzMzMzMz0z+amZmZmZnJP5qZmZmZmck/mpmZmZmZyT+amZmZmZnJP2ZmZmZmZvY/AAAAAAAA+D8AAAAAAAD4P83MzMzMzPQ/AAAAAAAA+D/NzMzMzMz0P5qZmZmZmfk/AAAAAAAA8D/NzMzMzMz0P2ZmZmZmZvY/AAAAAAAA8D8AAAAAAAD4PwAAAAAAAPA/ZmZmZmZm9j/NzMzMzMz0P2ZmZmZmZvY/AAAAAAAA+D8AAAAAAADwPwAAAAAAAPg/mpmZmZmZ8T/NzMzMzMz8P83MzMzMzPQ/AAAAAAAA+D8zMzMzMzPzP83MzMzMzPQ/ZmZmZmZm9j9mZmZmZmb2PzMzMzMzM/s/AAAAAAAA+D8AAAAAAADwP5qZmZmZmfE/AAAAAAAA8D8zMzMzMzPzP5qZmZmZmfk/AAAAAAAA+D+amZmZmZn5PwAAAAAAAPg/zczMzMzM9D/NzMzMzMz0P83MzMzMzPQ/MzMzMzMz8z9mZmZmZmb2PzMzMzMzM/M/AAAAAAAA8D/NzMzMzMz0PzMzMzMzM/M/zczMzMzM9D/NzMzMzMz0P5qZmZmZmfE/zczMzMzM9D8AAAAAAAAEQGZmZmZmZv4/zczMzMzMAEDNzMzMzMz8P5qZmZmZmQFAzczMzMzMAEAzMzMzMzP7P83MzMzMzPw/zczMzMzM/D8AAAAAAAAEQAAAAAAAAABAZmZmZmZm/j/NzMzMzMwAQAAAAAAAAABAMzMzMzMzA0BmZmZmZmYCQM3MzMzMzPw/mpmZmZmZAUBmZmZmZmYCQAAAAAAAAPg/ZmZmZmZmAkAAAAAAAAAAQAAAAAAAAABAzczMzMzM/D/NzMzMzMwAQM3MzMzMzPw/zczMzMzM/D/NzMzMzMz8P83MzMzMzABAmpmZmZmZ+T9mZmZmZmb+PwAAAAAAAABAmpmZmZmZAUAAAAAAAAD4P2ZmZmZmZvY/ZmZmZmZmAkAzMzMzMzMDQM3MzMzMzPw/zczMzMzM/D/NzMzMzMwAQDMzMzMzMwNAZmZmZmZmAkBmZmZmZmb+P2ZmZmZmZgJAAAAAAAAABEBmZmZmZmYCQGZmZmZmZv4/AAAAAAAAAEBmZmZmZmYCQM3MzMzMzPw/\",\"dtype\":\"float64\",\"shape\":[150]},\"sepal_length\":{\"__ndarray__\":\"ZmZmZmZmFECamZmZmZkTQM3MzMzMzBJAZmZmZmZmEkAAAAAAAAAUQJqZmZmZmRVAZmZmZmZmEkAAAAAAAAAUQJqZmZmZmRFAmpmZmZmZE0CamZmZmZkVQDMzMzMzMxNAMzMzMzMzE0AzMzMzMzMRQDMzMzMzMxdAzczMzMzMFkCamZmZmZkVQGZmZmZmZhRAzczMzMzMFkBmZmZmZmYUQJqZmZmZmRVAZmZmZmZmFEBmZmZmZmYSQGZmZmZmZhRAMzMzMzMzE0AAAAAAAAAUQAAAAAAAABRAzczMzMzMFEDNzMzMzMwUQM3MzMzMzBJAMzMzMzMzE0CamZmZmZkVQM3MzMzMzBRAAAAAAAAAFkCamZmZmZkTQAAAAAAAABRAAAAAAAAAFkCamZmZmZkTQJqZmZmZmRFAZmZmZmZmFEAAAAAAAAAUQAAAAAAAABJAmpmZmZmZEUAAAAAAAAAUQGZmZmZmZhRAMzMzMzMzE0BmZmZmZmYUQGZmZmZmZhJAMzMzMzMzFUAAAAAAAAAUQAAAAAAAABxAmpmZmZmZGUCamZmZmZkbQAAAAAAAABZAAAAAAAAAGkDNzMzMzMwWQDMzMzMzMxlAmpmZmZmZE0BmZmZmZmYaQM3MzMzMzBRAAAAAAAAAFECamZmZmZkXQAAAAAAAABhAZmZmZmZmGEBmZmZmZmYWQM3MzMzMzBpAZmZmZmZmFkAzMzMzMzMXQM3MzMzMzBhAZmZmZmZmFkCamZmZmZkXQGZmZmZmZhhAMzMzMzMzGUBmZmZmZmYYQJqZmZmZmRlAZmZmZmZmGkAzMzMzMzMbQM3MzMzMzBpAAAAAAAAAGEDNzMzMzMwWQAAAAAAAABZAAAAAAAAAFkAzMzMzMzMXQAAAAAAAABhAmpmZmZmZFUAAAAAAAAAYQM3MzMzMzBpAMzMzMzMzGUBmZmZmZmYWQAAAAAAAABZAAAAAAAAAFkBmZmZmZmYYQDMzMzMzMxdAAAAAAAAAFEBmZmZmZmYWQM3MzMzMzBZAzczMzMzMFkDNzMzMzMwYQGZmZmZmZhRAzczMzMzMFkAzMzMzMzMZQDMzMzMzMxdAZmZmZmZmHEAzMzMzMzMZQAAAAAAAABpAZmZmZmZmHkCamZmZmZkTQDMzMzMzMx1AzczMzMzMGkDNzMzMzMwcQAAAAAAAABpAmpmZmZmZGUAzMzMzMzMbQM3MzMzMzBZAMzMzMzMzF0CamZmZmZkZQAAAAAAAABpAzczMzMzMHkDNzMzMzMweQAAAAAAAABhAmpmZmZmZG0BmZmZmZmYWQM3MzMzMzB5AMzMzMzMzGUDNzMzMzMwaQM3MzMzMzBxAzczMzMzMGEBmZmZmZmYYQJqZmZmZmRlAzczMzMzMHECamZmZmZkdQJqZmZmZmR9AmpmZmZmZGUAzMzMzMzMZQGZmZmZmZhhAzczMzMzMHkAzMzMzMzMZQJqZmZmZmRlAAAAAAAAAGECamZmZmZkbQM3MzMzMzBpAmpmZmZmZG0AzMzMzMzMXQDMzMzMzMxtAzczMzMzMGkDNzMzMzMwaQDMzMzMzMxlAAAAAAAAAGkDNzMzMzMwYQJqZmZmZmRdA\",\"dtype\":\"float64\",\"shape\":[150]},\"sepal_width\":{\"__ndarray__\":\"AAAAAAAADEAAAAAAAAAIQJqZmZmZmQlAzczMzMzMCEDNzMzMzMwMQDMzMzMzMw9AMzMzMzMzC0AzMzMzMzMLQDMzMzMzMwdAzczMzMzMCECamZmZmZkNQDMzMzMzMwtAAAAAAAAACEAAAAAAAAAIQAAAAAAAABBAmpmZmZmZEUAzMzMzMzMPQAAAAAAAAAxAZmZmZmZmDkBmZmZmZmYOQDMzMzMzMwtAmpmZmZmZDUDNzMzMzMwMQGZmZmZmZgpAMzMzMzMzC0AAAAAAAAAIQDMzMzMzMwtAAAAAAAAADEAzMzMzMzMLQJqZmZmZmQlAzczMzMzMCEAzMzMzMzMLQGZmZmZmZhBAzczMzMzMEEDNzMzMzMwIQJqZmZmZmQlAAAAAAAAADEDNzMzMzMwMQAAAAAAAAAhAMzMzMzMzC0AAAAAAAAAMQGZmZmZmZgJAmpmZmZmZCUAAAAAAAAAMQGZmZmZmZg5AAAAAAAAACEBmZmZmZmYOQJqZmZmZmQlAmpmZmZmZDUBmZmZmZmYKQJqZmZmZmQlAmpmZmZmZCUDNzMzMzMwIQGZmZmZmZgJAZmZmZmZmBkBmZmZmZmYGQGZmZmZmZgpAMzMzMzMzA0AzMzMzMzMHQJqZmZmZmQVAAAAAAAAAAEAAAAAAAAAIQJqZmZmZmQFAMzMzMzMzB0AzMzMzMzMHQM3MzMzMzAhAAAAAAAAACECamZmZmZkFQJqZmZmZmQFAAAAAAAAABECamZmZmZkJQGZmZmZmZgZAAAAAAAAABEBmZmZmZmYGQDMzMzMzMwdAAAAAAAAACEBmZmZmZmYGQAAAAAAAAAhAMzMzMzMzB0DNzMzMzMwEQDMzMzMzMwNAMzMzMzMzA0CamZmZmZkFQJqZmZmZmQVAAAAAAAAACEAzMzMzMzMLQM3MzMzMzAhAZmZmZmZmAkAAAAAAAAAIQAAAAAAAAARAzczMzMzMBEAAAAAAAAAIQM3MzMzMzARAZmZmZmZmAkCamZmZmZkFQAAAAAAAAAhAMzMzMzMzB0AzMzMzMzMHQAAAAAAAAARAZmZmZmZmBkBmZmZmZmYKQJqZmZmZmQVAAAAAAAAACEAzMzMzMzMHQAAAAAAAAAhAAAAAAAAACEAAAAAAAAAEQDMzMzMzMwdAAAAAAAAABEDNzMzMzMwMQJqZmZmZmQlAmpmZmZmZBUAAAAAAAAAIQAAAAAAAAARAZmZmZmZmBkCamZmZmZkJQAAAAAAAAAhAZmZmZmZmDkDNzMzMzMwEQJqZmZmZmQFAmpmZmZmZCUBmZmZmZmYGQGZmZmZmZgZAmpmZmZmZBUBmZmZmZmYKQJqZmZmZmQlAZmZmZmZmBkAAAAAAAAAIQGZmZmZmZgZAAAAAAAAACEBmZmZmZmYGQGZmZmZmZg5AZmZmZmZmBkBmZmZmZmYGQM3MzMzMzARAAAAAAAAACEAzMzMzMzMLQM3MzMzMzAhAAAAAAAAACEDNzMzMzMwIQM3MzMzMzAhAzczMzMzMCECamZmZmZkFQJqZmZmZmQlAZmZmZmZmCkAAAAAAAAAIQAAAAAAAAARAAAAAAAAACEAzMzMzMzMLQAAAAAAAAAhA\",\"dtype\":\"float64\",\"shape\":[150]},\"species\":[\"setosa\",\"setosa\",\"setosa\",\"setosa\",\"setosa\",\"setosa\",\"setosa\",\"setosa\",\"setosa\",\"setosa\",\"setosa\",\"setosa\",\"setosa\",\"setosa\",\"setosa\",\"setosa\",\"setosa\",\"setosa\",\"setosa\",\"setosa\",\"setosa\",\"setosa\",\"setosa\",\"setosa\",\"setosa\",\"setosa\",\"setosa\",\"setosa\",\"setosa\",\"setosa\",\"setosa\",\"setosa\",\"setosa\",\"setosa\",\"setosa\",\"setosa\",\"setosa\",\"setosa\",\"setosa\",\"setosa\",\"setosa\",\"setosa\",\"setosa\",\"setosa\",\"setosa\",\"setosa\",\"setosa\",\"setosa\",\"setosa\",\"setosa\",\"versicolor\",\"versicolor\",\"versicolor\",\"versicolor\",\"versicolor\",\"versicolor\",\"versicolor\",\"versicolor\",\"versicolor\",\"versicolor\",\"versicolor\",\"versicolor\",\"versicolor\",\"versicolor\",\"versicolor\",\"versicolor\",\"versicolor\",\"versicolor\",\"versicolor\",\"versicolor\",\"versicolor\",\"versicolor\",\"versicolor\",\"versicolor\",\"versicolor\",\"versicolor\",\"versicolor\",\"versicolor\",\"versicolor\",\"versicolor\",\"versicolor\",\"versicolor\",\"versicolor\",\"versicolor\",\"versicolor\",\"versicolor\",\"versicolor\",\"versicolor\",\"versicolor\",\"versicolor\",\"versicolor\",\"versicolor\",\"versicolor\",\"versicolor\",\"versicolor\",\"versicolor\",\"versicolor\",\"versicolor\",\"versicolor\",\"versicolor\",\"virginica\",\"virginica\",\"virginica\",\"virginica\",\"virginica\",\"virginica\",\"virginica\",\"virginica\",\"virginica\",\"virginica\",\"virginica\",\"virginica\",\"virginica\",\"virginica\",\"virginica\",\"virginica\",\"virginica\",\"virginica\",\"virginica\",\"virginica\",\"virginica\",\"virginica\",\"virginica\",\"virginica\",\"virginica\",\"virginica\",\"virginica\",\"virginica\",\"virginica\",\"virginica\",\"virginica\",\"virginica\",\"virginica\",\"virginica\",\"virginica\",\"virginica\",\"virginica\",\"virginica\",\"virginica\",\"virginica\",\"virginica\",\"virginica\",\"virginica\",\"virginica\",\"virginica\",\"virginica\",\"virginica\",\"virginica\",\"virginica\",\"virginica\"]},\"selected\":{\"id\":\"1054\",\"type\":\"Selection\"},\"selection_policy\":{\"id\":\"1053\",\"type\":\"UnionRenderers\"}},\"id\":\"1039\",\"type\":\"ColumnDataSource\"},{\"attributes\":{\"data_source\":{\"id\":\"1039\",\"type\":\"ColumnDataSource\"},\"glyph\":{\"id\":\"1041\",\"type\":\"Circle\"},\"hover_glyph\":null,\"muted_glyph\":null,\"nonselection_glyph\":{\"id\":\"1042\",\"type\":\"Circle\"},\"selection_glyph\":null,\"view\":{\"id\":\"1044\",\"type\":\"CDSView\"}},\"id\":\"1043\",\"type\":\"GlyphRenderer\"},{\"attributes\":{\"fill_alpha\":{\"value\":0.4},\"fill_color\":{\"field\":\"colors\"},\"line_color\":{\"field\":\"colors\"},\"size\":{\"units\":\"screen\",\"value\":7},\"x\":{\"field\":\"petal_width\"},\"y\":{\"field\":\"petal_length\"}},\"id\":\"1041\",\"type\":\"Circle\"},{\"attributes\":{},\"id\":\"1053\",\"type\":\"UnionRenderers\"},{\"attributes\":{\"fill_alpha\":{\"value\":0.1},\"fill_color\":{\"value\":\"#1f77b4\"},\"line_alpha\":{\"value\":0.1},\"line_color\":{\"value\":\"#1f77b4\"},\"size\":{\"units\":\"screen\",\"value\":7},\"x\":{\"field\":\"petal_width\"},\"y\":{\"field\":\"petal_length\"}},\"id\":\"1042\",\"type\":\"Circle\"},{\"attributes\":{},\"id\":\"1024\",\"type\":\"PanTool\"},{\"attributes\":{},\"id\":\"1054\",\"type\":\"Selection\"},{\"attributes\":{\"callback\":null},\"id\":\"1008\",\"type\":\"DataRange1d\"},{\"attributes\":{},\"id\":\"1025\",\"type\":\"WheelZoomTool\"},{\"attributes\":{\"source\":{\"id\":\"1039\",\"type\":\"ColumnDataSource\"}},\"id\":\"1044\",\"type\":\"CDSView\"},{\"attributes\":{\"overlay\":{\"id\":\"1032\",\"type\":\"BoxAnnotation\"}},\"id\":\"1026\",\"type\":\"BoxZoomTool\"},{\"attributes\":{},\"id\":\"1027\",\"type\":\"SaveTool\"},{\"attributes\":{},\"id\":\"1028\",\"type\":\"ResetTool\"},{\"attributes\":{},\"id\":\"1029\",\"type\":\"HelpTool\"},{\"attributes\":{\"callback\":null},\"id\":\"1006\",\"type\":\"DataRange1d\"},{\"attributes\":{\"plot\":{\"id\":\"1004\",\"subtype\":\"Figure\",\"type\":\"Plot\"},\"render_mode\":\"css\",\"text\":\"Setosa\",\"x\":50,\"x_units\":\"screen\",\"y\":50,\"y_units\":\"screen\"},\"id\":\"1045\",\"type\":\"Label\"},{\"attributes\":{\"bottom_units\":\"screen\",\"fill_alpha\":{\"value\":0.5},\"fill_color\":{\"value\":\"lightgrey\"},\"left_units\":\"screen\",\"level\":\"overlay\",\"line_alpha\":{\"value\":1.0},\"line_color\":{\"value\":\"black\"},\"line_dash\":[4,4],\"line_width\":{\"value\":2},\"plot\":null,\"render_mode\":\"css\",\"right_units\":\"screen\",\"top_units\":\"screen\"},\"id\":\"1032\",\"type\":\"BoxAnnotation\"}],\"root_ids\":[\"1004\"]},\"title\":\"Bokeh Application\",\"version\":\"1.0.0\"}};\n",
       "  var render_items = [{\"docid\":\"12bd1da9-4729-4be1-ae30-2a65df31f0f9\",\"roots\":{\"1004\":\"7142fed9-13cd-4690-a353-0d81cea0ba01\"}}];\n",
       "  root.Bokeh.embed.embed_items_notebook(docs_json, render_items);\n",
       "\n",
       "  }\n",
       "  if (root.Bokeh !== undefined) {\n",
       "    embed_document(root);\n",
       "  } else {\n",
       "    var attempts = 0;\n",
       "    var timer = setInterval(function(root) {\n",
       "      if (root.Bokeh !== undefined) {\n",
       "        embed_document(root);\n",
       "        clearInterval(timer);\n",
       "      }\n",
       "      attempts++;\n",
       "      if (attempts > 100) {\n",
       "        console.log(\"Bokeh: ERROR: Unable to run BokehJS code because BokehJS library is missing\");\n",
       "        clearInterval(timer);\n",
       "      }\n",
       "    }, 10, root)\n",
       "  }\n",
       "})(window);"
      ],
      "application/vnd.bokehjs_exec.v0+json": ""
     },
     "metadata": {
      "application/vnd.bokehjs_exec.v0+json": {
       "id": "1004"
      }
     },
     "output_type": "display_data"
    }
   ],
   "source": [
    "p = figure( plot_width=500, plot_height=500, title = \"Petal Length and Width by Species\")\n",
    "colormap = {'setosa': 'red', 'versicolor': 'green', 'virginica': 'blue'}\n",
    "colors = [colormap[x] for x in flowers['species']]\n",
    "flowers['colors'] = colors\n",
    "\n",
    "p.scatter(source=flowers, x='petal_width', y='petal_length')\n",
    "show(p)"
   ]
  },
  {
   "cell_type": "markdown",
   "metadata": {},
   "source": [
    "**<font color=\"deeppink\">Test cases</font>**: Give three scenarios that need testing (bullet points, no implementation required). Think of scenarios where your code may fail.\n",
    "- Test Case 1: NAN: for NAN values, there is a possibility of it failing \n",
    "- Test case 2: Outlier values\n",
    "- Test case 3: Colour map only works for the three defined types, if the data supply were augmented, the code would not show a color for that map"
   ]
  },
  {
   "cell_type": "markdown",
   "metadata": {},
   "source": [
    "## Exercise 1 b): Implement a boxplot chart\n",
    "\n",
    "Requirements:\n",
    "- **Parameters**: The function accepts (at least) the following parameters:\n",
    "    - **source**: a pandas DataFrameObject that holds the data\n",
    "    - **x**: variable (name as string) to be represented on the x-axis\n",
    "    - **y**: variable (name as string) to be represented on the y-axis\n",
    "- **Orientation**: Provide boxplots with horizontal and vertical orientation (call them hboxplot and vboxplot).\n",
    "- **Calling the boxplot**: The function is a class method of Figure and can be called as follows\n",
    "```python\n",
    "p = figure()\n",
    "p.vboxplot( data, x, y )\n",
    "```\n",
    "This is already setup in the code skeleton below.\n",
    "\n",
    "Hints:\n",
    "- A Bokeh sample implementation can be found here: [Boxplot](https://bokeh.pydata.org/en/latest/docs/gallery/boxplot.html)\n",
    "- Adapt this implementation to work on the target variable only. See code below to get started.\n",
    "\n",
    "**<font color=\"deeppink\">Implement</font>**"
   ]
  },
  {
   "cell_type": "code",
   "execution_count": 11,
   "metadata": {},
   "outputs": [],
   "source": [
    "## checks the outliers\n",
    "\n",
    "def vboxplot( self, source, x, y, **kwargs ):\n",
    "    if not isinstance(source, pd.DataFrame ):\n",
    "        raise TypeError(\"source has to be a pandas DataFrame.\")\n",
    "    v_axis_type = source.get(x).unique()\n",
    "    df = pd.DataFrame(dict(score=source.get(y), group=source.get(x)))\n",
    "    groups = df.groupby('group')\n",
    "    q1 = groups.quantile(q=0.25)\n",
    "    q2 = groups.quantile(q=0.5)\n",
    "    q3 = groups.quantile(q=0.75)\n",
    "    iqr = q3 - q1\n",
    "    upper = q3 + 1.5*iqr\n",
    "    lower = q1 - 1.5*iqr\n",
    "    # find the outliers for each category\n",
    "    def outliers(group):\n",
    "        group_name = group.name\n",
    "        return group[(group.score > upper.loc[group_name]['score']) | (group.score < lower.loc[group_name]['score'])]['score']\n",
    "    \n",
    "    \n",
    "    out = groups.apply(outliers).dropna()\n",
    "\n",
    "    # prepare outlier data for plotting, we need coordinates for every outlier.\n",
    "    if not out.empty:\n",
    "        outx = []\n",
    "        outy = []\n",
    "        for keys in out.index:\n",
    "            outx.append(keys[0])\n",
    "            outy.append(out.loc[keys[0]].loc[keys[1]])\n",
    "    # if no outliers, shrink lengths of stems to be no longer than the minimums or maximums\n",
    "    qmin = groups.quantile(q=0.00)\n",
    "    qmax = groups.quantile(q=1.00)\n",
    "    upper.score = [min([x,y]) for (x,y) in zip(list(qmax.loc[:,'score']),upper.score)]\n",
    "    lower.score = [max([x,y]) for (x,y) in zip(list(qmin.loc[:,'score']),lower.score)]\n",
    "\n",
    "    # stems\n",
    "    self.segment(v_axis_type, upper.score, v_axis_type, q3.score, line_color=\"black\")\n",
    "    self.segment(v_axis_type, lower.score, v_axis_type, q1.score, line_color=\"black\")\n",
    "\n",
    "    # boxes\n",
    "    self.vbar(v_axis_type, 0.7, q2.score, q3.score, fill_color=\"#00FFFF\", line_color=\"black\")\n",
    "    self.vbar(v_axis_type, 0.7, q1.score, q2.score, fill_color=\"#000080\", line_color=\"black\")\n",
    "\n",
    "    # whiskers (almost-0 height rects simpler than segments)\n",
    "    self.rect(v_axis_type, lower.score, 0.2, 0.01, line_color=\"black\")\n",
    "    self.rect(v_axis_type, upper.score, 0.2, 0.01, line_color=\"black\")\n",
    "\n",
    "    # outliers\n",
    "    if not out.empty:\n",
    "        self.circle(outx, outy, size=6, color=\"#F38630\", fill_alpha=0.6)\n",
    "\n",
    "    self.xgrid.grid_line_color = None\n",
    "    self.ygrid.grid_line_color = \"white\"\n",
    "    self.grid.grid_line_width = 2\n",
    "    self.xaxis.major_label_text_font_size=\"10pt\"    \n",
    "\n",
    "Figure.vboxplot = vboxplot"
   ]
  },
  {
   "cell_type": "code",
   "execution_count": 28,
   "metadata": {},
   "outputs": [],
   "source": [
    "def hboxplot( self, source, x, y, **kwargs ):\n",
    "    if not isinstance(source, pd.DataFrame ):\n",
    "        raise TypeError(\"source has to be a pandas DataFrame.\")\n",
    "    v_axis_type = source.get(y).unique()\n",
    "    df = pd.DataFrame(dict(score=source.get(x), group=source.get(y)))\n",
    "    groups = df.groupby('group')\n",
    "    q1 = groups.quantile(q=0.25)\n",
    "    q2 = groups.quantile(q=0.5)\n",
    "    q3 = groups.quantile(q=0.75)\n",
    "    iqr = q3 - q1\n",
    "    upper = q3 + 1.5*iqr\n",
    "    lower = q1 - 1.5*iqr\n",
    "    # find the outliers for each category\n",
    "    def outliers(group):\n",
    "        group_name = group.name\n",
    "        return group[(group.score > upper.loc[group_name]['score']) | (group.score < lower.loc[group_name]['score'])]['score']\n",
    "    \n",
    "    \n",
    "    out = groups.apply(outliers).dropna()\n",
    "\n",
    "    # prepare outlier data for plotting, we need coordinates for every outlier.\n",
    "    if not out.empty:\n",
    "        outx = []\n",
    "        outy = []\n",
    "        for keys in out.index:\n",
    "            outx.append(keys[0])\n",
    "            outy.append(out.loc[keys[0]].loc[keys[1]])\n",
    "    \n",
    "    # if no outliers, shrink lengths of stems to be no longer than the minimums or maximums\n",
    "    qmin = groups.quantile(q=0.00)\n",
    "    qmax = groups.quantile(q=1.00)\n",
    "    upper.score = [min([x,y]) for (x,y) in zip(list(qmax.loc[:,'score']),upper.score)]\n",
    "    lower.score = [max([x,y]) for (x,y) in zip(list(qmin.loc[:,'score']),lower.score)]\n",
    "\n",
    "    # stems\n",
    "    self.segment(v_axis_type,lower.score,v_axis_type, q3.score, line_color=\"black\")\n",
    "    self.segment(v_axis_type,upper.score,v_axis_type, q1.score, line_color=\"black\")\n",
    "\n",
    "    # boxes\n",
    "    \n",
    "    self.hbar(v_axis_type, 0.7, q2.score, q3.score, fill_color=\"#00FFFF\", line_color=\"black\")\n",
    "    self.hbar(v_axis_type, 0.7, q1.score, q2.score, fill_color=\"#000080\", line_color=\"black\")\n",
    "    \n",
    "    \n",
    "    print(upper.score)\n",
    "    # whiskers (almost-0 height rects simpler than segments)\n",
    "    self.rect(lower.score,v_axis_type, 0.1, 0.02, line_color=\"black\")\n",
    "    self.rect(upper.score,v_axis_type, 0.1, 0.02, line_color=\"black\")\n",
    "\n",
    "    # outliers\n",
    "    if not out.empty:\n",
    "        self.circle(outx, outy, size=6, color=\"#F38630\", fill_alpha=0.6)\n",
    "\n",
    "    self.xgrid.grid_line_color = None\n",
    "    self.ygrid.grid_line_color = \"white\"\n",
    "    self.grid.grid_line_width = 2\n",
    "    self.xaxis.major_label_text_font_size=\"10pt\"\n",
    "\n",
    "Figure.hboxplot = hboxplot"
   ]
  },
  {
   "cell_type": "markdown",
   "metadata": {},
   "source": [
    "**<font color=\"deeppink\">Check</font>** your boxplot"
   ]
  },
  {
   "cell_type": "code",
   "execution_count": 29,
   "metadata": {},
   "outputs": [
    {
     "name": "stdout",
     "output_type": "stream",
     "text": [
      "group\n",
      "setosa        0.45\n",
      "versicolor    1.80\n",
      "virginica     2.50\n",
      "Name: score, dtype: float64\n"
     ]
    },
    {
     "data": {
      "text/html": [
       "\n",
       "\n",
       "\n",
       "\n",
       "\n",
       "\n",
       "  <div class=\"bk-root\" id=\"25aa029e-0967-416a-a1af-56c9bfdad1f1\"></div>\n"
      ]
     },
     "metadata": {},
     "output_type": "display_data"
    },
    {
     "data": {
      "application/javascript": [
       "(function(root) {\n",
       "  function embed_document(root) {\n",
       "    \n",
       "  var docs_json = {\"197c3985-f37e-4466-87bc-8201801f0ab8\":{\"roots\":{\"references\":[{\"attributes\":{\"children\":[{\"id\":\"5092\",\"subtype\":\"Figure\",\"type\":\"Plot\"},{\"id\":\"5160\",\"subtype\":\"Figure\",\"type\":\"Plot\"}]},\"id\":\"5228\",\"type\":\"Row\"},{\"attributes\":{\"callback\":null,\"factors\":[\"setosa\",\"versicolor\",\"virginica\"]},\"id\":\"5095\",\"type\":\"FactorRange\"},{\"attributes\":{\"active_drag\":\"auto\",\"active_inspect\":\"auto\",\"active_multi\":null,\"active_scroll\":\"auto\",\"active_tap\":\"auto\",\"tools\":[{\"id\":\"5110\",\"type\":\"PanTool\"},{\"id\":\"5111\",\"type\":\"WheelZoomTool\"},{\"id\":\"5112\",\"type\":\"BoxZoomTool\"},{\"id\":\"5113\",\"type\":\"SaveTool\"},{\"id\":\"5114\",\"type\":\"ResetTool\"},{\"id\":\"5115\",\"type\":\"HelpTool\"}]},\"id\":\"5116\",\"type\":\"Toolbar\"},{\"attributes\":{\"callback\":null,\"data\":{\"bottom\":{\"__ndarray__\":\"mpmZmZmZyT/NzMzMzMz0PwAAAAAAAABA\",\"dtype\":\"float64\",\"shape\":[3]},\"top\":{\"__ndarray__\":\"mpmZmZmZyT8zMzMzMzPzP83MzMzMzPw/\",\"dtype\":\"float64\",\"shape\":[3]},\"x\":[\"setosa\",\"versicolor\",\"virginica\"]},\"selected\":{\"id\":\"5565\",\"type\":\"Selection\"},\"selection_policy\":{\"id\":\"5564\",\"type\":\"UnionRenderers\"}},\"id\":\"5208\",\"type\":\"ColumnDataSource\"},{\"attributes\":{},\"id\":\"5110\",\"type\":\"PanTool\"},{\"attributes\":{\"callback\":null},\"id\":\"5163\",\"type\":\"DataRange1d\"},{\"attributes\":{\"callback\":null,\"data\":{\"left\":{\"__ndarray__\":\"mpmZmZmZyT/NzMzMzMz0PwAAAAAAAABA\",\"dtype\":\"float64\",\"shape\":[3]},\"right\":{\"__ndarray__\":\"mpmZmZmZyT8zMzMzMzPzP83MzMzMzPw/\",\"dtype\":\"float64\",\"shape\":[3]},\"y\":[\"setosa\",\"versicolor\",\"virginica\"]},\"selected\":{\"id\":\"5550\",\"type\":\"Selection\"},\"selection_policy\":{\"id\":\"5549\",\"type\":\"UnionRenderers\"}},\"id\":\"5140\",\"type\":\"ColumnDataSource\"},{\"attributes\":{},\"id\":\"5165\",\"type\":\"CategoricalScale\"},{\"attributes\":{\"x0\":{\"field\":\"x0\"},\"x1\":{\"field\":\"x1\"},\"y0\":{\"field\":\"y0\"},\"y1\":{\"field\":\"y1\"}},\"id\":\"5194\",\"type\":\"Segment\"},{\"attributes\":{\"callback\":null,\"data\":{\"x\":[\"setosa\",\"setosa\"],\"y\":[0.5,0.6]},\"selected\":{\"id\":\"5571\",\"type\":\"Selection\"},\"selection_policy\":{\"id\":\"5570\",\"type\":\"UnionRenderers\"}},\"id\":\"5223\",\"type\":\"ColumnDataSource\"},{\"attributes\":{\"fill_color\":{\"value\":\"#1f77b4\"},\"height\":{\"units\":\"data\",\"value\":0.01},\"width\":{\"units\":\"data\",\"value\":0.2},\"x\":{\"field\":\"x\"},\"y\":{\"field\":\"y\"}},\"id\":\"5219\",\"type\":\"Rect\"},{\"attributes\":{},\"id\":\"5544\",\"type\":\"Selection\"},{\"attributes\":{\"line_alpha\":{\"value\":0.1},\"line_color\":{\"value\":\"#1f77b4\"},\"x0\":{\"field\":\"x0\"},\"x1\":{\"field\":\"x1\"},\"y0\":{\"field\":\"y0\"},\"y1\":{\"field\":\"y1\"}},\"id\":\"5195\",\"type\":\"Segment\"},{\"attributes\":{\"fill_alpha\":{\"value\":0.1},\"fill_color\":{\"value\":\"#1f77b4\"},\"height\":{\"units\":\"data\",\"value\":0.01},\"line_alpha\":{\"value\":0.1},\"line_color\":{\"value\":\"#1f77b4\"},\"width\":{\"units\":\"data\",\"value\":0.2},\"x\":{\"field\":\"x\"},\"y\":{\"field\":\"y\"}},\"id\":\"5220\",\"type\":\"Rect\"},{\"attributes\":{\"data_source\":{\"id\":\"5223\",\"type\":\"ColumnDataSource\"},\"glyph\":{\"id\":\"5224\",\"type\":\"Circle\"},\"hover_glyph\":null,\"muted_glyph\":null,\"nonselection_glyph\":{\"id\":\"5225\",\"type\":\"Circle\"},\"selection_glyph\":null,\"view\":{\"id\":\"5227\",\"type\":\"CDSView\"}},\"id\":\"5226\",\"type\":\"GlyphRenderer\"},{\"attributes\":{\"source\":{\"id\":\"5193\",\"type\":\"ColumnDataSource\"}},\"id\":\"5197\",\"type\":\"CDSView\"},{\"attributes\":{\"data_source\":{\"id\":\"5218\",\"type\":\"ColumnDataSource\"},\"glyph\":{\"id\":\"5219\",\"type\":\"Rect\"},\"hover_glyph\":null,\"muted_glyph\":null,\"nonselection_glyph\":{\"id\":\"5220\",\"type\":\"Rect\"},\"selection_glyph\":null,\"view\":{\"id\":\"5222\",\"type\":\"CDSView\"}},\"id\":\"5221\",\"type\":\"GlyphRenderer\"},{\"attributes\":{\"data_source\":{\"id\":\"5193\",\"type\":\"ColumnDataSource\"},\"glyph\":{\"id\":\"5194\",\"type\":\"Segment\"},\"hover_glyph\":null,\"muted_glyph\":null,\"nonselection_glyph\":{\"id\":\"5195\",\"type\":\"Segment\"},\"selection_glyph\":null,\"view\":{\"id\":\"5197\",\"type\":\"CDSView\"}},\"id\":\"5196\",\"type\":\"GlyphRenderer\"},{\"attributes\":{\"source\":{\"id\":\"5208\",\"type\":\"ColumnDataSource\"}},\"id\":\"5212\",\"type\":\"CDSView\"},{\"attributes\":{},\"id\":\"5099\",\"type\":\"CategoricalScale\"},{\"attributes\":{\"below\":[{\"id\":\"5169\",\"type\":\"CategoricalAxis\"}],\"left\":[{\"id\":\"5173\",\"type\":\"LinearAxis\"}],\"plot_height\":500,\"plot_width\":500,\"renderers\":[{\"id\":\"5169\",\"type\":\"CategoricalAxis\"},{\"id\":\"5172\",\"type\":\"Grid\"},{\"id\":\"5173\",\"type\":\"LinearAxis\"},{\"id\":\"5177\",\"type\":\"Grid\"},{\"id\":\"5186\",\"type\":\"BoxAnnotation\"},{\"id\":\"5196\",\"type\":\"GlyphRenderer\"},{\"id\":\"5201\",\"type\":\"GlyphRenderer\"},{\"id\":\"5206\",\"type\":\"GlyphRenderer\"},{\"id\":\"5211\",\"type\":\"GlyphRenderer\"},{\"id\":\"5216\",\"type\":\"GlyphRenderer\"},{\"id\":\"5221\",\"type\":\"GlyphRenderer\"},{\"id\":\"5226\",\"type\":\"GlyphRenderer\"}],\"title\":{\"id\":\"5533\",\"type\":\"Title\"},\"toolbar\":{\"id\":\"5184\",\"type\":\"Toolbar\"},\"x_range\":{\"id\":\"5161\",\"type\":\"FactorRange\"},\"x_scale\":{\"id\":\"5165\",\"type\":\"CategoricalScale\"},\"y_range\":{\"id\":\"5163\",\"type\":\"DataRange1d\"},\"y_scale\":{\"id\":\"5167\",\"type\":\"LinearScale\"}},\"id\":\"5160\",\"subtype\":\"Figure\",\"type\":\"Plot\"},{\"attributes\":{\"dimension\":1,\"grid_line_color\":{\"value\":\"white\"},\"grid_line_width\":{\"value\":2},\"plot\":{\"id\":\"5092\",\"subtype\":\"Figure\",\"type\":\"Plot\"},\"ticker\":{\"id\":\"5107\",\"type\":\"CategoricalTicker\"}},\"id\":\"5109\",\"type\":\"Grid\"},{\"attributes\":{},\"id\":\"5550\",\"type\":\"Selection\"},{\"attributes\":{},\"id\":\"5541\",\"type\":\"BasicTickFormatter\"},{\"attributes\":{},\"id\":\"5113\",\"type\":\"SaveTool\"},{\"attributes\":{},\"id\":\"5548\",\"type\":\"Selection\"},{\"attributes\":{\"callback\":null},\"id\":\"5093\",\"type\":\"DataRange1d\"},{\"attributes\":{\"data_source\":{\"id\":\"5198\",\"type\":\"ColumnDataSource\"},\"glyph\":{\"id\":\"5199\",\"type\":\"Segment\"},\"hover_glyph\":null,\"muted_glyph\":null,\"nonselection_glyph\":{\"id\":\"5200\",\"type\":\"Segment\"},\"selection_glyph\":null,\"view\":{\"id\":\"5202\",\"type\":\"CDSView\"}},\"id\":\"5201\",\"type\":\"GlyphRenderer\"},{\"attributes\":{},\"id\":\"5111\",\"type\":\"WheelZoomTool\"},{\"attributes\":{\"source\":{\"id\":\"5218\",\"type\":\"ColumnDataSource\"}},\"id\":\"5222\",\"type\":\"CDSView\"},{\"attributes\":{\"callback\":null,\"data\":{\"x0\":[\"setosa\",\"versicolor\",\"virginica\"],\"x1\":[\"setosa\",\"versicolor\",\"virginica\"],\"y0\":{\"__ndarray__\":\"mpmZmZmZuT8AAAAAAADwP2ZmZmZmZvY/\",\"dtype\":\"float64\",\"shape\":[3]},\"y1\":{\"__ndarray__\":\"mpmZmZmZyT8zMzMzMzPzP83MzMzMzPw/\",\"dtype\":\"float64\",\"shape\":[3]}},\"selected\":{\"id\":\"5561\",\"type\":\"Selection\"},\"selection_policy\":{\"id\":\"5560\",\"type\":\"UnionRenderers\"}},\"id\":\"5198\",\"type\":\"ColumnDataSource\"},{\"attributes\":{},\"id\":\"5567\",\"type\":\"Selection\"},{\"attributes\":{\"x0\":{\"field\":\"x0\"},\"x1\":{\"field\":\"x1\"},\"y0\":{\"field\":\"y0\"},\"y1\":{\"field\":\"y1\"}},\"id\":\"5199\",\"type\":\"Segment\"},{\"attributes\":{\"plot\":null,\"text\":\"\"},\"id\":\"5531\",\"type\":\"Title\"},{\"attributes\":{\"fill_alpha\":{\"value\":0.6},\"fill_color\":{\"value\":\"#F38630\"},\"line_color\":{\"value\":\"#F38630\"},\"size\":{\"units\":\"screen\",\"value\":6},\"x\":{\"field\":\"x\"},\"y\":{\"field\":\"y\"}},\"id\":\"5224\",\"type\":\"Circle\"},{\"attributes\":{},\"id\":\"5569\",\"type\":\"Selection\"},{\"attributes\":{},\"id\":\"5537\",\"type\":\"CategoricalTickFormatter\"},{\"attributes\":{\"line_alpha\":{\"value\":0.1},\"line_color\":{\"value\":\"#1f77b4\"},\"x0\":{\"field\":\"x0\"},\"x1\":{\"field\":\"x1\"},\"y0\":{\"field\":\"y0\"},\"y1\":{\"field\":\"y1\"}},\"id\":\"5200\",\"type\":\"Segment\"},{\"attributes\":{},\"id\":\"5566\",\"type\":\"UnionRenderers\"},{\"attributes\":{\"callback\":null,\"data\":{\"x0\":[\"setosa\",\"versicolor\",\"virginica\"],\"x1\":[\"setosa\",\"versicolor\",\"virginica\"],\"y0\":{\"__ndarray__\":\"mpmZmZmZuT8AAAAAAADwP2ZmZmZmZvY/\",\"dtype\":\"float64\",\"shape\":[3]},\"y1\":{\"__ndarray__\":\"MzMzMzMz0z8AAAAAAAD4P2ZmZmZmZgJA\",\"dtype\":\"float64\",\"shape\":[3]}},\"selected\":{\"id\":\"5544\",\"type\":\"Selection\"},\"selection_policy\":{\"id\":\"5543\",\"type\":\"UnionRenderers\"}},\"id\":\"5125\",\"type\":\"ColumnDataSource\"},{\"attributes\":{\"source\":{\"id\":\"5213\",\"type\":\"ColumnDataSource\"}},\"id\":\"5217\",\"type\":\"CDSView\"},{\"attributes\":{},\"id\":\"5568\",\"type\":\"UnionRenderers\"},{\"attributes\":{},\"id\":\"5115\",\"type\":\"HelpTool\"},{\"attributes\":{},\"id\":\"5549\",\"type\":\"UnionRenderers\"},{\"attributes\":{\"fill_alpha\":{\"value\":0.1},\"fill_color\":{\"value\":\"#1f77b4\"},\"line_alpha\":{\"value\":0.1},\"line_color\":{\"value\":\"#1f77b4\"},\"size\":{\"units\":\"screen\",\"value\":6},\"x\":{\"field\":\"x\"},\"y\":{\"field\":\"y\"}},\"id\":\"5225\",\"type\":\"Circle\"},{\"attributes\":{\"source\":{\"id\":\"5223\",\"type\":\"ColumnDataSource\"}},\"id\":\"5227\",\"type\":\"CDSView\"},{\"attributes\":{},\"id\":\"5571\",\"type\":\"Selection\"},{\"attributes\":{\"bottom_units\":\"screen\",\"fill_alpha\":{\"value\":0.5},\"fill_color\":{\"value\":\"lightgrey\"},\"left_units\":\"screen\",\"level\":\"overlay\",\"line_alpha\":{\"value\":1.0},\"line_color\":{\"value\":\"black\"},\"line_dash\":[4,4],\"line_width\":{\"value\":2},\"plot\":null,\"render_mode\":\"css\",\"right_units\":\"screen\",\"top_units\":\"screen\"},\"id\":\"5118\",\"type\":\"BoxAnnotation\"},{\"attributes\":{\"source\":{\"id\":\"5203\",\"type\":\"ColumnDataSource\"}},\"id\":\"5207\",\"type\":\"CDSView\"},{\"attributes\":{},\"id\":\"5559\",\"type\":\"Selection\"},{\"attributes\":{\"source\":{\"id\":\"5198\",\"type\":\"ColumnDataSource\"}},\"id\":\"5202\",\"type\":\"CDSView\"},{\"attributes\":{\"overlay\":{\"id\":\"5118\",\"type\":\"BoxAnnotation\"}},\"id\":\"5112\",\"type\":\"BoxZoomTool\"},{\"attributes\":{\"axis_label\":\"petal_width\",\"formatter\":{\"id\":\"5535\",\"type\":\"BasicTickFormatter\"},\"major_label_text_font_size\":{\"value\":\"10pt\"},\"plot\":{\"id\":\"5092\",\"subtype\":\"Figure\",\"type\":\"Plot\"},\"ticker\":{\"id\":\"5102\",\"type\":\"BasicTicker\"}},\"id\":\"5101\",\"type\":\"LinearAxis\"},{\"attributes\":{},\"id\":\"5558\",\"type\":\"UnionRenderers\"},{\"attributes\":{},\"id\":\"5114\",\"type\":\"ResetTool\"},{\"attributes\":{\"data_source\":{\"id\":\"5203\",\"type\":\"ColumnDataSource\"},\"glyph\":{\"id\":\"5204\",\"type\":\"VBar\"},\"hover_glyph\":null,\"muted_glyph\":null,\"nonselection_glyph\":{\"id\":\"5205\",\"type\":\"VBar\"},\"selection_glyph\":null,\"view\":{\"id\":\"5207\",\"type\":\"CDSView\"}},\"id\":\"5206\",\"type\":\"GlyphRenderer\"},{\"attributes\":{\"callback\":null,\"data\":{\"bottom\":{\"__ndarray__\":\"MzMzMzMz0z8AAAAAAAD4P2ZmZmZmZgJA\",\"dtype\":\"float64\",\"shape\":[3]},\"top\":{\"__ndarray__\":\"mpmZmZmZyT/NzMzMzMz0PwAAAAAAAABA\",\"dtype\":\"float64\",\"shape\":[3]},\"x\":[\"setosa\",\"versicolor\",\"virginica\"]},\"selected\":{\"id\":\"5563\",\"type\":\"Selection\"},\"selection_policy\":{\"id\":\"5562\",\"type\":\"UnionRenderers\"}},\"id\":\"5203\",\"type\":\"ColumnDataSource\"},{\"attributes\":{\"callback\":null,\"data\":{\"x\":[\"setosa\",\"versicolor\",\"virginica\"],\"y\":{\"__ndarray__\":\"zMzMzMzM3D/NzMzMzMz8PwAAAAAAAARA\",\"dtype\":\"float64\",\"shape\":[3]}},\"selected\":{\"id\":\"5569\",\"type\":\"Selection\"},\"selection_policy\":{\"id\":\"5568\",\"type\":\"UnionRenderers\"}},\"id\":\"5218\",\"type\":\"ColumnDataSource\"},{\"attributes\":{\"below\":[{\"id\":\"5101\",\"type\":\"LinearAxis\"}],\"left\":[{\"id\":\"5106\",\"type\":\"CategoricalAxis\"}],\"plot_height\":500,\"plot_width\":500,\"renderers\":[{\"id\":\"5101\",\"type\":\"LinearAxis\"},{\"id\":\"5105\",\"type\":\"Grid\"},{\"id\":\"5106\",\"type\":\"CategoricalAxis\"},{\"id\":\"5109\",\"type\":\"Grid\"},{\"id\":\"5118\",\"type\":\"BoxAnnotation\"},{\"id\":\"5128\",\"type\":\"GlyphRenderer\"},{\"id\":\"5133\",\"type\":\"GlyphRenderer\"},{\"id\":\"5138\",\"type\":\"GlyphRenderer\"},{\"id\":\"5143\",\"type\":\"GlyphRenderer\"},{\"id\":\"5148\",\"type\":\"GlyphRenderer\"},{\"id\":\"5153\",\"type\":\"GlyphRenderer\"},{\"id\":\"5158\",\"type\":\"GlyphRenderer\"}],\"title\":{\"id\":\"5531\",\"type\":\"Title\"},\"toolbar\":{\"id\":\"5116\",\"type\":\"Toolbar\"},\"x_range\":{\"id\":\"5093\",\"type\":\"DataRange1d\"},\"x_scale\":{\"id\":\"5097\",\"type\":\"LinearScale\"},\"y_range\":{\"id\":\"5095\",\"type\":\"FactorRange\"},\"y_scale\":{\"id\":\"5099\",\"type\":\"CategoricalScale\"}},\"id\":\"5092\",\"subtype\":\"Figure\",\"type\":\"Plot\"},{\"attributes\":{},\"id\":\"5539\",\"type\":\"CategoricalTickFormatter\"},{\"attributes\":{\"fill_color\":{\"value\":\"#1f77b4\"},\"height\":{\"units\":\"data\",\"value\":0.01},\"width\":{\"units\":\"data\",\"value\":0.2},\"x\":{\"field\":\"x\"},\"y\":{\"field\":\"y\"}},\"id\":\"5214\",\"type\":\"Rect\"},{\"attributes\":{\"bottom\":{\"field\":\"bottom\"},\"fill_color\":{\"value\":\"#00FFFF\"},\"top\":{\"field\":\"top\"},\"width\":{\"value\":0.7},\"x\":{\"field\":\"x\"}},\"id\":\"5204\",\"type\":\"VBar\"},{\"attributes\":{},\"id\":\"5167\",\"type\":\"LinearScale\"},{\"attributes\":{},\"id\":\"5552\",\"type\":\"Selection\"},{\"attributes\":{},\"id\":\"5107\",\"type\":\"CategoricalTicker\"},{\"attributes\":{\"bottom\":{\"field\":\"bottom\"},\"fill_alpha\":{\"value\":0.1},\"fill_color\":{\"value\":\"#1f77b4\"},\"line_alpha\":{\"value\":0.1},\"line_color\":{\"value\":\"#1f77b4\"},\"top\":{\"field\":\"top\"},\"width\":{\"value\":0.7},\"x\":{\"field\":\"x\"}},\"id\":\"5205\",\"type\":\"VBar\"},{\"attributes\":{},\"id\":\"5553\",\"type\":\"UnionRenderers\"},{\"attributes\":{},\"id\":\"5554\",\"type\":\"Selection\"},{\"attributes\":{\"axis_label\":\"species\",\"formatter\":{\"id\":\"5537\",\"type\":\"CategoricalTickFormatter\"},\"plot\":{\"id\":\"5092\",\"subtype\":\"Figure\",\"type\":\"Plot\"},\"ticker\":{\"id\":\"5107\",\"type\":\"CategoricalTicker\"}},\"id\":\"5106\",\"type\":\"CategoricalAxis\"},{\"attributes\":{},\"id\":\"5555\",\"type\":\"UnionRenderers\"},{\"attributes\":{\"data_source\":{\"id\":\"5208\",\"type\":\"ColumnDataSource\"},\"glyph\":{\"id\":\"5209\",\"type\":\"VBar\"},\"hover_glyph\":null,\"muted_glyph\":null,\"nonselection_glyph\":{\"id\":\"5210\",\"type\":\"VBar\"},\"selection_glyph\":null,\"view\":{\"id\":\"5212\",\"type\":\"CDSView\"}},\"id\":\"5211\",\"type\":\"GlyphRenderer\"},{\"attributes\":{\"data_source\":{\"id\":\"5213\",\"type\":\"ColumnDataSource\"},\"glyph\":{\"id\":\"5214\",\"type\":\"Rect\"},\"hover_glyph\":null,\"muted_glyph\":null,\"nonselection_glyph\":{\"id\":\"5215\",\"type\":\"Rect\"},\"selection_glyph\":null,\"view\":{\"id\":\"5217\",\"type\":\"CDSView\"}},\"id\":\"5216\",\"type\":\"GlyphRenderer\"},{\"attributes\":{\"source\":{\"id\":\"5135\",\"type\":\"ColumnDataSource\"}},\"id\":\"5139\",\"type\":\"CDSView\"},{\"attributes\":{},\"id\":\"5570\",\"type\":\"UnionRenderers\"},{\"attributes\":{\"fill_alpha\":{\"value\":0.1},\"fill_color\":{\"value\":\"#1f77b4\"},\"height\":{\"units\":\"data\",\"value\":0.01},\"line_alpha\":{\"value\":0.1},\"line_color\":{\"value\":\"#1f77b4\"},\"width\":{\"units\":\"data\",\"value\":0.2},\"x\":{\"field\":\"x\"},\"y\":{\"field\":\"y\"}},\"id\":\"5215\",\"type\":\"Rect\"},{\"attributes\":{\"grid_line_color\":{\"value\":null},\"grid_line_width\":{\"value\":2},\"plot\":{\"id\":\"5092\",\"subtype\":\"Figure\",\"type\":\"Plot\"},\"ticker\":{\"id\":\"5102\",\"type\":\"BasicTicker\"}},\"id\":\"5105\",\"type\":\"Grid\"},{\"attributes\":{},\"id\":\"5560\",\"type\":\"UnionRenderers\"},{\"attributes\":{},\"id\":\"5556\",\"type\":\"Selection\"},{\"attributes\":{},\"id\":\"5097\",\"type\":\"LinearScale\"},{\"attributes\":{},\"id\":\"5562\",\"type\":\"UnionRenderers\"},{\"attributes\":{\"bottom\":{\"field\":\"bottom\"},\"fill_color\":{\"value\":\"#000080\"},\"top\":{\"field\":\"top\"},\"width\":{\"value\":0.7},\"x\":{\"field\":\"x\"}},\"id\":\"5209\",\"type\":\"VBar\"},{\"attributes\":{},\"id\":\"5564\",\"type\":\"UnionRenderers\"},{\"attributes\":{},\"id\":\"5561\",\"type\":\"Selection\"},{\"attributes\":{},\"id\":\"5563\",\"type\":\"Selection\"},{\"attributes\":{},\"id\":\"5102\",\"type\":\"BasicTicker\"},{\"attributes\":{\"bottom\":{\"field\":\"bottom\"},\"fill_alpha\":{\"value\":0.1},\"fill_color\":{\"value\":\"#1f77b4\"},\"line_alpha\":{\"value\":0.1},\"line_color\":{\"value\":\"#1f77b4\"},\"top\":{\"field\":\"top\"},\"width\":{\"value\":0.7},\"x\":{\"field\":\"x\"}},\"id\":\"5210\",\"type\":\"VBar\"},{\"attributes\":{\"x0\":{\"field\":\"x0\"},\"x1\":{\"field\":\"x1\"},\"y0\":{\"field\":\"y0\"},\"y1\":{\"field\":\"y1\"}},\"id\":\"5126\",\"type\":\"Segment\"},{\"attributes\":{},\"id\":\"5565\",\"type\":\"Selection\"},{\"attributes\":{\"callback\":null,\"data\":{\"x\":[\"setosa\",\"versicolor\",\"virginica\"],\"y\":{\"__ndarray__\":\"mpmZmZmZuT8AAAAAAADwP2ZmZmZmZvY/\",\"dtype\":\"float64\",\"shape\":[3]}},\"selected\":{\"id\":\"5567\",\"type\":\"Selection\"},\"selection_policy\":{\"id\":\"5566\",\"type\":\"UnionRenderers\"}},\"id\":\"5213\",\"type\":\"ColumnDataSource\"},{\"attributes\":{},\"id\":\"5547\",\"type\":\"UnionRenderers\"},{\"attributes\":{\"source\":{\"id\":\"5150\",\"type\":\"ColumnDataSource\"}},\"id\":\"5154\",\"type\":\"CDSView\"},{\"attributes\":{\"axis_label\":\"species\",\"formatter\":{\"id\":\"5539\",\"type\":\"CategoricalTickFormatter\"},\"major_label_text_font_size\":{\"value\":\"10pt\"},\"plot\":{\"id\":\"5160\",\"subtype\":\"Figure\",\"type\":\"Plot\"},\"ticker\":{\"id\":\"5170\",\"type\":\"CategoricalTicker\"}},\"id\":\"5169\",\"type\":\"CategoricalAxis\"},{\"attributes\":{\"data_source\":{\"id\":\"5150\",\"type\":\"ColumnDataSource\"},\"glyph\":{\"id\":\"5151\",\"type\":\"Rect\"},\"hover_glyph\":null,\"muted_glyph\":null,\"nonselection_glyph\":{\"id\":\"5152\",\"type\":\"Rect\"},\"selection_glyph\":null,\"view\":{\"id\":\"5154\",\"type\":\"CDSView\"}},\"id\":\"5153\",\"type\":\"GlyphRenderer\"},{\"attributes\":{\"fill_alpha\":{\"value\":0.6},\"fill_color\":{\"value\":\"#F38630\"},\"line_color\":{\"value\":\"#F38630\"},\"size\":{\"units\":\"screen\",\"value\":6},\"x\":{\"field\":\"x\"},\"y\":{\"field\":\"y\"}},\"id\":\"5156\",\"type\":\"Circle\"},{\"attributes\":{},\"id\":\"5551\",\"type\":\"UnionRenderers\"},{\"attributes\":{},\"id\":\"5543\",\"type\":\"UnionRenderers\"},{\"attributes\":{\"source\":{\"id\":\"5155\",\"type\":\"ColumnDataSource\"}},\"id\":\"5159\",\"type\":\"CDSView\"},{\"attributes\":{\"data_source\":{\"id\":\"5155\",\"type\":\"ColumnDataSource\"},\"glyph\":{\"id\":\"5156\",\"type\":\"Circle\"},\"hover_glyph\":null,\"muted_glyph\":null,\"nonselection_glyph\":{\"id\":\"5157\",\"type\":\"Circle\"},\"selection_glyph\":null,\"view\":{\"id\":\"5159\",\"type\":\"CDSView\"}},\"id\":\"5158\",\"type\":\"GlyphRenderer\"},{\"attributes\":{\"callback\":null,\"data\":{\"left\":{\"__ndarray__\":\"MzMzMzMz0z8AAAAAAAD4P2ZmZmZmZgJA\",\"dtype\":\"float64\",\"shape\":[3]},\"right\":{\"__ndarray__\":\"mpmZmZmZyT/NzMzMzMz0PwAAAAAAAABA\",\"dtype\":\"float64\",\"shape\":[3]},\"y\":[\"setosa\",\"versicolor\",\"virginica\"]},\"selected\":{\"id\":\"5548\",\"type\":\"Selection\"},\"selection_policy\":{\"id\":\"5547\",\"type\":\"UnionRenderers\"}},\"id\":\"5135\",\"type\":\"ColumnDataSource\"},{\"attributes\":{\"fill_alpha\":{\"value\":0.1},\"fill_color\":{\"value\":\"#1f77b4\"},\"line_alpha\":{\"value\":0.1},\"line_color\":{\"value\":\"#1f77b4\"},\"size\":{\"units\":\"screen\",\"value\":6},\"x\":{\"field\":\"x\"},\"y\":{\"field\":\"y\"}},\"id\":\"5157\",\"type\":\"Circle\"},{\"attributes\":{\"dimension\":1,\"grid_line_color\":{\"value\":\"white\"},\"grid_line_width\":{\"value\":2},\"plot\":{\"id\":\"5160\",\"subtype\":\"Figure\",\"type\":\"Plot\"},\"ticker\":{\"id\":\"5174\",\"type\":\"BasicTicker\"}},\"id\":\"5177\",\"type\":\"Grid\"},{\"attributes\":{\"axis_label\":\"petal_width\",\"formatter\":{\"id\":\"5541\",\"type\":\"BasicTickFormatter\"},\"plot\":{\"id\":\"5160\",\"subtype\":\"Figure\",\"type\":\"Plot\"},\"ticker\":{\"id\":\"5174\",\"type\":\"BasicTicker\"}},\"id\":\"5173\",\"type\":\"LinearAxis\"},{\"attributes\":{\"grid_line_color\":{\"value\":null},\"grid_line_width\":{\"value\":2},\"plot\":{\"id\":\"5160\",\"subtype\":\"Figure\",\"type\":\"Plot\"},\"ticker\":{\"id\":\"5170\",\"type\":\"CategoricalTicker\"}},\"id\":\"5172\",\"type\":\"Grid\"},{\"attributes\":{\"fill_color\":{\"value\":\"#1f77b4\"},\"height\":{\"units\":\"data\",\"value\":0.02},\"width\":{\"units\":\"data\",\"value\":0.1},\"x\":{\"field\":\"x\"},\"y\":{\"field\":\"y\"}},\"id\":\"5146\",\"type\":\"Rect\"},{\"attributes\":{\"fill_alpha\":{\"value\":0.1},\"fill_color\":{\"value\":\"#1f77b4\"},\"height\":{\"units\":\"data\",\"value\":0.02},\"line_alpha\":{\"value\":0.1},\"line_color\":{\"value\":\"#1f77b4\"},\"width\":{\"units\":\"data\",\"value\":0.1},\"x\":{\"field\":\"x\"},\"y\":{\"field\":\"y\"}},\"id\":\"5147\",\"type\":\"Rect\"},{\"attributes\":{},\"id\":\"5170\",\"type\":\"CategoricalTicker\"},{\"attributes\":{\"fill_color\":{\"value\":\"#000080\"},\"height\":{\"value\":0.7},\"left\":{\"field\":\"left\"},\"right\":{\"field\":\"right\"},\"y\":{\"field\":\"y\"}},\"id\":\"5141\",\"type\":\"HBar\"},{\"attributes\":{\"plot\":null,\"text\":\"\"},\"id\":\"5533\",\"type\":\"Title\"},{\"attributes\":{\"callback\":null,\"data\":{\"x0\":[\"setosa\",\"versicolor\",\"virginica\"],\"x1\":[\"setosa\",\"versicolor\",\"virginica\"],\"y0\":{\"__ndarray__\":\"zMzMzMzM3D/NzMzMzMz8PwAAAAAAAARA\",\"dtype\":\"float64\",\"shape\":[3]},\"y1\":{\"__ndarray__\":\"mpmZmZmZyT8zMzMzMzPzP83MzMzMzPw/\",\"dtype\":\"float64\",\"shape\":[3]}},\"selected\":{\"id\":\"5546\",\"type\":\"Selection\"},\"selection_policy\":{\"id\":\"5545\",\"type\":\"UnionRenderers\"}},\"id\":\"5130\",\"type\":\"ColumnDataSource\"},{\"attributes\":{\"fill_alpha\":{\"value\":0.1},\"fill_color\":{\"value\":\"#1f77b4\"},\"height\":{\"value\":0.7},\"left\":{\"field\":\"left\"},\"line_alpha\":{\"value\":0.1},\"line_color\":{\"value\":\"#1f77b4\"},\"right\":{\"field\":\"right\"},\"y\":{\"field\":\"y\"}},\"id\":\"5137\",\"type\":\"HBar\"},{\"attributes\":{\"source\":{\"id\":\"5125\",\"type\":\"ColumnDataSource\"}},\"id\":\"5129\",\"type\":\"CDSView\"},{\"attributes\":{\"fill_alpha\":{\"value\":0.1},\"fill_color\":{\"value\":\"#1f77b4\"},\"height\":{\"value\":0.7},\"left\":{\"field\":\"left\"},\"line_alpha\":{\"value\":0.1},\"line_color\":{\"value\":\"#1f77b4\"},\"right\":{\"field\":\"right\"},\"y\":{\"field\":\"y\"}},\"id\":\"5142\",\"type\":\"HBar\"},{\"attributes\":{},\"id\":\"5174\",\"type\":\"BasicTicker\"},{\"attributes\":{\"fill_color\":{\"value\":\"#00FFFF\"},\"height\":{\"value\":0.7},\"left\":{\"field\":\"left\"},\"right\":{\"field\":\"right\"},\"y\":{\"field\":\"y\"}},\"id\":\"5136\",\"type\":\"HBar\"},{\"attributes\":{\"line_alpha\":{\"value\":0.1},\"line_color\":{\"value\":\"#1f77b4\"},\"x0\":{\"field\":\"x0\"},\"x1\":{\"field\":\"x1\"},\"y0\":{\"field\":\"y0\"},\"y1\":{\"field\":\"y1\"}},\"id\":\"5127\",\"type\":\"Segment\"},{\"attributes\":{\"source\":{\"id\":\"5145\",\"type\":\"ColumnDataSource\"}},\"id\":\"5149\",\"type\":\"CDSView\"},{\"attributes\":{\"data_source\":{\"id\":\"5130\",\"type\":\"ColumnDataSource\"},\"glyph\":{\"id\":\"5131\",\"type\":\"Segment\"},\"hover_glyph\":null,\"muted_glyph\":null,\"nonselection_glyph\":{\"id\":\"5132\",\"type\":\"Segment\"},\"selection_glyph\":null,\"view\":{\"id\":\"5134\",\"type\":\"CDSView\"}},\"id\":\"5133\",\"type\":\"GlyphRenderer\"},{\"attributes\":{},\"id\":\"5546\",\"type\":\"Selection\"},{\"attributes\":{},\"id\":\"5535\",\"type\":\"BasicTickFormatter\"},{\"attributes\":{\"x0\":{\"field\":\"x0\"},\"x1\":{\"field\":\"x1\"},\"y0\":{\"field\":\"y0\"},\"y1\":{\"field\":\"y1\"}},\"id\":\"5131\",\"type\":\"Segment\"},{\"attributes\":{\"callback\":null,\"data\":{\"x\":[\"setosa\",\"setosa\"],\"y\":[0.5,0.6]},\"selected\":{\"id\":\"5556\",\"type\":\"Selection\"},\"selection_policy\":{\"id\":\"5555\",\"type\":\"UnionRenderers\"}},\"id\":\"5155\",\"type\":\"ColumnDataSource\"},{\"attributes\":{\"source\":{\"id\":\"5130\",\"type\":\"ColumnDataSource\"}},\"id\":\"5134\",\"type\":\"CDSView\"},{\"attributes\":{\"data_source\":{\"id\":\"5135\",\"type\":\"ColumnDataSource\"},\"glyph\":{\"id\":\"5136\",\"type\":\"HBar\"},\"hover_glyph\":null,\"muted_glyph\":null,\"nonselection_glyph\":{\"id\":\"5137\",\"type\":\"HBar\"},\"selection_glyph\":null,\"view\":{\"id\":\"5139\",\"type\":\"CDSView\"}},\"id\":\"5138\",\"type\":\"GlyphRenderer\"},{\"attributes\":{},\"id\":\"5183\",\"type\":\"HelpTool\"},{\"attributes\":{\"fill_color\":{\"value\":\"#1f77b4\"},\"height\":{\"units\":\"data\",\"value\":0.02},\"width\":{\"units\":\"data\",\"value\":0.1},\"x\":{\"field\":\"x\"},\"y\":{\"field\":\"y\"}},\"id\":\"5151\",\"type\":\"Rect\"},{\"attributes\":{\"callback\":null,\"factors\":[\"setosa\",\"versicolor\",\"virginica\"]},\"id\":\"5161\",\"type\":\"FactorRange\"},{\"attributes\":{\"overlay\":{\"id\":\"5186\",\"type\":\"BoxAnnotation\"}},\"id\":\"5180\",\"type\":\"BoxZoomTool\"},{\"attributes\":{\"line_alpha\":{\"value\":0.1},\"line_color\":{\"value\":\"#1f77b4\"},\"x0\":{\"field\":\"x0\"},\"x1\":{\"field\":\"x1\"},\"y0\":{\"field\":\"y0\"},\"y1\":{\"field\":\"y1\"}},\"id\":\"5132\",\"type\":\"Segment\"},{\"attributes\":{},\"id\":\"5179\",\"type\":\"WheelZoomTool\"},{\"attributes\":{},\"id\":\"5178\",\"type\":\"PanTool\"},{\"attributes\":{\"active_drag\":\"auto\",\"active_inspect\":\"auto\",\"active_multi\":null,\"active_scroll\":\"auto\",\"active_tap\":\"auto\",\"tools\":[{\"id\":\"5178\",\"type\":\"PanTool\"},{\"id\":\"5179\",\"type\":\"WheelZoomTool\"},{\"id\":\"5180\",\"type\":\"BoxZoomTool\"},{\"id\":\"5181\",\"type\":\"SaveTool\"},{\"id\":\"5182\",\"type\":\"ResetTool\"},{\"id\":\"5183\",\"type\":\"HelpTool\"}]},\"id\":\"5184\",\"type\":\"Toolbar\"},{\"attributes\":{},\"id\":\"5545\",\"type\":\"UnionRenderers\"},{\"attributes\":{\"data_source\":{\"id\":\"5140\",\"type\":\"ColumnDataSource\"},\"glyph\":{\"id\":\"5141\",\"type\":\"HBar\"},\"hover_glyph\":null,\"muted_glyph\":null,\"nonselection_glyph\":{\"id\":\"5142\",\"type\":\"HBar\"},\"selection_glyph\":null,\"view\":{\"id\":\"5144\",\"type\":\"CDSView\"}},\"id\":\"5143\",\"type\":\"GlyphRenderer\"},{\"attributes\":{\"fill_alpha\":{\"value\":0.1},\"fill_color\":{\"value\":\"#1f77b4\"},\"height\":{\"units\":\"data\",\"value\":0.02},\"line_alpha\":{\"value\":0.1},\"line_color\":{\"value\":\"#1f77b4\"},\"width\":{\"units\":\"data\",\"value\":0.1},\"x\":{\"field\":\"x\"},\"y\":{\"field\":\"y\"}},\"id\":\"5152\",\"type\":\"Rect\"},{\"attributes\":{},\"id\":\"5182\",\"type\":\"ResetTool\"},{\"attributes\":{\"data_source\":{\"id\":\"5125\",\"type\":\"ColumnDataSource\"},\"glyph\":{\"id\":\"5126\",\"type\":\"Segment\"},\"hover_glyph\":null,\"muted_glyph\":null,\"nonselection_glyph\":{\"id\":\"5127\",\"type\":\"Segment\"},\"selection_glyph\":null,\"view\":{\"id\":\"5129\",\"type\":\"CDSView\"}},\"id\":\"5128\",\"type\":\"GlyphRenderer\"},{\"attributes\":{\"bottom_units\":\"screen\",\"fill_alpha\":{\"value\":0.5},\"fill_color\":{\"value\":\"lightgrey\"},\"left_units\":\"screen\",\"level\":\"overlay\",\"line_alpha\":{\"value\":1.0},\"line_color\":{\"value\":\"black\"},\"line_dash\":[4,4],\"line_width\":{\"value\":2},\"plot\":null,\"render_mode\":\"css\",\"right_units\":\"screen\",\"top_units\":\"screen\"},\"id\":\"5186\",\"type\":\"BoxAnnotation\"},{\"attributes\":{\"callback\":null,\"data\":{\"x\":{\"__ndarray__\":\"zMzMzMzM3D/NzMzMzMz8PwAAAAAAAARA\",\"dtype\":\"float64\",\"shape\":[3]},\"y\":[\"setosa\",\"versicolor\",\"virginica\"]},\"selected\":{\"id\":\"5554\",\"type\":\"Selection\"},\"selection_policy\":{\"id\":\"5553\",\"type\":\"UnionRenderers\"}},\"id\":\"5150\",\"type\":\"ColumnDataSource\"},{\"attributes\":{\"data_source\":{\"id\":\"5145\",\"type\":\"ColumnDataSource\"},\"glyph\":{\"id\":\"5146\",\"type\":\"Rect\"},\"hover_glyph\":null,\"muted_glyph\":null,\"nonselection_glyph\":{\"id\":\"5147\",\"type\":\"Rect\"},\"selection_glyph\":null,\"view\":{\"id\":\"5149\",\"type\":\"CDSView\"}},\"id\":\"5148\",\"type\":\"GlyphRenderer\"},{\"attributes\":{\"callback\":null,\"data\":{\"x0\":[\"setosa\",\"versicolor\",\"virginica\"],\"x1\":[\"setosa\",\"versicolor\",\"virginica\"],\"y0\":{\"__ndarray__\":\"zMzMzMzM3D/NzMzMzMz8PwAAAAAAAARA\",\"dtype\":\"float64\",\"shape\":[3]},\"y1\":{\"__ndarray__\":\"MzMzMzMz0z8AAAAAAAD4P2ZmZmZmZgJA\",\"dtype\":\"float64\",\"shape\":[3]}},\"selected\":{\"id\":\"5559\",\"type\":\"Selection\"},\"selection_policy\":{\"id\":\"5558\",\"type\":\"UnionRenderers\"}},\"id\":\"5193\",\"type\":\"ColumnDataSource\"},{\"attributes\":{\"source\":{\"id\":\"5140\",\"type\":\"ColumnDataSource\"}},\"id\":\"5144\",\"type\":\"CDSView\"},{\"attributes\":{},\"id\":\"5181\",\"type\":\"SaveTool\"},{\"attributes\":{\"callback\":null,\"data\":{\"x\":{\"__ndarray__\":\"mpmZmZmZuT8AAAAAAADwP2ZmZmZmZvY/\",\"dtype\":\"float64\",\"shape\":[3]},\"y\":[\"setosa\",\"versicolor\",\"virginica\"]},\"selected\":{\"id\":\"5552\",\"type\":\"Selection\"},\"selection_policy\":{\"id\":\"5551\",\"type\":\"UnionRenderers\"}},\"id\":\"5145\",\"type\":\"ColumnDataSource\"}],\"root_ids\":[\"5228\"]},\"title\":\"Bokeh Application\",\"version\":\"1.0.0\"}};\n",
       "  var render_items = [{\"docid\":\"197c3985-f37e-4466-87bc-8201801f0ab8\",\"roots\":{\"5228\":\"25aa029e-0967-416a-a1af-56c9bfdad1f1\"}}];\n",
       "  root.Bokeh.embed.embed_items_notebook(docs_json, render_items);\n",
       "\n",
       "  }\n",
       "  if (root.Bokeh !== undefined) {\n",
       "    embed_document(root);\n",
       "  } else {\n",
       "    var attempts = 0;\n",
       "    var timer = setInterval(function(root) {\n",
       "      if (root.Bokeh !== undefined) {\n",
       "        embed_document(root);\n",
       "        clearInterval(timer);\n",
       "      }\n",
       "      attempts++;\n",
       "      if (attempts > 100) {\n",
       "        console.log(\"Bokeh: ERROR: Unable to run BokehJS code because BokehJS library is missing\");\n",
       "        clearInterval(timer);\n",
       "      }\n",
       "    }, 10, root)\n",
       "  }\n",
       "})(window);"
      ],
      "application/vnd.bokehjs_exec.v0+json": ""
     },
     "metadata": {
      "application/vnd.bokehjs_exec.v0+json": {
       "id": "5228"
      }
     },
     "output_type": "display_data"
    }
   ],
   "source": [
    "p1 = figure( plot_width=500, plot_height=500, y_range=['setosa', 'versicolor', 'virginica'] )\n",
    "p1.hboxplot( flowers, 'petal_width', 'species' )\n",
    "p1.xaxis.axis_label = 'petal_width'\n",
    "p1.yaxis.axis_label = 'species'\n",
    "\n",
    "p2 = figure( plot_width=500, plot_height=500, x_range=['setosa', 'versicolor', 'virginica'] )\n",
    "p2.vboxplot( flowers, 'species', 'petal_width' )\n",
    "p2.yaxis.axis_label = 'petal_width'\n",
    "p2.xaxis.axis_label = 'species'\n",
    "\n",
    "show(row(p1,p2))\n"
   ]
  },
  {
   "cell_type": "markdown",
   "metadata": {},
   "source": [
    "**<font color=\"deeppink\">Test cases</font>**: Give three scenarios that need testing (bullet points, no implementation required).\n",
    "- Test case 1:\n",
    "- Test case 2:\n",
    "- Test case 3:"
   ]
  },
  {
   "cell_type": "markdown",
   "metadata": {},
   "source": [
    "## Exercise 1 c): Implement a histogram chart\n",
    "\n",
    "Requirements:\n",
    "- **Parameters**: The function accepts (at least) the following parameters:\n",
    "    - **source**: a pandas DataFrameObject that holds the data\n",
    "    - **x**: variable (name as string) to be represented on the x-axis\n",
    "    - **nbins**: number of bins (optional argument). If not provided set a meaningful default.\n",
    "- **Data type**: Provide histograms for categorical and quantitative data.\n",
    "- **Scaling**: The y-axis shall give probabilities (0,1). Scale the axis to show the full range, e.g., (-0.05,1.05).\n",
    "- **Calling the histogram**: The function is a class method of Figure and can be called as follows\n",
    "```python\n",
    "p = figure()\n",
    "p.histogram( data, x )\n",
    "```\n",
    "\n",
    "Hints:\n",
    "- Assume that all categorical data has type string. Respective columns in the data can be converted using:\n",
    "```\n",
    "df.var = df.var.astype('str')\n",
    "```\n",
    "\n",
    "**<font color=\"deeppink\">Implement</font>**"
   ]
  },
  {
   "cell_type": "code",
   "execution_count": 30,
   "metadata": {},
   "outputs": [],
   "source": [
    "from bokeh.models import Range1d, FactorRange\n",
    "\n",
    "def histogram( self, source, x, nbins=0, *args, **kwargs ):  \n",
    "    if not isinstance(source, pd.DataFrame ):\n",
    "        raise TypeError(\"source has to be a pandas.DataFrame. Received \", type(df))\n",
    "    \n",
    "    data = source[x]\n",
    "    if isinstance(data[1], float):\n",
    "        hist, edges = np.histogram(data, density=True, bins=50)\n",
    "        self.quad(top=hist, bottom=0, left=edges[:-1], right=edges[1:])\n",
    "        label = Label( x=50, y=50, x_units='screen', y_units='screen',\n",
    "                       text='ToDo', render_mode='css')\n",
    "        self.add_layout(label)\n",
    "    else:\n",
    "        categorical_data = data.value_counts().to_frame('count')/len(data)\n",
    "        hist, edges = np.histogram(categorical_data, density=True)\n",
    "        self.vbar( source=categorical_data, x='index', width=1, bottom=0, top='count',fill_color='cornflowerblue')\n",
    "        \n",
    "Figure.histogram = histogram"
   ]
  },
  {
   "cell_type": "markdown",
   "metadata": {},
   "source": [
    "**<font color=\"deeppink\">Check</font>** your histogram"
   ]
  },
  {
   "cell_type": "code",
   "execution_count": 31,
   "metadata": {},
   "outputs": [
    {
     "data": {
      "text/html": [
       "\n",
       "\n",
       "\n",
       "\n",
       "\n",
       "\n",
       "  <div class=\"bk-root\" id=\"91029ba8-a63c-490f-8f5f-f7972267365b\"></div>\n"
      ]
     },
     "metadata": {},
     "output_type": "display_data"
    },
    {
     "data": {
      "application/javascript": [
       "(function(root) {\n",
       "  function embed_document(root) {\n",
       "    \n",
       "  var docs_json = {\"69501e47-c58e-4e36-b4f4-f0a50ed33b8a\":{\"roots\":{\"references\":[{\"attributes\":{\"children\":[{\"id\":\"5825\",\"subtype\":\"Figure\",\"type\":\"Plot\"},{\"id\":\"5865\",\"subtype\":\"Figure\",\"type\":\"Plot\"},{\"id\":\"5904\",\"subtype\":\"Figure\",\"type\":\"Plot\"}]},\"id\":\"5943\",\"type\":\"Column\"},{\"attributes\":{\"callback\":null},\"id\":\"5826\",\"type\":\"DataRange1d\"},{\"attributes\":{},\"id\":\"5872\",\"type\":\"LinearScale\"},{\"attributes\":{\"callback\":null},\"id\":\"5828\",\"type\":\"DataRange1d\"},{\"attributes\":{},\"id\":\"5875\",\"type\":\"CategoricalTicker\"},{\"attributes\":{\"plot\":{\"id\":\"5825\",\"subtype\":\"Figure\",\"type\":\"Plot\"},\"ticker\":{\"id\":\"5835\",\"type\":\"BasicTicker\"}},\"id\":\"5838\",\"type\":\"Grid\"},{\"attributes\":{\"bottom_units\":\"screen\",\"fill_alpha\":{\"value\":0.5},\"fill_color\":{\"value\":\"lightgrey\"},\"left_units\":\"screen\",\"level\":\"overlay\",\"line_alpha\":{\"value\":1.0},\"line_color\":{\"value\":\"black\"},\"line_dash\":[4,4],\"line_width\":{\"value\":2},\"plot\":null,\"render_mode\":\"css\",\"right_units\":\"screen\",\"top_units\":\"screen\"},\"id\":\"5891\",\"type\":\"BoxAnnotation\"},{\"attributes\":{\"overlay\":{\"id\":\"5891\",\"type\":\"BoxAnnotation\"}},\"id\":\"5885\",\"type\":\"BoxZoomTool\"},{\"attributes\":{\"axis_label\":\"species\",\"formatter\":{\"id\":\"6298\",\"type\":\"CategoricalTickFormatter\"},\"plot\":{\"id\":\"5865\",\"subtype\":\"Figure\",\"type\":\"Plot\"},\"ticker\":{\"id\":\"5875\",\"type\":\"CategoricalTicker\"}},\"id\":\"5874\",\"type\":\"CategoricalAxis\"},{\"attributes\":{\"dimension\":1,\"plot\":{\"id\":\"5825\",\"subtype\":\"Figure\",\"type\":\"Plot\"},\"ticker\":{\"id\":\"5840\",\"type\":\"BasicTicker\"}},\"id\":\"5843\",\"type\":\"Grid\"},{\"attributes\":{},\"id\":\"6313\",\"type\":\"Selection\"},{\"attributes\":{\"bottom\":{\"value\":0},\"fill_color\":{\"value\":\"#1f77b4\"},\"left\":{\"field\":\"left\"},\"line_color\":{\"value\":\"#1f77b4\"},\"right\":{\"field\":\"right\"},\"top\":{\"field\":\"top\"}},\"id\":\"5860\",\"type\":\"Quad\"},{\"attributes\":{},\"id\":\"5835\",\"type\":\"BasicTicker\"},{\"attributes\":{},\"id\":\"5830\",\"type\":\"LinearScale\"},{\"attributes\":{\"axis_label\":\"probability\",\"formatter\":{\"id\":\"6296\",\"type\":\"BasicTickFormatter\"},\"plot\":{\"id\":\"5825\",\"subtype\":\"Figure\",\"type\":\"Plot\"},\"ticker\":{\"id\":\"5840\",\"type\":\"BasicTicker\"}},\"id\":\"5839\",\"type\":\"LinearAxis\"},{\"attributes\":{},\"id\":\"5832\",\"type\":\"LinearScale\"},{\"attributes\":{\"axis_label\":\"sepal_length\",\"formatter\":{\"id\":\"6294\",\"type\":\"BasicTickFormatter\"},\"plot\":{\"id\":\"5825\",\"subtype\":\"Figure\",\"type\":\"Plot\"},\"ticker\":{\"id\":\"5835\",\"type\":\"BasicTicker\"}},\"id\":\"5834\",\"type\":\"LinearAxis\"},{\"attributes\":{\"formatter\":{\"id\":\"6304\",\"type\":\"BasicTickFormatter\"},\"plot\":{\"id\":\"5904\",\"subtype\":\"Figure\",\"type\":\"Plot\"},\"ticker\":{\"id\":\"5918\",\"type\":\"BasicTicker\"}},\"id\":\"5917\",\"type\":\"LinearAxis\"},{\"attributes\":{\"callback\":null,\"data\":{\"count\":{\"__ndarray__\":\"VVVVVVVV1T9VVVVVVVXVP1VVVVVVVdU/\",\"dtype\":\"float64\",\"shape\":[3]},\"index\":[\"versicolor\",\"setosa\",\"virginica\"]},\"selected\":{\"id\":\"6310\",\"type\":\"Selection\"},\"selection_policy\":{\"id\":\"6309\",\"type\":\"UnionRenderers\"}},\"id\":\"5898\",\"type\":\"ColumnDataSource\"},{\"attributes\":{\"plot\":{\"id\":\"5865\",\"subtype\":\"Figure\",\"type\":\"Plot\"},\"ticker\":{\"id\":\"5875\",\"type\":\"CategoricalTicker\"}},\"id\":\"5877\",\"type\":\"Grid\"},{\"attributes\":{},\"id\":\"5848\",\"type\":\"ResetTool\"},{\"attributes\":{},\"id\":\"6312\",\"type\":\"UnionRenderers\"},{\"attributes\":{},\"id\":\"5844\",\"type\":\"PanTool\"},{\"attributes\":{},\"id\":\"5887\",\"type\":\"ResetTool\"},{\"attributes\":{},\"id\":\"5840\",\"type\":\"BasicTicker\"},{\"attributes\":{\"below\":[{\"id\":\"5874\",\"type\":\"CategoricalAxis\"}],\"left\":[{\"id\":\"5878\",\"type\":\"LinearAxis\"}],\"renderers\":[{\"id\":\"5874\",\"type\":\"CategoricalAxis\"},{\"id\":\"5877\",\"type\":\"Grid\"},{\"id\":\"5878\",\"type\":\"LinearAxis\"},{\"id\":\"5882\",\"type\":\"Grid\"},{\"id\":\"5891\",\"type\":\"BoxAnnotation\"},{\"id\":\"5902\",\"type\":\"GlyphRenderer\"}],\"title\":{\"id\":\"6290\",\"type\":\"Title\"},\"toolbar\":{\"id\":\"5889\",\"type\":\"Toolbar\"},\"x_range\":{\"id\":\"5866\",\"type\":\"FactorRange\"},\"x_scale\":{\"id\":\"5870\",\"type\":\"CategoricalScale\"},\"y_range\":{\"id\":\"5868\",\"type\":\"DataRange1d\"},\"y_scale\":{\"id\":\"5872\",\"type\":\"LinearScale\"}},\"id\":\"5865\",\"subtype\":\"Figure\",\"type\":\"Plot\"},{\"attributes\":{\"active_drag\":\"auto\",\"active_inspect\":\"auto\",\"active_multi\":null,\"active_scroll\":\"auto\",\"active_tap\":\"auto\",\"tools\":[{\"id\":\"5844\",\"type\":\"PanTool\"},{\"id\":\"5845\",\"type\":\"WheelZoomTool\"},{\"id\":\"5846\",\"type\":\"BoxZoomTool\"},{\"id\":\"5847\",\"type\":\"SaveTool\"},{\"id\":\"5848\",\"type\":\"ResetTool\"},{\"id\":\"5849\",\"type\":\"HelpTool\"}]},\"id\":\"5850\",\"type\":\"Toolbar\"},{\"attributes\":{},\"id\":\"5884\",\"type\":\"WheelZoomTool\"},{\"attributes\":{\"data_source\":{\"id\":\"5859\",\"type\":\"ColumnDataSource\"},\"glyph\":{\"id\":\"5860\",\"type\":\"Quad\"},\"hover_glyph\":null,\"muted_glyph\":null,\"nonselection_glyph\":{\"id\":\"5861\",\"type\":\"Quad\"},\"selection_glyph\":null,\"view\":{\"id\":\"5863\",\"type\":\"CDSView\"}},\"id\":\"5862\",\"type\":\"GlyphRenderer\"},{\"attributes\":{\"bottom\":{\"value\":0},\"fill_alpha\":{\"value\":0.1},\"fill_color\":{\"value\":\"#1f77b4\"},\"left\":{\"field\":\"left\"},\"line_alpha\":{\"value\":0.1},\"line_color\":{\"value\":\"#1f77b4\"},\"right\":{\"field\":\"right\"},\"top\":{\"field\":\"top\"}},\"id\":\"5861\",\"type\":\"Quad\"},{\"attributes\":{\"bottom_units\":\"screen\",\"fill_alpha\":{\"value\":0.5},\"fill_color\":{\"value\":\"lightgrey\"},\"left_units\":\"screen\",\"level\":\"overlay\",\"line_alpha\":{\"value\":1.0},\"line_color\":{\"value\":\"black\"},\"line_dash\":[4,4],\"line_width\":{\"value\":2},\"plot\":null,\"render_mode\":\"css\",\"right_units\":\"screen\",\"top_units\":\"screen\"},\"id\":\"5852\",\"type\":\"BoxAnnotation\"},{\"attributes\":{},\"id\":\"5849\",\"type\":\"HelpTool\"},{\"attributes\":{},\"id\":\"5886\",\"type\":\"SaveTool\"},{\"attributes\":{\"plot\":{\"id\":\"5825\",\"subtype\":\"Figure\",\"type\":\"Plot\"},\"render_mode\":\"css\",\"text\":\"ToDo\",\"x\":50,\"x_units\":\"screen\",\"y\":50,\"y_units\":\"screen\"},\"id\":\"5864\",\"type\":\"Label\"},{\"attributes\":{},\"id\":\"5879\",\"type\":\"BasicTicker\"},{\"attributes\":{\"fill_color\":{\"value\":\"cornflowerblue\"},\"line_color\":{\"value\":\"#1f77b4\"},\"top\":{\"field\":\"count\"},\"width\":{\"value\":1},\"x\":{\"field\":\"index\"}},\"id\":\"5900\",\"type\":\"VBar\"},{\"attributes\":{\"dimension\":1,\"plot\":{\"id\":\"5865\",\"subtype\":\"Figure\",\"type\":\"Plot\"},\"ticker\":{\"id\":\"5879\",\"type\":\"BasicTicker\"}},\"id\":\"5882\",\"type\":\"Grid\"},{\"attributes\":{\"source\":{\"id\":\"5859\",\"type\":\"ColumnDataSource\"}},\"id\":\"5863\",\"type\":\"CDSView\"},{\"attributes\":{},\"id\":\"5883\",\"type\":\"PanTool\"},{\"attributes\":{},\"id\":\"5847\",\"type\":\"SaveTool\"},{\"attributes\":{},\"id\":\"5888\",\"type\":\"HelpTool\"},{\"attributes\":{\"below\":[{\"id\":\"5834\",\"type\":\"LinearAxis\"}],\"left\":[{\"id\":\"5839\",\"type\":\"LinearAxis\"}],\"renderers\":[{\"id\":\"5834\",\"type\":\"LinearAxis\"},{\"id\":\"5838\",\"type\":\"Grid\"},{\"id\":\"5839\",\"type\":\"LinearAxis\"},{\"id\":\"5843\",\"type\":\"Grid\"},{\"id\":\"5852\",\"type\":\"BoxAnnotation\"},{\"id\":\"5862\",\"type\":\"GlyphRenderer\"},{\"id\":\"5864\",\"type\":\"Label\"}],\"title\":{\"id\":\"6288\",\"type\":\"Title\"},\"toolbar\":{\"id\":\"5850\",\"type\":\"Toolbar\"},\"x_range\":{\"id\":\"5826\",\"type\":\"DataRange1d\"},\"x_scale\":{\"id\":\"5830\",\"type\":\"LinearScale\"},\"y_range\":{\"id\":\"5828\",\"type\":\"DataRange1d\"},\"y_scale\":{\"id\":\"5832\",\"type\":\"LinearScale\"}},\"id\":\"5825\",\"subtype\":\"Figure\",\"type\":\"Plot\"},{\"attributes\":{\"callback\":null,\"factors\":[\"setosa\",\"versicolor\",\"virginica\"]},\"id\":\"5866\",\"type\":\"FactorRange\"},{\"attributes\":{\"active_drag\":\"auto\",\"active_inspect\":\"auto\",\"active_multi\":null,\"active_scroll\":\"auto\",\"active_tap\":\"auto\",\"tools\":[{\"id\":\"5883\",\"type\":\"PanTool\"},{\"id\":\"5884\",\"type\":\"WheelZoomTool\"},{\"id\":\"5885\",\"type\":\"BoxZoomTool\"},{\"id\":\"5886\",\"type\":\"SaveTool\"},{\"id\":\"5887\",\"type\":\"ResetTool\"},{\"id\":\"5888\",\"type\":\"HelpTool\"}]},\"id\":\"5889\",\"type\":\"Toolbar\"},{\"attributes\":{\"callback\":null,\"data\":{\"left\":{\"__ndarray__\":\"MzMzMzMzEUCwcmiR7XwRQC2yne+nxhFAqvHSTWIQEkAnMQisHFoSQKRwPQrXoxJAIbByaJHtEkCe76fGSzcTQBov3SQGgRNAmG4Sg8DKE0AUrkfhehQUQJHtfD81XhRADi2yne+nFECLbOf7qfEUQAisHFpkOxVAhetRuB6FFUACK4cW2c4VQH9qvHSTGBZA/Knx0k1iFkB56SYxCKwWQPYoXI/C9RZAc2iR7Xw/F0Dwp8ZLN4kXQGzn+6nx0hdA6iYxCKwcGEBmZmZmZmYYQOSlm8QgsBhAYOXQItv5GEDdJAaBlUMZQFpkO99PjRlA16NwPQrXGUBU46WbxCAaQNEi2/l+ahpATmIQWDm0GkDLoUW28/0aQEjhehSuRxtAxSCwcmiRG0BCYOXQItsbQL6fGi/dJBxAPN9PjZduHEC4HoXrUbgcQDZeukkMAh1Asp3vp8ZLHUAw3SQGgZUdQKwcWmQ73x1AKVyPwvUoHkCmm8QgsHIeQCPb+X5qvB5AoBov3SQGH0AdWmQ7308fQA==\",\"dtype\":\"float64\",\"shape\":[50]},\"right\":{\"__ndarray__\":\"sHJoke18EUAtsp3vp8YRQKrx0k1iEBJAJzEIrBxaEkCkcD0K16MSQCGwcmiR7RJAnu+nxks3E0AaL90kBoETQJhuEoPAyhNAFK5H4XoUFECR7Xw/NV4UQA4tsp3vpxRAi2zn+6nxFEAIrBxaZDsVQIXrUbgehRVAAiuHFtnOFUB/arx0kxgWQPyp8dJNYhZAeekmMQisFkD2KFyPwvUWQHNoke18PxdA8KfGSzeJF0Bs5/up8dIXQOomMQisHBhAZmZmZmZmGEDkpZvEILAYQGDl0CLb+RhA3SQGgZVDGUBaZDvfT40ZQNejcD0K1xlAVOOlm8QgGkDRItv5fmoaQE5iEFg5tBpAy6FFtvP9GkBI4XoUrkcbQMUgsHJokRtAQmDl0CLbG0C+nxov3SQcQDzfT42XbhxAuB6F61G4HEA2XrpJDAIdQLKd76fGSx1AMN0kBoGVHUCsHFpkO98dQClcj8L1KB5AppvEILByHkAj2/l+arweQKAaL90kBh9AHVpkO99PH0CamZmZmZkfQA==\",\"dtype\":\"float64\",\"shape\":[50]},\"top\":{\"__ndarray__\":\"PXsJ7SW0tz9tHMdxHMfRPz17Ce0ltLc/AAAAAAAAAAA9ewntJbTXPz17Ce0ltMc/DNpLaC+h3T8AAAAAAAAAADAcx3Ecx+E/ctpLaC+h7T8AAAAAAAAAAKSqqqqqquo/PXsJ7SW01z89ewntJbS3PwAAAAAAAAAAbRzHcRzH4T/US2gvob3kPwAAAAAAAAAAbRzHcRzH4T89ewntJbTnP9RLaC+hveQ/AAAAAAAAAACrHMdxHMfRPzAcx3Ecx+E/AAAAAAAAAAAwHMdxHMfhP497Ce0ltNc/pKqqqqqq6j8AAAAAAAAAANRLaC+hveQ/DNpLaC+h3T89ewntJbTHPwAAAAAAAAAAPXsJ7SW05z9tHMdxHMfRPwAAAAAAAAAAPXsJ7SW01z+PewntJbS3P+p6Ce0ltLc/AAAAAAAAAAAwHMdxHMfRP497Ce0ltLc/AAAAAAAAAACPewntJbS3PwAAAAAAAAAAPXsJ7SW0tz8AAAAAAAAAAD17Ce0ltNc/AAAAAAAAAAA9ewntJbS3Pw==\",\"dtype\":\"float64\",\"shape\":[50]}},\"selected\":{\"id\":\"6307\",\"type\":\"Selection\"},\"selection_policy\":{\"id\":\"6306\",\"type\":\"UnionRenderers\"}},\"id\":\"5859\",\"type\":\"ColumnDataSource\"},{\"attributes\":{},\"id\":\"5870\",\"type\":\"CategoricalScale\"},{\"attributes\":{\"overlay\":{\"id\":\"5852\",\"type\":\"BoxAnnotation\"}},\"id\":\"5846\",\"type\":\"BoxZoomTool\"},{\"attributes\":{\"below\":[{\"id\":\"5913\",\"type\":\"CategoricalAxis\"}],\"left\":[{\"id\":\"5917\",\"type\":\"LinearAxis\"}],\"plot_width\":1000,\"renderers\":[{\"id\":\"5913\",\"type\":\"CategoricalAxis\"},{\"id\":\"5916\",\"type\":\"Grid\"},{\"id\":\"5917\",\"type\":\"LinearAxis\"},{\"id\":\"5921\",\"type\":\"Grid\"},{\"id\":\"5930\",\"type\":\"BoxAnnotation\"},{\"id\":\"5941\",\"type\":\"GlyphRenderer\"}],\"title\":{\"id\":\"6292\",\"type\":\"Title\"},\"toolbar\":{\"id\":\"5928\",\"type\":\"Toolbar\"},\"x_range\":{\"id\":\"5905\",\"type\":\"FactorRange\"},\"x_scale\":{\"id\":\"5909\",\"type\":\"CategoricalScale\"},\"y_range\":{\"id\":\"5907\",\"type\":\"DataRange1d\"},\"y_scale\":{\"id\":\"5911\",\"type\":\"LinearScale\"}},\"id\":\"5904\",\"subtype\":\"Figure\",\"type\":\"Plot\"},{\"attributes\":{},\"id\":\"5845\",\"type\":\"WheelZoomTool\"},{\"attributes\":{\"callback\":null},\"id\":\"5907\",\"type\":\"DataRange1d\"},{\"attributes\":{},\"id\":\"5922\",\"type\":\"PanTool\"},{\"attributes\":{\"callback\":null,\"data\":{\"count\":{\"__ndarray__\":\"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\",\"dtype\":\"float64\",\"shape\":[301]},\"index\":[\"ford pinto\",\"toyota corolla\",\"amc matador\",\"amc gremlin\",\"toyota corona\",\"chevrolet impala\",\"amc hornet\",\"chevrolet chevette\",\"peugeot 504\",\"ford maverick\",\"ford galaxie 500\",\"dodge colt\",\"volkswagen dasher\",\"chevrolet citation\",\"chevrolet caprice classic\",\"ford gran torino\",\"plymouth duster\",\"honda civic\",\"chevrolet vega\",\"pontiac catalina\",\"plymouth fury iii\",\"chevrolet nova\",\"chevrolet chevelle malibu classic\",\"subaru dl\",\"vw rabbit\",\"mazda 626\",\"amc concord\",\"chevrolet chevelle malibu\",\"fiat 128\",\"opel 1900\",\"chevrolet monte carlo landau\",\"subaru\",\"saab 99le\",\"plymouth reliant\",\"buick estate wagon (sw)\",\"ford country squire (sw)\",\"plymouth valiant\",\"honda accord\",\"datsun 710\",\"dodge aspen\",\"toyota mark ii\",\"audi 100ls\",\"volkswagen rabbit\",\"oldsmobile cutlass salon brougham\",\"amc matador (sw)\",\"buick skylark\",\"toyota corolla 1200\",\"opel manta\",\"datsun pl510\",\"chevrolet malibu\",\"buick century\",\"honda civic cvcc\",\"ford ltd\",\"datsun 210\",\"pontiac phoenix\",\"ford gran torino (sw)\",\"mazda glc deluxe\",\"dodge aries wagon (sw)\",\"volvo 264gl\",\"renault 12tl\",\"mercury monarch\",\"mazda rx-4\",\"mercury grand marquis\",\"ford fairmont 4\",\"plymouth valiant custom\",\"dodge colt hardtop\",\"pontiac grand prix lj\",\"dodge dart custom\",\"mazda glc\",\"toyota celica gt\",\"peugeot 505s turbo diesel\",\"pontiac ventura sj\",\"chevrolet cavalier wagon\",\"datsun 510 hatchback\",\"renault 5 gtl\",\"ford fairmont (auto)\",\"ford fiesta\",\"dodge coronet custom\",\"datsun f-10 hatchback\",\"oldsmobile vista cruiser\",\"audi 5000\",\"toyota corolla tercel\",\"pontiac j2000 se hatchback\",\"datsun b210 gx\",\"oldsmobile cutlass ciera (diesel)\",\"plymouth fury gran sedan\",\"dodge monaco (sw)\",\"ford futura\",\"amc pacer\",\"dodge coronet custom (sw)\",\"mercury marquis brougham\",\"datsun 310 gx\",\"toyota corolla 1600 (sw)\",\"volvo 245\",\"bmw 320i\",\"chevy s-10\",\"datsun 210 mpg\",\"dodge colt (sw)\",\"chevy c10\",\"mercury capri 2000\",\"toyota corona mark ii\",\"ford granada gl\",\"pontiac safari (sw)\",\"ford mustang\",\"mercury capri v6\",\"amc ambassador sst\",\"datsun 280-zx\",\"amc ambassador dpl\",\"chevrolet malibu classic (sw)\",\"buick regal sport coupe (turbo)\",\"ford mustang ii\",\"toyota corona liftback\",\"oldsmobile delta 88 royale\",\"toyota tercel\",\"mazda glc 4\",\"plymouth volare\",\"oldsmobile starfire sx\",\"bmw 2002\",\"chevrolet camaro\",\"ford mustang ii 2+2\",\"ford thunderbird\",\"dodge aspen 6\",\"peugeot 604sl\",\"plymouth grand fury\",\"mazda glc custom\",\"volkswagen 411 (sw)\",\"chevy c20\",\"volkswagen rabbit l\",\"dodge monaco brougham\",\"plymouth horizon miser\",\"ford f108\",\"ford country\",\"honda civic 1300\",\"plymouth cricket\",\"chevrolet vega (sw)\",\"fiat 124 sport coupe\",\"amc concord dl 6\",\"vw rabbit custom\",\"honda civic 1500 gl\",\"dodge coronet brougham\",\"ford pinto (sw)\",\"mercury zephyr\",\"dodge d100\",\"fiat 131\",\"dodge magnum xe\",\"volkswagen jetta\",\"pontiac phoenix lj\",\"fiat 124b\",\"cadillac seville\",\"capri ii\",\"volkswagen rabbit custom\",\"mazda rx-7 gs\",\"dodge colt m/m\",\"fiat strada custom\",\"ford escort 4w\",\"ford ranger\",\"dodge aspen se\",\"plymouth fury\",\"nissan stanza xe\",\"volvo diesel\",\"buick skylark limited\",\"dodge challenger se\",\"honda civic (auto)\",\"triumph tr7 coupe\",\"amc ambassador brougham\",\"chevrolet chevelle concours (sw)\",\"mercury monarch ghia\",\"buick century limited\",\"buick electra 225 custom\",\"vw dasher (diesel)\",\"plymouth satellite custom\",\"vw pickup\",\"volvo 145e (sw)\",\"datsun 610\",\"ford fairmont futura\",\"plymouth horizon tc3\",\"ford fairmont\",\"mercury zephyr 6\",\"pontiac lemans v6\",\"dodge st. regis\",\"mercedes benz 300d\",\"volkswagen scirocco\",\"renault 12 (sw)\",\"plymouth arrow gs\",\"dodge aries se\",\"chrysler lebaron salon\",\"dodge colt hatchback custom\",\"peugeot 504 (sw)\",\"toyota celica gt liftback\",\"toyota corolla liftback\",\"toyota starlet\",\"buick century 350\",\"maxda rx3\",\"mercedes-benz 280s\",\"plymouth volare premier v8\",\"volkswagen type 3\",\"chevrolet vega 2300\",\"chevrolet bel air\",\"buick skyhawk\",\"volkswagen model 111\",\"vw rabbit c (diesel)\",\"plymouth custom suburb\",\"oldsmobile omega brougham\",\"datsun b-210\",\"audi 100 ls\",\"cadillac eldorado\",\"dodge rampage\",\"ford torino 500\",\"fiat x1.9\",\"ford granada\",\"plymouth sapporo\",\"amc spirit dl\",\"honda accord cvcc\",\"chevrolet cavalier 2-door\",\"datsun b210\",\"pontiac sunbird coupe\",\"buick lesabre custom\",\"oldsmobile cutlass supreme\",\"pontiac catalina brougham\",\"buick century luxus (sw)\",\"audi fox\",\"peugeot 304\",\"amc rebel sst\",\"ford fairmont (man)\",\"chrysler cordoba\",\"plymouth 'cuda 340\",\"chevrolet nova custom\",\"audi 4000\",\"pontiac grand prix\",\"mazda glc custom l\",\"plymouth satellite\",\"ford pinto runabout\",\"datsun 810 maxima\",\"ford ltd landau\",\"volvo 144ea\",\"toyota carina\",\"hi 1200d\",\"pontiac firebird\",\"mercury lynx l\",\"datsun 200sx\",\"saab 99gle\",\"chrysler newport royal\",\"datsun 510\",\"buick opel isuzu deluxe\",\"mercedes-benz 240d\",\"toyouta corona mark ii (sw)\",\"mercury marquis\",\"chevrolet monte carlo s\",\"audi 5000s (diesel)\",\"ford f250\",\"chrysler lebaron town @ country (sw)\",\"dodge omni\",\"fiat 124 tc\",\"volkswagen super beetle\",\"plymouth champ\",\"plymouth volare custom\",\"chevrolet woody\",\"mazda rx2 coupe\",\"datsun 510 (sw)\",\"datsun 200-sx\",\"datsun 1200\",\"mercury cougar brougham\",\"saab 99e\",\"ford granada ghia\",\"amc concord d/l\",\"chevrolet cavalier\",\"buick century special\",\"oldsmobile omega\",\"volkswagen 1131 deluxe sedan\",\"vokswagen rabbit\",\"buick skylark 320\",\"dodge diplomat\",\"toyota corona hardtop\",\"chevrolet concours\",\"dodge charger 2.2\",\"pontiac astro\",\"plymouth satellite sebring\",\"chevrolet monza 2+2\",\"volkswagen rabbit custom diesel\",\"amc hornet sportabout (sw)\",\"chevroelt chevelle malibu\",\"datsun 810\",\"dodge d200\",\"plymouth satellite custom (sw)\",\"amc pacer d/l\",\"volvo 244dl\",\"ford torino\",\"ford mustang gl\",\"toyota cressida\",\"honda accord lx\",\"chrysler new yorker brougham\",\"honda prelude\",\"plymouth horizon\",\"plymouth horizon 4\",\"ford granada l\",\"chevrolet monte carlo\",\"datsun 310\",\"chrysler lebaron medallion\",\"ford escort 2h\",\"oldsmobile cutlass ls\",\"maxda glc deluxe\"]},\"selected\":{\"id\":\"6313\",\"type\":\"Selection\"},\"selection_policy\":{\"id\":\"6312\",\"type\":\"UnionRenderers\"}},\"id\":\"5937\",\"type\":\"ColumnDataSource\"},{\"attributes\":{\"axis_label\":\"name\",\"formatter\":{\"id\":\"6302\",\"type\":\"CategoricalTickFormatter\"},\"major_label_orientation\":\"vertical\",\"plot\":{\"id\":\"5904\",\"subtype\":\"Figure\",\"type\":\"Plot\"},\"ticker\":{\"id\":\"5914\",\"type\":\"CategoricalTicker\"}},\"id\":\"5913\",\"type\":\"CategoricalAxis\"},{\"attributes\":{\"overlay\":{\"id\":\"5930\",\"type\":\"BoxAnnotation\"}},\"id\":\"5924\",\"type\":\"BoxZoomTool\"},{\"attributes\":{\"dimension\":1,\"plot\":{\"id\":\"5904\",\"subtype\":\"Figure\",\"type\":\"Plot\"},\"ticker\":{\"id\":\"5918\",\"type\":\"BasicTicker\"}},\"id\":\"5921\",\"type\":\"Grid\"},{\"attributes\":{\"callback\":null,\"factors\":[\"amc ambassador brougham\",\"amc ambassador dpl\",\"amc ambassador sst\",\"amc concord\",\"amc concord d/l\",\"amc concord dl 6\",\"amc gremlin\",\"amc hornet\",\"amc hornet sportabout (sw)\",\"amc matador\",\"amc matador (sw)\",\"amc pacer\",\"amc pacer d/l\",\"amc rebel sst\",\"amc spirit dl\",\"audi 100 ls\",\"audi 100ls\",\"audi 4000\",\"audi 5000\",\"audi 5000s (diesel)\",\"audi fox\",\"bmw 2002\",\"bmw 320i\",\"buick century\",\"buick century 350\",\"buick century limited\",\"buick century luxus (sw)\",\"buick century special\",\"buick electra 225 custom\",\"buick estate wagon (sw)\",\"buick lesabre custom\",\"buick opel isuzu deluxe\",\"buick regal sport coupe (turbo)\",\"buick skyhawk\",\"buick skylark\",\"buick skylark 320\",\"buick skylark limited\",\"cadillac eldorado\",\"cadillac seville\",\"capri ii\",\"chevroelt chevelle malibu\",\"chevrolet bel air\",\"chevrolet camaro\",\"chevrolet caprice classic\",\"chevrolet cavalier\",\"chevrolet cavalier 2-door\",\"chevrolet cavalier wagon\",\"chevrolet chevelle concours (sw)\",\"chevrolet chevelle malibu\",\"chevrolet chevelle malibu classic\",\"chevrolet chevette\",\"chevrolet citation\",\"chevrolet concours\",\"chevrolet impala\",\"chevrolet malibu\",\"chevrolet malibu classic (sw)\",\"chevrolet monte carlo\",\"chevrolet monte carlo landau\",\"chevrolet monte carlo s\",\"chevrolet monza 2+2\",\"chevrolet nova\",\"chevrolet nova custom\",\"chevrolet vega\",\"chevrolet vega (sw)\",\"chevrolet vega 2300\",\"chevrolet woody\",\"chevy c10\",\"chevy c20\",\"chevy s-10\",\"chrysler cordoba\",\"chrysler lebaron medallion\",\"chrysler lebaron salon\",\"chrysler lebaron town @ country (sw)\",\"chrysler new yorker brougham\",\"chrysler newport royal\",\"datsun 1200\",\"datsun 200-sx\",\"datsun 200sx\",\"datsun 210\",\"datsun 210 mpg\",\"datsun 280-zx\",\"datsun 310\",\"datsun 310 gx\",\"datsun 510\",\"datsun 510 (sw)\",\"datsun 510 hatchback\",\"datsun 610\",\"datsun 710\",\"datsun 810\",\"datsun 810 maxima\",\"datsun b-210\",\"datsun b210\",\"datsun b210 gx\",\"datsun f-10 hatchback\",\"datsun pl510\",\"dodge aries se\",\"dodge aries wagon (sw)\",\"dodge aspen\",\"dodge aspen 6\",\"dodge aspen se\",\"dodge challenger se\",\"dodge charger 2.2\",\"dodge colt\",\"dodge colt (sw)\",\"dodge colt hardtop\",\"dodge colt hatchback custom\",\"dodge colt m/m\",\"dodge coronet brougham\",\"dodge coronet custom\",\"dodge coronet custom (sw)\",\"dodge d100\",\"dodge d200\",\"dodge dart custom\",\"dodge diplomat\",\"dodge magnum xe\",\"dodge monaco (sw)\",\"dodge monaco brougham\",\"dodge omni\",\"dodge rampage\",\"dodge st. regis\",\"fiat 124 sport coupe\",\"fiat 124 tc\",\"fiat 124b\",\"fiat 128\",\"fiat 131\",\"fiat strada custom\",\"fiat x1.9\",\"ford country\",\"ford country squire (sw)\",\"ford escort 2h\",\"ford escort 4w\",\"ford f108\",\"ford f250\",\"ford fairmont\",\"ford fairmont (auto)\",\"ford fairmont (man)\",\"ford fairmont 4\",\"ford fairmont futura\",\"ford fiesta\",\"ford futura\",\"ford galaxie 500\",\"ford gran torino\",\"ford gran torino (sw)\",\"ford granada\",\"ford granada ghia\",\"ford granada gl\",\"ford granada l\",\"ford ltd\",\"ford ltd landau\",\"ford maverick\",\"ford mustang\",\"ford mustang gl\",\"ford mustang ii\",\"ford mustang ii 2+2\",\"ford pinto\",\"ford pinto (sw)\",\"ford pinto runabout\",\"ford ranger\",\"ford thunderbird\",\"ford torino\",\"ford torino 500\",\"hi 1200d\",\"honda accord\",\"honda accord cvcc\",\"honda accord lx\",\"honda civic\",\"honda civic (auto)\",\"honda civic 1300\",\"honda civic 1500 gl\",\"honda civic cvcc\",\"honda prelude\",\"maxda glc deluxe\",\"maxda rx3\",\"mazda 626\",\"mazda glc\",\"mazda glc 4\",\"mazda glc custom\",\"mazda glc custom l\",\"mazda glc deluxe\",\"mazda rx-4\",\"mazda rx-7 gs\",\"mazda rx2 coupe\",\"mercedes benz 300d\",\"mercedes-benz 240d\",\"mercedes-benz 280s\",\"mercury capri 2000\",\"mercury capri v6\",\"mercury cougar brougham\",\"mercury grand marquis\",\"mercury lynx l\",\"mercury marquis\",\"mercury marquis brougham\",\"mercury monarch\",\"mercury monarch ghia\",\"mercury zephyr\",\"mercury zephyr 6\",\"nissan stanza xe\",\"oldsmobile cutlass ciera (diesel)\",\"oldsmobile cutlass ls\",\"oldsmobile cutlass salon brougham\",\"oldsmobile cutlass supreme\",\"oldsmobile delta 88 royale\",\"oldsmobile omega\",\"oldsmobile omega brougham\",\"oldsmobile starfire sx\",\"oldsmobile vista cruiser\",\"opel 1900\",\"opel manta\",\"peugeot 304\",\"peugeot 504\",\"peugeot 504 (sw)\",\"peugeot 505s turbo diesel\",\"peugeot 604sl\",\"plymouth 'cuda 340\",\"plymouth arrow gs\",\"plymouth champ\",\"plymouth cricket\",\"plymouth custom suburb\",\"plymouth duster\",\"plymouth fury\",\"plymouth fury gran sedan\",\"plymouth fury iii\",\"plymouth grand fury\",\"plymouth horizon\",\"plymouth horizon 4\",\"plymouth horizon miser\",\"plymouth horizon tc3\",\"plymouth reliant\",\"plymouth sapporo\",\"plymouth satellite\",\"plymouth satellite custom\",\"plymouth satellite custom (sw)\",\"plymouth satellite sebring\",\"plymouth valiant\",\"plymouth valiant custom\",\"plymouth volare\",\"plymouth volare custom\",\"plymouth volare premier v8\",\"pontiac astro\",\"pontiac catalina\",\"pontiac catalina brougham\",\"pontiac firebird\",\"pontiac grand prix\",\"pontiac grand prix lj\",\"pontiac j2000 se hatchback\",\"pontiac lemans v6\",\"pontiac phoenix\",\"pontiac phoenix lj\",\"pontiac safari (sw)\",\"pontiac sunbird coupe\",\"pontiac ventura sj\",\"renault 12 (sw)\",\"renault 12tl\",\"renault 5 gtl\",\"saab 99e\",\"saab 99gle\",\"saab 99le\",\"subaru\",\"subaru dl\",\"toyota carina\",\"toyota celica gt\",\"toyota celica gt liftback\",\"toyota corolla\",\"toyota corolla 1200\",\"toyota corolla 1600 (sw)\",\"toyota corolla liftback\",\"toyota corolla tercel\",\"toyota corona\",\"toyota corona hardtop\",\"toyota corona liftback\",\"toyota corona mark ii\",\"toyota cressida\",\"toyota mark ii\",\"toyota starlet\",\"toyota tercel\",\"toyouta corona mark ii (sw)\",\"triumph tr7 coupe\",\"vokswagen rabbit\",\"volkswagen 1131 deluxe sedan\",\"volkswagen 411 (sw)\",\"volkswagen dasher\",\"volkswagen jetta\",\"volkswagen model 111\",\"volkswagen rabbit\",\"volkswagen rabbit custom\",\"volkswagen rabbit custom diesel\",\"volkswagen rabbit l\",\"volkswagen scirocco\",\"volkswagen super beetle\",\"volkswagen type 3\",\"volvo 144ea\",\"volvo 145e (sw)\",\"volvo 244dl\",\"volvo 245\",\"volvo 264gl\",\"volvo diesel\",\"vw dasher (diesel)\",\"vw pickup\",\"vw rabbit\",\"vw rabbit c (diesel)\",\"vw rabbit custom\"]},\"id\":\"5905\",\"type\":\"FactorRange\"},{\"attributes\":{},\"id\":\"5914\",\"type\":\"CategoricalTicker\"},{\"attributes\":{},\"id\":\"5911\",\"type\":\"LinearScale\"},{\"attributes\":{},\"id\":\"5918\",\"type\":\"BasicTicker\"},{\"attributes\":{\"source\":{\"id\":\"5898\",\"type\":\"ColumnDataSource\"}},\"id\":\"5903\",\"type\":\"CDSView\"},{\"attributes\":{\"fill_alpha\":{\"value\":0.1},\"fill_color\":{\"value\":\"#1f77b4\"},\"line_alpha\":{\"value\":0.1},\"line_color\":{\"value\":\"#1f77b4\"},\"top\":{\"field\":\"count\"},\"width\":{\"value\":1},\"x\":{\"field\":\"index\"}},\"id\":\"5940\",\"type\":\"VBar\"},{\"attributes\":{},\"id\":\"6309\",\"type\":\"UnionRenderers\"},{\"attributes\":{\"formatter\":{\"id\":\"6300\",\"type\":\"BasicTickFormatter\"},\"plot\":{\"id\":\"5865\",\"subtype\":\"Figure\",\"type\":\"Plot\"},\"ticker\":{\"id\":\"5879\",\"type\":\"BasicTicker\"}},\"id\":\"5878\",\"type\":\"LinearAxis\"},{\"attributes\":{\"data_source\":{\"id\":\"5937\",\"type\":\"ColumnDataSource\"},\"glyph\":{\"id\":\"5939\",\"type\":\"VBar\"},\"hover_glyph\":null,\"muted_glyph\":null,\"nonselection_glyph\":{\"id\":\"5940\",\"type\":\"VBar\"},\"selection_glyph\":null,\"view\":{\"id\":\"5942\",\"type\":\"CDSView\"}},\"id\":\"5941\",\"type\":\"GlyphRenderer\"},{\"attributes\":{},\"id\":\"6298\",\"type\":\"CategoricalTickFormatter\"},{\"attributes\":{\"data_source\":{\"id\":\"5898\",\"type\":\"ColumnDataSource\"},\"glyph\":{\"id\":\"5900\",\"type\":\"VBar\"},\"hover_glyph\":null,\"muted_glyph\":null,\"nonselection_glyph\":{\"id\":\"5901\",\"type\":\"VBar\"},\"selection_glyph\":null,\"view\":{\"id\":\"5903\",\"type\":\"CDSView\"}},\"id\":\"5902\",\"type\":\"GlyphRenderer\"},{\"attributes\":{},\"id\":\"6310\",\"type\":\"Selection\"},{\"attributes\":{\"plot\":{\"id\":\"5904\",\"subtype\":\"Figure\",\"type\":\"Plot\"},\"ticker\":{\"id\":\"5914\",\"type\":\"CategoricalTicker\"}},\"id\":\"5916\",\"type\":\"Grid\"},{\"attributes\":{\"source\":{\"id\":\"5937\",\"type\":\"ColumnDataSource\"}},\"id\":\"5942\",\"type\":\"CDSView\"},{\"attributes\":{},\"id\":\"6296\",\"type\":\"BasicTickFormatter\"},{\"attributes\":{},\"id\":\"5923\",\"type\":\"WheelZoomTool\"},{\"attributes\":{\"fill_color\":{\"value\":\"cornflowerblue\"},\"line_color\":{\"value\":\"#1f77b4\"},\"top\":{\"field\":\"count\"},\"width\":{\"value\":1},\"x\":{\"field\":\"index\"}},\"id\":\"5939\",\"type\":\"VBar\"},{\"attributes\":{\"plot\":null,\"text\":\"\"},\"id\":\"6288\",\"type\":\"Title\"},{\"attributes\":{},\"id\":\"6307\",\"type\":\"Selection\"},{\"attributes\":{\"plot\":null,\"text\":\"\"},\"id\":\"6290\",\"type\":\"Title\"},{\"attributes\":{},\"id\":\"5909\",\"type\":\"CategoricalScale\"},{\"attributes\":{},\"id\":\"5925\",\"type\":\"SaveTool\"},{\"attributes\":{\"plot\":null,\"text\":\"\"},\"id\":\"6292\",\"type\":\"Title\"},{\"attributes\":{\"callback\":null},\"id\":\"5868\",\"type\":\"DataRange1d\"},{\"attributes\":{},\"id\":\"6294\",\"type\":\"BasicTickFormatter\"},{\"attributes\":{\"bottom_units\":\"screen\",\"fill_alpha\":{\"value\":0.5},\"fill_color\":{\"value\":\"lightgrey\"},\"left_units\":\"screen\",\"level\":\"overlay\",\"line_alpha\":{\"value\":1.0},\"line_color\":{\"value\":\"black\"},\"line_dash\":[4,4],\"line_width\":{\"value\":2},\"plot\":null,\"render_mode\":\"css\",\"right_units\":\"screen\",\"top_units\":\"screen\"},\"id\":\"5930\",\"type\":\"BoxAnnotation\"},{\"attributes\":{},\"id\":\"6300\",\"type\":\"BasicTickFormatter\"},{\"attributes\":{\"fill_alpha\":{\"value\":0.1},\"fill_color\":{\"value\":\"#1f77b4\"},\"line_alpha\":{\"value\":0.1},\"line_color\":{\"value\":\"#1f77b4\"},\"top\":{\"field\":\"count\"},\"width\":{\"value\":1},\"x\":{\"field\":\"index\"}},\"id\":\"5901\",\"type\":\"VBar\"},{\"attributes\":{},\"id\":\"6302\",\"type\":\"CategoricalTickFormatter\"},{\"attributes\":{},\"id\":\"5927\",\"type\":\"HelpTool\"},{\"attributes\":{},\"id\":\"6304\",\"type\":\"BasicTickFormatter\"},{\"attributes\":{},\"id\":\"5926\",\"type\":\"ResetTool\"},{\"attributes\":{},\"id\":\"6306\",\"type\":\"UnionRenderers\"},{\"attributes\":{\"active_drag\":\"auto\",\"active_inspect\":\"auto\",\"active_multi\":null,\"active_scroll\":\"auto\",\"active_tap\":\"auto\",\"tools\":[{\"id\":\"5922\",\"type\":\"PanTool\"},{\"id\":\"5923\",\"type\":\"WheelZoomTool\"},{\"id\":\"5924\",\"type\":\"BoxZoomTool\"},{\"id\":\"5925\",\"type\":\"SaveTool\"},{\"id\":\"5926\",\"type\":\"ResetTool\"},{\"id\":\"5927\",\"type\":\"HelpTool\"}]},\"id\":\"5928\",\"type\":\"Toolbar\"}],\"root_ids\":[\"5943\"]},\"title\":\"Bokeh Application\",\"version\":\"1.0.0\"}};\n",
       "  var render_items = [{\"docid\":\"69501e47-c58e-4e36-b4f4-f0a50ed33b8a\",\"roots\":{\"5943\":\"91029ba8-a63c-490f-8f5f-f7972267365b\"}}];\n",
       "  root.Bokeh.embed.embed_items_notebook(docs_json, render_items);\n",
       "\n",
       "  }\n",
       "  if (root.Bokeh !== undefined) {\n",
       "    embed_document(root);\n",
       "  } else {\n",
       "    var attempts = 0;\n",
       "    var timer = setInterval(function(root) {\n",
       "      if (root.Bokeh !== undefined) {\n",
       "        embed_document(root);\n",
       "        clearInterval(timer);\n",
       "      }\n",
       "      attempts++;\n",
       "      if (attempts > 100) {\n",
       "        console.log(\"Bokeh: ERROR: Unable to run BokehJS code because BokehJS library is missing\");\n",
       "        clearInterval(timer);\n",
       "      }\n",
       "    }, 10, root)\n",
       "  }\n",
       "})(window);"
      ],
      "application/vnd.bokehjs_exec.v0+json": ""
     },
     "metadata": {
      "application/vnd.bokehjs_exec.v0+json": {
       "id": "5943"
      }
     },
     "output_type": "display_data"
    }
   ],
   "source": [
    "var1 = 'sepal_length'\n",
    "var2 = 'species'\n",
    "var3 = 'name'\n",
    "\n",
    "p1 = figure( plot_width=600, plot_height=600 )\n",
    "p1.histogram( flowers, var1 )\n",
    "p1.yaxis.axis_label = 'probability'\n",
    "p1.xaxis.axis_label = var1\n",
    "\n",
    "\n",
    "labels = np.sort(flowers[var2].unique())\n",
    "p2 = figure( plot_width=600, plot_height=600, x_range=labels )\n",
    "p2.histogram( flowers, var2)\n",
    "p2.xaxis.axis_label = var2\n",
    "\n",
    "labels = np.sort(autompg[var3].unique())\n",
    "p3 = figure( plot_width=1000, plot_height=600, x_range=labels )\n",
    "p3.histogram( autompg, var3 )\n",
    "p3.xaxis.axis_label = var3\n",
    "p3.xaxis.major_label_orientation = \"vertical\"\n",
    "\n",
    "show( column( p1, p2, p3 ) )"
   ]
  },
  {
   "cell_type": "markdown",
   "metadata": {},
   "source": [
    "**<font color=\"deeppink\">Test cases</font>**: Give three scenarios that need testing (bullet points, no implementation required)."
   ]
  },
  {
   "cell_type": "markdown",
   "metadata": {},
   "source": [
    "## Exercise 2: Working with SPLOMs"
   ]
  },
  {
   "cell_type": "markdown",
   "metadata": {},
   "source": [
    "The source code for the generalized scatterplot matrix (SPLOM) is stored in file splom.py. \n",
    "\n",
    "Usage:\n",
    "```\n",
    "p = splom( df, cols=['var1', 'var2', 'var3'], splom_width=1000 )\n",
    "show(p)\n",
    "```\n",
    "\n",
    "Accepted parameters:\n",
    "- **source** (req): pandas DataFrame\n",
    "- **splom_width** (opt): total width/height of the plot.\n",
    "- **cols** (opt): Array of column names to be used in the plot.\n",
    "- **x_padding** (opt): additional space for the x-axis labels.\n",
    "- **y_padding** (opt): additional space for the y-axis labels.\n",
    "\n",
    "Hint:\n",
    "- The SPLOM supports some interaction. Select points in the scatterplots and look at the results in the other scatterplots."
   ]
  },
  {
   "cell_type": "code",
   "execution_count": 32,
   "metadata": {},
   "outputs": [],
   "source": [
    "%run SPLOM.py"
   ]
  },
  {
   "cell_type": "markdown",
   "metadata": {},
   "source": [
    "### Exercise 2a): Baseball data"
   ]
  },
  {
   "cell_type": "code",
   "execution_count": 33,
   "metadata": {},
   "outputs": [],
   "source": [
    "baseball = pd.read_csv( 'baseball_data.csv')"
   ]
  },
  {
   "cell_type": "code",
   "execution_count": 35,
   "metadata": {},
   "outputs": [
    {
     "name": "stdout",
     "output_type": "stream",
     "text": [
      "categorical attributes ['handedness']\n",
      "group\n",
      "B     76.5\n",
      "L    191.0\n",
      "R    115.0\n",
      "Name: score, dtype: float64\n"
     ]
    },
    {
     "data": {
      "text/html": [
       "\n",
       "\n",
       "\n",
       "\n",
       "\n",
       "\n",
       "  <div class=\"bk-root\" id=\"1d052c97-aad1-4303-b546-7213e59fe4b1\"></div>\n"
      ]
     },
     "metadata": {},
     "output_type": "display_data"
    },
    {
     "data": {
      "application/javascript": [
       "(function(root) {\n",
       "  function embed_document(root) {\n",
       "    \n",
       "  var docs_json = {\"3a3b34ce-058c-43e5-92bc-6ececbb54702\":{\"roots\":{\"references\":[{\"attributes\":{\"children\":[{\"id\":\"7262\",\"type\":\"ToolbarBox\"},{\"id\":\"7260\",\"type\":\"Column\"}]},\"id\":\"7263\",\"type\":\"Column\"},{\"attributes\":{\"formatter\":{\"id\":\"7203\",\"type\":\"BasicTickFormatter\"},\"major_label_text_font_size\":{\"value\":\"10pt\"},\"plot\":{\"id\":\"7014\",\"subtype\":\"Figure\",\"type\":\"Plot\"},\"ticker\":{\"id\":\"7024\",\"type\":\"BasicTicker\"},\"visible\":false},\"id\":\"7023\",\"type\":\"LinearAxis\"},{\"attributes\":{\"source\":{\"id\":\"7120\",\"type\":\"ColumnDataSource\"}},\"id\":\"7124\",\"type\":\"CDSView\"},{\"attributes\":{},\"id\":\"7209\",\"type\":\"UnionRenderers\"},{\"attributes\":{\"axis_label\":\"handedness\",\"axis_label_text_font_size\":{\"value\":\"12pt\"},\"formatter\":{\"id\":\"7227\",\"type\":\"CategoricalTickFormatter\"},\"major_label_text_font_size\":{\"value\":\"10pt\"},\"plot\":{\"id\":\"7082\",\"subtype\":\"Figure\",\"type\":\"Plot\"},\"ticker\":{\"id\":\"7092\",\"type\":\"CategoricalTicker\"},\"visible\":true},\"id\":\"7091\",\"type\":\"CategoricalAxis\"},{\"attributes\":{\"source\":{\"id\":\"7125\",\"type\":\"ColumnDataSource\"}},\"id\":\"7129\",\"type\":\"CDSView\"},{\"attributes\":{},\"id\":\"7210\",\"type\":\"Selection\"},{\"attributes\":{},\"id\":\"7036\",\"type\":\"HelpTool\"},{\"attributes\":{\"source\":{\"id\":\"7072\",\"type\":\"ColumnDataSource\"}},\"id\":\"7076\",\"type\":\"CDSView\"},{\"attributes\":{},\"id\":\"7092\",\"type\":\"CategoricalTicker\"},{\"attributes\":{},\"id\":\"7035\",\"type\":\"SaveTool\"},{\"attributes\":{\"fill_color\":{\"value\":\"#00FFFF\"},\"height\":{\"value\":0.7},\"left\":{\"field\":\"left\"},\"right\":{\"field\":\"right\"},\"y\":{\"field\":\"y\"}},\"id\":\"7058\",\"type\":\"HBar\"},{\"attributes\":{\"fill_alpha\":{\"value\":0.1},\"fill_color\":{\"value\":\"#1f77b4\"},\"height\":{\"value\":0.7},\"left\":{\"field\":\"left\"},\"line_alpha\":{\"value\":0.1},\"line_color\":{\"value\":\"#1f77b4\"},\"right\":{\"field\":\"right\"},\"y\":{\"field\":\"y\"}},\"id\":\"7059\",\"type\":\"HBar\"},{\"attributes\":{\"source\":{\"id\":\"7130\",\"type\":\"ColumnDataSource\"}},\"id\":\"7134\",\"type\":\"CDSView\"},{\"attributes\":{\"grid_line_color\":{\"value\":null},\"grid_line_width\":{\"value\":2},\"plot\":{\"id\":\"7082\",\"subtype\":\"Figure\",\"type\":\"Plot\"},\"ticker\":{\"id\":\"7092\",\"type\":\"CategoricalTicker\"}},\"id\":\"7094\",\"type\":\"Grid\"},{\"attributes\":{},\"id\":\"6989\",\"type\":\"BasicTicker\"},{\"attributes\":{\"bottom\":{\"field\":\"bottom\"},\"fill_alpha\":{\"value\":0.1},\"fill_color\":{\"value\":\"#1f77b4\"},\"line_alpha\":{\"value\":0.1},\"line_color\":{\"value\":\"#1f77b4\"},\"top\":{\"field\":\"top\"},\"width\":{\"value\":0.7},\"x\":{\"field\":\"x\"}},\"id\":\"7132\",\"type\":\"VBar\"},{\"attributes\":{\"bottom\":{\"field\":\"bottom\"},\"fill_alpha\":{\"value\":0.1},\"fill_color\":{\"value\":\"#1f77b4\"},\"line_alpha\":{\"value\":0.1},\"line_color\":{\"value\":\"#1f77b4\"},\"top\":{\"field\":\"top\"},\"width\":{\"value\":0.7},\"x\":{\"field\":\"x\"}},\"id\":\"7127\",\"type\":\"VBar\"},{\"attributes\":{},\"id\":\"7211\",\"type\":\"UnionRenderers\"},{\"attributes\":{},\"id\":\"7212\",\"type\":\"Selection\"},{\"attributes\":{\"bottom_units\":\"screen\",\"fill_alpha\":{\"value\":0.5},\"fill_color\":{\"value\":\"lightgrey\"},\"left_units\":\"screen\",\"level\":\"overlay\",\"line_alpha\":{\"value\":1.0},\"line_color\":{\"value\":\"black\"},\"line_dash\":[4,4],\"line_width\":{\"value\":2},\"plot\":null,\"render_mode\":\"css\",\"right_units\":\"screen\",\"top_units\":\"screen\"},\"id\":\"7037\",\"type\":\"BoxAnnotation\"},{\"attributes\":{\"axis_label\":\"HR\",\"axis_label_text_font_size\":{\"value\":\"12pt\"},\"formatter\":{\"id\":\"7229\",\"type\":\"BasicTickFormatter\"},\"plot\":{\"id\":\"7082\",\"subtype\":\"Figure\",\"type\":\"Plot\"},\"ticker\":{\"id\":\"7096\",\"type\":\"BasicTicker\"},\"visible\":true},\"id\":\"7095\",\"type\":\"LinearAxis\"},{\"attributes\":{\"callback\":null,\"overlay\":{\"id\":\"7037\",\"type\":\"BoxAnnotation\"}},\"id\":\"7032\",\"type\":\"BoxSelectTool\"},{\"attributes\":{},\"id\":\"7213\",\"type\":\"UnionRenderers\"},{\"attributes\":{\"callback\":null,\"data\":{\"x\":[\"B\",\"B\",\"B\",\"B\",\"B\",\"B\",\"B\",\"B\",\"B\",\"B\",\"B\",\"L\",\"L\",\"L\",\"L\",\"L\",\"L\",\"L\",\"L\",\"L\",\"L\",\"L\",\"L\",\"L\",\"L\",\"L\",\"L\",\"L\",\"L\",\"L\",\"L\",\"L\",\"L\",\"R\",\"R\",\"R\",\"R\",\"R\",\"R\",\"R\",\"R\",\"R\",\"R\",\"R\",\"R\",\"R\",\"R\",\"R\",\"R\",\"R\",\"R\",\"R\",\"R\",\"R\",\"R\",\"R\",\"R\",\"R\",\"R\",\"R\",\"R\",\"R\",\"R\",\"R\",\"R\",\"R\",\"R\",\"R\",\"R\",\"R\",\"R\",\"R\",\"R\",\"R\",\"R\",\"R\",\"R\",\"R\",\"R\",\"R\",\"R\",\"R\",\"R\",\"R\",\"R\",\"R\",\"R\",\"R\",\"R\",\"R\",\"R\",\"R\",\"R\",\"R\",\"R\",\"R\",\"R\",\"R\",\"R\",\"R\",\"R\",\"R\",\"R\",\"R\",\"R\",\"R\",\"R\",\"R\",\"R\",\"R\",\"R\",\"R\",\"R\",\"R\",\"R\",\"R\",\"R\"],\"y\":[160,246,122,163,93,153,248,314,160,93,90,414,220,306,390,241,197,292,200,219,255,452,200,203,235,563,268,252,339,219,475,208,241,138,159,442,144,160,210,156,121,342,170,121,122,379,191,173,348,124,166,242,267,195,234,166,240,134,256,122,207,338,193,160,271,268,196,159,218,117,272,242,201,127,245,307,224,130,121,215,389,130,189,163,354,199,237,138,146,204,251,325,253,155,117,116,136,123,351,155,291,151,548,252,148,332,176,179,382,118,316,201,200,122,184,131,166]},\"selected\":{\"id\":\"7220\",\"type\":\"Selection\"},\"selection_policy\":{\"id\":\"7219\",\"type\":\"UnionRenderers\"}},\"id\":\"7077\",\"type\":\"ColumnDataSource\"},{\"attributes\":{},\"id\":\"7096\",\"type\":\"BasicTicker\"},{\"attributes\":{\"callback\":null,\"data\":{\"x0\":[\"R\",\"L\",\"B\"],\"x1\":[\"R\",\"L\",\"B\"],\"y0\":{\"__ndarray__\":\"AAAAAAAAAAAAAAAAAAAAAAAAAAAAAAAA\",\"dtype\":\"float64\",\"shape\":[3]},\"y1\":{\"__ndarray__\":\"AAAAAAAgQEAAAAAAAABUQAAAAAAAAEdA\",\"dtype\":\"float64\",\"shape\":[3]}},\"selected\":{\"id\":\"7208\",\"type\":\"Selection\"},\"selection_policy\":{\"id\":\"7207\",\"type\":\"UnionRenderers\"}},\"id\":\"7047\",\"type\":\"ColumnDataSource\"},{\"attributes\":{\"x0\":{\"field\":\"x0\"},\"x1\":{\"field\":\"x1\"},\"y0\":{\"field\":\"y0\"},\"y1\":{\"field\":\"y1\"}},\"id\":\"7121\",\"type\":\"Segment\"},{\"attributes\":{},\"id\":\"7214\",\"type\":\"Selection\"},{\"attributes\":{\"dimension\":1,\"grid_line_color\":{\"value\":\"white\"},\"grid_line_width\":{\"value\":2},\"plot\":{\"id\":\"7014\",\"subtype\":\"Figure\",\"type\":\"Plot\"},\"ticker\":{\"id\":\"7029\",\"type\":\"CategoricalTicker\"}},\"id\":\"7031\",\"type\":\"Grid\"},{\"attributes\":{\"dimension\":1,\"grid_line_color\":{\"value\":\"white\"},\"grid_line_width\":{\"value\":2},\"plot\":{\"id\":\"7082\",\"subtype\":\"Figure\",\"type\":\"Plot\"},\"ticker\":{\"id\":\"7096\",\"type\":\"BasicTicker\"}},\"id\":\"7099\",\"type\":\"Grid\"},{\"attributes\":{},\"id\":\"7215\",\"type\":\"UnionRenderers\"},{\"attributes\":{},\"id\":\"7087\",\"type\":\"CategoricalScale\"},{\"attributes\":{\"callback\":null},\"id\":\"7153\",\"type\":\"DataRange1d\"},{\"attributes\":{\"bottom\":{\"field\":\"bottom\"},\"fill_color\":{\"value\":\"#00FFFF\"},\"top\":{\"field\":\"top\"},\"width\":{\"value\":0.7},\"x\":{\"field\":\"x\"}},\"id\":\"7126\",\"type\":\"VBar\"},{\"attributes\":{},\"id\":\"7216\",\"type\":\"Selection\"},{\"attributes\":{\"below\":[{\"id\":\"7159\",\"type\":\"LinearAxis\"}],\"left\":[{\"id\":\"7164\",\"type\":\"LinearAxis\"}],\"plot_height\":373,\"plot_width\":333,\"renderers\":[{\"id\":\"7159\",\"type\":\"LinearAxis\"},{\"id\":\"7163\",\"type\":\"Grid\"},{\"id\":\"7164\",\"type\":\"LinearAxis\"},{\"id\":\"7168\",\"type\":\"Grid\"},{\"id\":\"7174\",\"type\":\"BoxAnnotation\"},{\"id\":\"7177\",\"type\":\"PolyAnnotation\"},{\"id\":\"7188\",\"type\":\"GlyphRenderer\"}],\"title\":{\"id\":\"7248\",\"type\":\"Title\"},\"toolbar\":{\"id\":\"7176\",\"type\":\"Toolbar\"},\"toolbar_location\":null,\"x_range\":{\"id\":\"7151\",\"type\":\"DataRange1d\"},\"x_scale\":{\"id\":\"7155\",\"type\":\"LinearScale\"},\"y_range\":{\"id\":\"7153\",\"type\":\"DataRange1d\"},\"y_scale\":{\"id\":\"7157\",\"type\":\"LinearScale\"}},\"id\":\"7150\",\"subtype\":\"Figure\",\"type\":\"Plot\"},{\"attributes\":{},\"id\":\"7034\",\"type\":\"ResetTool\"},{\"attributes\":{\"bottom_units\":\"screen\",\"fill_alpha\":{\"value\":0.5},\"fill_color\":{\"value\":\"lightgrey\"},\"left_units\":\"screen\",\"level\":\"overlay\",\"line_alpha\":{\"value\":1.0},\"line_color\":{\"value\":\"black\"},\"line_dash\":[4,4],\"line_width\":{\"value\":2},\"plot\":null,\"render_mode\":\"css\",\"right_units\":\"screen\",\"top_units\":\"screen\"},\"id\":\"7105\",\"type\":\"BoxAnnotation\"},{\"attributes\":{\"data_source\":{\"id\":\"7120\",\"type\":\"ColumnDataSource\"},\"glyph\":{\"id\":\"7121\",\"type\":\"Segment\"},\"hover_glyph\":null,\"muted_glyph\":null,\"nonselection_glyph\":{\"id\":\"7122\",\"type\":\"Segment\"},\"selection_glyph\":null,\"view\":{\"id\":\"7124\",\"type\":\"CDSView\"}},\"id\":\"7123\",\"type\":\"GlyphRenderer\"},{\"attributes\":{},\"id\":\"7217\",\"type\":\"UnionRenderers\"},{\"attributes\":{\"callback\":null,\"overlay\":{\"id\":\"7105\",\"type\":\"BoxAnnotation\"}},\"id\":\"7100\",\"type\":\"BoxSelectTool\"},{\"attributes\":{\"callback\":null,\"factors\":[\"B\",\"L\",\"R\"]},\"id\":\"7017\",\"type\":\"FactorRange\"},{\"attributes\":{\"axis_label\":\"HR\",\"axis_label_text_font_size\":{\"value\":\"12pt\"},\"formatter\":{\"id\":\"7250\",\"type\":\"BasicTickFormatter\"},\"plot\":{\"id\":\"7150\",\"subtype\":\"Figure\",\"type\":\"Plot\"},\"ticker\":{\"id\":\"7160\",\"type\":\"BasicTicker\"},\"visible\":true},\"id\":\"7159\",\"type\":\"LinearAxis\"},{\"attributes\":{\"plot\":{\"id\":\"6975\",\"subtype\":\"Figure\",\"type\":\"Plot\"},\"ticker\":{\"id\":\"6985\",\"type\":\"CategoricalTicker\"}},\"id\":\"6987\",\"type\":\"Grid\"},{\"attributes\":{\"data_source\":{\"id\":\"7008\",\"type\":\"ColumnDataSource\"},\"glyph\":{\"id\":\"7010\",\"type\":\"VBar\"},\"hover_glyph\":null,\"muted_glyph\":null,\"nonselection_glyph\":{\"id\":\"7011\",\"type\":\"VBar\"},\"selection_glyph\":null,\"view\":{\"id\":\"7013\",\"type\":\"CDSView\"}},\"id\":\"7012\",\"type\":\"GlyphRenderer\"},{\"attributes\":{\"source\":{\"id\":\"7115\",\"type\":\"ColumnDataSource\"}},\"id\":\"7119\",\"type\":\"CDSView\"},{\"attributes\":{\"line_alpha\":{\"value\":0.1},\"line_color\":{\"value\":\"#1f77b4\"},\"x0\":{\"field\":\"x0\"},\"x1\":{\"field\":\"x1\"},\"y0\":{\"field\":\"y0\"},\"y1\":{\"field\":\"y1\"}},\"id\":\"7122\",\"type\":\"Segment\"},{\"attributes\":{\"callback\":null,\"overlay\":{\"id\":\"7108\",\"type\":\"PolyAnnotation\"}},\"id\":\"7101\",\"type\":\"LassoSelectTool\"},{\"attributes\":{\"plot\":{\"id\":\"7150\",\"subtype\":\"Figure\",\"type\":\"Plot\"},\"ticker\":{\"id\":\"7160\",\"type\":\"BasicTicker\"}},\"id\":\"7163\",\"type\":\"Grid\"},{\"attributes\":{},\"id\":\"7218\",\"type\":\"Selection\"},{\"attributes\":{\"line_alpha\":{\"value\":0.1},\"line_color\":{\"value\":\"#1f77b4\"},\"x0\":{\"field\":\"x0\"},\"x1\":{\"field\":\"x1\"},\"y0\":{\"field\":\"y0\"},\"y1\":{\"field\":\"y1\"}},\"id\":\"7117\",\"type\":\"Segment\"},{\"attributes\":{},\"id\":\"7219\",\"type\":\"UnionRenderers\"},{\"attributes\":{},\"id\":\"7102\",\"type\":\"ResetTool\"},{\"attributes\":{\"formatter\":{\"id\":\"7252\",\"type\":\"BasicTickFormatter\"},\"plot\":{\"id\":\"7150\",\"subtype\":\"Figure\",\"type\":\"Plot\"},\"ticker\":{\"id\":\"7165\",\"type\":\"BasicTicker\"},\"visible\":false},\"id\":\"7164\",\"type\":\"LinearAxis\"},{\"attributes\":{\"fill_color\":{\"value\":\"cornflowerblue\"},\"line_color\":{\"value\":\"#1f77b4\"},\"top\":{\"field\":\"count\"},\"width\":{\"value\":1},\"x\":{\"field\":\"index\"}},\"id\":\"7010\",\"type\":\"VBar\"},{\"attributes\":{\"callback\":null,\"overlay\":{\"id\":\"7040\",\"type\":\"PolyAnnotation\"}},\"id\":\"7033\",\"type\":\"LassoSelectTool\"},{\"attributes\":{\"callback\":null,\"data\":{\"x0\":[\"R\",\"L\",\"B\"],\"x1\":[\"R\",\"L\",\"B\"],\"y0\":{\"__ndarray__\":\"AAAAAAAAAAAAAAAAAAAAAAAAAAAAAAAA\",\"dtype\":\"float64\",\"shape\":[3]},\"y1\":{\"__ndarray__\":\"AAAAAAAABkAAAAAAAAAYQAAAAAAAAAAA\",\"dtype\":\"float64\",\"shape\":[3]}},\"selected\":{\"id\":\"7234\",\"type\":\"Selection\"},\"selection_policy\":{\"id\":\"7233\",\"type\":\"UnionRenderers\"}},\"id\":\"7120\",\"type\":\"ColumnDataSource\"},{\"attributes\":{},\"id\":\"7220\",\"type\":\"Selection\"},{\"attributes\":{},\"id\":\"7103\",\"type\":\"SaveTool\"},{\"attributes\":{},\"id\":\"7165\",\"type\":\"BasicTicker\"},{\"attributes\":{\"fill_alpha\":{\"value\":0.6},\"fill_color\":{\"value\":\"#F38630\"},\"line_color\":{\"value\":\"#F38630\"},\"size\":{\"units\":\"screen\",\"value\":6},\"x\":{\"field\":\"x\"},\"y\":{\"field\":\"y\"}},\"id\":\"7146\",\"type\":\"Circle\"},{\"attributes\":{\"children\":[{\"id\":\"7082\",\"subtype\":\"Figure\",\"type\":\"Plot\"},{\"id\":\"7150\",\"subtype\":\"Figure\",\"type\":\"Plot\"}]},\"id\":\"7259\",\"type\":\"Row\"},{\"attributes\":{},\"id\":\"7104\",\"type\":\"HelpTool\"},{\"attributes\":{\"dimension\":1,\"plot\":{\"id\":\"7150\",\"subtype\":\"Figure\",\"type\":\"Plot\"},\"ticker\":{\"id\":\"7165\",\"type\":\"BasicTicker\"}},\"id\":\"7168\",\"type\":\"Grid\"},{\"attributes\":{\"plot\":null,\"text\":\"\"},\"id\":\"7225\",\"type\":\"Title\"},{\"attributes\":{\"axis_label\":\"probability\",\"axis_label_text_font_size\":{\"value\":\"12pt\"},\"formatter\":{\"id\":\"7194\",\"type\":\"BasicTickFormatter\"},\"plot\":{\"id\":\"6975\",\"subtype\":\"Figure\",\"type\":\"Plot\"},\"ticker\":{\"id\":\"6989\",\"type\":\"BasicTicker\"},\"visible\":true},\"id\":\"6988\",\"type\":\"LinearAxis\"},{\"attributes\":{},\"id\":\"7205\",\"type\":\"CategoricalTickFormatter\"},{\"attributes\":{\"x0\":{\"field\":\"x0\"},\"x1\":{\"field\":\"x1\"},\"y0\":{\"field\":\"y0\"},\"y1\":{\"field\":\"y1\"}},\"id\":\"7048\",\"type\":\"Segment\"},{\"attributes\":{},\"id\":\"7227\",\"type\":\"CategoricalTickFormatter\"},{\"attributes\":{\"plot\":null,\"text\":\"\"},\"id\":\"7190\",\"type\":\"Title\"},{\"attributes\":{\"callback\":null},\"id\":\"7015\",\"type\":\"DataRange1d\"},{\"attributes\":{\"bottom_units\":\"screen\",\"fill_alpha\":{\"value\":0.5},\"fill_color\":{\"value\":\"lightgrey\"},\"left_units\":\"screen\",\"level\":\"overlay\",\"line_alpha\":{\"value\":1.0},\"line_color\":{\"value\":\"black\"},\"line_dash\":[4,4],\"line_width\":{\"value\":2},\"plot\":null,\"render_mode\":\"css\",\"right_units\":\"screen\",\"top_units\":\"screen\"},\"id\":\"7174\",\"type\":\"BoxAnnotation\"},{\"attributes\":{\"active_drag\":\"auto\",\"active_inspect\":\"auto\",\"active_multi\":null,\"active_scroll\":\"auto\",\"active_tap\":\"auto\",\"tools\":[{\"id\":\"7100\",\"type\":\"BoxSelectTool\"},{\"id\":\"7101\",\"type\":\"LassoSelectTool\"},{\"id\":\"7102\",\"type\":\"ResetTool\"},{\"id\":\"7103\",\"type\":\"SaveTool\"},{\"id\":\"7104\",\"type\":\"HelpTool\"}]},\"id\":\"7107\",\"type\":\"Toolbar\"},{\"attributes\":{\"callback\":null},\"id\":\"7151\",\"type\":\"DataRange1d\"},{\"attributes\":{},\"id\":\"6985\",\"type\":\"CategoricalTicker\"},{\"attributes\":{\"callback\":null,\"overlay\":{\"id\":\"7174\",\"type\":\"BoxAnnotation\"}},\"id\":\"7169\",\"type\":\"BoxSelectTool\"},{\"attributes\":{\"fill_alpha\":{\"value\":0.5},\"fill_color\":{\"value\":\"lightgrey\"},\"level\":\"overlay\",\"line_alpha\":{\"value\":1.0},\"line_color\":{\"value\":\"black\"},\"line_dash\":[4,4],\"line_width\":{\"value\":2},\"plot\":null,\"xs_units\":\"screen\",\"ys_units\":\"screen\"},\"id\":\"7108\",\"type\":\"PolyAnnotation\"},{\"attributes\":{},\"id\":\"6980\",\"type\":\"CategoricalScale\"},{\"attributes\":{\"x0\":{\"field\":\"x0\"},\"x1\":{\"field\":\"x1\"},\"y0\":{\"field\":\"y0\"},\"y1\":{\"field\":\"y1\"}},\"id\":\"7053\",\"type\":\"Segment\"},{\"attributes\":{},\"id\":\"7229\",\"type\":\"BasicTickFormatter\"},{\"attributes\":{\"callback\":null,\"data\":{\"bottom\":{\"__ndarray__\":\"AAAAAAAgQEAAAAAAAABUQAAAAAAAAEdA\",\"dtype\":\"float64\",\"shape\":[3]},\"top\":{\"__ndarray__\":\"AAAAAAAAKkAAAAAAAIA3QAAAAAAAACxA\",\"dtype\":\"float64\",\"shape\":[3]},\"x\":[\"R\",\"L\",\"B\"]},\"selected\":{\"id\":\"7236\",\"type\":\"Selection\"},\"selection_policy\":{\"id\":\"7235\",\"type\":\"UnionRenderers\"}},\"id\":\"7125\",\"type\":\"ColumnDataSource\"},{\"attributes\":{\"callback\":null,\"data\":{\"bottom\":{\"__ndarray__\":\"AAAAAAAAKkAAAAAAAIA3QAAAAAAAACxA\",\"dtype\":\"float64\",\"shape\":[3]},\"top\":{\"__ndarray__\":\"AAAAAAAABkAAAAAAAAAYQAAAAAAAAAAA\",\"dtype\":\"float64\",\"shape\":[3]},\"x\":[\"R\",\"L\",\"B\"]},\"selected\":{\"id\":\"7238\",\"type\":\"Selection\"},\"selection_policy\":{\"id\":\"7237\",\"type\":\"UnionRenderers\"}},\"id\":\"7130\",\"type\":\"ColumnDataSource\"},{\"attributes\":{\"active_drag\":\"auto\",\"active_inspect\":\"auto\",\"active_multi\":null,\"active_scroll\":\"auto\",\"active_tap\":\"auto\",\"tools\":[{\"id\":\"6993\",\"type\":\"BoxSelectTool\"},{\"id\":\"6994\",\"type\":\"LassoSelectTool\"},{\"id\":\"6995\",\"type\":\"ResetTool\"},{\"id\":\"6996\",\"type\":\"SaveTool\"},{\"id\":\"6997\",\"type\":\"HelpTool\"}]},\"id\":\"7000\",\"type\":\"Toolbar\"},{\"attributes\":{\"callback\":null,\"overlay\":{\"id\":\"7177\",\"type\":\"PolyAnnotation\"}},\"id\":\"7170\",\"type\":\"LassoSelectTool\"},{\"attributes\":{},\"id\":\"7155\",\"type\":\"LinearScale\"},{\"attributes\":{},\"id\":\"6982\",\"type\":\"LinearScale\"},{\"attributes\":{\"callback\":null,\"data\":{\"x\":[\"R\",\"L\",\"B\"],\"y\":{\"__ndarray__\":\"AAAAAAAAAAAAAAAAAAAAAAAAAAAAAAAA\",\"dtype\":\"float64\",\"shape\":[3]}},\"selected\":{\"id\":\"7240\",\"type\":\"Selection\"},\"selection_policy\":{\"id\":\"7239\",\"type\":\"UnionRenderers\"}},\"id\":\"7135\",\"type\":\"ColumnDataSource\"},{\"attributes\":{},\"id\":\"7208\",\"type\":\"Selection\"},{\"attributes\":{},\"id\":\"7232\",\"type\":\"Selection\"},{\"attributes\":{\"bottom_units\":\"screen\",\"fill_alpha\":{\"value\":0.5},\"fill_color\":{\"value\":\"lightgrey\"},\"left_units\":\"screen\",\"level\":\"overlay\",\"line_alpha\":{\"value\":1.0},\"line_color\":{\"value\":\"black\"},\"line_dash\":[4,4],\"line_width\":{\"value\":2},\"plot\":null,\"render_mode\":\"css\",\"right_units\":\"screen\",\"top_units\":\"screen\"},\"id\":\"6998\",\"type\":\"BoxAnnotation\"},{\"attributes\":{},\"id\":\"7171\",\"type\":\"ResetTool\"},{\"attributes\":{\"fill_alpha\":{\"value\":0.1},\"fill_color\":{\"value\":\"#1f77b4\"},\"height\":{\"units\":\"data\",\"value\":0.02},\"line_alpha\":{\"value\":0.1},\"line_color\":{\"value\":\"#1f77b4\"},\"width\":{\"units\":\"data\",\"value\":0.1},\"x\":{\"field\":\"x\"},\"y\":{\"field\":\"y\"}},\"id\":\"7074\",\"type\":\"Rect\"},{\"attributes\":{\"data_source\":{\"id\":\"7072\",\"type\":\"ColumnDataSource\"},\"glyph\":{\"id\":\"7073\",\"type\":\"Rect\"},\"hover_glyph\":null,\"muted_glyph\":null,\"nonselection_glyph\":{\"id\":\"7074\",\"type\":\"Rect\"},\"selection_glyph\":null,\"view\":{\"id\":\"7076\",\"type\":\"CDSView\"}},\"id\":\"7075\",\"type\":\"GlyphRenderer\"},{\"attributes\":{\"fill_alpha\":{\"value\":0.1},\"fill_color\":{\"value\":\"#1f77b4\"},\"line_alpha\":{\"value\":0.1},\"line_color\":{\"value\":\"#1f77b4\"},\"top\":{\"field\":\"count\"},\"width\":{\"value\":1},\"x\":{\"field\":\"index\"}},\"id\":\"7011\",\"type\":\"VBar\"},{\"attributes\":{\"callback\":null,\"data\":{\"count\":{\"__ndarray__\":\"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\",\"dtype\":\"float64\",\"shape\":[212]},\"index\":[0,7,6,5,2,1,14,12,4,13,9,20,3,8,27,16,21,22,11,15,17,31,30,10,24,26,18,23,25,36,41,61,19,32,33,34,39,40,77,86,46,42,28,29,65,38,121,130,37,91,102,80,78,122,160,166,68,66,52,35,43,50,56,45,59,93,153,90,49,98,95,112,123,44,118,79,81,113,76,58,63,73,54,200,55,69,108,101,62,64,57,100,53,96,72,87,75,85,84,82,60,51,70,109,201,155,139,138,252,134,242,241,131,146,147,117,116,159,219,163,268,253,256,267,251,255,245,248,246,272,240,237,235,234,224,220,218,215,271,307,291,351,475,452,442,414,390,389,382,379,354,348,292,342,339,338,332,325,316,314,47,306,210,111,48,208,74,162,156,151,149,148,83,144,136,92,94,133,127,99,124,103,105,106,107,115,548,164,165,71,191,207,204,203,110,199,197,196,195,193,189,170,188,185,184,182,179,176,67,174,173,563]},\"selected\":{\"id\":\"7255\",\"type\":\"Selection\"},\"selection_policy\":{\"id\":\"7254\",\"type\":\"UnionRenderers\"}},\"id\":\"7184\",\"type\":\"ColumnDataSource\"},{\"attributes\":{},\"id\":\"7233\",\"type\":\"UnionRenderers\"},{\"attributes\":{},\"id\":\"7172\",\"type\":\"SaveTool\"},{\"attributes\":{\"callback\":null,\"factors\":[\"B\",\"L\",\"R\"]},\"id\":\"6976\",\"type\":\"FactorRange\"},{\"attributes\":{\"data_source\":{\"id\":\"7125\",\"type\":\"ColumnDataSource\"},\"glyph\":{\"id\":\"7126\",\"type\":\"VBar\"},\"hover_glyph\":null,\"muted_glyph\":null,\"nonselection_glyph\":{\"id\":\"7127\",\"type\":\"VBar\"},\"selection_glyph\":null,\"view\":{\"id\":\"7129\",\"type\":\"CDSView\"}},\"id\":\"7128\",\"type\":\"GlyphRenderer\"},{\"attributes\":{\"formatter\":{\"id\":\"7192\",\"type\":\"CategoricalTickFormatter\"},\"plot\":{\"id\":\"6975\",\"subtype\":\"Figure\",\"type\":\"Plot\"},\"ticker\":{\"id\":\"6985\",\"type\":\"CategoricalTicker\"},\"visible\":false},\"id\":\"6984\",\"type\":\"CategoricalAxis\"},{\"attributes\":{\"data_source\":{\"id\":\"7130\",\"type\":\"ColumnDataSource\"},\"glyph\":{\"id\":\"7131\",\"type\":\"VBar\"},\"hover_glyph\":null,\"muted_glyph\":null,\"nonselection_glyph\":{\"id\":\"7132\",\"type\":\"VBar\"},\"selection_glyph\":null,\"view\":{\"id\":\"7134\",\"type\":\"CDSView\"}},\"id\":\"7133\",\"type\":\"GlyphRenderer\"},{\"attributes\":{\"source\":{\"id\":\"7008\",\"type\":\"ColumnDataSource\"}},\"id\":\"7013\",\"type\":\"CDSView\"},{\"attributes\":{\"callback\":null,\"data\":{\"left\":{\"__ndarray__\":\"AAAAAAAgQEAAAAAAAABUQAAAAAAAAEdA\",\"dtype\":\"float64\",\"shape\":[3]},\"right\":{\"__ndarray__\":\"AAAAAAAAKkAAAAAAAIA3QAAAAAAAACxA\",\"dtype\":\"float64\",\"shape\":[3]},\"y\":[\"R\",\"L\",\"B\"]},\"selected\":{\"id\":\"7212\",\"type\":\"Selection\"},\"selection_policy\":{\"id\":\"7211\",\"type\":\"UnionRenderers\"}},\"id\":\"7057\",\"type\":\"ColumnDataSource\"},{\"attributes\":{},\"id\":\"7173\",\"type\":\"HelpTool\"},{\"attributes\":{\"data_source\":{\"id\":\"7052\",\"type\":\"ColumnDataSource\"},\"glyph\":{\"id\":\"7053\",\"type\":\"Segment\"},\"hover_glyph\":null,\"muted_glyph\":null,\"nonselection_glyph\":{\"id\":\"7054\",\"type\":\"Segment\"},\"selection_glyph\":null,\"view\":{\"id\":\"7056\",\"type\":\"CDSView\"}},\"id\":\"7055\",\"type\":\"GlyphRenderer\"},{\"attributes\":{\"data_source\":{\"id\":\"7135\",\"type\":\"ColumnDataSource\"},\"glyph\":{\"id\":\"7136\",\"type\":\"Rect\"},\"hover_glyph\":null,\"muted_glyph\":null,\"nonselection_glyph\":{\"id\":\"7137\",\"type\":\"Rect\"},\"selection_glyph\":null,\"view\":{\"id\":\"7139\",\"type\":\"CDSView\"}},\"id\":\"7138\",\"type\":\"GlyphRenderer\"},{\"attributes\":{},\"id\":\"7234\",\"type\":\"Selection\"},{\"attributes\":{},\"id\":\"7235\",\"type\":\"UnionRenderers\"},{\"attributes\":{\"data_source\":{\"id\":\"7057\",\"type\":\"ColumnDataSource\"},\"glyph\":{\"id\":\"7058\",\"type\":\"HBar\"},\"hover_glyph\":null,\"muted_glyph\":null,\"nonselection_glyph\":{\"id\":\"7059\",\"type\":\"HBar\"},\"selection_glyph\":null,\"view\":{\"id\":\"7061\",\"type\":\"CDSView\"}},\"id\":\"7060\",\"type\":\"GlyphRenderer\"},{\"attributes\":{},\"id\":\"7236\",\"type\":\"Selection\"},{\"attributes\":{\"fill_alpha\":{\"value\":0.5},\"fill_color\":{\"value\":\"lightgrey\"},\"level\":\"overlay\",\"line_alpha\":{\"value\":1.0},\"line_color\":{\"value\":\"black\"},\"line_dash\":[4,4],\"line_width\":{\"value\":2},\"plot\":null,\"xs_units\":\"screen\",\"ys_units\":\"screen\"},\"id\":\"7040\",\"type\":\"PolyAnnotation\"},{\"attributes\":{\"callback\":null},\"id\":\"6978\",\"type\":\"DataRange1d\"},{\"attributes\":{\"bottom\":{\"field\":\"bottom\"},\"fill_color\":{\"value\":\"#000080\"},\"top\":{\"field\":\"top\"},\"width\":{\"value\":0.7},\"x\":{\"field\":\"x\"}},\"id\":\"7131\",\"type\":\"VBar\"},{\"attributes\":{\"active_drag\":\"auto\",\"active_inspect\":\"auto\",\"active_multi\":null,\"active_scroll\":\"auto\",\"active_tap\":\"auto\",\"tools\":[{\"id\":\"7169\",\"type\":\"BoxSelectTool\"},{\"id\":\"7170\",\"type\":\"LassoSelectTool\"},{\"id\":\"7171\",\"type\":\"ResetTool\"},{\"id\":\"7172\",\"type\":\"SaveTool\"},{\"id\":\"7173\",\"type\":\"HelpTool\"}]},\"id\":\"7176\",\"type\":\"Toolbar\"},{\"attributes\":{\"fill_color\":{\"value\":\"#1f77b4\"},\"height\":{\"units\":\"data\",\"value\":0.01},\"width\":{\"units\":\"data\",\"value\":0.2},\"x\":{\"field\":\"x\"},\"y\":{\"field\":\"y\"}},\"id\":\"7136\",\"type\":\"Rect\"},{\"attributes\":{},\"id\":\"7237\",\"type\":\"UnionRenderers\"},{\"attributes\":{\"fill_alpha\":{\"value\":0.5},\"fill_color\":{\"value\":\"lightgrey\"},\"level\":\"overlay\",\"line_alpha\":{\"value\":1.0},\"line_color\":{\"value\":\"black\"},\"line_dash\":[4,4],\"line_width\":{\"value\":2},\"plot\":null,\"xs_units\":\"screen\",\"ys_units\":\"screen\"},\"id\":\"7177\",\"type\":\"PolyAnnotation\"},{\"attributes\":{\"source\":{\"id\":\"7047\",\"type\":\"ColumnDataSource\"}},\"id\":\"7051\",\"type\":\"CDSView\"},{\"attributes\":{\"fill_color\":{\"value\":\"#1f77b4\"},\"height\":{\"units\":\"data\",\"value\":0.01},\"width\":{\"units\":\"data\",\"value\":0.2},\"x\":{\"field\":\"x\"},\"y\":{\"field\":\"y\"}},\"id\":\"7141\",\"type\":\"Rect\"},{\"attributes\":{\"line_alpha\":{\"value\":0.1},\"line_color\":{\"value\":\"#1f77b4\"},\"x0\":{\"field\":\"x0\"},\"x1\":{\"field\":\"x1\"},\"y0\":{\"field\":\"y0\"},\"y1\":{\"field\":\"y1\"}},\"id\":\"7049\",\"type\":\"Segment\"},{\"attributes\":{},\"id\":\"7238\",\"type\":\"Selection\"},{\"attributes\":{\"active_drag\":\"auto\",\"active_inspect\":\"auto\",\"active_multi\":null,\"active_scroll\":\"auto\",\"active_tap\":\"auto\",\"tools\":[{\"id\":\"7032\",\"type\":\"BoxSelectTool\"},{\"id\":\"7033\",\"type\":\"LassoSelectTool\"},{\"id\":\"7034\",\"type\":\"ResetTool\"},{\"id\":\"7035\",\"type\":\"SaveTool\"},{\"id\":\"7036\",\"type\":\"HelpTool\"}]},\"id\":\"7039\",\"type\":\"Toolbar\"},{\"attributes\":{\"children\":[{\"id\":\"6975\",\"subtype\":\"Figure\",\"type\":\"Plot\"},{\"id\":\"7014\",\"subtype\":\"Figure\",\"type\":\"Plot\"}]},\"id\":\"7224\",\"type\":\"Row\"},{\"attributes\":{},\"id\":\"7239\",\"type\":\"UnionRenderers\"},{\"attributes\":{\"callback\":null,\"data\":{\"x0\":[\"R\",\"L\",\"B\"],\"x1\":[\"R\",\"L\",\"B\"],\"y0\":{\"__ndarray__\":\"AAAAAAAgU0AAAAAAAOBnQAAAAAAAwFxA\",\"dtype\":\"float64\",\"shape\":[3]},\"y1\":{\"__ndarray__\":\"AAAAAAAABkAAAAAAAAAYQAAAAAAAAAAA\",\"dtype\":\"float64\",\"shape\":[3]}},\"selected\":{\"id\":\"7210\",\"type\":\"Selection\"},\"selection_policy\":{\"id\":\"7209\",\"type\":\"UnionRenderers\"}},\"id\":\"7052\",\"type\":\"ColumnDataSource\"},{\"attributes\":{\"source\":{\"id\":\"7135\",\"type\":\"ColumnDataSource\"}},\"id\":\"7139\",\"type\":\"CDSView\"},{\"attributes\":{\"fill_color\":{\"value\":\"cornflowerblue\"},\"line_color\":{\"value\":\"#1f77b4\"},\"top\":{\"field\":\"count\"},\"width\":{\"value\":1},\"x\":{\"field\":\"index\"}},\"id\":\"7186\",\"type\":\"VBar\"},{\"attributes\":{\"dimension\":1,\"plot\":{\"id\":\"6975\",\"subtype\":\"Figure\",\"type\":\"Plot\"},\"ticker\":{\"id\":\"6989\",\"type\":\"BasicTicker\"}},\"id\":\"6992\",\"type\":\"Grid\"},{\"attributes\":{},\"id\":\"7203\",\"type\":\"BasicTickFormatter\"},{\"attributes\":{\"source\":{\"id\":\"7140\",\"type\":\"ColumnDataSource\"}},\"id\":\"7144\",\"type\":\"CDSView\"},{\"attributes\":{},\"id\":\"7240\",\"type\":\"Selection\"},{\"attributes\":{},\"id\":\"6996\",\"type\":\"SaveTool\"},{\"attributes\":{},\"id\":\"7241\",\"type\":\"UnionRenderers\"},{\"attributes\":{\"callback\":null,\"overlay\":{\"id\":\"6998\",\"type\":\"BoxAnnotation\"}},\"id\":\"6993\",\"type\":\"BoxSelectTool\"},{\"attributes\":{\"below\":[{\"id\":\"7023\",\"type\":\"LinearAxis\"}],\"left\":[{\"id\":\"7028\",\"type\":\"CategoricalAxis\"}],\"plot_height\":333,\"plot_width\":333,\"renderers\":[{\"id\":\"7023\",\"type\":\"LinearAxis\"},{\"id\":\"7027\",\"type\":\"Grid\"},{\"id\":\"7028\",\"type\":\"CategoricalAxis\"},{\"id\":\"7031\",\"type\":\"Grid\"},{\"id\":\"7037\",\"type\":\"BoxAnnotation\"},{\"id\":\"7040\",\"type\":\"PolyAnnotation\"},{\"id\":\"7050\",\"type\":\"GlyphRenderer\"},{\"id\":\"7055\",\"type\":\"GlyphRenderer\"},{\"id\":\"7060\",\"type\":\"GlyphRenderer\"},{\"id\":\"7065\",\"type\":\"GlyphRenderer\"},{\"id\":\"7070\",\"type\":\"GlyphRenderer\"},{\"id\":\"7075\",\"type\":\"GlyphRenderer\"},{\"id\":\"7080\",\"type\":\"GlyphRenderer\"}],\"title\":{\"id\":\"7201\",\"type\":\"Title\"},\"toolbar\":{\"id\":\"7039\",\"type\":\"Toolbar\"},\"toolbar_location\":null,\"x_range\":{\"id\":\"7015\",\"type\":\"DataRange1d\"},\"x_scale\":{\"id\":\"7019\",\"type\":\"LinearScale\"},\"y_range\":{\"id\":\"7017\",\"type\":\"FactorRange\"},\"y_scale\":{\"id\":\"7021\",\"type\":\"CategoricalScale\"}},\"id\":\"7014\",\"subtype\":\"Figure\",\"type\":\"Plot\"},{\"attributes\":{\"fill_alpha\":{\"value\":0.1},\"fill_color\":{\"value\":\"#1f77b4\"},\"height\":{\"units\":\"data\",\"value\":0.01},\"line_alpha\":{\"value\":0.1},\"line_color\":{\"value\":\"#1f77b4\"},\"width\":{\"units\":\"data\",\"value\":0.2},\"x\":{\"field\":\"x\"},\"y\":{\"field\":\"y\"}},\"id\":\"7137\",\"type\":\"Rect\"},{\"attributes\":{},\"id\":\"7242\",\"type\":\"Selection\"},{\"attributes\":{\"fill_alpha\":{\"value\":0.5},\"fill_color\":{\"value\":\"lightgrey\"},\"level\":\"overlay\",\"line_alpha\":{\"value\":1.0},\"line_color\":{\"value\":\"black\"},\"line_dash\":[4,4],\"line_width\":{\"value\":2},\"plot\":null,\"xs_units\":\"screen\",\"ys_units\":\"screen\"},\"id\":\"7001\",\"type\":\"PolyAnnotation\"},{\"attributes\":{\"callback\":null,\"factors\":[\"B\",\"L\",\"R\"]},\"id\":\"7083\",\"type\":\"FactorRange\"},{\"attributes\":{},\"id\":\"7029\",\"type\":\"CategoricalTicker\"},{\"attributes\":{\"data_source\":{\"id\":\"7047\",\"type\":\"ColumnDataSource\"},\"glyph\":{\"id\":\"7048\",\"type\":\"Segment\"},\"hover_glyph\":null,\"muted_glyph\":null,\"nonselection_glyph\":{\"id\":\"7049\",\"type\":\"Segment\"},\"selection_glyph\":null,\"view\":{\"id\":\"7051\",\"type\":\"CDSView\"}},\"id\":\"7050\",\"type\":\"GlyphRenderer\"},{\"attributes\":{\"x0\":{\"field\":\"x0\"},\"x1\":{\"field\":\"x1\"},\"y0\":{\"field\":\"y0\"},\"y1\":{\"field\":\"y1\"}},\"id\":\"7116\",\"type\":\"Segment\"},{\"attributes\":{\"fill_alpha\":{\"value\":0.1},\"fill_color\":{\"value\":\"#1f77b4\"},\"height\":{\"units\":\"data\",\"value\":0.01},\"line_alpha\":{\"value\":0.1},\"line_color\":{\"value\":\"#1f77b4\"},\"width\":{\"units\":\"data\",\"value\":0.2},\"x\":{\"field\":\"x\"},\"y\":{\"field\":\"y\"}},\"id\":\"7142\",\"type\":\"Rect\"},{\"attributes\":{\"fill_alpha\":{\"value\":0.1},\"fill_color\":{\"value\":\"#1f77b4\"},\"line_alpha\":{\"value\":0.1},\"line_color\":{\"value\":\"#1f77b4\"},\"size\":{\"units\":\"screen\",\"value\":6},\"x\":{\"field\":\"x\"},\"y\":{\"field\":\"y\"}},\"id\":\"7147\",\"type\":\"Circle\"},{\"attributes\":{},\"id\":\"6995\",\"type\":\"ResetTool\"},{\"attributes\":{\"fill_alpha\":{\"value\":0.1},\"fill_color\":{\"value\":\"#1f77b4\"},\"line_alpha\":{\"value\":0.1},\"line_color\":{\"value\":\"#1f77b4\"},\"top\":{\"field\":\"count\"},\"width\":{\"value\":1},\"x\":{\"field\":\"index\"}},\"id\":\"7187\",\"type\":\"VBar\"},{\"attributes\":{},\"id\":\"7243\",\"type\":\"UnionRenderers\"},{\"attributes\":{},\"id\":\"6997\",\"type\":\"HelpTool\"},{\"attributes\":{\"line_alpha\":{\"value\":0.1},\"line_color\":{\"value\":\"#1f77b4\"},\"x0\":{\"field\":\"x0\"},\"x1\":{\"field\":\"x1\"},\"y0\":{\"field\":\"y0\"},\"y1\":{\"field\":\"y1\"}},\"id\":\"7054\",\"type\":\"Segment\"},{\"attributes\":{},\"id\":\"7244\",\"type\":\"Selection\"},{\"attributes\":{\"data_source\":{\"id\":\"7184\",\"type\":\"ColumnDataSource\"},\"glyph\":{\"id\":\"7186\",\"type\":\"VBar\"},\"hover_glyph\":null,\"muted_glyph\":null,\"nonselection_glyph\":{\"id\":\"7187\",\"type\":\"VBar\"},\"selection_glyph\":null,\"view\":{\"id\":\"7189\",\"type\":\"CDSView\"}},\"id\":\"7188\",\"type\":\"GlyphRenderer\"},{\"attributes\":{\"callback\":null,\"data\":{\"x0\":[\"R\",\"L\",\"B\"],\"x1\":[\"R\",\"L\",\"B\"],\"y0\":{\"__ndarray__\":\"AAAAAAAgU0AAAAAAAOBnQAAAAAAAwFxA\",\"dtype\":\"float64\",\"shape\":[3]},\"y1\":{\"__ndarray__\":\"AAAAAAAgQEAAAAAAAABUQAAAAAAAAEdA\",\"dtype\":\"float64\",\"shape\":[3]}},\"selected\":{\"id\":\"7232\",\"type\":\"Selection\"},\"selection_policy\":{\"id\":\"7231\",\"type\":\"UnionRenderers\"}},\"id\":\"7115\",\"type\":\"ColumnDataSource\"},{\"attributes\":{\"plot\":null,\"text\":\"\"},\"id\":\"7248\",\"type\":\"Title\"},{\"attributes\":{\"source\":{\"id\":\"7052\",\"type\":\"ColumnDataSource\"}},\"id\":\"7056\",\"type\":\"CDSView\"},{\"attributes\":{\"callback\":null,\"data\":{\"x\":[\"R\",\"L\",\"B\"],\"y\":{\"__ndarray__\":\"AAAAAAAgU0AAAAAAAOBnQAAAAAAAwFxA\",\"dtype\":\"float64\",\"shape\":[3]}},\"selected\":{\"id\":\"7242\",\"type\":\"Selection\"},\"selection_policy\":{\"id\":\"7241\",\"type\":\"UnionRenderers\"}},\"id\":\"7140\",\"type\":\"ColumnDataSource\"},{\"attributes\":{\"callback\":null,\"data\":{\"x\":[\"B\",\"B\",\"B\",\"B\",\"B\",\"B\",\"B\",\"B\",\"B\",\"B\",\"B\",\"L\",\"L\",\"L\",\"L\",\"L\",\"L\",\"L\",\"L\",\"L\",\"L\",\"L\",\"L\",\"L\",\"L\",\"L\",\"L\",\"L\",\"L\",\"L\",\"L\",\"L\",\"L\",\"R\",\"R\",\"R\",\"R\",\"R\",\"R\",\"R\",\"R\",\"R\",\"R\",\"R\",\"R\",\"R\",\"R\",\"R\",\"R\",\"R\",\"R\",\"R\",\"R\",\"R\",\"R\",\"R\",\"R\",\"R\",\"R\",\"R\",\"R\",\"R\",\"R\",\"R\",\"R\",\"R\",\"R\",\"R\",\"R\",\"R\",\"R\",\"R\",\"R\",\"R\",\"R\",\"R\",\"R\",\"R\",\"R\",\"R\",\"R\",\"R\",\"R\",\"R\",\"R\",\"R\",\"R\",\"R\",\"R\",\"R\",\"R\",\"R\",\"R\",\"R\",\"R\",\"R\",\"R\",\"R\",\"R\",\"R\",\"R\",\"R\",\"R\",\"R\",\"R\",\"R\",\"R\",\"R\",\"R\",\"R\",\"R\",\"R\",\"R\",\"R\",\"R\",\"R\",\"R\"],\"y\":[160,246,122,163,93,153,248,314,160,93,90,414,220,306,390,241,197,292,200,219,255,452,200,203,235,563,268,252,339,219,475,208,241,138,159,442,144,160,210,156,121,342,170,121,122,379,191,173,348,124,166,242,267,195,234,166,240,134,256,122,207,338,193,160,271,268,196,159,218,117,272,242,201,127,245,307,224,130,121,215,389,130,189,163,354,199,237,138,146,204,251,325,253,155,117,116,136,123,351,155,291,151,548,252,148,332,176,179,382,118,316,201,200,122,184,131,166]},\"selected\":{\"id\":\"7244\",\"type\":\"Selection\"},\"selection_policy\":{\"id\":\"7243\",\"type\":\"UnionRenderers\"}},\"id\":\"7145\",\"type\":\"ColumnDataSource\"},{\"attributes\":{\"source\":{\"id\":\"7184\",\"type\":\"ColumnDataSource\"}},\"id\":\"7189\",\"type\":\"CDSView\"},{\"attributes\":{\"fill_alpha\":{\"value\":0.6},\"fill_color\":{\"value\":\"#F38630\"},\"line_color\":{\"value\":\"#F38630\"},\"size\":{\"units\":\"screen\",\"value\":6},\"x\":{\"field\":\"x\"},\"y\":{\"field\":\"y\"}},\"id\":\"7078\",\"type\":\"Circle\"},{\"attributes\":{},\"id\":\"7250\",\"type\":\"BasicTickFormatter\"},{\"attributes\":{},\"id\":\"7192\",\"type\":\"CategoricalTickFormatter\"},{\"attributes\":{},\"id\":\"7207\",\"type\":\"UnionRenderers\"},{\"attributes\":{\"fill_alpha\":{\"value\":0.1},\"fill_color\":{\"value\":\"#1f77b4\"},\"line_alpha\":{\"value\":0.1},\"line_color\":{\"value\":\"#1f77b4\"},\"size\":{\"units\":\"screen\",\"value\":6},\"x\":{\"field\":\"x\"},\"y\":{\"field\":\"y\"}},\"id\":\"7079\",\"type\":\"Circle\"},{\"attributes\":{},\"id\":\"7252\",\"type\":\"BasicTickFormatter\"},{\"attributes\":{\"formatter\":{\"id\":\"7205\",\"type\":\"CategoricalTickFormatter\"},\"plot\":{\"id\":\"7014\",\"subtype\":\"Figure\",\"type\":\"Plot\"},\"ticker\":{\"id\":\"7029\",\"type\":\"CategoricalTicker\"},\"visible\":false},\"id\":\"7028\",\"type\":\"CategoricalAxis\"},{\"attributes\":{},\"id\":\"7194\",\"type\":\"BasicTickFormatter\"},{\"attributes\":{\"source\":{\"id\":\"7145\",\"type\":\"ColumnDataSource\"}},\"id\":\"7149\",\"type\":\"CDSView\"},{\"attributes\":{\"data_source\":{\"id\":\"7140\",\"type\":\"ColumnDataSource\"},\"glyph\":{\"id\":\"7141\",\"type\":\"Rect\"},\"hover_glyph\":null,\"muted_glyph\":null,\"nonselection_glyph\":{\"id\":\"7142\",\"type\":\"Rect\"},\"selection_glyph\":null,\"view\":{\"id\":\"7144\",\"type\":\"CDSView\"}},\"id\":\"7143\",\"type\":\"GlyphRenderer\"},{\"attributes\":{\"grid_line_color\":{\"value\":null},\"grid_line_width\":{\"value\":2},\"plot\":{\"id\":\"7014\",\"subtype\":\"Figure\",\"type\":\"Plot\"},\"ticker\":{\"id\":\"7024\",\"type\":\"BasicTicker\"}},\"id\":\"7027\",\"type\":\"Grid\"},{\"attributes\":{\"data_source\":{\"id\":\"7077\",\"type\":\"ColumnDataSource\"},\"glyph\":{\"id\":\"7078\",\"type\":\"Circle\"},\"hover_glyph\":null,\"muted_glyph\":null,\"nonselection_glyph\":{\"id\":\"7079\",\"type\":\"Circle\"},\"selection_glyph\":null,\"view\":{\"id\":\"7081\",\"type\":\"CDSView\"}},\"id\":\"7080\",\"type\":\"GlyphRenderer\"},{\"attributes\":{},\"id\":\"7254\",\"type\":\"UnionRenderers\"},{\"attributes\":{},\"id\":\"7019\",\"type\":\"LinearScale\"},{\"attributes\":{\"data_source\":{\"id\":\"7145\",\"type\":\"ColumnDataSource\"},\"glyph\":{\"id\":\"7146\",\"type\":\"Circle\"},\"hover_glyph\":null,\"muted_glyph\":null,\"nonselection_glyph\":{\"id\":\"7147\",\"type\":\"Circle\"},\"selection_glyph\":null,\"view\":{\"id\":\"7149\",\"type\":\"CDSView\"}},\"id\":\"7148\",\"type\":\"GlyphRenderer\"},{\"attributes\":{},\"id\":\"7196\",\"type\":\"UnionRenderers\"},{\"attributes\":{},\"id\":\"7021\",\"type\":\"CategoricalScale\"},{\"attributes\":{},\"id\":\"7157\",\"type\":\"LinearScale\"},{\"attributes\":{\"source\":{\"id\":\"7077\",\"type\":\"ColumnDataSource\"}},\"id\":\"7081\",\"type\":\"CDSView\"},{\"attributes\":{},\"id\":\"7255\",\"type\":\"Selection\"},{\"attributes\":{},\"id\":\"7197\",\"type\":\"Selection\"},{\"attributes\":{\"callback\":null},\"id\":\"7085\",\"type\":\"DataRange1d\"},{\"attributes\":{\"callback\":null,\"overlay\":{\"id\":\"7001\",\"type\":\"PolyAnnotation\"}},\"id\":\"6994\",\"type\":\"LassoSelectTool\"},{\"attributes\":{},\"id\":\"7089\",\"type\":\"LinearScale\"},{\"attributes\":{\"data_source\":{\"id\":\"7115\",\"type\":\"ColumnDataSource\"},\"glyph\":{\"id\":\"7116\",\"type\":\"Segment\"},\"hover_glyph\":null,\"muted_glyph\":null,\"nonselection_glyph\":{\"id\":\"7117\",\"type\":\"Segment\"},\"selection_glyph\":null,\"view\":{\"id\":\"7119\",\"type\":\"CDSView\"}},\"id\":\"7118\",\"type\":\"GlyphRenderer\"},{\"attributes\":{\"plot\":null,\"text\":\"\"},\"id\":\"7201\",\"type\":\"Title\"},{\"attributes\":{},\"id\":\"7024\",\"type\":\"BasicTicker\"},{\"attributes\":{\"tools\":[{\"id\":\"6993\",\"type\":\"BoxSelectTool\"},{\"id\":\"6994\",\"type\":\"LassoSelectTool\"},{\"id\":\"6995\",\"type\":\"ResetTool\"},{\"id\":\"6996\",\"type\":\"SaveTool\"},{\"id\":\"6997\",\"type\":\"HelpTool\"},{\"id\":\"7032\",\"type\":\"BoxSelectTool\"},{\"id\":\"7033\",\"type\":\"LassoSelectTool\"},{\"id\":\"7034\",\"type\":\"ResetTool\"},{\"id\":\"7035\",\"type\":\"SaveTool\"},{\"id\":\"7036\",\"type\":\"HelpTool\"},{\"id\":\"7100\",\"type\":\"BoxSelectTool\"},{\"id\":\"7101\",\"type\":\"LassoSelectTool\"},{\"id\":\"7102\",\"type\":\"ResetTool\"},{\"id\":\"7103\",\"type\":\"SaveTool\"},{\"id\":\"7104\",\"type\":\"HelpTool\"},{\"id\":\"7169\",\"type\":\"BoxSelectTool\"},{\"id\":\"7170\",\"type\":\"LassoSelectTool\"},{\"id\":\"7171\",\"type\":\"ResetTool\"},{\"id\":\"7172\",\"type\":\"SaveTool\"},{\"id\":\"7173\",\"type\":\"HelpTool\"}]},\"id\":\"7261\",\"type\":\"ProxyToolbar\"},{\"attributes\":{\"below\":[{\"id\":\"6984\",\"type\":\"CategoricalAxis\"}],\"left\":[{\"id\":\"6988\",\"type\":\"LinearAxis\"}],\"plot_height\":333,\"plot_width\":413,\"renderers\":[{\"id\":\"6984\",\"type\":\"CategoricalAxis\"},{\"id\":\"6987\",\"type\":\"Grid\"},{\"id\":\"6988\",\"type\":\"LinearAxis\"},{\"id\":\"6992\",\"type\":\"Grid\"},{\"id\":\"6998\",\"type\":\"BoxAnnotation\"},{\"id\":\"7001\",\"type\":\"PolyAnnotation\"},{\"id\":\"7012\",\"type\":\"GlyphRenderer\"}],\"title\":{\"id\":\"7190\",\"type\":\"Title\"},\"toolbar\":{\"id\":\"7000\",\"type\":\"Toolbar\"},\"toolbar_location\":null,\"x_range\":{\"id\":\"6976\",\"type\":\"FactorRange\"},\"x_scale\":{\"id\":\"6980\",\"type\":\"CategoricalScale\"},\"y_range\":{\"id\":\"6978\",\"type\":\"DataRange1d\"},\"y_scale\":{\"id\":\"6982\",\"type\":\"LinearScale\"}},\"id\":\"6975\",\"subtype\":\"Figure\",\"type\":\"Plot\"},{\"attributes\":{\"fill_color\":{\"value\":\"#000080\"},\"height\":{\"value\":0.7},\"left\":{\"field\":\"left\"},\"right\":{\"field\":\"right\"},\"y\":{\"field\":\"y\"}},\"id\":\"7063\",\"type\":\"HBar\"},{\"attributes\":{\"fill_color\":{\"value\":\"#1f77b4\"},\"height\":{\"units\":\"data\",\"value\":0.02},\"width\":{\"units\":\"data\",\"value\":0.1},\"x\":{\"field\":\"x\"},\"y\":{\"field\":\"y\"}},\"id\":\"7068\",\"type\":\"Rect\"},{\"attributes\":{\"toolbar\":{\"id\":\"7261\",\"type\":\"ProxyToolbar\"},\"toolbar_location\":\"above\"},\"id\":\"7262\",\"type\":\"ToolbarBox\"},{\"attributes\":{\"data_source\":{\"id\":\"7067\",\"type\":\"ColumnDataSource\"},\"glyph\":{\"id\":\"7068\",\"type\":\"Rect\"},\"hover_glyph\":null,\"muted_glyph\":null,\"nonselection_glyph\":{\"id\":\"7069\",\"type\":\"Rect\"},\"selection_glyph\":null,\"view\":{\"id\":\"7071\",\"type\":\"CDSView\"}},\"id\":\"7070\",\"type\":\"GlyphRenderer\"},{\"attributes\":{\"fill_alpha\":{\"value\":0.1},\"fill_color\":{\"value\":\"#1f77b4\"},\"height\":{\"units\":\"data\",\"value\":0.02},\"line_alpha\":{\"value\":0.1},\"line_color\":{\"value\":\"#1f77b4\"},\"width\":{\"units\":\"data\",\"value\":0.1},\"x\":{\"field\":\"x\"},\"y\":{\"field\":\"y\"}},\"id\":\"7069\",\"type\":\"Rect\"},{\"attributes\":{\"below\":[{\"id\":\"7091\",\"type\":\"CategoricalAxis\"}],\"left\":[{\"id\":\"7095\",\"type\":\"LinearAxis\"}],\"plot_height\":373,\"plot_width\":413,\"renderers\":[{\"id\":\"7091\",\"type\":\"CategoricalAxis\"},{\"id\":\"7094\",\"type\":\"Grid\"},{\"id\":\"7095\",\"type\":\"LinearAxis\"},{\"id\":\"7099\",\"type\":\"Grid\"},{\"id\":\"7105\",\"type\":\"BoxAnnotation\"},{\"id\":\"7108\",\"type\":\"PolyAnnotation\"},{\"id\":\"7118\",\"type\":\"GlyphRenderer\"},{\"id\":\"7123\",\"type\":\"GlyphRenderer\"},{\"id\":\"7128\",\"type\":\"GlyphRenderer\"},{\"id\":\"7133\",\"type\":\"GlyphRenderer\"},{\"id\":\"7138\",\"type\":\"GlyphRenderer\"},{\"id\":\"7143\",\"type\":\"GlyphRenderer\"},{\"id\":\"7148\",\"type\":\"GlyphRenderer\"}],\"title\":{\"id\":\"7225\",\"type\":\"Title\"},\"toolbar\":{\"id\":\"7107\",\"type\":\"Toolbar\"},\"toolbar_location\":null,\"x_range\":{\"id\":\"7083\",\"type\":\"FactorRange\"},\"x_scale\":{\"id\":\"7087\",\"type\":\"CategoricalScale\"},\"y_range\":{\"id\":\"7085\",\"type\":\"DataRange1d\"},\"y_scale\":{\"id\":\"7089\",\"type\":\"LinearScale\"}},\"id\":\"7082\",\"subtype\":\"Figure\",\"type\":\"Plot\"},{\"attributes\":{\"source\":{\"id\":\"7062\",\"type\":\"ColumnDataSource\"}},\"id\":\"7066\",\"type\":\"CDSView\"},{\"attributes\":{\"callback\":null,\"data\":{\"x\":{\"__ndarray__\":\"AAAAAAAgU0AAAAAAAOBnQAAAAAAAwFxA\",\"dtype\":\"float64\",\"shape\":[3]},\"y\":[\"R\",\"L\",\"B\"]},\"selected\":{\"id\":\"7218\",\"type\":\"Selection\"},\"selection_policy\":{\"id\":\"7217\",\"type\":\"UnionRenderers\"}},\"id\":\"7072\",\"type\":\"ColumnDataSource\"},{\"attributes\":{\"callback\":null,\"data\":{\"left\":{\"__ndarray__\":\"AAAAAAAAKkAAAAAAAIA3QAAAAAAAACxA\",\"dtype\":\"float64\",\"shape\":[3]},\"right\":{\"__ndarray__\":\"AAAAAAAABkAAAAAAAAAYQAAAAAAAAAAA\",\"dtype\":\"float64\",\"shape\":[3]},\"y\":[\"R\",\"L\",\"B\"]},\"selected\":{\"id\":\"7214\",\"type\":\"Selection\"},\"selection_policy\":{\"id\":\"7213\",\"type\":\"UnionRenderers\"}},\"id\":\"7062\",\"type\":\"ColumnDataSource\"},{\"attributes\":{\"callback\":null,\"data\":{\"x\":{\"__ndarray__\":\"AAAAAAAAAAAAAAAAAAAAAAAAAAAAAAAA\",\"dtype\":\"float64\",\"shape\":[3]},\"y\":[\"R\",\"L\",\"B\"]},\"selected\":{\"id\":\"7216\",\"type\":\"Selection\"},\"selection_policy\":{\"id\":\"7215\",\"type\":\"UnionRenderers\"}},\"id\":\"7067\",\"type\":\"ColumnDataSource\"},{\"attributes\":{\"children\":[{\"id\":\"7224\",\"type\":\"Row\"},{\"id\":\"7259\",\"type\":\"Row\"}]},\"id\":\"7260\",\"type\":\"Column\"},{\"attributes\":{\"fill_color\":{\"value\":\"#1f77b4\"},\"height\":{\"units\":\"data\",\"value\":0.02},\"width\":{\"units\":\"data\",\"value\":0.1},\"x\":{\"field\":\"x\"},\"y\":{\"field\":\"y\"}},\"id\":\"7073\",\"type\":\"Rect\"},{\"attributes\":{\"source\":{\"id\":\"7067\",\"type\":\"ColumnDataSource\"}},\"id\":\"7071\",\"type\":\"CDSView\"},{\"attributes\":{},\"id\":\"7231\",\"type\":\"UnionRenderers\"},{\"attributes\":{\"data_source\":{\"id\":\"7062\",\"type\":\"ColumnDataSource\"},\"glyph\":{\"id\":\"7063\",\"type\":\"HBar\"},\"hover_glyph\":null,\"muted_glyph\":null,\"nonselection_glyph\":{\"id\":\"7064\",\"type\":\"HBar\"},\"selection_glyph\":null,\"view\":{\"id\":\"7066\",\"type\":\"CDSView\"}},\"id\":\"7065\",\"type\":\"GlyphRenderer\"},{\"attributes\":{},\"id\":\"7160\",\"type\":\"BasicTicker\"},{\"attributes\":{\"source\":{\"id\":\"7057\",\"type\":\"ColumnDataSource\"}},\"id\":\"7061\",\"type\":\"CDSView\"},{\"attributes\":{\"fill_alpha\":{\"value\":0.1},\"fill_color\":{\"value\":\"#1f77b4\"},\"height\":{\"value\":0.7},\"left\":{\"field\":\"left\"},\"line_alpha\":{\"value\":0.1},\"line_color\":{\"value\":\"#1f77b4\"},\"right\":{\"field\":\"right\"},\"y\":{\"field\":\"y\"}},\"id\":\"7064\",\"type\":\"HBar\"},{\"attributes\":{\"callback\":null,\"data\":{\"count\":{\"__ndarray__\":\"vAnEgj1i5D8rDHXjzHrRP3CBC1zgArc/\",\"dtype\":\"float64\",\"shape\":[3]},\"index\":[\"R\",\"L\",\"B\"]},\"selected\":{\"id\":\"7197\",\"type\":\"Selection\"},\"selection_policy\":{\"id\":\"7196\",\"type\":\"UnionRenderers\"}},\"id\":\"7008\",\"type\":\"ColumnDataSource\"}],\"root_ids\":[\"7263\"]},\"title\":\"Bokeh Application\",\"version\":\"1.0.0\"}};\n",
       "  var render_items = [{\"docid\":\"3a3b34ce-058c-43e5-92bc-6ececbb54702\",\"roots\":{\"7263\":\"1d052c97-aad1-4303-b546-7213e59fe4b1\"}}];\n",
       "  root.Bokeh.embed.embed_items_notebook(docs_json, render_items);\n",
       "\n",
       "  }\n",
       "  if (root.Bokeh !== undefined) {\n",
       "    embed_document(root);\n",
       "  } else {\n",
       "    var attempts = 0;\n",
       "    var timer = setInterval(function(root) {\n",
       "      if (root.Bokeh !== undefined) {\n",
       "        embed_document(root);\n",
       "        clearInterval(timer);\n",
       "      }\n",
       "      attempts++;\n",
       "      if (attempts > 100) {\n",
       "        console.log(\"Bokeh: ERROR: Unable to run BokehJS code because BokehJS library is missing\");\n",
       "        clearInterval(timer);\n",
       "      }\n",
       "    }, 10, root)\n",
       "  }\n",
       "})(window);"
      ],
      "application/vnd.bokehjs_exec.v0+json": ""
     },
     "metadata": {
      "application/vnd.bokehjs_exec.v0+json": {
       "id": "7263"
      }
     },
     "output_type": "display_data"
    }
   ],
   "source": [
    "show( splom( df=baseball, cols=['handedness', 'HR'],\n",
    "             splom_width=1000, x_padding=40, y_padding=80 ) )"
   ]
  },
  {
   "cell_type": "markdown",
   "metadata": {},
   "source": [
    "### Exercise 2b): Passengers on the Titanic\n",
    "\n",
    "Remarks:\n",
    "- For some passengers age information is missing the `fillna` command replaces those entries with -1. Feal free to make changes to this treating of missing values.\n",
    "- All data is given as quantitative values. To make distinction of categorical data easier, we turn them into strings."
   ]
  },
  {
   "cell_type": "code",
   "execution_count": 166,
   "metadata": {},
   "outputs": [
    {
     "ename": "FileNotFoundError",
     "evalue": "File b'../Ex2_explAna/titanic3.csv' does not exist",
     "output_type": "error",
     "traceback": [
      "\u001b[0;31m---------------------------------------------------------------------------\u001b[0m",
      "\u001b[0;31mFileNotFoundError\u001b[0m                         Traceback (most recent call last)",
      "\u001b[0;32m<ipython-input-166-ce0fd6b9c8c8>\u001b[0m in \u001b[0;36m<module>\u001b[0;34m\u001b[0m\n\u001b[0;32m----> 1\u001b[0;31m \u001b[0mtitanic\u001b[0m \u001b[0;34m=\u001b[0m \u001b[0mpd\u001b[0m\u001b[0;34m.\u001b[0m\u001b[0mread_csv\u001b[0m\u001b[0;34m(\u001b[0m \u001b[0;34m'../Ex2_explAna/titanic3.csv'\u001b[0m\u001b[0;34m)\u001b[0m\u001b[0;34m\u001b[0m\u001b[0m\n\u001b[0m\u001b[1;32m      2\u001b[0m \u001b[0;34m\u001b[0m\u001b[0m\n\u001b[1;32m      3\u001b[0m \u001b[0mtitanic\u001b[0m\u001b[0;34m.\u001b[0m\u001b[0mpclass\u001b[0m \u001b[0;34m=\u001b[0m \u001b[0mtitanic\u001b[0m\u001b[0;34m.\u001b[0m\u001b[0mpclass\u001b[0m\u001b[0;34m.\u001b[0m\u001b[0mastype\u001b[0m\u001b[0;34m(\u001b[0m\u001b[0;34m'str'\u001b[0m\u001b[0;34m)\u001b[0m\u001b[0;34m\u001b[0m\u001b[0m\n\u001b[1;32m      4\u001b[0m \u001b[0mtitanic\u001b[0m\u001b[0;34m.\u001b[0m\u001b[0msurvived\u001b[0m \u001b[0;34m=\u001b[0m \u001b[0mtitanic\u001b[0m\u001b[0;34m.\u001b[0m\u001b[0msurvived\u001b[0m\u001b[0;34m.\u001b[0m\u001b[0mastype\u001b[0m\u001b[0;34m(\u001b[0m\u001b[0;34m'str'\u001b[0m\u001b[0;34m)\u001b[0m\u001b[0;34m\u001b[0m\u001b[0m\n\u001b[1;32m      5\u001b[0m \u001b[0;34m\u001b[0m\u001b[0m\n",
      "\u001b[0;32m/usr/local/lib/python3.6/site-packages/pandas/io/parsers.py\u001b[0m in \u001b[0;36mparser_f\u001b[0;34m(filepath_or_buffer, sep, delimiter, header, names, index_col, usecols, squeeze, prefix, mangle_dupe_cols, dtype, engine, converters, true_values, false_values, skipinitialspace, skiprows, nrows, na_values, keep_default_na, na_filter, verbose, skip_blank_lines, parse_dates, infer_datetime_format, keep_date_col, date_parser, dayfirst, iterator, chunksize, compression, thousands, decimal, lineterminator, quotechar, quoting, escapechar, comment, encoding, dialect, tupleize_cols, error_bad_lines, warn_bad_lines, skipfooter, skip_footer, doublequote, delim_whitespace, as_recarray, compact_ints, use_unsigned, low_memory, buffer_lines, memory_map, float_precision)\u001b[0m\n\u001b[1;32m    644\u001b[0m                     skip_blank_lines=skip_blank_lines)\n\u001b[1;32m    645\u001b[0m \u001b[0;34m\u001b[0m\u001b[0m\n\u001b[0;32m--> 646\u001b[0;31m         \u001b[0;32mreturn\u001b[0m \u001b[0m_read\u001b[0m\u001b[0;34m(\u001b[0m\u001b[0mfilepath_or_buffer\u001b[0m\u001b[0;34m,\u001b[0m \u001b[0mkwds\u001b[0m\u001b[0;34m)\u001b[0m\u001b[0;34m\u001b[0m\u001b[0m\n\u001b[0m\u001b[1;32m    647\u001b[0m \u001b[0;34m\u001b[0m\u001b[0m\n\u001b[1;32m    648\u001b[0m     \u001b[0mparser_f\u001b[0m\u001b[0;34m.\u001b[0m\u001b[0m__name__\u001b[0m \u001b[0;34m=\u001b[0m \u001b[0mname\u001b[0m\u001b[0;34m\u001b[0m\u001b[0m\n",
      "\u001b[0;32m/usr/local/lib/python3.6/site-packages/pandas/io/parsers.py\u001b[0m in \u001b[0;36m_read\u001b[0;34m(filepath_or_buffer, kwds)\u001b[0m\n\u001b[1;32m    387\u001b[0m \u001b[0;34m\u001b[0m\u001b[0m\n\u001b[1;32m    388\u001b[0m     \u001b[0;31m# Create the parser.\u001b[0m\u001b[0;34m\u001b[0m\u001b[0;34m\u001b[0m\u001b[0m\n\u001b[0;32m--> 389\u001b[0;31m     \u001b[0mparser\u001b[0m \u001b[0;34m=\u001b[0m \u001b[0mTextFileReader\u001b[0m\u001b[0;34m(\u001b[0m\u001b[0mfilepath_or_buffer\u001b[0m\u001b[0;34m,\u001b[0m \u001b[0;34m**\u001b[0m\u001b[0mkwds\u001b[0m\u001b[0;34m)\u001b[0m\u001b[0;34m\u001b[0m\u001b[0m\n\u001b[0m\u001b[1;32m    390\u001b[0m \u001b[0;34m\u001b[0m\u001b[0m\n\u001b[1;32m    391\u001b[0m     \u001b[0;32mif\u001b[0m \u001b[0;34m(\u001b[0m\u001b[0mnrows\u001b[0m \u001b[0;32mis\u001b[0m \u001b[0;32mnot\u001b[0m \u001b[0;32mNone\u001b[0m\u001b[0;34m)\u001b[0m \u001b[0;32mand\u001b[0m \u001b[0;34m(\u001b[0m\u001b[0mchunksize\u001b[0m \u001b[0;32mis\u001b[0m \u001b[0;32mnot\u001b[0m \u001b[0;32mNone\u001b[0m\u001b[0;34m)\u001b[0m\u001b[0;34m:\u001b[0m\u001b[0;34m\u001b[0m\u001b[0m\n",
      "\u001b[0;32m/usr/local/lib/python3.6/site-packages/pandas/io/parsers.py\u001b[0m in \u001b[0;36m__init__\u001b[0;34m(self, f, engine, **kwds)\u001b[0m\n\u001b[1;32m    728\u001b[0m             \u001b[0mself\u001b[0m\u001b[0;34m.\u001b[0m\u001b[0moptions\u001b[0m\u001b[0;34m[\u001b[0m\u001b[0;34m'has_index_names'\u001b[0m\u001b[0;34m]\u001b[0m \u001b[0;34m=\u001b[0m \u001b[0mkwds\u001b[0m\u001b[0;34m[\u001b[0m\u001b[0;34m'has_index_names'\u001b[0m\u001b[0;34m]\u001b[0m\u001b[0;34m\u001b[0m\u001b[0m\n\u001b[1;32m    729\u001b[0m \u001b[0;34m\u001b[0m\u001b[0m\n\u001b[0;32m--> 730\u001b[0;31m         \u001b[0mself\u001b[0m\u001b[0;34m.\u001b[0m\u001b[0m_make_engine\u001b[0m\u001b[0;34m(\u001b[0m\u001b[0mself\u001b[0m\u001b[0;34m.\u001b[0m\u001b[0mengine\u001b[0m\u001b[0;34m)\u001b[0m\u001b[0;34m\u001b[0m\u001b[0m\n\u001b[0m\u001b[1;32m    731\u001b[0m \u001b[0;34m\u001b[0m\u001b[0m\n\u001b[1;32m    732\u001b[0m     \u001b[0;32mdef\u001b[0m \u001b[0mclose\u001b[0m\u001b[0;34m(\u001b[0m\u001b[0mself\u001b[0m\u001b[0;34m)\u001b[0m\u001b[0;34m:\u001b[0m\u001b[0;34m\u001b[0m\u001b[0m\n",
      "\u001b[0;32m/usr/local/lib/python3.6/site-packages/pandas/io/parsers.py\u001b[0m in \u001b[0;36m_make_engine\u001b[0;34m(self, engine)\u001b[0m\n\u001b[1;32m    921\u001b[0m     \u001b[0;32mdef\u001b[0m \u001b[0m_make_engine\u001b[0m\u001b[0;34m(\u001b[0m\u001b[0mself\u001b[0m\u001b[0;34m,\u001b[0m \u001b[0mengine\u001b[0m\u001b[0;34m=\u001b[0m\u001b[0;34m'c'\u001b[0m\u001b[0;34m)\u001b[0m\u001b[0;34m:\u001b[0m\u001b[0;34m\u001b[0m\u001b[0m\n\u001b[1;32m    922\u001b[0m         \u001b[0;32mif\u001b[0m \u001b[0mengine\u001b[0m \u001b[0;34m==\u001b[0m \u001b[0;34m'c'\u001b[0m\u001b[0;34m:\u001b[0m\u001b[0;34m\u001b[0m\u001b[0m\n\u001b[0;32m--> 923\u001b[0;31m             \u001b[0mself\u001b[0m\u001b[0;34m.\u001b[0m\u001b[0m_engine\u001b[0m \u001b[0;34m=\u001b[0m \u001b[0mCParserWrapper\u001b[0m\u001b[0;34m(\u001b[0m\u001b[0mself\u001b[0m\u001b[0;34m.\u001b[0m\u001b[0mf\u001b[0m\u001b[0;34m,\u001b[0m \u001b[0;34m**\u001b[0m\u001b[0mself\u001b[0m\u001b[0;34m.\u001b[0m\u001b[0moptions\u001b[0m\u001b[0;34m)\u001b[0m\u001b[0;34m\u001b[0m\u001b[0m\n\u001b[0m\u001b[1;32m    924\u001b[0m         \u001b[0;32melse\u001b[0m\u001b[0;34m:\u001b[0m\u001b[0;34m\u001b[0m\u001b[0m\n\u001b[1;32m    925\u001b[0m             \u001b[0;32mif\u001b[0m \u001b[0mengine\u001b[0m \u001b[0;34m==\u001b[0m \u001b[0;34m'python'\u001b[0m\u001b[0;34m:\u001b[0m\u001b[0;34m\u001b[0m\u001b[0m\n",
      "\u001b[0;32m/usr/local/lib/python3.6/site-packages/pandas/io/parsers.py\u001b[0m in \u001b[0;36m__init__\u001b[0;34m(self, src, **kwds)\u001b[0m\n\u001b[1;32m   1388\u001b[0m         \u001b[0mkwds\u001b[0m\u001b[0;34m[\u001b[0m\u001b[0;34m'allow_leading_cols'\u001b[0m\u001b[0;34m]\u001b[0m \u001b[0;34m=\u001b[0m \u001b[0mself\u001b[0m\u001b[0;34m.\u001b[0m\u001b[0mindex_col\u001b[0m \u001b[0;32mis\u001b[0m \u001b[0;32mnot\u001b[0m \u001b[0;32mFalse\u001b[0m\u001b[0;34m\u001b[0m\u001b[0m\n\u001b[1;32m   1389\u001b[0m \u001b[0;34m\u001b[0m\u001b[0m\n\u001b[0;32m-> 1390\u001b[0;31m         \u001b[0mself\u001b[0m\u001b[0;34m.\u001b[0m\u001b[0m_reader\u001b[0m \u001b[0;34m=\u001b[0m \u001b[0m_parser\u001b[0m\u001b[0;34m.\u001b[0m\u001b[0mTextReader\u001b[0m\u001b[0;34m(\u001b[0m\u001b[0msrc\u001b[0m\u001b[0;34m,\u001b[0m \u001b[0;34m**\u001b[0m\u001b[0mkwds\u001b[0m\u001b[0;34m)\u001b[0m\u001b[0;34m\u001b[0m\u001b[0m\n\u001b[0m\u001b[1;32m   1391\u001b[0m \u001b[0;34m\u001b[0m\u001b[0m\n\u001b[1;32m   1392\u001b[0m         \u001b[0;31m# XXX\u001b[0m\u001b[0;34m\u001b[0m\u001b[0;34m\u001b[0m\u001b[0m\n",
      "\u001b[0;32mpandas/parser.pyx\u001b[0m in \u001b[0;36mpandas.parser.TextReader.__cinit__ (pandas/parser.c:4184)\u001b[0;34m()\u001b[0m\n",
      "\u001b[0;32mpandas/parser.pyx\u001b[0m in \u001b[0;36mpandas.parser.TextReader._setup_parser_source (pandas/parser.c:8449)\u001b[0;34m()\u001b[0m\n",
      "\u001b[0;31mFileNotFoundError\u001b[0m: File b'../Ex2_explAna/titanic3.csv' does not exist"
     ]
    }
   ],
   "source": [
    "titanic = pd.read_csv( '../Ex2_explAna/titanic3.csv')\n",
    "\n",
    "titanic.pclass = titanic.pclass.astype('str')\n",
    "titanic.survived = titanic.survived.astype('str')\n",
    "\n",
    "titanic = titanic.fillna(-1)\n",
    "\n",
    "p = splom( df=titanic, cols=['pclass', 'survived', 'sex', 'age', 'fare'], splom_width=1000, \n",
    "           x_padding=40, y_padding=80 )\n",
    "show( p )"
   ]
  },
  {
   "cell_type": "markdown",
   "metadata": {},
   "source": [
    "## Exercise 3: \n",
    "\n",
    "### Option 1: Auto MPG"
   ]
  },
  {
   "cell_type": "code",
   "execution_count": 167,
   "metadata": {},
   "outputs": [
    {
     "ename": "NameError",
     "evalue": "name 'splom' is not defined",
     "output_type": "error",
     "traceback": [
      "\u001b[0;31m---------------------------------------------------------------------------\u001b[0m",
      "\u001b[0;31mNameError\u001b[0m                                 Traceback (most recent call last)",
      "\u001b[0;32m<ipython-input-167-282bc2e08329>\u001b[0m in \u001b[0;36m<module>\u001b[0;34m\u001b[0m\n\u001b[1;32m      4\u001b[0m \u001b[0mautompg\u001b[0m\u001b[0;34m.\u001b[0m\u001b[0morigin\u001b[0m \u001b[0;34m=\u001b[0m \u001b[0mautompg\u001b[0m\u001b[0;34m.\u001b[0m\u001b[0morigin\u001b[0m\u001b[0;34m.\u001b[0m\u001b[0mastype\u001b[0m\u001b[0;34m(\u001b[0m\u001b[0;34m'str'\u001b[0m\u001b[0;34m)\u001b[0m\u001b[0;34m\u001b[0m\u001b[0m\n\u001b[1;32m      5\u001b[0m \u001b[0;34m\u001b[0m\u001b[0m\n\u001b[0;32m----> 6\u001b[0;31m show( splom( df=autompg, cols=['mpg', 'cyl', 'displ', 'hp', 'weight', 'accel', 'yr', 'origin'],\n\u001b[0m\u001b[1;32m      7\u001b[0m              splom_width=1000, x_padding=40, y_padding=80 ) )\n",
      "\u001b[0;31mNameError\u001b[0m: name 'splom' is not defined"
     ]
    }
   ],
   "source": [
    "from bokeh.sampledata.autompg import autompg\n",
    "\n",
    "autompg.cyl = autompg.cyl.astype('str')\n",
    "autompg.origin = autompg.origin.astype('str')\n",
    "\n",
    "show( splom( df=autompg, cols=['mpg', 'cyl', 'displ', 'hp', 'weight', 'accel', 'yr', 'origin'],\n",
    "             splom_width=1000, x_padding=40, y_padding=80 ) )"
   ]
  },
  {
   "cell_type": "markdown",
   "metadata": {},
   "source": [
    "### Option 2: Iris flowers"
   ]
  },
  {
   "cell_type": "code",
   "execution_count": 168,
   "metadata": {},
   "outputs": [
    {
     "ename": "NameError",
     "evalue": "name 'splom' is not defined",
     "output_type": "error",
     "traceback": [
      "\u001b[0;31m---------------------------------------------------------------------------\u001b[0m",
      "\u001b[0;31mNameError\u001b[0m                                 Traceback (most recent call last)",
      "\u001b[0;32m<ipython-input-168-126ec1a3804b>\u001b[0m in \u001b[0;36m<module>\u001b[0;34m\u001b[0m\n\u001b[1;32m      1\u001b[0m \u001b[0;32mfrom\u001b[0m \u001b[0mbokeh\u001b[0m\u001b[0;34m.\u001b[0m\u001b[0msampledata\u001b[0m\u001b[0;34m.\u001b[0m\u001b[0miris\u001b[0m \u001b[0;32mimport\u001b[0m \u001b[0mflowers\u001b[0m\u001b[0;34m\u001b[0m\u001b[0m\n\u001b[0;32m----> 2\u001b[0;31m \u001b[0mp\u001b[0m \u001b[0;34m=\u001b[0m \u001b[0msplom\u001b[0m\u001b[0;34m(\u001b[0m \u001b[0mdf\u001b[0m\u001b[0;34m=\u001b[0m\u001b[0mflowers\u001b[0m\u001b[0;34m,\u001b[0m \u001b[0msplom_width\u001b[0m\u001b[0;34m=\u001b[0m\u001b[0;36m1000\u001b[0m\u001b[0;34m,\u001b[0m \u001b[0mx_padding\u001b[0m\u001b[0;34m=\u001b[0m\u001b[0;36m40\u001b[0m\u001b[0;34m,\u001b[0m \u001b[0my_padding\u001b[0m\u001b[0;34m=\u001b[0m\u001b[0;36m80\u001b[0m \u001b[0;34m)\u001b[0m\u001b[0;34m\u001b[0m\u001b[0m\n\u001b[0m\u001b[1;32m      3\u001b[0m \u001b[0mshow\u001b[0m\u001b[0;34m(\u001b[0m \u001b[0mp\u001b[0m \u001b[0;34m)\u001b[0m\u001b[0;34m\u001b[0m\u001b[0m\n",
      "\u001b[0;31mNameError\u001b[0m: name 'splom' is not defined"
     ]
    }
   ],
   "source": [
    "from bokeh.sampledata.iris import flowers\n",
    "p = splom( df=flowers, splom_width=1000, x_padding=40, y_padding=80 )\n",
    "show( p )"
   ]
  },
  {
   "cell_type": "code",
   "execution_count": null,
   "metadata": {},
   "outputs": [],
   "source": []
  },
  {
   "cell_type": "code",
   "execution_count": null,
   "metadata": {},
   "outputs": [],
   "source": []
  },
  {
   "cell_type": "code",
   "execution_count": null,
   "metadata": {},
   "outputs": [],
   "source": []
  },
  {
   "cell_type": "code",
   "execution_count": null,
   "metadata": {},
   "outputs": [],
   "source": []
  }
 ],
 "metadata": {
  "kernelspec": {
   "display_name": "Python 3",
   "language": "python",
   "name": "python3"
  },
  "language_info": {
   "codemirror_mode": {
    "name": "ipython",
    "version": 3
   },
   "file_extension": ".py",
   "mimetype": "text/x-python",
   "name": "python",
   "nbconvert_exporter": "python",
   "pygments_lexer": "ipython3",
   "version": "3.6.5"
  }
 },
 "nbformat": 4,
 "nbformat_minor": 2
}
