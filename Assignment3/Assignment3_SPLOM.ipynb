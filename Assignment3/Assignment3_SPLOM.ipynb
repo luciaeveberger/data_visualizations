{
 "cells": [
  {
   "cell_type": "markdown",
   "metadata": {},
   "source": [
    "# Data Visualization (2017/18)\n",
    "\n",
    "## Solutions for Assignment 3 - Visualizing multivariate data \n",
    "\n",
    "Presented by Group 52: \n",
    "- Lucia Eve Berger\n",
    "- Name2\n",
    "\n",
    "Date: DD.MM.YYYY"
   ]
  },
  {
   "cell_type": "markdown",
   "metadata": {},
   "source": [
    "## Setup"
   ]
  },
  {
   "cell_type": "code",
   "execution_count": 90,
   "metadata": {},
   "outputs": [
    {
     "data": {
      "text/html": [
       "\n",
       "    <div class=\"bk-root\">\n",
       "        <a href=\"https://bokeh.pydata.org\" target=\"_blank\" class=\"bk-logo bk-logo-small bk-logo-notebook\"></a>\n",
       "        <span id=\"7916\">Loading BokehJS ...</span>\n",
       "    </div>"
      ]
     },
     "metadata": {},
     "output_type": "execute_result"
    },
    {
     "data": {},
     "metadata": {},
     "output_type": "display_data"
    }
   ],
   "source": [
    "import pandas as pd\n",
    "import numpy as np\n",
    "\n",
    "# import bokeh \n",
    "from bokeh.plotting import figure, show, Figure\n",
    "from bokeh.models import ColumnDataSource, Label\n",
    "from bokeh.models.glyphs import Text\n",
    "from bokeh.palettes import Spectral3, d3\n",
    "from bokeh.layouts import row, column, gridplot\n",
    "\n",
    "# tell bokeh to show the figures in the notebook\n",
    "from bokeh.io import output_notebook\n",
    "output_notebook()"
   ]
  },
  {
   "cell_type": "markdown",
   "metadata": {},
   "source": [
    "Load data stored in bokeh:"
   ]
  },
  {
   "cell_type": "code",
   "execution_count": 91,
   "metadata": {},
   "outputs": [
    {
     "data": {
      "text/html": [
       "<div>\n",
       "<table border=\"1\" class=\"dataframe\">\n",
       "  <thead>\n",
       "    <tr style=\"text-align: right;\">\n",
       "      <th></th>\n",
       "      <th>sepal_length</th>\n",
       "      <th>sepal_width</th>\n",
       "      <th>petal_length</th>\n",
       "      <th>petal_width</th>\n",
       "      <th>species</th>\n",
       "      <th>colors</th>\n",
       "    </tr>\n",
       "  </thead>\n",
       "  <tbody>\n",
       "    <tr>\n",
       "      <th>0</th>\n",
       "      <td>5.1</td>\n",
       "      <td>3.5</td>\n",
       "      <td>1.4</td>\n",
       "      <td>0.2</td>\n",
       "      <td>setosa</td>\n",
       "      <td>red</td>\n",
       "    </tr>\n",
       "    <tr>\n",
       "      <th>1</th>\n",
       "      <td>4.9</td>\n",
       "      <td>3.0</td>\n",
       "      <td>1.4</td>\n",
       "      <td>0.2</td>\n",
       "      <td>setosa</td>\n",
       "      <td>red</td>\n",
       "    </tr>\n",
       "    <tr>\n",
       "      <th>2</th>\n",
       "      <td>4.7</td>\n",
       "      <td>3.2</td>\n",
       "      <td>1.3</td>\n",
       "      <td>0.2</td>\n",
       "      <td>setosa</td>\n",
       "      <td>red</td>\n",
       "    </tr>\n",
       "    <tr>\n",
       "      <th>3</th>\n",
       "      <td>4.6</td>\n",
       "      <td>3.1</td>\n",
       "      <td>1.5</td>\n",
       "      <td>0.2</td>\n",
       "      <td>setosa</td>\n",
       "      <td>red</td>\n",
       "    </tr>\n",
       "    <tr>\n",
       "      <th>4</th>\n",
       "      <td>5.0</td>\n",
       "      <td>3.6</td>\n",
       "      <td>1.4</td>\n",
       "      <td>0.2</td>\n",
       "      <td>setosa</td>\n",
       "      <td>red</td>\n",
       "    </tr>\n",
       "  </tbody>\n",
       "</table>\n",
       "</div>"
      ],
      "text/plain": [
       "   sepal_length  sepal_width  petal_length  petal_width species colors\n",
       "0           5.1          3.5           1.4          0.2  setosa    red\n",
       "1           4.9          3.0           1.4          0.2  setosa    red\n",
       "2           4.7          3.2           1.3          0.2  setosa    red\n",
       "3           4.6          3.1           1.5          0.2  setosa    red\n",
       "4           5.0          3.6           1.4          0.2  setosa    red"
      ]
     },
     "execution_count": 91,
     "metadata": {},
     "output_type": "execute_result"
    }
   ],
   "source": [
    "from bokeh.sampledata.autompg import autompg\n",
    "from bokeh.sampledata.iris import flowers\n",
    "flowers.head()"
   ]
  },
  {
   "cell_type": "markdown",
   "metadata": {},
   "source": [
    "## Helpful functions"
   ]
  },
  {
   "cell_type": "markdown",
   "metadata": {},
   "source": [
    "Group a dataframe according to a variable (species) and compute some statistics for a second variable (petal_width)."
   ]
  },
  {
   "cell_type": "code",
   "execution_count": 92,
   "metadata": {},
   "outputs": [
    {
     "data": {
      "text/plain": [
       "species          \n",
       "setosa      count    50.000000\n",
       "            mean      0.246000\n",
       "            std       0.105386\n",
       "            min       0.100000\n",
       "            25%       0.200000\n",
       "            50%       0.200000\n",
       "            75%       0.300000\n",
       "            max       0.600000\n",
       "versicolor  count    50.000000\n",
       "            mean      1.326000\n",
       "            std       0.197753\n",
       "            min       1.000000\n",
       "            25%       1.200000\n",
       "            50%       1.300000\n",
       "            75%       1.500000\n",
       "            max       1.800000\n",
       "virginica   count    50.000000\n",
       "            mean      2.026000\n",
       "            std       0.274650\n",
       "            min       1.400000\n",
       "            25%       1.800000\n",
       "            50%       2.000000\n",
       "            75%       2.300000\n",
       "            max       2.500000\n",
       "Name: petal_width, dtype: float64"
      ]
     },
     "execution_count": 92,
     "metadata": {},
     "output_type": "execute_result"
    }
   ],
   "source": [
    "flowers.groupby(['species']).petal_width.describe()"
   ]
  },
  {
   "cell_type": "markdown",
   "metadata": {},
   "source": [
    "Find unique values and count them in categorical variable."
   ]
  },
  {
   "cell_type": "code",
   "execution_count": 93,
   "metadata": {},
   "outputs": [
    {
     "data": {
      "text/plain": [
       "array(['setosa', 'versicolor', 'virginica'], dtype=object)"
      ]
     },
     "execution_count": 93,
     "metadata": {},
     "output_type": "execute_result"
    }
   ],
   "source": [
    "flowers.species.unique()"
   ]
  },
  {
   "cell_type": "code",
   "execution_count": 94,
   "metadata": {},
   "outputs": [
    {
     "data": {
      "text/plain": [
       "virginica     50\n",
       "versicolor    50\n",
       "setosa        50\n",
       "Name: species, dtype: int64"
      ]
     },
     "execution_count": 94,
     "metadata": {},
     "output_type": "execute_result"
    }
   ],
   "source": [
    "flowers.species.value_counts()"
   ]
  },
  {
   "cell_type": "markdown",
   "metadata": {},
   "source": [
    "Use numpy to compute a histogram for quantitative data. See the docu for further information and how to work with the output."
   ]
  },
  {
   "cell_type": "code",
   "execution_count": 95,
   "metadata": {},
   "outputs": [
    {
     "data": {
      "text/plain": [
       "(array([41,  8,  1,  7,  8, 33,  6, 23,  9, 14]),\n",
       " array([0.1 , 0.34, 0.58, 0.82, 1.06, 1.3 , 1.54, 1.78, 2.02, 2.26, 2.5 ]))"
      ]
     },
     "execution_count": 95,
     "metadata": {},
     "output_type": "execute_result"
    }
   ],
   "source": [
    "np.histogram(flowers.petal_width)"
   ]
  },
  {
   "cell_type": "markdown",
   "metadata": {},
   "source": [
    "## Exercise 1 a): Customize a scatterplot chart\n",
    "\n",
    "The following code skeleton renders a scatterplot. Customize the chart to your liking. Think for example of many data points. \n",
    "\n",
    "This is meant to be a very quick exercise to demonstrate the concept for the following two charts.\n",
    "\n",
    "Requirements:\n",
    "- **Parameters**: The function accepts (at least) the following parameters:\n",
    "    - **source**: a pandas DataFrameObject or bokeh ColumnDataSource that holds the data\n",
    "    - **x**: variable (name as string) to be represented on the x-axis\n",
    "    - **y**: variable (name as string) to be represented on the y-axis\n",
    "- **Calling the scatterplot**: The function is a class method of Figure and can be called as follows\n",
    "```python\n",
    "p = figure()\n",
    "p.scatter( data, x, y )\n",
    "```\n",
    "This is already setup in the code skeleton below.\n",
    "\n",
    "**<font color=\"deeppink\">Update code</font>**"
   ]
  },
  {
   "cell_type": "code",
   "execution_count": 96,
   "metadata": {},
   "outputs": [],
   "source": [
    "def scatter( self, source, x, y, **kwargs ):\n",
    "    # access the figure using the self variable\n",
    "    self.circle( source=source, x=x, y=y, color='colors', size=7, fill_alpha=0.4)\n",
    "    \n",
    "    # add these to the appropriate average\n",
    "    label = Label(x=50, y=50, x_units='screen', y_units='screen',\n",
    "                 text='Setosa', render_mode='css')\n",
    "    label2 = Label(x=200, y=200, x_units='screen', y_units='screen',\n",
    "                 text='Versicolor', render_mode='css' )\n",
    "    label3 = Label(x=300, y=300, x_units='screen', y_units='screen',\n",
    "                 text='Virginica', render_mode='css' )\n",
    "        \n",
    "    self.add_layout(label)\n",
    "    self.add_layout(label2)\n",
    "    self.add_layout(label3)\n",
    "    self.xaxis.axis_label = \"petal width\"\n",
    "    self.yaxis.axis_label = \"petal length\"\n",
    "    self.title.align = \"center\"\n",
    "\n",
    "# add the function as class method to Figure    \n",
    "Figure.scatter = scatter"
   ]
  },
  {
   "cell_type": "markdown",
   "metadata": {},
   "source": [
    "**<font color=\"deeppink\">Check</font>** that your code is working:"
   ]
  },
  {
   "cell_type": "code",
   "execution_count": 97,
   "metadata": {},
   "outputs": [
    {
     "data": {
      "text/html": [
       "\n",
       "\n",
       "\n",
       "\n",
       "\n",
       "\n",
       "  <div class=\"bk-root\" id=\"3a32fdcc-6343-4d3a-b099-4b8cdc12237a\"></div>\n"
      ]
     },
     "metadata": {},
     "output_type": "execute_result"
    },
    {
     "data": {},
     "metadata": {
      "application/vnd.bokehjs_exec.v0+json": {
       "id": "7918"
      }
     },
     "output_type": "display_data"
    }
   ],
   "source": [
    "p = figure( plot_width=500, plot_height=500, title = \"Petal Length and Width by Species\")\n",
    "colormap = {'setosa': 'red', 'versicolor': 'green', 'virginica': 'blue'}\n",
    "colors = [colormap[x] for x in flowers['species']]\n",
    "flowers['colors'] = colors\n",
    "\n",
    "p.scatter(source=flowers, x='petal_width', y='petal_length')\n",
    "show(p)"
   ]
  },
  {
   "cell_type": "markdown",
   "metadata": {},
   "source": [
    "**<font color=\"deeppink\">Test cases</font>**: Give three scenarios that need testing (bullet points, no implementation required). Think of scenarios where your code may fail.\n",
    "- Test Case 1: NAN: for NAN values, there is a possibility of it failing \n",
    "- Test case 2: Outlier values\n",
    "- Test case 3: Colour map only works for the three defined types, if the data supply were augmented, the code would not show a color for that map"
   ]
  },
  {
   "cell_type": "markdown",
   "metadata": {},
   "source": [
    "## Exercise 1 b): Implement a boxplot chart\n",
    "\n",
    "Requirements:\n",
    "- **Parameters**: The function accepts (at least) the following parameters:\n",
    "    - **source**: a pandas DataFrameObject that holds the data\n",
    "    - **x**: variable (name as string) to be represented on the x-axis\n",
    "    - **y**: variable (name as string) to be represented on the y-axis\n",
    "- **Orientation**: Provide boxplots with horizontal and vertical orientation (call them hboxplot and vboxplot).\n",
    "- **Calling the boxplot**: The function is a class method of Figure and can be called as follows\n",
    "```python\n",
    "p = figure()\n",
    "p.vboxplot( data, x, y )\n",
    "```\n",
    "This is already setup in the code skeleton below.\n",
    "\n",
    "Hints:\n",
    "- A Bokeh sample implementation can be found here: [Boxplot](https://bokeh.pydata.org/en/latest/docs/gallery/boxplot.html)\n",
    "- Adapt this implementation to work on the target variable only. See code below to get started.\n",
    "\n",
    "**<font color=\"deeppink\">Implement</font>**"
   ]
  },
  {
   "cell_type": "code",
   "execution_count": 83,
   "metadata": {},
   "outputs": [],
   "source": [
    "def vboxplot( self, source, x, y, **kwargs ):\n",
    "    if not isinstance(source, pd.DataFrame ):\n",
    "        raise TypeError(\"source has to be a pandas DataFrame.\")\n",
    "\n",
    "    print(source)\n",
    "    groups = source.groupby([x])[y]\n",
    "\n",
    "    # your code goes here\n",
    "    \n",
    "    label = Label( x=50, y=50, x_units='screen', y_units='screen',\n",
    "                   text='ToDo', render_mode='css' )\n",
    "    self.add_layout(label)\n",
    "\n",
    "Figure.vboxplot = vboxplot"
   ]
  },
  {
   "cell_type": "code",
   "execution_count": 126,
   "metadata": {},
   "outputs": [],
   "source": [
    "def hboxplot( self, source, x, y, **kwargs ):\n",
    "    if not isinstance(source, pd.DataFrame ):\n",
    "        raise TypeError(\"source has to be a pandas DataFrame.\")\n",
    "    groups = source.groupby([y])[x]\n",
    "    q1 = groups.quantile(q=0.25)\n",
    "    q2 = groups.quantile(q=0.5)\n",
    "    q3 = groups.quantile(q=0.75)\n",
    "    iqr = q3 - q1\n",
    "    upper = q3 + 1.5*iqr\n",
    "    lower = q1 - 1.5*iqr\n",
    "\n",
    "    label = Label( x=50, y=50, x_units='screen', y_units='screen',\n",
    "                   text='ToDo', render_mode='css' )\n",
    "    self.add_layout(label)\n",
    "\n",
    "Figure.hboxplot = hboxplot"
   ]
  },
  {
   "cell_type": "markdown",
   "metadata": {},
   "source": [
    "**<font color=\"deeppink\">Check</font>** your boxplot"
   ]
  },
  {
   "cell_type": "code",
   "execution_count": 160,
   "metadata": {},
   "outputs": [
    {
     "name": "stdout",
     "output_type": "stream",
     "text": [
      "<pandas.core.groupby.SeriesGroupBy object at 0x117fa57b8>\n",
      "species\n",
      "setosa        0.2\n",
      "versicolor    1.2\n",
      "virginica     1.8\n",
      "Name: petal_width, dtype: float64\n"
     ]
    },
    {
     "data": {
      "text/html": [
       "\n",
       "\n",
       "\n",
       "\n",
       "\n",
       "\n",
       "  <div class=\"bk-root\" id=\"ce783d8c-7e7f-498a-aa78-1f4f6d8a4a01\"></div>\n"
      ]
     },
     "metadata": {},
     "output_type": "execute_result"
    },
    {
     "data": {},
     "metadata": {
      "application/vnd.bokehjs_exec.v0+json": {
       "id": "45768"
      }
     },
     "output_type": "display_data"
    }
   ],
   "source": [
    "p1 = figure( plot_width=400, plot_height=300, y_range=['setosa', 'versicolor', 'virginica'] )\n",
    "p1.hboxplot( flowers, 'petal_width', 'species' )\n",
    "p1.xaxis.axis_label = 'petal_width'\n",
    "p1.yaxis.axis_label = 'species'\n",
    "\n",
    "p2 = figure( plot_width=400, plot_height=300, x_range=['setosa', 'versicolor', 'virginica'] )\n",
    "p2.vboxplot( flowers, 'species', 'petal_width' )\n",
    "p2.yaxis.axis_label = 'petal_width'\n",
    "p2.xaxis.axis_label = 'species'\n",
    "\n",
    "# print(flowers)\n",
    "\n",
    "\n",
    "\n",
    "\n",
    "show( row(p1,p2))"
   ]
  },
  {
   "cell_type": "markdown",
   "metadata": {},
   "source": [
    "**<font color=\"deeppink\">Test cases</font>**: Give three scenarios that need testing (bullet points, no implementation required).\n",
    "- Test case 1:\n",
    "- Test case 2:\n",
    "- Test case 3:"
   ]
  },
  {
   "cell_type": "markdown",
   "metadata": {},
   "source": [
    "## Exercise 1 c): Implement a histogram chart\n",
    "\n",
    "Requirements:\n",
    "- **Parameters**: The function accepts (at least) the following parameters:\n",
    "    - **source**: a pandas DataFrameObject that holds the data\n",
    "    - **x**: variable (name as string) to be represented on the x-axis\n",
    "    - **nbins**: number of bins (optional argument). If not provided set a meaningful default.\n",
    "- **Data type**: Provide histograms for categorical and quantitative data.\n",
    "- **Scaling**: The y-axis shall give probabilities (0,1). Scale the axis to show the full range, e.g., (-0.05,1.05).\n",
    "- **Calling the histogram**: The function is a class method of Figure and can be called as follows\n",
    "```python\n",
    "p = figure()\n",
    "p.histogram( data, x )\n",
    "```\n",
    "\n",
    "Hints:\n",
    "- Assume that all categorical data has type string. Respective columns in the data can be converted using:\n",
    "```\n",
    "df.var = df.var.astype('str')\n",
    "```\n",
    "\n",
    "**<font color=\"deeppink\">Implement</font>**"
   ]
  },
  {
   "cell_type": "code",
   "execution_count": 186,
   "metadata": {},
   "outputs": [],
   "source": [
    "from bokeh.models import Range1d, FactorRange\n",
    "\n",
    "def histogram( self, source, x, nbins=0, *args, **kwargs ):  \n",
    "    if not isinstance(source, pd.DataFrame ):\n",
    "        raise TypeError(\"source has to be a pandas.DataFrame. Received \", type(df))\n",
    "\n",
    "    data = source[x]\n",
    "    print(data)\n",
    "\n",
    "    hist, edges = np.histogram(data, density=True)\n",
    "    #hist, edges = (data, density=True, bins=50)\n",
    "    self.quad(top=hist, bottom=0, left=data[:-1], right=data[1:],\n",
    "           fill_color=\"navy\", line_color=\"white\", alpha=0.5)\n",
    "    \n",
    "    # your code goes here\n",
    "\n",
    "    label = Label( x=50, y=50, x_units='screen', y_units='screen',\n",
    "                   text='ToDo', render_mode='css' )\n",
    "    self.add_layout(label)\n",
    "\n",
    "Figure.histogram = histogram"
   ]
  },
  {
   "cell_type": "markdown",
   "metadata": {},
   "source": [
    "**<font color=\"deeppink\">Check</font>** your histogram"
   ]
  },
  {
   "cell_type": "code",
   "execution_count": 189,
   "metadata": {},
   "outputs": [
    {
     "name": "stdout",
     "output_type": "stream",
     "text": [
      "0      5.1\n",
      "1      4.9\n",
      "2      4.7\n",
      "3      4.6\n",
      "4      5.0\n",
      "5      5.4\n",
      "6      4.6\n",
      "7      5.0\n",
      "8      4.4\n",
      "9      4.9\n",
      "10     5.4\n",
      "11     4.8\n",
      "12     4.8\n",
      "13     4.3\n",
      "14     5.8\n",
      "15     5.7\n",
      "16     5.4\n",
      "17     5.1\n",
      "18     5.7\n",
      "19     5.1\n",
      "20     5.4\n",
      "21     5.1\n",
      "22     4.6\n",
      "23     5.1\n",
      "24     4.8\n",
      "25     5.0\n",
      "26     5.0\n",
      "27     5.2\n",
      "28     5.2\n",
      "29     4.7\n",
      "      ... \n",
      "120    6.9\n",
      "121    5.6\n",
      "122    7.7\n",
      "123    6.3\n",
      "124    6.7\n",
      "125    7.2\n",
      "126    6.2\n",
      "127    6.1\n",
      "128    6.4\n",
      "129    7.2\n",
      "130    7.4\n",
      "131    7.9\n",
      "132    6.4\n",
      "133    6.3\n",
      "134    6.1\n",
      "135    7.7\n",
      "136    6.3\n",
      "137    6.4\n",
      "138    6.0\n",
      "139    6.9\n",
      "140    6.7\n",
      "141    6.9\n",
      "142    5.8\n",
      "143    6.8\n",
      "144    6.7\n",
      "145    6.7\n",
      "146    6.3\n",
      "147    6.5\n",
      "148    6.2\n",
      "149    5.9\n",
      "Name: sepal_length, dtype: float64\n"
     ]
    },
    {
     "name": "stderr",
     "output_type": "stream",
     "text": [
      "BokehUserWarning: ColumnDataSource's columns must be of the same length. Current lengths: ('left', 149), ('right', 149), ('top', 10)\n"
     ]
    },
    {
     "data": {
      "text/html": [
       "\n",
       "\n",
       "\n",
       "\n",
       "\n",
       "\n",
       "  <div class=\"bk-root\" id=\"7ac11825-6ce8-4f97-9631-a1a580c2e0e4\"></div>\n"
      ]
     },
     "metadata": {},
     "output_type": "execute_result"
    },
    {
     "data": {},
     "metadata": {
      "application/vnd.bokehjs_exec.v0+json": {
       "id": "60852"
      }
     },
     "output_type": "display_data"
    }
   ],
   "source": [
    "var1 = 'sepal_length'\n",
    "var2 = 'species'\n",
    "var3 = 'name'\n",
    "\n",
    "p1 = figure( plot_width=500, plot_height=500 )\n",
    "p1.histogram( flowers, var1 )\n",
    "p1.yaxis.axis_label = 'probability'\n",
    "p1.xaxis.axis_label = var1\n",
    "\n",
    "\n",
    "show(p1)\n",
    "# labels = np.sort(flowers[var2].unique())\n",
    "# p2 = figure( plot_width=200, plot_height=200, x_range=labels )\n",
    "# p2.histogram( flowers, var2)\n",
    "# p2.xaxis.axis_label = var2\n",
    "\n",
    "# labels = np.sort(autompg[var3].unique())\n",
    "# p3 = figure( plot_width=200, plot_height=200, x_range=labels )\n",
    "# p3.histogram( autompg, var3 )\n",
    "# p3.xaxis.axis_label = var3\n",
    "\n",
    "#show( row( p1, p2, p3 ) )"
   ]
  },
  {
   "cell_type": "markdown",
   "metadata": {},
   "source": [
    "**<font color=\"deeppink\">Test cases</font>**: Give three scenarios that need testing (bullet points, no implementation required)."
   ]
  },
  {
   "cell_type": "markdown",
   "metadata": {},
   "source": [
    "## Exercise 2: Working with SPLOMs"
   ]
  },
  {
   "cell_type": "markdown",
   "metadata": {},
   "source": [
    "The source code for the generalized scatterplot matrix (SPLOM) is stored in file splom.py. \n",
    "\n",
    "Usage:\n",
    "```\n",
    "p = splom( df, cols=['var1', 'var2', 'var3'], splom_width=1000 )\n",
    "show(p)\n",
    "```\n",
    "\n",
    "Accepted parameters:\n",
    "- **source** (req): pandas DataFrame\n",
    "- **splom_width** (opt): total width/height of the plot.\n",
    "- **cols** (opt): Array of column names to be used in the plot.\n",
    "- **x_padding** (opt): additional space for the x-axis labels.\n",
    "- **y_padding** (opt): additional space for the y-axis labels.\n",
    "\n",
    "Hint:\n",
    "- The SPLOM supports some interaction. Select points in the scatterplots and look at the results in the other scatterplots."
   ]
  },
  {
   "cell_type": "code",
   "execution_count": 14,
   "metadata": {},
   "outputs": [],
   "source": [
    "%run SPLOM.py"
   ]
  },
  {
   "cell_type": "markdown",
   "metadata": {},
   "source": [
    "### Exercise 2a): Baseball data"
   ]
  },
  {
   "cell_type": "code",
   "execution_count": 15,
   "metadata": {},
   "outputs": [],
   "source": [
    "baseball = pd.read_csv( '../Ex2_explAna/baseball_data.csv')"
   ]
  },
  {
   "cell_type": "code",
   "execution_count": 16,
   "metadata": {},
   "outputs": [
    {
     "name": "stdout",
     "output_type": "stream",
     "text": [
      "categorical attributes ['handedness']\n"
     ]
    },
    {
     "data": {
      "text/html": [
       "\n",
       "\n",
       "\n",
       "\n",
       "\n",
       "\n",
       "  <div class=\"bk-root\" id=\"04d14d97-a287-42fa-b6b4-14a2dcbe7108\"></div>\n"
      ]
     },
     "metadata": {},
     "output_type": "execute_result"
    },
    {
     "data": {},
     "metadata": {
      "application/vnd.bokehjs_exec.v0+json": {
       "id": "2752"
      }
     },
     "output_type": "display_data"
    }
   ],
   "source": [
    "show( splom( df=baseball, cols=['handedness', 'height', 'weight', 'avg', 'HR'],\n",
    "             splom_width=1000, x_padding=40, y_padding=80 ) )"
   ]
  },
  {
   "cell_type": "markdown",
   "metadata": {},
   "source": [
    "### Exercise 2b): Passengers on the Titanic\n",
    "\n",
    "Remarks:\n",
    "- For some passengers age information is missing the `fillna` command replaces those entries with -1. Feal free to make changes to this treating of missing values.\n",
    "- All data is given as quantitative values. To make distinction of categorical data easier, we turn them into strings."
   ]
  },
  {
   "cell_type": "code",
   "execution_count": 17,
   "metadata": {},
   "outputs": [
    {
     "name": "stdout",
     "output_type": "stream",
     "text": [
      "categorical attributes ['pclass', 'survived', 'sex']\n"
     ]
    },
    {
     "data": {
      "text/html": [
       "\n",
       "\n",
       "\n",
       "\n",
       "\n",
       "\n",
       "  <div class=\"bk-root\" id=\"069a04d7-052d-4a5e-aaa4-8120af879004\"></div>\n"
      ]
     },
     "metadata": {},
     "output_type": "execute_result"
    },
    {
     "data": {},
     "metadata": {
      "application/vnd.bokehjs_exec.v0+json": {
       "id": "5721"
      }
     },
     "output_type": "display_data"
    }
   ],
   "source": [
    "titanic = pd.read_csv( '../Ex2_explAna/titanic3.csv')\n",
    "\n",
    "titanic.pclass = titanic.pclass.astype('str')\n",
    "titanic.survived = titanic.survived.astype('str')\n",
    "\n",
    "titanic = titanic.fillna(-1)\n",
    "\n",
    "p = splom( df=titanic, cols=['pclass', 'survived', 'sex', 'age', 'fare'], splom_width=1000, \n",
    "           x_padding=40, y_padding=80 )\n",
    "show( p )"
   ]
  },
  {
   "cell_type": "markdown",
   "metadata": {},
   "source": [
    "## Exercise 3: \n",
    "\n",
    "### Option 1: Auto MPG"
   ]
  },
  {
   "cell_type": "code",
   "execution_count": 18,
   "metadata": {},
   "outputs": [
    {
     "name": "stdout",
     "output_type": "stream",
     "text": [
      "categorical attributes ['cyl', 'origin']\n"
     ]
    },
    {
     "data": {
      "text/html": [
       "\n",
       "\n",
       "\n",
       "\n",
       "\n",
       "\n",
       "  <div class=\"bk-root\" id=\"f8a0b883-5ef9-49d9-916a-622e1c105f9d\"></div>\n"
      ]
     },
     "metadata": {},
     "output_type": "execute_result"
    },
    {
     "data": {},
     "metadata": {
      "application/vnd.bokehjs_exec.v0+json": {
       "id": "10626"
      }
     },
     "output_type": "display_data"
    }
   ],
   "source": [
    "from bokeh.sampledata.autompg import autompg\n",
    "\n",
    "autompg.cyl = autompg.cyl.astype('str')\n",
    "autompg.origin = autompg.origin.astype('str')\n",
    "\n",
    "show( splom( df=autompg, cols=['mpg', 'cyl', 'displ', 'hp', 'weight', 'accel', 'yr', 'origin'],\n",
    "             splom_width=1000, x_padding=40, y_padding=80 ) )"
   ]
  },
  {
   "cell_type": "markdown",
   "metadata": {},
   "source": [
    "### Option 2: Iris flowers"
   ]
  },
  {
   "cell_type": "code",
   "execution_count": 19,
   "metadata": {},
   "outputs": [
    {
     "name": "stdout",
     "output_type": "stream",
     "text": [
      "categorical attributes ['species']\n"
     ]
    },
    {
     "data": {
      "text/html": [
       "\n",
       "\n",
       "\n",
       "\n",
       "\n",
       "\n",
       "  <div class=\"bk-root\" id=\"6b5b1bb8-81c8-4bfa-b331-fa8055fecc93\"></div>\n"
      ]
     },
     "metadata": {},
     "output_type": "execute_result"
    },
    {
     "data": {},
     "metadata": {
      "application/vnd.bokehjs_exec.v0+json": {
       "id": "16339"
      }
     },
     "output_type": "display_data"
    }
   ],
   "source": [
    "from bokeh.sampledata.iris import flowers\n",
    "p = splom( df=flowers, splom_width=1000, x_padding=40, y_padding=80 )\n",
    "show( p )"
   ]
  },
  {
   "cell_type": "code",
   "execution_count": null,
   "metadata": {},
   "outputs": [],
   "source": []
  },
  {
   "cell_type": "code",
   "execution_count": null,
   "metadata": {},
   "outputs": [],
   "source": []
  },
  {
   "cell_type": "code",
   "execution_count": null,
   "metadata": {},
   "outputs": [],
   "source": []
  },
  {
   "cell_type": "code",
   "execution_count": null,
   "metadata": {},
   "outputs": [],
   "source": []
  }
 ],
 "metadata": {
  "kernelspec": {
   "display_name": "Python 3",
   "language": "python",
   "name": "python3"
  },
  "language_info": {
   "codemirror_mode": {
    "name": "ipython",
    "version": 3
   },
   "file_extension": ".py",
   "mimetype": "text/x-python",
   "name": "python",
   "nbconvert_exporter": "python",
   "pygments_lexer": "ipython3",
   "version": "3.6.5"
  }
 },
 "nbformat": 4,
 "nbformat_minor": 2
}
